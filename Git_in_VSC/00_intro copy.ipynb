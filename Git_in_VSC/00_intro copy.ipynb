{
 "cells": [
  {
   "attachments": {},
   "cell_type": "markdown",
   "metadata": {},
   "source": [
    "# Git in Visual Studio Code (VSC)\n",
    "\n",
    "## installeer de extensie GitLens\n",
    "\n",
    "\n",
    "New folder (Desktop) => niet binnen de andere folders van de lessen.\n",
    "\n",
    "Create Venv in deze nieuwe folder.\n",
    "\n",
    "\n",
    "VSC => Source Control => initialize Repository \n",
    "\n",
    "\n",
    ".gitignore\n",
    "\n",
    "\n",
    "\n",
    "\n",
    "\n",
    "pip freeze > requirements.txt\n",
    "pip list --format=freeze > requirements.txt\n",
    "\n",
    "\n",
    "pip install pandas\n",
    "\n",
    "\n",
    "\n",
    "pip list --format=freeze > requirements.txt\n",
    "pip freeze > requirements.txt\n",
    "\n"
   ]
  },
  {
   "cell_type": "code",
   "execution_count": null,
   "metadata": {},
   "outputs": [],
   "source": [
    "import pandas as pd\n",
    "\n",
    "data = {\n",
    "    'apples': [3, 2, 0, 1], \n",
    "    'oranges': [0, 3, 7, 2]\n",
    "}\n",
    "\n",
    "purchases = pd.DataFrame(data)\n",
    "\n",
    "print(purchases)"
   ]
  },
  {
   "attachments": {},
   "cell_type": "markdown",
   "metadata": {},
   "source": [
    "\n",
    "\n",
    "\n",
    "delete venv\n",
    "reinstall venv\n",
    "\n",
    "\n",
    "pip install -r requirements.txt\n",
    "\n",
    "\n",
    "<!-- pip install pandas-datareader -->"
   ]
  },
  {
   "attachments": {},
   "cell_type": "markdown",
   "metadata": {},
   "source": [
    "links onderaan \"master*\"  of \"main*"
   ]
  },
  {
   "attachments": {},
   "cell_type": "markdown",
   "metadata": {},
   "source": [
    "![](images/001_GIT.png)"
   ]
  },
  {
   "attachments": {},
   "cell_type": "markdown",
   "metadata": {},
   "source": [
    "dit is de naamvan je branch\n",
    "\n",
    "\n",
    "\"CTRL\" + \"P\" => \">rename ....\"\n",
    "\n",
    "schrijf nieuwe naam voor \"branch\" => \"test-naam\"\n",
    "\n",
    "\n",
    "\n",
    "Je kan ook naar repositories gaan => Branches => \"master\" => rechtermuis klik => rename branch\n",
    "\n",
    "\"main\"\n"
   ]
  },
  {
   "attachments": {},
   "cell_type": "markdown",
   "metadata": {},
   "source": [
    "![](images/002_GIT.png)"
   ]
  },
  {
   "attachments": {},
   "cell_type": "markdown",
   "metadata": {},
   "source": [
    "Als je nu naar de source control kijkt bovenaan, zie je naast de files een \"U\" staan.\n",
    "\n",
    "Dit betekent dat deze files \"Unstaged\" zijn. Ze zijn nog niet toegevoegd aan de Git Repository."
   ]
  },
  {
   "attachments": {},
   "cell_type": "markdown",
   "metadata": {},
   "source": [
    "![](images/003_GIT.png)"
   ]
  },
  {
   "attachments": {},
   "cell_type": "markdown",
   "metadata": {},
   "source": [
    "# The Three States\n",
    "\n",
    "Git has three main states that your files can reside in: modified, staged, and committed:\n",
    "\n",
    "\n",
    "* Modified means that you have changed the file but have not committed it.\n",
    "\n",
    "* Staged means that you have marked a modified file in its current version to go into your next commit snapshot.\n",
    "\n",
    "* Committed means that the data is safely stored in your local space\n",
    "\n",
    "\n",
    "\n",
    "This leads us to the three main sections of a Git project: \n",
    "* the working tree, \n",
    "* the staging area, \n",
    "* the Git directory.\n",
    "\n",
    "\n"
   ]
  },
  {
   "attachments": {},
   "cell_type": "markdown",
   "metadata": {},
   "source": [
    "![](images/004_GIT.png)"
   ]
  },
  {
   "attachments": {},
   "cell_type": "markdown",
   "metadata": {},
   "source": [
    "<!-- The working tree is a single checkout of one version of the project. These files are pulled out of the compressed database in the Git directory and placed on disk for you to use or modify.\n",
    "\n",
    "The staging area is a file, generally contained in your Git directory, that stores information about what will go into your next commit. Its technical name in Git parlance is the “index”, but the phrase “staging area” works just as well.\n",
    "\n",
    "The Git directory is where Git stores the metadata and object database for your project. This is the most important part of Git, and it is what is copied when you clone a repository from another computer. -->\n",
    "\n",
    "The basic Git workflow goes something like this:\n",
    "\n",
    "* You modify files in your working tree.\n",
    "\n",
    "* You selectively stage just those changes you want to be part of your next commit, which adds only those changes to the staging area.\n",
    "\n",
    "* You do a commit, which takes the files as they are in the staging area and stores that snapshot permanently to your Git directory.\n"
   ]
  },
  {
   "attachments": {},
   "cell_type": "markdown",
   "metadata": {},
   "source": [
    "# Dit is nog steeds allemaal op uw lokaal systeem"
   ]
  },
  {
   "attachments": {},
   "cell_type": "markdown",
   "metadata": {},
   "source": [
    "Door op de \"plus\" te klikken naast een file of naast 'Changes' kan je 1 of alle files \"stagen\""
   ]
  },
  {
   "attachments": {},
   "cell_type": "markdown",
   "metadata": {},
   "source": [
    "![](images/005_GIT.png)"
   ]
  },
  {
   "attachments": {},
   "cell_type": "markdown",
   "metadata": {},
   "source": [
    "Daarna kan je deze file comitten \n",
    "\n",
    "Je moet wel een \"message\" toevoegen\n",
    "\n"
   ]
  },
  {
   "attachments": {},
   "cell_type": "markdown",
   "metadata": {},
   "source": [
    "Nu kan je een nieuwe branch aanmaken.\n",
    "\n",
    "\n",
    "klik onderaan links op \"main\" => \"create new branch\" => \"my_branch\"\n",
    "\n",
    "\n",
    "We schrijven nu onderaan een extra lijn in onze test_file.py"
   ]
  },
  {
   "cell_type": "code",
   "execution_count": null,
   "metadata": {},
   "outputs": [],
   "source": [
    "print(\"added a new line for testing the Branch\")"
   ]
  },
  {
   "attachments": {},
   "cell_type": "markdown",
   "metadata": {},
   "source": [
    "![](images/006_GIT.png)"
   ]
  },
  {
   "attachments": {},
   "cell_type": "markdown",
   "metadata": {},
   "source": [
    "Je ziet nu een groene streep naast de toegevoegde lijn.\n",
    "\n",
    "\n",
    "En je ziet bij repository dat er een \"M\" staat voor \"Modified\"\n",
    "\n",
    "\n",
    "Nu voegen veranderen we een lijn (voegen data toe) => er komt een blauwe lijn naast staan"
   ]
  },
  {
   "attachments": {},
   "cell_type": "markdown",
   "metadata": {},
   "source": [
    "![](images/007_GIT.png)"
   ]
  },
  {
   "attachments": {},
   "cell_type": "markdown",
   "metadata": {},
   "source": [
    "Als we nu links bij \"Changes\" op de file klikken krijgen we een \"split view\"\n",
    "\n",
    "\n",
    "We zien nu de verschillen tussen de oude en de nieuwe file.\n",
    "\n",
    "\n",
    "Je kan deze ook in één zien door \"inline view\" te selecteren (rechts boven aan)"
   ]
  },
  {
   "attachments": {},
   "cell_type": "markdown",
   "metadata": {},
   "source": [
    "![](images/008_GIT.png)"
   ]
  },
  {
   "attachments": {},
   "cell_type": "markdown",
   "metadata": {},
   "source": [
    "Je kan in deze file rechtsreeks aanpassingen maken.\n",
    "\n",
    "bv. \n",
    "voeg toe:"
   ]
  },
  {
   "cell_type": "code",
   "execution_count": null,
   "metadata": {},
   "outputs": [],
   "source": [
    "print(\"Test inline view\")"
   ]
  },
  {
   "attachments": {},
   "cell_type": "markdown",
   "metadata": {},
   "source": [
    "verander "
   ]
  },
  {
   "cell_type": "code",
   "execution_count": null,
   "metadata": {},
   "outputs": [],
   "source": [
    "purchases = pd.DataFrame(data)\n",
    "\"       =>        \"   \n",
    "purchase = pd.DataFrame(data)\n",
    "\n",
    "\n",
    "\n",
    "print(purchases) \n",
    "\"       =>        \"   \n",
    "print(purchase)"
   ]
  },
  {
   "attachments": {},
   "cell_type": "markdown",
   "metadata": {},
   "source": [
    "![](images/009_GIT.png)"
   ]
  },
  {
   "attachments": {},
   "cell_type": "markdown",
   "metadata": {},
   "source": [
    "Stage + commit (message => \"changed_test_file\")"
   ]
  },
  {
   "attachments": {},
   "cell_type": "markdown",
   "metadata": {},
   "source": [
    "change branch => \"main\"\n",
    "\n",
    "\n",
    "de file is in de main nog niet veranderd\n",
    "\n",
    "\n",
    "Je moet deze samenvoegen door te mergen."
   ]
  },
  {
   "attachments": {},
   "cell_type": "markdown",
   "metadata": {},
   "source": [
    "![](images/010_GIT.png)"
   ]
  },
  {
   "attachments": {},
   "cell_type": "markdown",
   "metadata": {},
   "source": [
    "Nu kunnen we de onze repository publishen op \"GitHub\" => public\n",
    "\n",
    "protect main !!!!\n",
    "\n",
    "\n",
    "Nieuwe folder => clonen => een branch maken (\"other_user\")\n",
    "\n",
    "Iets aan aanpassen in branch en pushen\n",
    "\n",
    "\n",
    "Naar het andere VSC account => remotes => refresh => switch to branch (pijl terug)\n",
    "\n",
    "\n",
    "naast source control => ... => pull\n",
    "\n",
    "\n",
    "change branch => main => merge\n",
    "\n",
    "\n",
    "push github"
   ]
  },
  {
   "attachments": {},
   "cell_type": "markdown",
   "metadata": {},
   "source": [
    "# "
   ]
  },
  {
   "cell_type": "markdown",
   "metadata": {},
   "source": []
  },
  {
   "cell_type": "markdown",
   "metadata": {},
   "source": []
  },
  {
   "attachments": {},
   "cell_type": "markdown",
   "metadata": {},
   "source": [
    "![](images/010_GIT.png)"
   ]
  }
 ],
 "metadata": {
  "kernelspec": {
   "display_name": "Python 3",
   "language": "python",
   "name": "python3"
  },
  "language_info": {
   "name": "python",
   "version": "3.10.7 (tags/v3.10.7:6cc6b13, Sep  5 2022, 14:08:36) [MSC v.1933 64 bit (AMD64)]"
  },
  "orig_nbformat": 4,
  "vscode": {
   "interpreter": {
    "hash": "18a3ec44ede697772e2b2a8581e0f3291c9c47259057709d2626f9f8cd2d1d48"
   }
  }
 },
 "nbformat": 4,
 "nbformat_minor": 2
}
