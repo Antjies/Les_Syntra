{
 "cells": [
  {
   "cell_type": "markdown",
   "metadata": {},
   "source": [
    "# CHAPTER 2\n",
    "# Working with Data via SQLAlchemy Core\n",
    "\n",
    "We’ll look at how to:\n",
    "* insert\n",
    "* retrieve\n",
    "* and delete data\n",
    "\n",
    "and follow that with\n",
    "learning how to:\n",
    "* sort\n",
    "* group\n",
    "* and use relationships in our data. "
   ]
  },
  {
   "cell_type": "markdown",
   "metadata": {},
   "source": [
    "# Inserting Data\n",
    "\n",
    "`<table.name>.insert().values()`"
   ]
  },
  {
   "cell_type": "code",
   "execution_count": null,
   "metadata": {},
   "outputs": [],
   "source": [
    "ins = cookies.insert().values(\n",
    "            cookie_name=\"chocolate chip\",\n",
    "            cookie_recipe_url=\"http://some.aweso.me/cookie/recipe.html\",\n",
    "            cookie_sku=\"CC01\",\n",
    "            quantity=\"12\",\n",
    "            unit_cost=\"0.50\"\n",
    "        )\n",
    "print(str(ins))"
   ]
  },
  {
   "cell_type": "markdown",
   "metadata": {},
   "source": [
    " print(str(ins)) shows us the actual SQL statement\n",
    "\n",
    " ```\n",
    "INSERT INTO cookies\n",
    "(cookie_name, cookie_recipe_url, cookie_sku, quantity, unit_cost)\n",
    "VALUES\n",
    "(:cookie_name, :cookie_recipe_url, :cookie_sku, :quantity, :unit_cost)\n",
    "\n",
    " ```\n",
    "\n",
    "values have been replaced with :column_name \n",
    "is how SQLAlchemy represents parameters displayed via the str() function.\n",
    "\n",
    "Parameters are used to help ensure that our data has been properly escaped, which\n",
    "mitigates security issues such as SQL injection attacks\n",
    "\n",
    " The compile() method on the ins object returns a SQLCom\n",
    "piler object that gives us access to the actual parameters that will be sent\n",
    "\n"
   ]
  },
  {
   "cell_type": "code",
   "execution_count": null,
   "metadata": {},
   "outputs": [],
   "source": [
    "ins.compile().params"
   ]
  },
  {
   "cell_type": "markdown",
   "metadata": {},
   "source": [
    "we can use the execute() method on our connec‐\n",
    "tion (the engine we created) to send the statement to the database,"
   ]
  },
  {
   "cell_type": "code",
   "execution_count": null,
   "metadata": {},
   "outputs": [],
   "source": [
    "result = engine.execute(ins)\n"
   ]
  },
  {
   "cell_type": "markdown",
   "metadata": {},
   "source": [
    "get the ID of the record we just inserted "
   ]
  },
  {
   "cell_type": "code",
   "execution_count": null,
   "metadata": {},
   "outputs": [],
   "source": [
    "result.inserted_primary_key\n"
   ]
  },
  {
   "cell_type": "markdown",
   "metadata": {},
   "source": [
    "The ‘rowcount’ reports the number of rows matched by the WHERE criterion of an UPDATE or DELETE statement."
   ]
  },
  {
   "cell_type": "code",
   "execution_count": null,
   "metadata": {},
   "outputs": [],
   "source": [
    "result.rowcount"
   ]
  },
  {
   "cell_type": "markdown",
   "metadata": {},
   "source": [
    "insert\n",
    " is also avail‐\n",
    "able as a top-level function `insert(<table.name>).values()`"
   ]
  },
  {
   "cell_type": "code",
   "execution_count": null,
   "metadata": {},
   "outputs": [],
   "source": [
    "from sqlalchemy import insert\n",
    "\n",
    "ins = insert(cookies).values(\n",
    "            cookie_name=\"chocolate chip\",\n",
    "            cookie_recipe_url=\"http://some.aweso.me/cookie/recipe.html\",\n",
    "            cookie_sku=\"CC01\",\n",
    "            quantity=\"12\",\n",
    "            unit_cost=\"0.50\"\n",
    "        )"
   ]
  },
  {
   "cell_type": "markdown",
   "metadata": {},
   "source": [
    "It\n",
    "is also possible to provide the values as keyword arguments to the execute method\n",
    "after our statement. "
   ]
  },
  {
   "cell_type": "code",
   "execution_count": null,
   "metadata": {},
   "outputs": [],
   "source": [
    "ins = cookies.insert()\n",
    "result = engine.execute(\n",
    "            ins,\n",
    "            cookie_name='dark chocolate chip',\n",
    "            cookie_recipe_url='http://some.aweso.me/cookie/recipe_dark.html',\n",
    "            cookie_sku='CC02',\n",
    "            unit_cost='0.75'\n",
    "            )\n",
    "result.inserted_primary_key"
   ]
  },
  {
   "cell_type": "markdown",
   "metadata": {},
   "source": [
    "We can insert multiple records at once by using a list of dictionaries with\n",
    "data we are going to submit. "
   ]
  },
  {
   "cell_type": "code",
   "execution_count": null,
   "metadata": {},
   "outputs": [],
   "source": [
    "inventory_list = [\n",
    "        {\n",
    "            'cookie_name': 'peanut butter',\n",
    "            'cookie_recipe_url': 'http://some.aweso.me/cookie/peanut.html',\n",
    "            'cookie_sku': 'PB01',\n",
    "            'quantity': '24',\n",
    "            'unit_cost': '0.25'\n",
    "        },\n",
    "        {\n",
    "            'cookie_name': 'oatmeal raisin',\n",
    "            'cookie_recipe_url': 'http://some.okay.me/cookie/raisin.html',\n",
    "            'cookie_sku': 'EWW01',\n",
    "            'quantity': '100',\n",
    "            'unit_cost': '1.00'\n",
    "        }\n",
    "    ]\n",
    "result = engine.execute(ins, inventory_list)"
   ]
  },
  {
   "cell_type": "markdown",
   "metadata": {},
   "source": [
    "# Querying Data\n",
    "\n",
    "start by using the select function\n",
    "\n",
    "standard SQL SELECT statement. "
   ]
  },
  {
   "cell_type": "code",
   "execution_count": null,
   "metadata": {},
   "outputs": [],
   "source": [
    "from sqlalchemy.sql import select\n",
    "s = select([cookies])\n",
    "rp = engine.execute(s)\n",
    "results = rp.fetchall()"
   ]
  },
  {
   "cell_type": "markdown",
   "metadata": {},
   "source": [
    "use `str(s)` to look at the SQL statement the database will see.\n",
    "`print(s)`\n",
    "\n",
    "\n",
    "```\n",
    "SELECT  cookies.cookie_id, \n",
    "        cookies.cookie_name, \n",
    "        cookies.cookie_recipe_url, \n",
    "        cookies.cookie_sku, \n",
    "        cookies.quantity, \n",
    "        cookies.unit_cost \n",
    "FROM cookies\n",
    "```"
   ]
  },
  {
   "cell_type": "markdown",
   "metadata": {},
   "source": [
    "It is also possible to use:"
   ]
  },
  {
   "cell_type": "code",
   "execution_count": null,
   "metadata": {},
   "outputs": [],
   "source": [
    "from sqlalchemy.sql import select\n",
    "s = cookies.select()\n",
    "rp = engine.execute(s)\n",
    "results = rp.fetchall()"
   ]
  },
  {
   "cell_type": "markdown",
   "metadata": {},
   "source": [
    "# ResultProxy\n",
    "\n",
    "main goal is to\n",
    "make it easier to use and manipulate the results of a statement.\n",
    "\n",
    "\n",
    "handling query results easier by allowing access using an index, name, or Column\n",
    "object: "
   ]
  },
  {
   "cell_type": "code",
   "execution_count": null,
   "metadata": {},
   "outputs": [],
   "source": [
    "first_row = results[0]\n",
    "first_row[1]\n",
    "first_row.cookie_name\n",
    "first_row[cookies.c.cookie_name]"
   ]
  },
  {
   "cell_type": "markdown",
   "metadata": {},
   "source": [
    "Een overzicht van alle kolommen:\n",
    "\n",
    "`print(cookies.c)`"
   ]
  },
  {
   "cell_type": "markdown",
   "metadata": {},
   "source": [
    "We can also leverage the ResultProxy as an\n",
    "iterable, and perform an action on each record returned without creating another\n",
    "variable to hold the results. "
   ]
  },
  {
   "cell_type": "code",
   "execution_count": null,
   "metadata": {},
   "outputs": [],
   "source": [
    "rp = engine.execute(s)\n",
    "for record in rp:\n",
    "    print(record.cookie_name)"
   ]
  },
  {
   "cell_type": "markdown",
   "metadata": {},
   "source": [
    "all the result variables in “Inserting Data” were actually ResultProxys.\n",
    "\n",
    "rowcount() and inserted_primary_key() are ways to get information from a ResultProxy.\n",
    "\n",
    " following methods as well:\n",
    "\n",
    " \n",
    "`first()`\n",
    "Returns the first record if there is one \n",
    "AND \n",
    "closes the connection.\n",
    "\n",
    "\n",
    " `fetchone()`\n",
    " Returns one row \n",
    " AND \n",
    " leaves the cursor open \n",
    "\n",
    "\n",
    " `scalar()`\n",
    " Fetch the first column of the first row, \n",
    " AND\n",
    " close the result set.\n",
    "Returns None if there are no rows to fetch.\n",
    "\n",
    "\n",
    "`keys()`\n",
    "method to get a list of the column names.\n",
    "AND\n",
    "closes the connection.\n"
   ]
  },
  {
   "cell_type": "markdown",
   "metadata": {},
   "source": [
    "![](images/sqlalchemy_guide_for_good_production.png)"
   ]
  },
  {
   "cell_type": "markdown",
   "metadata": {},
   "source": [
    "# ---------------------- HERE---------------------------"
   ]
  },
  {
   "cell_type": "markdown",
   "metadata": {},
   "source": [
    "Every time we queried the database in the preceding examples, all the columns were\n",
    "returned for every record. "
   ]
  },
  {
   "cell_type": "markdown",
   "metadata": {},
   "source": [
    "# Controlling the Columns in the Query\n",
    "\n",
    "pass the columns we\n",
    "want into the select() method"
   ]
  },
  {
   "cell_type": "code",
   "execution_count": null,
   "metadata": {},
   "outputs": [],
   "source": [
    "s = select([cookies.c.cookie_name, cookies.c.quantity])\n",
    "rp = engine.execute(s)\n",
    "print(rp.keys())\n",
    "result = rp.first()"
   ]
  },
  {
   "cell_type": "markdown",
   "metadata": {},
   "source": [
    "# Ordering\n",
    "\n",
    "we can chain an order_by() statement "
   ]
  },
  {
   "cell_type": "code",
   "execution_count": null,
   "metadata": {},
   "outputs": [],
   "source": [
    "s = select([cookies.c.cookie_name, cookies.c.quantity])\n",
    "s = s.order_by(cookies.c.quantity)\n",
    "rp = engine.execute(s)\n",
    "for cookie in rp:\n",
    "    print(f'{cookie.quantity} - {cookie.cookie_name}')"
   ]
  },
  {
   "cell_type": "markdown",
   "metadata": {},
   "source": [
    "We kunnen de order_by() ook direct toevoegen achter de select()"
   ]
  },
  {
   "cell_type": "code",
   "execution_count": null,
   "metadata": {},
   "outputs": [],
   "source": [
    "s = select([cookies.c.cookie_name, cookies.c.quantity]).order_by(cookies.c.quantity)\n",
    "rp = engine.execute(s)\n",
    "for cookie in rp:\n",
    "    print(f'{cookie.quantity} - {cookie.cookie_name}')"
   ]
  },
  {
   "cell_type": "markdown",
   "metadata": {},
   "source": [
    "sort in reverse or descending order, use the desc() statement. "
   ]
  },
  {
   "cell_type": "code",
   "execution_count": null,
   "metadata": {},
   "outputs": [],
   "source": [
    "from sqlalchemy import desc\n",
    "s = select([cookies.c.cookie_name, cookies.c.quantity])\n",
    "s = s.order_by(desc(cookies.c.quantity))"
   ]
  },
  {
   "cell_type": "markdown",
   "metadata": {},
   "source": [
    "# Limiting\n",
    "\n",
    "the limit() function "
   ]
  },
  {
   "cell_type": "code",
   "execution_count": null,
   "metadata": {},
   "outputs": [],
   "source": [
    "s = select([cookies.c.cookie_name, cookies.c.quantity])\n",
    "s = s.order_by(cookies.c.quantity)\n",
    "s = s.limit(2)\n",
    "rp = engine.execute(s)\n",
    "print([result.cookie_name for result in rp])"
   ]
  },
  {
   "cell_type": "markdown",
   "metadata": {},
   "source": [
    "# Built-In SQL Functions and Labels\n",
    "\n",
    "database functions SUM() and COUNT()\n",
    "\n"
   ]
  },
  {
   "cell_type": "code",
   "execution_count": null,
   "metadata": {},
   "outputs": [],
   "source": [
    "from sqlalchemy.sql import func\n",
    "s = select([func.sum(cookies.c.quantity)])\n",
    "rp = engine.execute(s)\n",
    "print(rp.scalar())"
   ]
  },
  {
   "cell_type": "code",
   "execution_count": null,
   "metadata": {},
   "outputs": [],
   "source": [
    "s = select([func.count(cookies.c.cookie_name)])\n",
    "rp = engine.execute(s)\n",
    "record = rp.first()\n",
    "print(record.keys())\n",
    "print(record.count_1)"
   ]
  },
  {
   "cell_type": "markdown",
   "metadata": {},
   "source": [
    "This column name is annoying and cumbersome.\n",
    "\n",
    ", so the fourth count() function would be count_4. \n",
    "\n",
    " fix this\n",
    "via the label() function. "
   ]
  },
  {
   "cell_type": "code",
   "execution_count": null,
   "metadata": {},
   "outputs": [],
   "source": [
    "s = select([func.count(cookies.c.cookie_name).label('inventory_count')])\n",
    "rp = engine.execute(s)\n",
    "record = rp.first()\n",
    "print(record.keys())\n",
    "print(record.inventory_count)"
   ]
  },
  {
   "cell_type": "markdown",
   "metadata": {},
   "source": [
    "# Filtering\n",
    "\n",
    "Filtering queries is done by adding where() statements just like in SQL. \n",
    "\n",
    "A typical\n",
    "where() clause has a column, an operator, and a value or column.\n",
    "\n",
    " It is possible to\n",
    "chain multiple where() clauses together, and they will act like ANDs in traditional\n",
    "SQL statements. "
   ]
  },
  {
   "cell_type": "code",
   "execution_count": null,
   "metadata": {},
   "outputs": [],
   "source": [
    "s = select([cookies]).where(cookies.c.cookie_name == 'chocolate chip')\n",
    "rp = engine.execute(s)\n",
    "record = rp.first()\n",
    "print(record.items())\n",
    "# print(record._mapping.items())"
   ]
  },
  {
   "cell_type": "markdown",
   "metadata": {},
   "source": [
    "also use a where() statement to find all the cookie names that contain the\n",
    "word “chocolate"
   ]
  },
  {
   "cell_type": "code",
   "execution_count": null,
   "metadata": {},
   "outputs": [],
   "source": [
    "s = select([cookies]).where(cookies.c.cookie_name.like('%chocolate%'))\n",
    "rp = engine.execute(s)\n",
    "for record in rp.fetchall():\n",
    "    print(record.cookie_name)"
   ]
  },
  {
   "cell_type": "markdown",
   "metadata": {},
   "source": [
    "In the where() statement, we are using the cookies.c.cookie_name\n",
    "column inside of a where() statement as a type of ClauseElement to filter our results."
   ]
  },
  {
   "cell_type": "markdown",
   "metadata": {},
   "source": [
    "# ClauseElements\n",
    "\n",
    "ClauseElements are just an entity we use in a clause, \n",
    "\n",
    "and they are typically columns\n",
    "in a table; \n",
    "\n",
    "however, unlike columns, ClauseElements come with many additional\n",
    "capabilities."
   ]
  },
  {
   "cell_type": "markdown",
   "metadata": {},
   "source": [
    "![](images/clause_element_methods_sqlalchemy.png)"
   ]
  },
  {
   "attachments": {},
   "cell_type": "markdown",
   "metadata": {},
   "source": [
    "also the negation:\n",
    "* notlike()\n",
    "* notin_()\n",
    "\n",
    "only isnot() does not follow the not naming convention (in front)"
   ]
  },
  {
   "attachments": {},
   "cell_type": "markdown",
   "metadata": {},
   "source": [
    "# Operators\n",
    "\n",
    "all the standard comparison operators \n",
    "* == \n",
    "* !=\n",
    "* <\n",
    "* \\>\n",
    "* <=\n",
    "* \\>="
   ]
  },
  {
   "attachments": {},
   "cell_type": "markdown",
   "metadata": {},
   "source": [
    "The ==\n",
    "operator \n",
    "when compared to None, \n",
    "converts it\n",
    "to an IS NULL statement. "
   ]
  },
  {
   "attachments": {},
   "cell_type": "markdown",
   "metadata": {},
   "source": [
    "Arithmetic operators:\n",
    "* \\+\n",
    "* \\-\n",
    "* \\*\n",
    "* /\n",
    "* %"
   ]
  },
  {
   "attachments": {},
   "cell_type": "markdown",
   "metadata": {},
   "source": [
    "String concatenation with \\+ : "
   ]
  },
  {
   "cell_type": "code",
   "execution_count": null,
   "metadata": {},
   "outputs": [],
   "source": [
    "s = select([cookies.c.cookie_name, 'SKU-' + cookies.c.cookie_sku])\n",
    "for row in connection.execute(s):\n",
    "    print(row)"
   ]
  },
  {
   "attachments": {},
   "cell_type": "markdown",
   "metadata": {},
   "source": [
    "compute values from multiple columns:"
   ]
  },
  {
   "cell_type": "code",
   "execution_count": null,
   "metadata": {},
   "outputs": [],
   "source": [
    "from sqlalchemy import cast\n",
    "\n",
    "s = select([cookies.c.cookie_name,\n",
    "        cast((cookies.c.quantity * cookies.c.unit_cost), Numeric(12,2)).label('inv_cost')])\n",
    "for row in engine.execute(s):\n",
    "    print('{} - {}'.format(row.cookie_name, row.inv_cost))"
   ]
  },
  {
   "attachments": {},
   "cell_type": "markdown",
   "metadata": {},
   "source": [
    "Cast()  allows us to convert types.\n",
    " \n",
    "label() function to rename the column. \n",
    "\n",
    "possible to accomplish the same task in Python with"
   ]
  },
  {
   "cell_type": "code",
   "execution_count": null,
   "metadata": {},
   "outputs": [],
   "source": [
    "print('{} - {:.2f}'.format(row.cookie_name, row.inv_cost))"
   ]
  },
  {
   "attachments": {},
   "cell_type": "markdown",
   "metadata": {},
   "source": [
    "# Boolean Operators\n",
    "\n",
    "SQL Boolean operators AND, OR, and NOT\n",
    "\n",
    "=> bitwise logical operators (&, |, and ~)\n",
    "\n",
    "\n",
    "\n",
    "### Python operator precedence rules:\n",
    "\n",
    "when you write A < B & C < D,                               \n",
    "what you are actually writing is A < (B&C) < D"
   ]
  },
  {
   "attachments": {},
   "cell_type": "markdown",
   "metadata": {},
   "source": [
    "# Conjunctions\n",
    "\n",
    " possible to chain multiple where() clauses together\n",
    "\n",
    " better \n",
    "\n",
    " to use conjunctions\n",
    "\n",
    "\n",
    "conjunctions in SQLAlchemy are:\n",
    "* and_()\n",
    "* or_()\n",
    "* not_()\n",
    "\n",
    "\n",
    "The and_() function:"
   ]
  },
  {
   "cell_type": "code",
   "execution_count": null,
   "metadata": {},
   "outputs": [],
   "source": [
    "from sqlalchemy import and_, or_, not_\n",
    "s = select([cookies]).where(\n",
    "    and_(\n",
    "        cookies.c.quantity > 23,\n",
    "        cookies.c.unit_cost < 0.40\n",
    "    )\n",
    ")\n",
    "\n",
    "for row in engine.execute(s):\n",
    "    print(row.cookie_name)"
   ]
  },
  {
   "attachments": {},
   "cell_type": "markdown",
   "metadata": {},
   "source": [
    "The or_() function:"
   ]
  },
  {
   "cell_type": "code",
   "execution_count": null,
   "metadata": {},
   "outputs": [],
   "source": [
    "from sqlalchemy import and_, or_, not_\n",
    "s = select([cookies]).where(\n",
    "    or_(\n",
    "        cookies.c.quantity.between(10, 50),\n",
    "        cookies.c.cookie_name.contains('chip')\n",
    "    )\n",
    ")\n",
    "for row in engine.execute(s):\n",
    "    print(row.cookie_name)"
   ]
  },
  {
   "attachments": {},
   "cell_type": "markdown",
   "metadata": {},
   "source": [
    "The not_() function:"
   ]
  },
  {
   "cell_type": "code",
   "execution_count": null,
   "metadata": {},
   "outputs": [],
   "source": [
    "from sqlalchemy import and_, or_, not_\n",
    "s = select([cookies]).where(\n",
    "    not_(and_(\n",
    "            cookies.c.quantity > 23,\n",
    "            cookies.c.unit_cost < 0.40\n",
    "        )\n",
    "    )\n",
    ")\n",
    "\n",
    "for row in engine.execute(s):\n",
    "    print(row.cookie_name)"
   ]
  },
  {
   "attachments": {},
   "cell_type": "markdown",
   "metadata": {},
   "source": [
    "# Updating Data\n",
    "\n",
    "an update method with syn‐\n",
    "tax almost identical to inserts, except that it can specify a where clause that indicates\n",
    "which rows to update.\n",
    "\n",
    "\n",
    "either the update() function or the update() method"
   ]
  },
  {
   "cell_type": "code",
   "execution_count": null,
   "metadata": {},
   "outputs": [],
   "source": [
    "from sqlalchemy import update\n",
    "u = update(cookies).where(cookies.c.cookie_name == \"chocolate chip\")\n",
    "u = u.values(quantity=(cookies.c.quantity + 120))\n",
    "result = engine.execute(u)\n",
    "\n",
    "print(result.rowcount)"
   ]
  },
  {
   "cell_type": "code",
   "execution_count": null,
   "metadata": {},
   "outputs": [],
   "source": [
    "s = select([cookies]).where(cookies.c.cookie_name == \"chocolate chip\")\n",
    "result = engine.execute(s).first()\n",
    "\n",
    "for key in result.keys():\n",
    "    print('{:>20}: {}'.format(key, result[key]))"
   ]
  },
  {
   "attachments": {},
   "cell_type": "markdown",
   "metadata": {},
   "source": [
    "# Delete\n",
    "\n",
    "the delete() function or the\n",
    "delete() method\n",
    "\n",
    "delete() takes no values parameter, only an optional where clause"
   ]
  },
  {
   "cell_type": "code",
   "execution_count": null,
   "metadata": {},
   "outputs": [],
   "source": [
    "from sqlalchemy import delete\n",
    "u = delete(cookies).where(cookies.c.cookie_name == \"dark chocolate chip\")\n",
    "result = engine.execute(u)\n",
    "print(result.rowcount)"
   ]
  },
  {
   "cell_type": "code",
   "execution_count": null,
   "metadata": {},
   "outputs": [],
   "source": [
    "s = select([cookies]).where(cookies.c.cookie_name == \"dark chocolate chip\")\n",
    "result = engine.execute(s).fetchall()\n",
    "print(len(result))"
   ]
  },
  {
   "cell_type": "markdown",
   "metadata": {},
   "source": [
    "OK, at this point, let’s load up some data using what we already learned for the users,\n",
    "orders, and line_items tables. "
   ]
  },
  {
   "cell_type": "code",
   "execution_count": null,
   "metadata": {},
   "outputs": [],
   "source": [
    "customer_list = [\n",
    "        {\n",
    "        'username': 'cookiemon',\n",
    "        'email_address': 'mon@cookie.com',\n",
    "        'phone': '111-111-1111',\n",
    "        'password': 'password'\n",
    "        },\n",
    "        {\n",
    "        'username': 'cakeeater',\n",
    "        'email_address': 'cakeeater@cake.com',\n",
    "        'phone': '222-222-2222',\n",
    "        'password': 'password'\n",
    "        },\n",
    "        {\n",
    "        'username': 'pieguy',\n",
    "        'email_address': 'guy@pie.com',\n",
    "        'phone': '333-333-3333',\n",
    "        'password': 'password'\n",
    "        }\n",
    "]\n",
    "\n",
    "ins = users.insert()\n",
    "result = engine.execute(ins, customer_list)"
   ]
  },
  {
   "attachments": {},
   "cell_type": "markdown",
   "metadata": {},
   "source": [
    "Now that we have customers, we can start to enter their orders and line items"
   ]
  },
  {
   "cell_type": "code",
   "execution_count": null,
   "metadata": {},
   "outputs": [],
   "source": [
    "ins = insert(orders).values(user_id=1, order_id=1)\n",
    "result = engine.execute(ins)"
   ]
  },
  {
   "cell_type": "code",
   "execution_count": null,
   "metadata": {},
   "outputs": [],
   "source": [
    "ins = insert(line_items)\n",
    "line_items_input = [\n",
    "        {\n",
    "        'order_id': 1,\n",
    "        'cookie_id': 1,\n",
    "        'quantity': 2,\n",
    "        'extended_cost': 1.00\n",
    "        },\n",
    "        {\n",
    "        'order_id': 1,\n",
    "        'cookie_id': 3,\n",
    "        'quantity': 12,\n",
    "        'extended_cost': 3.00\n",
    "        }\n",
    "]\n",
    "result = engine.execute(ins, line_items_input)"
   ]
  },
  {
   "cell_type": "code",
   "execution_count": null,
   "metadata": {},
   "outputs": [],
   "source": [
    "\n",
    "ins = insert(orders).values(user_id=2, order_id=2)\n",
    "result = engine.execute(ins)\n"
   ]
  },
  {
   "cell_type": "code",
   "execution_count": null,
   "metadata": {},
   "outputs": [],
   "source": [
    "ins = insert(line_items)\n",
    "line_items_input = [\n",
    "        {\n",
    "        'order_id': 2,\n",
    "        'cookie_id': 1,\n",
    "        'quantity': 24,\n",
    "        'extended_cost': 12.00\n",
    "        },\n",
    "        {\n",
    "        'order_id': 2,\n",
    "        'cookie_id': 4,\n",
    "        'quantity': 6,\n",
    "        'extended_cost': 6.00\n",
    "        }\n",
    "]\n",
    "result = engine.execute(ins, line_items_input)"
   ]
  },
  {
   "attachments": {},
   "cell_type": "markdown",
   "metadata": {},
   "source": [
    "# JOINS\n",
    "\n",
    "## join() methods\n",
    "\n",
    "With select_from(), we can replace the entire from\n",
    "clause that SQLAlchemy would generate with one we specify\n",
    "\n",
    "create select:"
   ]
  },
  {
   "cell_type": "code",
   "execution_count": null,
   "metadata": {},
   "outputs": [],
   "source": [
    "columns = [\n",
    "    orders.c.order_id, \n",
    "    users.c.username, \n",
    "    users.c.phone, \n",
    "    cookies.c.cookie_name, \n",
    "    line_items.c.quantity, \n",
    "    line_items.c.extended_cost\n",
    "    ]\n",
    "\n",
    "cookiemon_orders = select(columns)\n"
   ]
  },
  {
   "attachments": {},
   "cell_type": "markdown",
   "metadata": {},
   "source": [
    "Check output"
   ]
  },
  {
   "cell_type": "code",
   "execution_count": null,
   "metadata": {},
   "outputs": [],
   "source": [
    "results = engine.execute(cookiemon_orders)\n",
    "for row in results.fetchall():\n",
    "    print(row)"
   ]
  },
  {
   "attachments": {},
   "cell_type": "markdown",
   "metadata": {},
   "source": [
    "join tables + check SQL"
   ]
  },
  {
   "cell_type": "code",
   "execution_count": null,
   "metadata": {},
   "outputs": [],
   "source": [
    "\n",
    "cookiemon_orders = cookiemon_orders.select_from(orders.join(users).join(\n",
    "line_items).join(cookies)).where(users.c.username ==\n",
    "'cookiemon')\n",
    "\n",
    "print(cookiemon_orders)    \n"
   ]
  },
  {
   "attachments": {},
   "cell_type": "markdown",
   "metadata": {},
   "source": [
    "execute SQL"
   ]
  },
  {
   "cell_type": "code",
   "execution_count": null,
   "metadata": {},
   "outputs": [],
   "source": [
    "result = engine.execute(cookiemon_orders).fetchall()\n",
    "for row in result:\n",
    "    print(row)"
   ]
  },
  {
   "attachments": {},
   "cell_type": "markdown",
   "metadata": {},
   "source": [
    "## outerjoin() \n",
    "\n",
    "requires a bit more care in the ordering of the join, as the table we use the outer\n",
    "join() method on will be the one from which all results are returned"
   ]
  },
  {
   "attachments": {},
   "cell_type": "markdown",
   "metadata": {},
   "source": [
    "create sql statement + check statement"
   ]
  },
  {
   "cell_type": "code",
   "execution_count": null,
   "metadata": {},
   "outputs": [],
   "source": [
    "from sqlalchemy.sql import func\n",
    "\n",
    "columns = [users.c.username, func.count(orders.c.order_id)]\n",
    "all_orders = select(columns)\n",
    "all_orders = all_orders.select_from(users.outerjoin(orders))\n",
    "all_orders = all_orders.group_by(users.c.username)\n",
    "\n",
    "print(all_orders)"
   ]
  },
  {
   "attachments": {},
   "cell_type": "markdown",
   "metadata": {},
   "source": [
    "execute sql"
   ]
  },
  {
   "cell_type": "code",
   "execution_count": null,
   "metadata": {},
   "outputs": [],
   "source": [
    "result = engine.execute(all_orders).fetchall()\n",
    "for row in result:\n",
    "    print(row)"
   ]
  },
  {
   "attachments": {},
   "cell_type": "markdown",
   "metadata": {},
   "source": [
    "# Aliases"
   ]
  },
  {
   "cell_type": "code",
   "execution_count": null,
   "metadata": {},
   "outputs": [],
   "source": [
    "employee_table = Table('employee', metadata,\n",
    "    Column('id', Integer, primary_key=True),\n",
    "    Column('manager', None, ForeignKey('employee.id')),\n",
    "    Column('name', String(255))\n",
    ")"
   ]
  },
  {
   "attachments": {},
   "cell_type": "markdown",
   "metadata": {},
   "source": [
    "suppose we want to select all the employees managed by an employee named\n",
    "Fred\n",
    "\n",
    "In SQL :"
   ]
  },
  {
   "cell_type": "code",
   "execution_count": null,
   "metadata": {
    "vscode": {
     "languageId": "sql"
    }
   },
   "outputs": [],
   "source": [
    "SELECT employee.name\n",
    "FROM employee, employee AS manager\n",
    "WHERE employee.manager_id = manager.id\n",
    "AND manager.name = 'Fred'"
   ]
  },
  {
   "attachments": {},
   "cell_type": "markdown",
   "metadata": {},
   "source": [
    "create query in alchemy"
   ]
  },
  {
   "cell_type": "code",
   "execution_count": null,
   "metadata": {
    "vscode": {
     "languageId": "sql"
    }
   },
   "outputs": [],
   "source": [
    "manager = employee_table.alias('mgr')\n",
    "stmt = select([employee_table.c.name],\n",
    "    and_(\n",
    "        employee_table.c.manager_id==manager.c.id,\n",
    "        manager.c.name=='Fred'\n",
    "        )\n",
    "    )\n",
    "print(stmt)"
   ]
  },
  {
   "attachments": {},
   "cell_type": "markdown",
   "metadata": {},
   "source": [
    "get results"
   ]
  },
  {
   "cell_type": "code",
   "execution_count": null,
   "metadata": {
    "vscode": {
     "languageId": "sql"
    }
   },
   "outputs": [],
   "source": [
    "rp = engine.execute(stmt)\n",
    "print(rp.fetchall())"
   ]
  },
  {
   "attachments": {},
   "cell_type": "markdown",
   "metadata": {},
   "source": [
    "SQLAlchemy can also choose the alias name automatically, "
   ]
  },
  {
   "cell_type": "code",
   "execution_count": null,
   "metadata": {
    "vscode": {
     "languageId": "sql"
    }
   },
   "outputs": [],
   "source": [
    "manager = employee_table.alias()\n",
    "stmt = select([employee_table.c.name],\n",
    "and_(employee_table.c.manager_id==manager.c.id,\n",
    "manager.c.name=='Fred'))\n",
    "print(stmt)"
   ]
  },
  {
   "cell_type": "code",
   "execution_count": null,
   "metadata": {
    "vscode": {
     "languageId": "sql"
    }
   },
   "outputs": [],
   "source": [
    "rp = engine.execute(stmt)\n",
    "print(rp.fetchall())"
   ]
  },
  {
   "attachments": {},
   "cell_type": "markdown",
   "metadata": {},
   "source": [
    "# Grouping\n",
    "\n",
    "When using grouping, you need one or more columns to group on and one or more\n",
    "columns that it makes sense to aggregate with counts, sums, etc., as you would in\n",
    "normal SQL. "
   ]
  },
  {
   "cell_type": "code",
   "execution_count": null,
   "metadata": {},
   "outputs": [],
   "source": [
    "columns = [users.c.username, func.count(orders.c.order_id)]\n",
    "all_orders = select(columns)\n",
    "all_orders = all_orders.select_from(users.outerjoin(orders))\n",
    "all_orders = all_orders.group_by(users.c.username)\n",
    "result = engine.execute(all_orders).fetchall()\n",
    "for row in result:\n",
    "    print(row)"
   ]
  },
  {
   "attachments": {},
   "cell_type": "markdown",
   "metadata": {},
   "source": [
    "# Chaining\n",
    "\n",
    "a function that got a list of\n",
    "orders for us it might look like :"
   ]
  },
  {
   "cell_type": "code",
   "execution_count": null,
   "metadata": {},
   "outputs": [],
   "source": [
    "def get_orders_by_customer(cust_name):\n",
    "    columns = [orders.c.order_id, users.c.username, users.c.phone, cookies.c.cookie_name, line_items.c.quantity, line_items.c.extended_cost]\n",
    "    cust_orders = select(columns)\n",
    "\n",
    "    cust_orders = cust_orders.select_from(\n",
    "        users.join(orders).join(line_items).join(cookies)\n",
    "        )\n",
    "\n",
    "    cust_orders = cust_orders.where(users.c.username == cust_name)\n",
    "    result = engine.execute(cust_orders).fetchall()\n",
    "    return result\n",
    "    \n",
    "get_orders_by_customer('cakeeater')"
   ]
  },
  {
   "attachments": {},
   "cell_type": "markdown",
   "metadata": {},
   "source": [
    "what if we wanted to get only the orders that have shipped"
   ]
  },
  {
   "cell_type": "code",
   "execution_count": null,
   "metadata": {},
   "outputs": [],
   "source": [
    "def get_shipped_orders_by_customer(cust_name, shipped=None, details=False):\n",
    "    columns = [orders.c.order_id, users.c.username, users.c.phone]\n",
    "    joins = users.join(orders)\n",
    "\n",
    "    if details:\n",
    "        columns.extend([cookies.c.cookie_name, line_items.c.quantity, line_items.c.extended_cost])\n",
    "        joins = joins.join(line_items).join(cookies)\n",
    "\n",
    "    cust_orders = select(columns)\n",
    "    cust_orders = cust_orders.select_from(joins)\n",
    "    cust_orders = cust_orders.where(users.c.username == cust_name)\n",
    "\n",
    "    if shipped is not None:\n",
    "        cust_orders = cust_orders.where(orders.c.shipped == shipped)\n",
    "    \n",
    "    result = engine.execute(cust_orders).fetchall()\n",
    "    return result"
   ]
  },
  {
   "cell_type": "code",
   "execution_count": null,
   "metadata": {},
   "outputs": [],
   "source": [
    "get_shipped_orders_by_customer('cakeeater')"
   ]
  },
  {
   "cell_type": "code",
   "execution_count": null,
   "metadata": {},
   "outputs": [],
   "source": [
    "get_shipped_orders_by_customer('cakeeater', details=True)"
   ]
  },
  {
   "cell_type": "code",
   "execution_count": null,
   "metadata": {},
   "outputs": [],
   "source": [
    "get_shipped_orders_by_customer('cakeeater', shipped=True)"
   ]
  },
  {
   "cell_type": "code",
   "execution_count": null,
   "metadata": {},
   "outputs": [],
   "source": [
    "get_shipped_orders_by_customer('cakeeater', shipped=False)"
   ]
  },
  {
   "cell_type": "code",
   "execution_count": null,
   "metadata": {},
   "outputs": [],
   "source": [
    "get_shipped_orders_by_customer('cakeeater', shipped=False, details=True)"
   ]
  },
  {
   "attachments": {},
   "cell_type": "markdown",
   "metadata": {},
   "source": [
    "# Raw Queries\n",
    "\n",
    "execute raw SQL statements "
   ]
  },
  {
   "cell_type": "code",
   "execution_count": null,
   "metadata": {},
   "outputs": [],
   "source": [
    "result = engine.execute(\"select * from orders\").fetchall()\n",
    "print(result)"
   ]
  },
  {
   "attachments": {},
   "cell_type": "markdown",
   "metadata": {},
   "source": [
    " I will often use small text snippets to help\n",
    "make a query clearer"
   ]
  },
  {
   "cell_type": "code",
   "execution_count": null,
   "metadata": {},
   "outputs": [],
   "source": [
    "from sqlalchemy import text\n",
    "stmt = select([users]).where(text(\"username='cookiemon'\"))\n",
    "print(stmt)"
   ]
  },
  {
   "cell_type": "code",
   "execution_count": null,
   "metadata": {},
   "outputs": [],
   "source": [
    "print(engine.execute(stmt).fetchall())"
   ]
  },
  {
   "attachments": {},
   "cell_type": "markdown",
   "metadata": {},
   "source": [
    "What did it look like without \"text\""
   ]
  },
  {
   "cell_type": "code",
   "execution_count": null,
   "metadata": {},
   "outputs": [],
   "source": [
    "stmt = select([users]).where(users.c.username == 'cookiemon')\n",
    "print(stmt)"
   ]
  }
 ],
 "metadata": {
  "kernelspec": {
   "display_name": "venv",
   "language": "python",
   "name": "python3"
  },
  "language_info": {
   "codemirror_mode": {
    "name": "ipython",
    "version": 3
   },
   "file_extension": ".py",
   "mimetype": "text/x-python",
   "name": "python",
   "nbconvert_exporter": "python",
   "pygments_lexer": "ipython3",
   "version": "3.10.7 (tags/v3.10.7:6cc6b13, Sep  5 2022, 14:08:36) [MSC v.1933 64 bit (AMD64)]"
  },
  "orig_nbformat": 4,
  "vscode": {
   "interpreter": {
    "hash": "21820b1fdda1be0cd9a8033d5b921a8a9c4ae940938f4db6934b76c7d0390909"
   }
  }
 },
 "nbformat": 4,
 "nbformat_minor": 2
}
