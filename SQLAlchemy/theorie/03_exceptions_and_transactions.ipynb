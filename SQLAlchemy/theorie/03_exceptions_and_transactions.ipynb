{
 "cells": [
  {
   "attachments": {},
   "cell_type": "markdown",
   "metadata": {},
   "source": [
    "# Exceptions and Transactions\n",
    "\n",
    "In this chapter, we will pur‐\n",
    "posely perform some actions incorrectly so that we can see the types of errors that\n",
    "occur and how we should respond to them. "
   ]
  },
  {
   "attachments": {},
   "cell_type": "markdown",
   "metadata": {},
   "source": [
    "# Exceptions\n",
    "\n",
    "we’ll focus on the\n",
    "most common ones: AttributeErrors and IntegrityErrors."
   ]
  },
  {
   "cell_type": "code",
   "execution_count": null,
   "metadata": {},
   "outputs": [],
   "source": []
  }
 ],
 "metadata": {
  "kernelspec": {
   "display_name": "Python 3",
   "language": "python",
   "name": "python3"
  },
  "language_info": {
   "name": "python",
   "version": "3.10.7 (tags/v3.10.7:6cc6b13, Sep  5 2022, 14:08:36) [MSC v.1933 64 bit (AMD64)]"
  },
  "orig_nbformat": 4,
  "vscode": {
   "interpreter": {
    "hash": "18a3ec44ede697772e2b2a8581e0f3291c9c47259057709d2626f9f8cd2d1d48"
   }
  }
 },
 "nbformat": 4,
 "nbformat_minor": 2
}
