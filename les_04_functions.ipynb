{
 "cells": [
  {
   "cell_type": "markdown",
   "metadata": {},
   "source": []
  },
  {
   "cell_type": "code",
   "execution_count": null,
   "metadata": {},
   "outputs": [],
   "source": [
    "def is_even(i):     # <-- is_even == NAAM  ///  i == PARAMETER\n",
    "  \"\"\"This gives True if number is even and False if numbers is not\"\"\"\n",
    "  # print(\"inside is_even function\")\n",
    "  return (i % 2 == 0)\n",
    "#   return (i % 2 == 0), i\n",
    "\n",
    "\n",
    "\n",
    "# result, getal = is_even(4) \n",
    "result= is_even(4) \n",
    "\n",
    "if  result:\n",
    "    print(\"is even\")\n",
    "\n",
    "# print(getal)\n"
   ]
  },
  {
   "cell_type": "code",
   "execution_count": null,
   "metadata": {},
   "outputs": [],
   "source": [
    "for var in range(5):\n",
    "  if is_even(var):\n",
    "    print(var, \"is een even getal\")\n",
    "  else:\n",
    "    print(var, \"is een oneven getal\")"
   ]
  },
  {
   "cell_type": "code",
   "execution_count": null,
   "metadata": {},
   "outputs": [],
   "source": [
    "def f(x):\n",
    "  x = x + 1 \n",
    "  print(\" in f(x): x = \", x)\n",
    "  return x\n",
    "\n",
    "f(3)"
   ]
  },
  {
   "cell_type": "code",
   "execution_count": null,
   "metadata": {},
   "outputs": [],
   "source": [
    "def func_a():\n",
    "  print(\"a\")\n",
    "\n",
    "def func_b(y):\n",
    "  print(\"b\")\n",
    "  return y\n",
    "\n",
    "def func_c(z):\n",
    "  print(\"c\")\n",
    "  return z()\n",
    "\n",
    "print(\"1 :\", func_a())\n",
    "# # a = func_a()\n",
    "# # print(a)\n",
    "print(\"2 :\", func_b(2) + 5)\n",
    "print(\"3 :\", func_c(func_a))\n"
   ]
  },
  {
   "cell_type": "code",
   "execution_count": null,
   "metadata": {},
   "outputs": [],
   "source": [
    "def func_a():\n",
    "  print(\"a\")\n",
    "  return \"e\"\n",
    "\n",
    "def func_b(y):\n",
    "  print(\"b\")\n",
    "  return y\n",
    "\n",
    "def func_c(z):\n",
    "  print(\"c\")\n",
    "  return z\n",
    "\n",
    "print(\"3 :\", func_c(func_a()))"
   ]
  },
  {
   "cell_type": "code",
   "execution_count": null,
   "metadata": {},
   "outputs": [],
   "source": [
    "def f(y):\n",
    "  x = 1\n",
    "  x += 1\n",
    "  print(x)\n",
    "\n",
    "x = 5 \n",
    "f(x)\n",
    "print (x)"
   ]
  },
  {
   "cell_type": "code",
   "execution_count": 1,
   "metadata": {},
   "outputs": [
    {
     "name": "stdout",
     "output_type": "stream",
     "text": [
      "5\n",
      "6\n",
      "12\n",
      "5\n"
     ]
    }
   ],
   "source": [
    "def g(y):\n",
    "  print(x)\n",
    "  print(x+1)\n",
    "  print(x + 7)\n",
    "\n",
    "  # x = x + 5\n",
    "\n",
    "x = 5\n",
    "g(x)\n",
    "print(x)"
   ]
  },
  {
   "cell_type": "code",
   "execution_count": 8,
   "metadata": {},
   "outputs": [
    {
     "ename": "UnboundLocalError",
     "evalue": "local variable 'x' referenced before assignment",
     "output_type": "error",
     "traceback": [
      "\u001b[1;31m---------------------------------------------------------------------------\u001b[0m",
      "\u001b[1;31mUnboundLocalError\u001b[0m                         Traceback (most recent call last)",
      "Cell \u001b[1;32mIn [8], line 6\u001b[0m\n\u001b[0;32m      2\u001b[0m     x \u001b[39m+\u001b[39m\u001b[39m=\u001b[39m \u001b[39m1\u001b[39m\n\u001b[0;32m      5\u001b[0m x \u001b[39m=\u001b[39m \u001b[39m5\u001b[39m\n\u001b[1;32m----> 6\u001b[0m h(x)\n\u001b[0;32m      7\u001b[0m \u001b[39mprint\u001b[39m(x)\n",
      "Cell \u001b[1;32mIn [8], line 2\u001b[0m, in \u001b[0;36mh\u001b[1;34m(y)\u001b[0m\n\u001b[0;32m      1\u001b[0m \u001b[39mdef\u001b[39;00m \u001b[39mh\u001b[39m(y):\n\u001b[1;32m----> 2\u001b[0m     x \u001b[39m+\u001b[39m\u001b[39m=\u001b[39m \u001b[39m1\u001b[39m\n",
      "\u001b[1;31mUnboundLocalError\u001b[0m: local variable 'x' referenced before assignment"
     ]
    }
   ],
   "source": [
    "def h(y):\n",
    "    x += 1\n",
    "    \n",
    "\n",
    "x = 5\n",
    "h(x)\n",
    "print(x)"
   ]
  },
  {
   "cell_type": "code",
   "execution_count": 14,
   "metadata": {},
   "outputs": [
    {
     "name": "stdout",
     "output_type": "stream",
     "text": [
      "g : x = 4\n",
      "4\n",
      "4\n"
     ]
    }
   ],
   "source": [
    "def g(x):\n",
    "  def h():\n",
    "    # x =\"abc\"\n",
    "    print(x)\n",
    "  x = x + 1\n",
    "  print(\"g : x =\", x)\n",
    "  h()\n",
    "  return x\n",
    "\n",
    "x = 3\n",
    "z = g(x)\n",
    "print(z)"
   ]
  },
  {
   "cell_type": "code",
   "execution_count": 22,
   "metadata": {},
   "outputs": [
    {
     "name": "stdout",
     "output_type": "stream",
     "text": [
      "aaaaa\n",
      "bbbbbbbbbbbbbbbbbbbb\n"
     ]
    }
   ],
   "source": [
    "def vermeerder_letter(letter, x=5):\n",
    "  return letter * x\n",
    "\n",
    "print(vermeerder_letter(\"a\"))  \n",
    "\n",
    "print(vermeerder_letter(letter = \"b\", x = 20))\n"
   ]
  },
  {
   "cell_type": "code",
   "execution_count": 25,
   "metadata": {},
   "outputs": [
    {
     "name": "stdout",
     "output_type": "stream",
     "text": [
      "hhh\t\t0\t\tA\n",
      "o\t\t1\t\tA\n",
      "ttt\t\t2\t\tA\n",
      "ttt\t\t3\t\tA\n",
      "eeee\t\t4\t\tA\n",
      "nnnnn\t\t5\t\tA\n",
      "tt\t\t6\t\tA\n",
      "oooo\t\t7\t\tA\n",
      "tttt\t\t8\t\tA\n",
      "ttttt\t\t9\t\tA\n",
      "eeee\t\t10\t\tA\n",
      "n\t\t11\t\tA\n",
      "ttttt\t\t12\t\tA\n",
      "eeee\t\t13\t\tA\n",
      "nn\t\t14\t\tA\n",
      "ttttt\t\t15\t\tA\n",
      "e\t\t16\t\tA\n",
      "nnnn\t\t17\t\tA\n",
      "tttt\t\t18\t\tA\n",
      "eeee\t\t19\t\tA\n",
      "nnnnn\t\t20\t\tA\n",
      "ttt\t\t21\t\tA\n",
      "o\t\t22\t\tA\n",
      "ooooo\t\t23\t\tA\n",
      "nnn\t\t24\t\tA\n",
      "ss\t\t25\t\tA\n",
      "tt\t\t26\t\tA\n",
      "eeeee\t\t27\t\tA\n",
      "ll\t\t28\t\tA\n",
      "lll\t\t29\t\tA\n",
      "i\t\t30\t\tA\n",
      "nnn\t\t31\t\tA\n",
      "ggggg\t\t32\t\tA\n",
      "ssss\t\t33\t\tA\n",
      "aaa\t\t34\t\tA\n",
      "gg\t\t35\t\tA\n",
      "eee\t\t36\t\tA\n",
      "n\t\t37\t\tA\n",
      "ttttt\t\t38\t\tA\n",
      "e\t\t39\t\tA\n",
      "n\t\t40\t\tA\n"
     ]
    }
   ],
   "source": [
    "import random\n",
    "\n",
    "word = \"hottentottententententoonstellingsagenten\"\n",
    "\n",
    "def print_woord(word):\n",
    "  for index, letter in enumerate(word):\n",
    "    letter = letter * random.randint(1,5)\n",
    "    print (letter, index, \"A\",  sep='\\t\\t')\n",
    "\n",
    "print_woord(word)"
   ]
  },
  {
   "cell_type": "code",
   "execution_count": null,
   "metadata": {},
   "outputs": [],
   "source": []
  }
 ],
 "metadata": {
  "kernelspec": {
   "display_name": "Python 3.10.7 ('venv': venv)",
   "language": "python",
   "name": "python3"
  },
  "language_info": {
   "codemirror_mode": {
    "name": "ipython",
    "version": 3
   },
   "file_extension": ".py",
   "mimetype": "text/x-python",
   "name": "python",
   "nbconvert_exporter": "python",
   "pygments_lexer": "ipython3",
   "version": "3.10.7"
  },
  "orig_nbformat": 4,
  "vscode": {
   "interpreter": {
    "hash": "2e4fda5e8d7dbdcdafd317d183e2776a0a1e50c4a43f5f633675534977b84ce2"
   }
  }
 },
 "nbformat": 4,
 "nbformat_minor": 2
}
