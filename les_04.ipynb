{
 "cells": [
  {
   "cell_type": "markdown",
   "metadata": {},
   "source": []
  },
  {
   "cell_type": "code",
   "execution_count": 7,
   "metadata": {},
   "outputs": [],
   "source": [
    "def is_even(i):     # <-- is_even == NAAM  ///  i == PARAMETER\n",
    "  \"\"\"This gives True if number is even and False if numbers is not\"\"\"\n",
    "  # print(\"inside is_even function\")\n",
    "  return (i % 2 == 0), i\n",
    "\n",
    "\n",
    "\n",
    "result, getal = is_even(4) \n",
    "\n",
    "if  result:\n",
    "    print(\"is even\")\n",
    "\n",
    "print(getal)\n"
   ]
  }
 ],
 "metadata": {
  "kernelspec": {
   "display_name": "Python 3.10.7 ('venv': venv)",
   "language": "python",
   "name": "python3"
  },
  "language_info": {
   "codemirror_mode": {
    "name": "ipython",
    "version": 3
   },
   "file_extension": ".py",
   "mimetype": "text/x-python",
   "name": "python",
   "nbconvert_exporter": "python",
   "pygments_lexer": "ipython3",
   "version": "3.10.7"
  },
  "orig_nbformat": 4,
  "vscode": {
   "interpreter": {
    "hash": "2e4fda5e8d7dbdcdafd317d183e2776a0a1e50c4a43f5f633675534977b84ce2"
   }
  }
 },
 "nbformat": 4,
 "nbformat_minor": 2
}
