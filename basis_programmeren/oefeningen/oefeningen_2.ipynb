{
 "cells": [
  {
   "cell_type": "markdown",
   "metadata": {},
   "source": [
    "# 1.\n",
    "# Write a program that prints the numbers 1 to 10 using a for loop.\n",
    "# Then write an equivalent program that prints the numbers 1 to 10 using a while loop"
   ]
  },
  {
   "cell_type": "code",
   "execution_count": null,
   "metadata": {},
   "outputs": [],
   "source": [
    "\n",
    "for i in range(10):\n",
    "    print(i+1)\n",
    "\n",
    "for i in range(1, 11):\n",
    "    print(i)\n",
    "\n",
    "i=1\n",
    "while i <= 10:\n",
    "    print(i)\n",
    "    i+=1"
   ]
  },
  {
   "cell_type": "markdown",
   "metadata": {},
   "source": [
    "# 2.\n",
    "# Write a function named collatz() that has one parameter named number. \n",
    "# If number is even, then collatz() should print (number // 2 ) and return this value. \n",
    "# If number is odd, then collatz() should print and return  (3 * number + 1)"
   ]
  },
  {
   "cell_type": "code",
   "execution_count": null,
   "metadata": {},
   "outputs": [],
   "source": [
    "def collatz (number):\n",
    "    if int(number) % 2 == 0:\n",
    "        result = number // 2\n",
    "        print(f\"{result}\" )\n",
    "        return result\n",
    "    else:\n",
    "        result = 3 * number + 1\n",
    "        print(f\"{result}\")\n",
    "        return result\n",
    "\n",
    "collatz(17)"
   ]
  },
  {
   "cell_type": "markdown",
   "metadata": {},
   "source": [
    "# 3.\n",
    "# Then write a program that lets the user type in an integer and that keeps calling collatz() on that number until teh function returns the value 1."
   ]
  },
  {
   "cell_type": "code",
   "execution_count": null,
   "metadata": {},
   "outputs": [],
   "source": [
    "def collatz_sequence():\n",
    "    getal = int(input(\"geef een geheel getal\"))\n",
    "    # result = getal\n",
    "    while getal != 1:\n",
    "        getal = collatz(getal)\n",
    "        \n",
    "collatz_sequence()"
   ]
  },
  {
   "cell_type": "markdown",
   "metadata": {},
   "source": [
    "# 4.\n",
    "# Write a program to calculate the volume and surface area of a sphere from its radius, given as input.\n",
    "# Here are some formulas that might be useful:\n",
    "#  V = 4/3 * pi * (r**3)\n",
    "#  A = 4 * pi * (r**2)"
   ]
  },
  {
   "cell_type": "code",
   "execution_count": null,
   "metadata": {},
   "outputs": [],
   "source": [
    "import math\n",
    "\n",
    "def volume_sphere (radius):\n",
    "    print((4/3)* math.pi*(radius**3))\n",
    "\n",
    "def area_sphere (radius):\n",
    "    print(4*math.pi*(radius**2))\n",
    "\n",
    "volume_sphere(5)\n",
    "area_sphere(5)"
   ]
  },
  {
   "cell_type": "markdown",
   "metadata": {},
   "source": [
    "# 5.\n",
    "# Write a program that calculates the cost per square inch (or centimeter) of a circular pizza, given its diameter and price.\n",
    "# The formula for area is A = pi * r**2"
   ]
  },
  {
   "cell_type": "code",
   "execution_count": null,
   "metadata": {},
   "outputs": [],
   "source": [
    "import math\n",
    "\n",
    "def cost_per_square_of_pizza(prijs, diameter):\n",
    "    straal = diameter/2\n",
    "    oppervlakte = math.pi * (straal ** 2)\n",
    "    result = prijs / oppervlakte\n",
    "\n",
    "    print(f\"{result}\")\n",
    "    return result\n",
    "\n",
    "cost_per_square_of_pizza(18, 18)"
   ]
  },
  {
   "cell_type": "markdown",
   "metadata": {},
   "source": [
    "# 6.\n",
    "# Two points in a plane are specified using the coordinates(x1, y1)  and (x2, y2). \n",
    "# Write a program that calculates the slope of a line through two (non-vertical) points entered by the user.\n",
    "# slope = (y2-y1)/(x2-x1)"
   ]
  },
  {
   "cell_type": "code",
   "execution_count": null,
   "metadata": {},
   "outputs": [],
   "source": [
    "def calcul_slope(x1, x2, y1, y2):\n",
    "    slope = (y2 - y1) // (x2 - x1)\n",
    "    return slope\n",
    "\n",
    "def try_parse(number):\n",
    "    try:\n",
    "        x = int(number) #int(input(\"geef een getal in\"))\n",
    "        return True\n",
    "    except:\n",
    "        return False\n",
    "\n",
    "b = True\n",
    "while b:\n",
    "    coordinates = list()\n",
    "    x = 0\n",
    "    while x != 4:\n",
    "        coordinate = input(\"Give Coordinates x1 x2 y1 y2\")\n",
    "        if try_parse(coordinate):\n",
    "            coordinates += coordinate\n",
    "            x += 1\n",
    "        else:\n",
    "            print(f\"try again from zero to hero !\")\n",
    "            coordinates = list()\n",
    "            x = 0\n",
    "    result = calcul_slope(int(coordinates[0]), int(coordinates[1]), int(coordinates[2]), int(coordinates[3]))\n",
    "    print(f\"slope is equal {result}\")\n",
    "    c  = input(\"Do you want to continue ? (yes or no)\")\n",
    "    b = True\n",
    "    if c.lower() != \"yes\":\n",
    "        b = False"
   ]
  },
  {
   "cell_type": "code",
   "execution_count": 3,
   "metadata": {},
   "outputs": [],
   "source": [
    "from utils.usefull_classes import Point\n",
    "\n",
    "\n",
    "def calculate_slope(point_1, point_2):\n",
    "    if isinstance(point_1, tuple) and isinstance(point_2, tuple):\n",
    "        if point_2[0]-point_1[0] == 0:\n",
    "            print(\"De teller is 0, delen door 0 is niet mogelijk\")\n",
    "            slope = \"limiet is oneindig\"\n",
    "        else:\n",
    "            slope = (point_2[1] - point_1[1]) / (point_2[0] - point_1[0])\n",
    "\n",
    "    elif isinstance(point_1, Point) and isinstance(point_2, Point):\n",
    "        if point_2.x - point_1.x == 0:\n",
    "            print(\"De teller is 0, delen door 0 is niet mogelijk\")\n",
    "            slope = \"limiet is oneindig\"\n",
    "        else:\n",
    "            slope = (point_2.y - point_1.y) / (point_2.x - point_1.x)\n",
    "        \n",
    "    print(slope)\n",
    "    return slope\n",
    "\n",
    "# calculate_slope((0,0), (10, 10))\n",
    "# calculate_slope(Point(0, 0), Point(0, 20))\n",
    "\n",
    "def get_tuple_points_from_user():\n",
    "    print(\"Voor het eerste punt, \")\n",
    "    x_coord = int(input(\"geef de x-coordinaat : \"))\n",
    "    y_coord = int(input(\"geef de y-coordinaat : \"))\n",
    "    punt_1 = (x_coord, y_coord)\n",
    "    print(\"Voor het tweede punt, \")\n",
    "    x_coord = int(input(\"geef de x-coordinaat : \"))\n",
    "    y_coord = int(input(\"geef de y-coordinaat : \"))\n",
    "    punt_2 = (x_coord, y_coord)\n",
    "\n",
    "    return punt_1, punt_2\n",
    "\n",
    "\n",
    "def get_obj_points_from_user():\n",
    "    print(\"Voor het eerste punt, \")\n",
    "    x_coord = int(input(\"geef de x-coordinaat : \"))\n",
    "    y_coord = int(input(\"geef de y-coordinaat : \"))\n",
    "    punt_1 = Point(x_coord, y_coord)\n",
    "    print(\"Voor het tweede punt, \")\n",
    "    x_coord = int(input(\"geef de x-coordinaat : \"))\n",
    "    y_coord = int(input(\"geef de y-coordinaat : \"))\n",
    "    punt_2 = Point(x_coord, y_coord)\n",
    "\n",
    "    return punt_1, punt_2\n",
    "\n",
    "# punt_1, punt_2 = get_tuple_points_from_user()\n",
    "# calculate_slope(punt_1, punt_2)\n",
    "\n",
    "punt_1, punt_2 = get_obj_points_from_user()\n",
    "calculate_slope(punt_1, punt_2)"
   ]
  },
  {
   "cell_type": "markdown",
   "metadata": {},
   "source": [
    "\n",
    "# 7.\n",
    "# Write a program that accepts two points (see previous problem) and determine the distance between them\n",
    "# distance = root( (x2-x1)**2 + (y2-y1)**2 )"
   ]
  },
  {
   "cell_type": "code",
   "execution_count": null,
   "metadata": {},
   "outputs": [],
   "source": [
    "import math\n",
    "from utils.usefull_classes import Point\n",
    "\n",
    "\n",
    "def calculate_distance(point_1, point_2):\n",
    "    if isinstance(point_1, tuple) and isinstance(point_2, tuple):\n",
    "        distance = math.sqrt((point_2[0] - point_1[0])**2 + (point_2[1] - point_1[1])**2)\n",
    "\n",
    "    elif isinstance(point_1, Point) and isinstance(point_2, Point):\n",
    "        distance = math.sqrt((point_2.x - point_1.x)**2 + (point_2.y - point_1.y)**2)\n",
    "        \n",
    "    print(distance)\n",
    "    return distance\n",
    "\n",
    "# calculate_slope((0,0), (10, 10))\n",
    "# calculate_slope(Point(0, 0), Point(0, 20))\n",
    "\n",
    "def get_tuple_points_from_user():\n",
    "    print(\"Voor het eerste punt, \")\n",
    "    x_coord = int(input(\"geef de x-coordinaat : \"))\n",
    "    y_coord = int(input(\"geef de y-coordinaat : \"))\n",
    "    punt_1 = (x_coord, y_coord)\n",
    "    print(\"Voor het tweede punt, \")\n",
    "    x_coord = int(input(\"geef de x-coordinaat : \"))\n",
    "    y_coord = int(input(\"geef de y-coordinaat : \"))\n",
    "    punt_2 = (x_coord, y_coord)\n",
    "\n",
    "    return punt_1, punt_2\n",
    "\n",
    "\n",
    "def get_obj_points_from_user():\n",
    "    print(\"Voor het eerste punt, \")\n",
    "    x_coord = int(input(\"geef de x-coordinaat : \"))\n",
    "    y_coord = int(input(\"geef de y-coordinaat : \"))\n",
    "    punt_1 = Point(x_coord, y_coord)\n",
    "    print(\"Voor het tweede punt, \")\n",
    "    x_coord = int(input(\"geef de x-coordinaat : \"))\n",
    "    y_coord = int(input(\"geef de y-coordinaat : \"))\n",
    "    punt_2 = Point(x_coord, y_coord)\n",
    "\n",
    "    return punt_1, punt_2\n",
    "\n",
    "# punt_1, punt_2 = get_tuple_points_from_user()\n",
    "# calculate_slope(punt_1, punt_2)\n",
    "\n",
    "punt_1, punt_2 = get_obj_points_from_user()\n",
    "calculate_distance(punt_1, punt_2)"
   ]
  },
  {
   "cell_type": "markdown",
   "metadata": {},
   "source": [
    "# 8.\n",
    "# Write a program to find the sum of the first n natural numbers, where the value of n is provided by the user"
   ]
  },
  {
   "cell_type": "code",
   "execution_count": 1,
   "metadata": {},
   "outputs": [
    {
     "name": "stdout",
     "output_type": "stream",
     "text": [
      "De sum van de eerst 5 nummers (0 incluis) is 10\n",
      "De sum van de eerst 5 nummers (0 niet meegerekend) is 15\n"
     ]
    }
   ],
   "source": [
    "def sum_of_n_natural_numbers(n, including_zero=True):\n",
    "    sum = 0\n",
    "    if including_zero:\n",
    "        for x in range(n):\n",
    "            sum += x\n",
    "    else:\n",
    "        for x in range(n):\n",
    "            sum += (x+1)\n",
    "    return sum\n",
    "\n",
    "# aantal_getallen = int(input(\"Geef een geheel getal\"))\n",
    "aantal_getallen = 5\n",
    "\n",
    "print(f\"De sum van de eerst {aantal_getallen} nummers (0 incluis) is {sum_of_n_natural_numbers(aantal_getallen)}\")\n",
    "print(f\"De sum van de eerst {aantal_getallen} nummers (0 niet meegerekend) is {sum_of_n_natural_numbers(aantal_getallen, False)}\")"
   ]
  },
  {
   "cell_type": "markdown",
   "metadata": {},
   "source": [
    "\n",
    "# 9.\n",
    "# Write a program to sum a series of numbers entered by the user.\n",
    "# The program should first prompt the user for how many numbers are to be summed.\n",
    "# It should then input each of the numbers and print a total sum."
   ]
  },
  {
   "cell_type": "code",
   "execution_count": null,
   "metadata": {},
   "outputs": [],
   "source": [
    "aantal_getallen = int(input('Hoeveel getallen wil je optellen?'))\n",
    "getallen = []\n",
    "\n",
    "for x in range(aantal_getallen):\n",
    "    getallen.append(int(input(\"Geef getal\")))\n",
    "\n",
    "result = 0\n",
    "for x in getallen:\n",
    "    result += x\n",
    "\n",
    "print(f\"De som van deze getallen is {result}\")"
   ]
  }
 ],
 "metadata": {
  "kernelspec": {
   "display_name": "Python 3.10.7 ('venv': venv)",
   "language": "python",
   "name": "python3"
  },
  "language_info": {
   "codemirror_mode": {
    "name": "ipython",
    "version": 3
   },
   "file_extension": ".py",
   "mimetype": "text/x-python",
   "name": "python",
   "nbconvert_exporter": "python",
   "pygments_lexer": "ipython3",
   "version": "3.10.7"
  },
  "orig_nbformat": 4,
  "vscode": {
   "interpreter": {
    "hash": "2e4fda5e8d7dbdcdafd317d183e2776a0a1e50c4a43f5f633675534977b84ce2"
   }
  }
 },
 "nbformat": 4,
 "nbformat_minor": 2
}
