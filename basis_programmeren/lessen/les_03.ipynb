{
 "cells": [
  {
   "cell_type": "code",
   "execution_count": null,
   "metadata": {},
   "outputs": [],
   "source": [
    "a = True\n",
    "b = True\n",
    "c = False\n",
    "\n",
    "print(a and b)\n",
    "print(int(a and b))\n",
    "print(a and c)\n",
    "print(int(a and c))\n",
    "print(a or b)\n",
    "print(a or c)\n",
    "print(not c)\n",
    "print(a and (not c)) "
   ]
  },
  {
   "cell_type": "code",
   "execution_count": 1,
   "metadata": {},
   "outputs": [
    {
     "name": "stdout",
     "output_type": "stream",
     "text": [
      "False\n",
      "True\n"
     ]
    }
   ],
   "source": [
    "L = [True, False, True]\n",
    "\n",
    "print(all(L))\n",
    "print(any(L))"
   ]
  },
  {
   "cell_type": "markdown",
   "metadata": {},
   "source": [
    "if <conditie>:\n",
    "  <actie>\n",
    "else:\n",
    "  <actie>"
   ]
  },
  {
   "cell_type": "code",
   "execution_count": null,
   "metadata": {},
   "outputs": [],
   "source": [
    "x = int(input(\"Geef een getal: \"))\n",
    "y = int(input(\"Geef een 2e getal: \"))\n",
    "\n",
    "if x > y:\n",
    "  print(x, \"is groter dan \", y)\n",
    "else:\n",
    "    print(x, \"is kleiner dan \", y)"
   ]
  },
  {
   "cell_type": "markdown",
   "metadata": {},
   "source": [
    "nested if\n",
    "Je kan ook een if in een if statement hebben. Dit is wat men \"nested if's noemt\""
   ]
  },
  {
   "cell_type": "code",
   "execution_count": null,
   "metadata": {},
   "outputs": [],
   "source": [
    "# x = int(input(\"Geef een getal groter dan 1000: \"))\n",
    "x = 456\n",
    "\n",
    "if x % 2 == 0:\n",
    "  print(x, 'is deelbaar door 2')\n",
    "  if x % 3 == 0:\n",
    "      print(x, 'is deelbaar door 3')\n",
    "  else:\n",
    "      print(x, 'is niet deelbaar door 3')\n",
    "else:\n",
    "  print(x, 'is niet deelbaar door 2')\n",
    "  if x % 3 == 0:\n",
    "    print(x, 'is deelbaar door 3')\n",
    "  else:\n",
    "    print(x, 'is niet deelbaar door 3')"
   ]
  },
  {
   "cell_type": "code",
   "execution_count": null,
   "metadata": {},
   "outputs": [],
   "source": [
    "x = 5\n",
    "if x > 0 and x < 10:\n",
    "    print(\"TEst\")\n",
    "    \n",
    "if 0 < x < 10:\n",
    "    print(\"nog \")"
   ]
  },
  {
   "cell_type": "code",
   "execution_count": null,
   "metadata": {},
   "outputs": [],
   "source": [
    "if x == y :\n",
    "    print(\"yes\")"
   ]
  },
  {
   "cell_type": "code",
   "execution_count": null,
   "metadata": {},
   "outputs": [],
   "source": [
    "x = \"aabc\"\n",
    "y = \"fff\"\n",
    "\n",
    "x*y"
   ]
  },
  {
   "cell_type": "code",
   "execution_count": null,
   "metadata": {},
   "outputs": [],
   "source": [
    "# x = x.replace(x[0], \"G\", 3)\n",
    "x = x[:2] + \"F\" + x[3:]\n",
    "x"
   ]
  },
  {
   "cell_type": "code",
   "execution_count": null,
   "metadata": {},
   "outputs": [],
   "source": [
    "x = 5\n",
    "y = 5\n",
    "\n",
    "if x = y:\n",
    "  print(\"Yes\")"
   ]
  },
  {
   "cell_type": "code",
   "execution_count": null,
   "metadata": {},
   "outputs": [],
   "source": [
    "x = 5\n",
    "y = 5\n",
    "\n",
    "if x == y:\n",
    "print(\"Yes\")"
   ]
  },
  {
   "cell_type": "code",
   "execution_count": null,
   "metadata": {},
   "outputs": [],
   "source": [
    "s = \"abcdefghi\"\n",
    "\n",
    "print(s[999])"
   ]
  },
  {
   "cell_type": "code",
   "execution_count": null,
   "metadata": {},
   "outputs": [],
   "source": [
    "42 = n"
   ]
  },
  {
   "cell_type": "code",
   "execution_count": null,
   "metadata": {},
   "outputs": [],
   "source": [
    "a = (0, 1)\n",
    "type(a)\n",
    "a[1] = 7"
   ]
  },
  {
   "cell_type": "code",
   "execution_count": null,
   "metadata": {},
   "outputs": [],
   "source": [
    "a[2] = 8"
   ]
  },
  {
   "cell_type": "code",
   "execution_count": null,
   "metadata": {},
   "outputs": [],
   "source": [
    "x = (\"apple\", \"banana\", \"cherry\")\n",
    "y = list(x)\n",
    "y[1] = \"kiwi\"\n",
    "x = tuple(y)\n",
    "\n",
    "print(x)\n"
   ]
  },
  {
   "cell_type": "markdown",
   "metadata": {},
   "source": [
    "# Break - Continue - Pass"
   ]
  },
  {
   "cell_type": "code",
   "execution_count": null,
   "metadata": {},
   "outputs": [],
   "source": [
    "number = 0\n",
    "\n",
    "for number in range(10):\n",
    "    if number == 5:\n",
    "        break    # break here\n",
    "\n",
    "    print('Number is ' + str(number))\n",
    "\n",
    "print('Out of loop')"
   ]
  },
  {
   "cell_type": "code",
   "execution_count": null,
   "metadata": {},
   "outputs": [],
   "source": [
    "number = 0\n",
    "\n",
    "for number in range(10):\n",
    "    if number == 5:\n",
    "        continue    # continue here\n",
    "\n",
    "    print('Number is ' + str(number))\n",
    "\n",
    "print('Out of loop')"
   ]
  },
  {
   "cell_type": "code",
   "execution_count": null,
   "metadata": {},
   "outputs": [],
   "source": [
    "number = 0\n",
    "\n",
    "for number in range(10):\n",
    "    if number == 5:\n",
    "        pass    # pass here\n",
    "\n",
    "    print('Number is ' + str(number))\n",
    "\n",
    "print('Out of loop')"
   ]
  },
  {
   "cell_type": "code",
   "execution_count": null,
   "metadata": {},
   "outputs": [],
   "source": [
    "a = 5\n",
    "b = a \n",
    "b\n",
    "a = 3\n",
    "b"
   ]
  },
  {
   "cell_type": "code",
   "execution_count": null,
   "metadata": {},
   "outputs": [],
   "source": [
    "def write_done():\n",
    "\n",
    "  while True:\n",
    "    line = input('> ')\n",
    "    if line == 'done':\n",
    "      break\n",
    "    print('line')\n",
    "\n",
    "  print(\"Done !\")\n",
    "\n",
    "write_done()"
   ]
  },
  {
   "cell_type": "code",
   "execution_count": null,
   "metadata": {},
   "outputs": [],
   "source": [
    "import datetime\n",
    "begin_time = datetime.datetime.now()\n",
    "\n",
    "for x in range (10):\n",
    "    print(x)\n",
    "\n",
    "print((datetime.datetime.now() - begin_time).total_seconds())"
   ]
  },
  {
   "cell_type": "markdown",
   "metadata": {},
   "source": [
    "# Probleem\n",
    "\n",
    "We zullen proberen om de 3e vierkants wortel te vinden van een getal.\n",
    "\n",
    "de 3e vierkants wortel is het omgekeerde van de 3e macht. De 3e macht betekent dat we een getal 3 keer met zichzelf vermenigvuldigen.\n",
    "\n",
    "$ \\sqrt[3]{x^3} = x $\n",
    "\n",
    "$ x^3 = x*x*x $\n",
    "\n",
    "we weten  x3  en moeten te weten komen wat  x  is\n",
    "\n",
    "in het Engels gebruikt men voor een 3e macht \"cube\""
   ]
  },
  {
   "cell_type": "markdown",
   "metadata": {},
   "source": [
    "# Algoritme 1 : Raden en nakijken\n",
    "\n",
    "In dit algoritme gaan we getal per getal of en kijken of het juist is. Voor een reeks van 100 getallen zullen we gemiddeld 50 pogingen nodig hebben om het juiste getal te raden."
   ]
  },
  {
   "cell_type": "code",
   "execution_count": 69,
   "metadata": {},
   "outputs": [
    {
     "name": "stdout",
     "output_type": "stream",
     "text": [
      "de 3e vierkantswortel van  8 is 2\n",
      "0.0\n"
     ]
    }
   ],
   "source": [
    "import datetime\n",
    "begin_time = datetime.datetime.now()\n",
    "\n",
    "cube = 8\n",
    "\n",
    "for gok in range (cube):\n",
    "    if gok ** 3 == cube:\n",
    "        print(\"de 3e vierkantswortel van \", cube, \"is\", gok)\n",
    "\n",
    "print((datetime.datetime.now() - begin_time).total_seconds())"
   ]
  },
  {
   "cell_type": "code",
   "execution_count": null,
   "metadata": {},
   "outputs": [],
   "source": [
    "abs(-8)"
   ]
  },
  {
   "cell_type": "code",
   "execution_count": 68,
   "metadata": {},
   "outputs": [
    {
     "name": "stdout",
     "output_type": "stream",
     "text": [
      "de 3e vierkantswortel van  3232100545451394806759409 is 147852369\n",
      "56.473586 seconden\n"
     ]
    }
   ],
   "source": [
    "import datetime\n",
    "begin_time = datetime.datetime.now()\n",
    "\n",
    "cube = 3232100545451394806759409\n",
    "# cube = 3232076346134208\n",
    "# cube = 3228667352\n",
    "# cube = 607645423\n",
    "# cube = 10003\n",
    "\n",
    "\n",
    "for gok in range (abs(cube) + 1):\n",
    "  if gok ** 3 >= abs(cube):\n",
    "    break\n",
    "if gok**3 != abs(cube):\n",
    "  print(cube, \"heeft geen perfecte 3e vierkantswortel\")\n",
    "else:\n",
    "  if cube < 0:\n",
    "    gok = -gok\n",
    "  print(\"de 3e vierkantswortel van \", str(cube), \"is\", str(gok))\n",
    "\n",
    "\n",
    "print((datetime.datetime.now() - begin_time).total_seconds(), \"seconden\")"
   ]
  },
  {
   "cell_type": "markdown",
   "metadata": {},
   "source": [
    "Algoritme 2: benadering\n",
    "bij dit algoritme kunnen we een benadering vinden ook al is er geen perfecte 3e vierkantswortel.\n",
    "\n",
    "We gebruiken epsilon om aan te geven hoe groot het verschil mag zijn tussen onze uitkomst en de werkelijke 3e vierkantswortel. Het is met andere worden niet exact, maar een benadering."
   ]
  },
  {
   "cell_type": "code",
   "execution_count": 75,
   "metadata": {},
   "outputs": [
    {
     "name": "stdout",
     "output_type": "stream",
     "text": [
      "aantal gokken = 215465\n",
      "21.546499999963125 is een dichte benadering van de 3e vierkanstworter van 10003\n"
     ]
    }
   ],
   "source": [
    "cube = 10003\n",
    "\n",
    "epsilon = 0.01\n",
    "gok = 0.0\n",
    "increment = 0.0001\n",
    "aant_gok = 0\n",
    "\n",
    "while abs(gok**3 - cube) >= epsilon:\n",
    "  gok += increment\n",
    "  aant_gok += 1\n",
    "\n",
    "print(\"aantal gokken =\",aant_gok)\n",
    "\n",
    "if abs(gok**3 - cube) >= epsilon:\n",
    "  print(\"Geen 3e vierkantswortel gevonden voor\", cube)\n",
    "else:\n",
    "  print(gok, \"is een dichte benadering van de 3e vierkanstworter van\", cube)"
   ]
  },
  {
   "cell_type": "code",
   "execution_count": 76,
   "metadata": {},
   "outputs": [
    {
     "data": {
      "text/plain": [
       "1.0"
      ]
     },
     "execution_count": 76,
     "metadata": {},
     "output_type": "execute_result"
    }
   ],
   "source": []
  },
  {
   "cell_type": "code",
   "execution_count": 83,
   "metadata": {},
   "outputs": [
    {
     "ename": "KeyboardInterrupt",
     "evalue": "",
     "output_type": "error",
     "traceback": [
      "\u001b[1;31m---------------------------------------------------------------------------\u001b[0m",
      "\u001b[1;31mKeyboardInterrupt\u001b[0m                         Traceback (most recent call last)",
      "Cell \u001b[1;32mIn [83], line 15\u001b[0m\n\u001b[0;32m     12\u001b[0m increment \u001b[39m=\u001b[39m \u001b[39m0.0001\u001b[39m\n\u001b[0;32m     13\u001b[0m aant_gok \u001b[39m=\u001b[39m \u001b[39m0\u001b[39m\n\u001b[1;32m---> 15\u001b[0m \u001b[39mwhile\u001b[39;00m \u001b[39mabs\u001b[39;49m(gok\u001b[39m*\u001b[39;49m\u001b[39m*\u001b[39;49m\u001b[39m3\u001b[39;49m \u001b[39m-\u001b[39;49m cube) \u001b[39m>\u001b[39;49m\u001b[39m=\u001b[39;49m epsilon:\n\u001b[0;32m     16\u001b[0m   gok \u001b[39m+\u001b[39m\u001b[39m=\u001b[39m increment\n\u001b[0;32m     17\u001b[0m   aant_gok \u001b[39m+\u001b[39m\u001b[39m=\u001b[39m \u001b[39m1\u001b[39m\n",
      "\u001b[1;31mKeyboardInterrupt\u001b[0m: "
     ]
    }
   ],
   "source": [
    "import datetime\n",
    "begin_time = datetime.datetime.now()\n",
    "\n",
    "# cube = 3232100545451394806759409\n",
    "# cube = 3232076346134208\n",
    "# cube = 3228667352\n",
    "cube = 607645423\n",
    "# cube = 10003\n",
    "\n",
    "epsilon = 0.1   # <-- moet groot genoeg zijn voor de grotere getallen anders wordt het een oneindige loop\n",
    "gok = 0.0\n",
    "increment = 0.0001\n",
    "aant_gok = 0\n",
    "\n",
    "while abs(gok**3 - cube) >= epsilon:\n",
    "  gok += increment\n",
    "  aant_gok += 1\n",
    "\n",
    "print(\"aantal gokken =\",aant_gok)\n",
    "\n",
    "if abs(gok**3 - cube) >= epsilon:\n",
    "  print(\"Geen 3e vierkantswortel gevonden voor\", cube)\n",
    "else:\n",
    "  print(gok, \"is een dichte benadering van de 3e vierkanstworter van\", cube)\n",
    "\n",
    "\n",
    "print((datetime.datetime.now() - begin_time).total_seconds(), \"seconden\")"
   ]
  },
  {
   "cell_type": "markdown",
   "metadata": {},
   "source": [
    "# Algoritme 3 : Halvering\n",
    "\n",
    "Nu gaan we telkens het aantal mogelijke kandidaten voor de 3e vierkantswortel halveren.\n",
    "\n",
    "we starten door de gok niet te laten starten bij 0, maar in het midden. Als deze \"gok ** 3\" hoger ligt dan de \"cube\" dan weten we dat de uiteindelijke gok lager moet liggen. Hierdoor kunnen we dus de helft van de mogelijke gevallen uitsluiten.\n",
    "\n",
    "Als de \"gok ** 3\" lager ligt dan de \"cube\", dan weten we dat de uiteindelijke gok hoger zal moeten liggen. "
   ]
  },
  {
   "cell_type": "code",
   "execution_count": 87,
   "metadata": {},
   "outputs": [
    {
     "name": "stdout",
     "output_type": "stream",
     "text": [
      " aantal gokken =  105\n",
      "147852369.0 is een goede benadering van de 3e vierkantswortel van  3232100545451394806759409\n",
      "0.001003 seconden\n"
     ]
    }
   ],
   "source": [
    "import datetime\n",
    "begin_time = datetime.datetime.now()\n",
    "\n",
    "cube = 3232100545451394806759409\n",
    "# cube = 3232076346134208\n",
    "# cube = 3228667352\n",
    "# cube = 607645423\n",
    "# cube = 10003\n",
    "\n",
    "epsilon = 0.1   # <-- moet groot genoeg zijn voor de grotere getallen anders wordt het een oneindige loop\n",
    "aant_gok = 0\n",
    "low = 0\n",
    "high = cube\n",
    "gok = (low + high) /2\n",
    "\n",
    "while abs(gok**3 - cube) >= epsilon:\n",
    "    if gok ** 3 < cube:\n",
    "        low = gok\n",
    "    else:\n",
    "        high = gok\n",
    "    gok = (low + high) / 2\n",
    "    aant_gok +=1\n",
    "\n",
    "\n",
    "print(\" aantal gokken = \", aant_gok)\n",
    "print(gok, 'is een goede benadering van de 3e vierkantswortel van ', cube)\n",
    "\n",
    "\n",
    "print((datetime.datetime.now() - begin_time).total_seconds(), \"seconden\")"
   ]
  }
 ],
 "metadata": {
  "kernelspec": {
   "display_name": "Python 3.10.7 ('venv': venv)",
   "language": "python",
   "name": "python3"
  },
  "language_info": {
   "codemirror_mode": {
    "name": "ipython",
    "version": 3
   },
   "file_extension": ".py",
   "mimetype": "text/x-python",
   "name": "python",
   "nbconvert_exporter": "python",
   "pygments_lexer": "ipython3",
   "version": "3.10.7"
  },
  "orig_nbformat": 4,
  "vscode": {
   "interpreter": {
    "hash": "2e4fda5e8d7dbdcdafd317d183e2776a0a1e50c4a43f5f633675534977b84ce2"
   }
  }
 },
 "nbformat": 4,
 "nbformat_minor": 2
}
