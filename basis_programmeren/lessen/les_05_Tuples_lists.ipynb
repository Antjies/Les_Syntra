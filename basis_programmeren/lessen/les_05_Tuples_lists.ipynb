{
 "cells": [
  {
   "cell_type": "markdown",
   "metadata": {},
   "source": [
    "# TUPLES \n",
    "\n",
    "een tuple is een reeks.\n",
    "\n",
    "Het kan allerlei soorten types bevatten. Bijvoorbeeld `int`, `float`, `str`, ...\n",
    "\n",
    "Belangrijk bij een tuple is dat het niet kan worden veranderd. je kan wel elementen toevoegen of tuples samenvoegen. Maar je kan geen element in een tuple vervangen.\n",
    "\n",
    "een tuple wordt gevormd door normale ( )"
   ]
  },
  {
   "cell_type": "code",
   "execution_count": 1,
   "metadata": {},
   "outputs": [
    {
     "name": "stdout",
     "output_type": "stream",
     "text": [
      "(2, 'MIT', 3.0)\n",
      "2\n",
      "(2, 'MIT', 3.0, 5, 6)\n",
      "(2, 'MIT', 3.0, 5)\n",
      "('MIT',)\n",
      "M\n",
      "3\n",
      "4\n",
      "5\n"
     ]
    }
   ],
   "source": [
    "te = ()\n",
    "t = (2, \"MIT\", 3.0)\n",
    "\n",
    "print(t)\n",
    "print(t[0])\n",
    "print(t+(5,6))\n",
    "print(t + (5,))\n",
    "# print(t + (5))\n",
    "\n",
    "print(t[1:2])\n",
    "print(t[1][0])\n",
    "print(len(t))\n",
    "print(len(t+(5,)))\n",
    "print(len(t+(5,None)))"
   ]
  },
  {
   "cell_type": "code",
   "execution_count": 2,
   "metadata": {},
   "outputs": [
    {
     "ename": "TypeError",
     "evalue": "'tuple' object does not support item assignment",
     "output_type": "error",
     "traceback": [
      "\u001b[1;31m---------------------------------------------------------------------------\u001b[0m",
      "\u001b[1;31mTypeError\u001b[0m                                 Traceback (most recent call last)",
      "Cell \u001b[1;32mIn [2], line 3\u001b[0m\n\u001b[0;32m      1\u001b[0m t \u001b[39m=\u001b[39m (\u001b[39m2\u001b[39m, \u001b[39m\"\u001b[39m\u001b[39mMIT\u001b[39m\u001b[39m\"\u001b[39m, \u001b[39m3.0\u001b[39m)\n\u001b[1;32m----> 3\u001b[0m t[\u001b[39m1\u001b[39;49m] \u001b[39m=\u001b[39m \u001b[39m\"\u001b[39m\u001b[39m4\u001b[39m\u001b[39m\"\u001b[39m\n",
      "\u001b[1;31mTypeError\u001b[0m: 'tuple' object does not support item assignment"
     ]
    }
   ],
   "source": [
    "t = (2, \"MIT\", 3.0)\n",
    "\n",
    "t[1] = \"4\""
   ]
  },
  {
   "cell_type": "code",
   "execution_count": null,
   "metadata": {},
   "outputs": [],
   "source": [
    "t = \"a\", \"b\", \"v\"\n",
    "\n",
    "print(t)\n"
   ]
  },
  {
   "cell_type": "code",
   "execution_count": null,
   "metadata": {},
   "outputs": [],
   "source": [
    "s = \"a\"\n",
    "t = \"a\",\n",
    "t2 = (\"a\")\n",
    "t3 = tuple()\n",
    "\n",
    "print(type(s)) \n",
    "print(type(t))\n",
    "print(type(t2))\n",
    "print(type(t3))"
   ]
  },
  {
   "cell_type": "code",
   "execution_count": null,
   "metadata": {},
   "outputs": [],
   "source": [
    "t = tuple(\"woordenschat\")\n",
    "\n",
    "print(t)"
   ]
  },
  {
   "cell_type": "code",
   "execution_count": null,
   "metadata": {},
   "outputs": [],
   "source": [
    "t = ('A',) + t\n",
    "print(t)\n",
    "t = ('B',) + t[:]\n",
    "print(t)\n",
    "t = ('C',) + t[3:]\n",
    "print(t)\n"
   ]
  },
  {
   "cell_type": "markdown",
   "metadata": {},
   "source": [
    "### Operators\n",
    "\n"
   ]
  },
  {
   "cell_type": "code",
   "execution_count": null,
   "metadata": {},
   "outputs": [],
   "source": [
    "res = (1,2,3) < (4,5,6)\n",
    "print(res)\n",
    "res = (6,2,3) < (4,5,6)\n",
    "print(res)\n",
    "res = (6,2,3) < (8,5,6)\n",
    "print(res)\n",
    "res = (1,2, 200_000) < (2,2,1)\n",
    "print(res)\n",
    "res = (2,2, 200_000) < (2,2,1)\n",
    "print(res)\n",
    "res = (2,2) < (2,2,1)\n",
    "print(res)\n",
    "res = (2,2) < (2,2)\n",
    "print(res)\n",
    "res = (2,2) < (1,2,1)\n",
    "print(res)"
   ]
  },
  {
   "cell_type": "code",
   "execution_count": null,
   "metadata": {},
   "outputs": [],
   "source": [
    "res = (\"a\", \"b\") < (\"c\", \"d\")\n",
    "print(res)\n",
    "res = (0,2) < (0,1)\n",
    "print(res)"
   ]
  },
  {
   "cell_type": "markdown",
   "metadata": {},
   "source": [
    "# waarden wisselen\n",
    "\n",
    "Je kan tuples gebruiken om de waarden van variabelen te wisselen."
   ]
  },
  {
   "cell_type": "code",
   "execution_count": null,
   "metadata": {},
   "outputs": [],
   "source": [
    "x = 5\n",
    "y = 7\n",
    "\n",
    "x = y\n",
    "y = x\n",
    "\n",
    "print(\"x = \", x)\n",
    "print(\"y = \", y)"
   ]
  },
  {
   "cell_type": "code",
   "execution_count": null,
   "metadata": {},
   "outputs": [],
   "source": [
    "x = 5\n",
    "y = 7\n",
    "\n",
    "temp = x\n",
    "x = y\n",
    "y = temp\n",
    "\n",
    "print(\"x = \", x)\n",
    "print(\"y = \", y)"
   ]
  },
  {
   "cell_type": "code",
   "execution_count": null,
   "metadata": {},
   "outputs": [],
   "source": [
    "x = 5\n",
    "y = 7\n",
    "\n",
    "# z = (x,y)\n",
    "# b = z[0] - 1\n",
    "print(id(x))\n",
    "x, y = (y, x)\n",
    "print(id(x))\n",
    "# z = x, y = y, x\n",
    "# print(type(z))\n",
    "\n",
    "print(\"x = \", x)\n",
    "print(\"y = \", y)\n",
    "# type(x)"
   ]
  },
  {
   "cell_type": "code",
   "execution_count": null,
   "metadata": {},
   "outputs": [],
   "source": [
    "z = (5, 7) \n",
    "z[2] = 8"
   ]
  },
  {
   "cell_type": "code",
   "execution_count": null,
   "metadata": {},
   "outputs": [],
   "source": [
    "a,b = 1,2,3"
   ]
  },
  {
   "cell_type": "code",
   "execution_count": null,
   "metadata": {},
   "outputs": [],
   "source": [
    "addr = 'jos@gmail.com'\n",
    "\n",
    "username, domain = addr.split('@')\n",
    "\n",
    "print(username, '\\n', domain)"
   ]
  },
  {
   "cell_type": "markdown",
   "metadata": {},
   "source": [
    "### tuples met meerdere waarden van functies\n",
    "\n",
    "Met tuples kan je ervoor zorgen dat functies meer als 1 waarde teruggeven."
   ]
  },
  {
   "cell_type": "code",
   "execution_count": null,
   "metadata": {},
   "outputs": [],
   "source": [
    "def quotient_en_rest (x, y):\n",
    "  q = x // y\n",
    "  r = x % y\n",
    "  return (q, r)\n",
    "\n",
    "print(quotient_en_rest(9, 5))"
   ]
  },
  {
   "cell_type": "code",
   "execution_count": null,
   "metadata": {},
   "outputs": [],
   "source": [
    "def min_max(t):\n",
    "  return min(t), max(t)\n",
    "\n",
    "t = (1,2,3,4,5,6,7,8)\n",
    "\n",
    "print(min_max(t))\n",
    "type(min_max(t))"
   ]
  },
  {
   "cell_type": "markdown",
   "metadata": {},
   "source": [
    "# Manipulating Tuples\n",
    "\n",
    "Iteratie  --> een voor een doorlopen van alle waarden in de tuple.\n",
    "\n",
    "in het voorbeeld hieronder bestaat de tuple uit tuples.           \n",
    "`((5,\"Jos\"), (6, \"Charles\"), (4, \"Mark\"), (9,\"Jos\"))`"
   ]
  },
  {
   "cell_type": "code",
   "execution_count": 9,
   "metadata": {},
   "outputs": [
    {
     "name": "stdout",
     "output_type": "stream",
     "text": [
      "<class 'tuple'>\n",
      "(4, 9, 3)\n",
      "<class 'tuple'>\n",
      "4\n",
      "<class 'tuple'>\n",
      "min =  4\n",
      "max =  9\n",
      "unieke woorden =  3\n"
     ]
    }
   ],
   "source": [
    "def get_data(a_tuple):\n",
    "  nums = ()\n",
    "  words = ()\n",
    "\n",
    "  for t in a_tuple:\n",
    "    nums = nums + (t[0], )\n",
    "    # print(nums)\n",
    "    if t[1] not in words:\n",
    "      words = words + (t[1], )\n",
    "    #   print(words)\n",
    "  print(type(nums))\n",
    "  min_n = min(nums)\n",
    "  max_n = max(nums)\n",
    "  unique_words = len(words)\n",
    "  return (min_n, max_n, unique_words)\n",
    "\n",
    "T = ((5,\"Jos\"), (6, \"Charles\"), (4, \"Mark\"), (9,\"Jos\"))\n",
    "\n",
    "print(get_data(T))\n",
    "print(get_data(T)[0])\n",
    "my_min, my_max, g_words = get_data(T)\n",
    "print(\"min = \", my_min)\n",
    "print(\"max = \", my_max)\n",
    "print(\"unieke woorden = \", g_words)"
   ]
  },
  {
   "cell_type": "markdown",
   "metadata": {},
   "source": [
    "## Variabel aantal argumenten \n",
    "\n",
    "Zoals de functie `printall()` kan je met `*` een variabel aantal argumenten toevoegen. Een parameter die begint met `*`verzamelt (of `gathers`) de argumenten in een tuple. Daaom wordt dit ook wel een **gather parameter** genoemd. \n",
    "\n",
    "Je kan elke naam geven aan deze argumenten. Maar het is wel de conventie om `*args` te gebruiken."
   ]
  },
  {
   "cell_type": "code",
   "execution_count": 19,
   "metadata": {},
   "outputs": [
    {
     "name": "stdout",
     "output_type": "stream",
     "text": [
      "<class 'tuple'>\n",
      "(1, 2, 'a', 'b')\n",
      "<class 'tuple'>\n",
      "('hello', 'wordl', 1, 3, [1, 2, 3, 45])\n",
      "hello wordl 1 3 [1, 2, 3, 45]\n"
     ]
    }
   ],
   "source": [
    "def printall(*args):\n",
    "    print(type(args))\n",
    "    print(args)\n",
    "    # for element in args:\n",
    "    #     print(element)\n",
    "\n",
    "printall(1,2,\"a\",\"b\")\n",
    "\n",
    "woord_1 = \"hello\"\n",
    "woord_2 = \"wordl\"\n",
    "cijfer_1 = 1\n",
    "cijfer_2 = 3\n",
    "list_1 = [1,2,3,45]\n",
    "printall(woord_1, woord_2, cijfer_1, cijfer_2, list_1)\n",
    "print(woord_1, woord_2, cijfer_1, cijfer_2, list_1)"
   ]
  },
  {
   "cell_type": "code",
   "execution_count": 15,
   "metadata": {},
   "outputs": [
    {
     "name": "stdout",
     "output_type": "stream",
     "text": [
      "<class 'tuple'>\n",
      "((1, 2, 'a', 'b'),)\n"
     ]
    }
   ],
   "source": [
    "t = (1,2,\"a\",\"b\")\n",
    "\n",
    "printall(t)"
   ]
  },
  {
   "cell_type": "code",
   "execution_count": 21,
   "metadata": {},
   "outputs": [
    {
     "name": "stdout",
     "output_type": "stream",
     "text": [
      "(1, 2, 'a', 'b')\n",
      "1 2 a b\n",
      "<class 'tuple'>\n",
      "(1, 2, 'a', 'b')\n"
     ]
    }
   ],
   "source": [
    "t = (1,2,\"a\",\"b\")\n",
    "\n",
    "print(t)\n",
    "print(*t)\n",
    "\n",
    "printall(*t)"
   ]
  },
  {
   "cell_type": "code",
   "execution_count": 27,
   "metadata": {},
   "outputs": [
    {
     "data": {
      "text/plain": [
       "184"
      ]
     },
     "execution_count": 27,
     "metadata": {},
     "output_type": "execute_result"
    }
   ],
   "source": [
    "T = (9,5,1,7,5,3,1,4,62,87)\n",
    "\n",
    "sum(T)"
   ]
  },
  {
   "cell_type": "code",
   "execution_count": 23,
   "metadata": {},
   "outputs": [
    {
     "ename": "TypeError",
     "evalue": "sum() takes at most 2 arguments (10 given)",
     "output_type": "error",
     "traceback": [
      "\u001b[1;31m---------------------------------------------------------------------------\u001b[0m",
      "\u001b[1;31mTypeError\u001b[0m                                 Traceback (most recent call last)",
      "Cell \u001b[1;32mIn [23], line 1\u001b[0m\n\u001b[1;32m----> 1\u001b[0m \u001b[39msum\u001b[39;49m(\u001b[39m*\u001b[39;49mT)\n",
      "\u001b[1;31mTypeError\u001b[0m: sum() takes at most 2 arguments (10 given)"
     ]
    }
   ],
   "source": [
    "sum(*T)"
   ]
  },
  {
   "cell_type": "markdown",
   "metadata": {},
   "source": [
    "# LISTS\n",
    "Lists zijn vergelijkbaar met Tuples, maar kunnen wel aangepast worden.\n",
    "\n",
    "je creeert lists door gebruik te maken van de vierkante haakjes [ ] .\n",
    "\n",
    "Een list die in een andere list voorkomt, noemt men een nested list . List kunnen, net als tuples verschillende elementen (of items) hebben. Ze hoeven dus niet hetzelfde type te zijn.\n",
    "\n",
    "Net zoals bij strings kan je specifiek elementen uit de list nemen door gebruik te maken van de [i] waarbij i=index is."
   ]
  },
  {
   "cell_type": "code",
   "execution_count": 34,
   "metadata": {},
   "outputs": [
    {
     "name": "stdout",
     "output_type": "stream",
     "text": [
      "4\n",
      "2\n",
      "5\n",
      "[1, 3]\n",
      "[1, 3]\n",
      "2\n",
      "a\n"
     ]
    }
   ],
   "source": [
    "L = []        # = empty list\n",
    "L = [2,'a', 4, [1,3]]\n",
    "\n",
    "print(len(L))\n",
    "print(L[0])\n",
    "print(L[2]+1)\n",
    "print(L[3])\n",
    "print(L[-1])\n",
    "print(L[-4])\n",
    "\n",
    "i = 2\n",
    "print(L[i-1])"
   ]
  },
  {
   "cell_type": "code",
   "execution_count": 36,
   "metadata": {},
   "outputs": [
    {
     "ename": "IndexError",
     "evalue": "list index out of range",
     "output_type": "error",
     "traceback": [
      "\u001b[1;31m---------------------------------------------------------------------------\u001b[0m",
      "\u001b[1;31mIndexError\u001b[0m                                Traceback (most recent call last)",
      "Cell \u001b[1;32mIn [36], line 4\u001b[0m\n\u001b[0;32m      1\u001b[0m L \u001b[39m=\u001b[39m [\u001b[39m2\u001b[39m,\u001b[39m'\u001b[39m\u001b[39ma\u001b[39m\u001b[39m'\u001b[39m, \u001b[39m4\u001b[39m, [\u001b[39m1\u001b[39m,\u001b[39m3\u001b[39m]]\n\u001b[0;32m      3\u001b[0m \u001b[39m# print(L[4])\u001b[39;00m\n\u001b[1;32m----> 4\u001b[0m \u001b[39mprint\u001b[39m(L[\u001b[39m-\u001b[39;49m\u001b[39m5\u001b[39;49m])\n",
      "\u001b[1;31mIndexError\u001b[0m: list index out of range"
     ]
    }
   ],
   "source": [
    "L = [2,'a', 4, [1,3]]\n",
    "\n",
    "# print(L[4])\n",
    "print(L[-5])"
   ]
  },
  {
   "cell_type": "markdown",
   "metadata": {},
   "source": [
    "Slices van de list"
   ]
  },
  {
   "cell_type": "code",
   "execution_count": 43,
   "metadata": {},
   "outputs": [
    {
     "name": "stdout",
     "output_type": "stream",
     "text": [
      "[0, 1, 2, 3, 4, 5, 6, 7, 8, 9]\n",
      "[1, 2, 3]\n",
      "[0, 1, 2, 3]\n",
      "[4, 5, 6, 7, 8, 9]\n",
      "[0, 1, 2, 'x', 'y', 5, 6, 7, 8, 9]\n"
     ]
    }
   ],
   "source": [
    "L = [0,1,2,3,4,5,6,7,8,9]\n",
    "\n",
    "print(L[:])\n",
    "print(L[1:4])\n",
    "\n",
    "print(L[:4])\n",
    "print(L[4:])\n",
    "\n",
    "L[3:5] = [\"x\", \"y\"]\n",
    "print(L)"
   ]
  },
  {
   "cell_type": "markdown",
   "metadata": {},
   "source": [
    "Lists zijn veranderbaar:\n",
    "\n",
    "In tegenstelling tot strings/tuples kan je een element wel een nieuwe waarde geven.\n"
   ]
  },
  {
   "cell_type": "code",
   "execution_count": 44,
   "metadata": {},
   "outputs": [
    {
     "name": "stdout",
     "output_type": "stream",
     "text": [
      "[1, 5, 3]\n"
     ]
    }
   ],
   "source": [
    "L = [1,2,3]\n",
    "\n",
    "L[1] = 5\n",
    "\n",
    "print(L)"
   ]
  },
  {
   "cell_type": "markdown",
   "metadata": {},
   "source": [
    "Iteratie van een lijst"
   ]
  },
  {
   "cell_type": "code",
   "execution_count": 45,
   "metadata": {},
   "outputs": [
    {
     "name": "stdout",
     "output_type": "stream",
     "text": [
      "21\n"
     ]
    }
   ],
   "source": [
    "L = [1,5,3,7,5]\n",
    "\n",
    "total = 0\n",
    "\n",
    "for i in range(len(L)):\n",
    "  total += L[i]\n",
    "print(total)"
   ]
  },
  {
   "cell_type": "code",
   "execution_count": 46,
   "metadata": {},
   "outputs": [
    {
     "data": {
      "text/plain": [
       "21"
      ]
     },
     "execution_count": 46,
     "metadata": {},
     "output_type": "execute_result"
    }
   ],
   "source": [
    "sum(L)"
   ]
  },
  {
   "cell_type": "markdown",
   "metadata": {},
   "source": [
    "je kan de `in` operator ook gebruiken om de elementen in de lijst te gebruiken.\n",
    "\n",
    "> More Pythonic"
   ]
  },
  {
   "cell_type": "code",
   "execution_count": 47,
   "metadata": {},
   "outputs": [
    {
     "name": "stdout",
     "output_type": "stream",
     "text": [
      "21\n"
     ]
    }
   ],
   "source": [
    "L = [1,5,3,7,5]\n",
    "\n",
    "total = 0\n",
    "\n",
    "for i in L:\n",
    "  total += i\n",
    "print(total)"
   ]
  },
  {
   "cell_type": "code",
   "execution_count": 55,
   "metadata": {},
   "outputs": [
    {
     "name": "stdout",
     "output_type": "stream",
     "text": [
      "Cheddar\n",
      "Gouda\n",
      "Brie_Z\n",
      "Emmentaal\n",
      "CaBrie\n",
      "\n",
      "\n",
      "False\n",
      "False\n",
      "Yeeeuuj Brie_Z\n",
      "Yeeeuuj CaBrie\n"
     ]
    }
   ],
   "source": [
    "kazen = [\"Cheddar\", \"Gouda\", \"Brie_Z\", \"Emmentaal\", \"CaBrie\"]\n",
    "\n",
    "for kaas in kazen:\n",
    "  print(kaas)\n",
    "\n",
    "print(\"\\n\")\n",
    "\n",
    "print(\"Brie\" in kazen)\n",
    "print(\"Maredsous\" in kazen)\n",
    "\n",
    "for kaas in kazen:\n",
    "    if \"brie\" in kaas.lower():\n",
    "        print(\"Yeeeuuj\", kaas)"
   ]
  },
  {
   "cell_type": "markdown",
   "metadata": {},
   "source": [
    "Elementen toevoegen aan een List"
   ]
  },
  {
   "cell_type": "code",
   "execution_count": 58,
   "metadata": {},
   "outputs": [
    {
     "name": "stdout",
     "output_type": "stream",
     "text": [
      "[1, 5, 3, 7, 5, 9]\n",
      "[1, 5, 3, 7, 5, 9, [1, 2]]\n",
      "['a', 1, 5, 3, 7, 5, 9, [1, 2]]\n"
     ]
    }
   ],
   "source": [
    "L = [1,5,3,7,5]\n",
    "\n",
    "L.append(9)\n",
    "print(L)\n",
    "\n",
    "L.append([1,2])\n",
    "print(L)\n",
    "\n",
    "L.insert(0,\"a\")\n",
    "print(L)"
   ]
  },
  {
   "cell_type": "code",
   "execution_count": 69,
   "metadata": {},
   "outputs": [
    {
     "name": "stdout",
     "output_type": "stream",
     "text": [
      "[1, 2, 3, 4, 5, 6]\n",
      "[1, 2, 3, 4, 5, 6, 1, 2, 3]\n",
      "[1, 3, 4, 5, 6, 1, 2, 3]\n",
      "[1, 4, 5, 6, 1, 2, 3]\n",
      "[1, 4, 5, 6, 1, 2]\n",
      "[1, 5, 6, 1, 2]\n",
      "[1, 5, 6, 1, 2, 1, 5, 6, 1, 2, 1, 5, 6, 1, 2, 1, 5, 6, 1, 2]\n"
     ]
    }
   ],
   "source": [
    "L = [1,2,3]\n",
    "S = [4,5,6]\n",
    "\n",
    "X = L+S\n",
    "print(X)\n",
    "\n",
    "X.extend(L)\n",
    "# X = X + L\n",
    "print(X)\n",
    "\n",
    "X.remove(2)\n",
    "print(X)\n",
    "\n",
    "del(X[1])\n",
    "print(X)\n",
    "\n",
    "X.pop() \n",
    "print(X)\n",
    "\n",
    "X.pop(1)\n",
    "print(X)\n",
    "\n",
    "X = X * 4 \n",
    "print(X)"
   ]
  },
  {
   "cell_type": "markdown",
   "metadata": {},
   "source": [
    "Elementen aanpassen\n",
    "\n",
    "Stel je hebt punten op 10 en je moet ze verandern naar punten op 20."
   ]
  },
  {
   "cell_type": "code",
   "execution_count": 70,
   "metadata": {},
   "outputs": [
    {
     "name": "stdout",
     "output_type": "stream",
     "text": [
      "[10, 18, 14, 12, 6, 14, 8, 16, 18, 20]\n"
     ]
    }
   ],
   "source": [
    "cijfers = [5,9,7,6,3,7,4,8,9,10]\n",
    "\n",
    "for i in range(len(cijfers)):\n",
    "  cijfers[i] = cijfers[i]*2\n",
    "#   print(cijfers[i])\n",
    "print(cijfers)"
   ]
  }
 ],
 "metadata": {
  "kernelspec": {
   "display_name": "Python 3.10.7 ('venv': venv)",
   "language": "python",
   "name": "python3"
  },
  "language_info": {
   "codemirror_mode": {
    "name": "ipython",
    "version": 3
   },
   "file_extension": ".py",
   "mimetype": "text/x-python",
   "name": "python",
   "nbconvert_exporter": "python",
   "pygments_lexer": "ipython3",
   "version": "3.10.7"
  },
  "orig_nbformat": 4,
  "vscode": {
   "interpreter": {
    "hash": "2e4fda5e8d7dbdcdafd317d183e2776a0a1e50c4a43f5f633675534977b84ce2"
   }
  }
 },
 "nbformat": 4,
 "nbformat_minor": 2
}
