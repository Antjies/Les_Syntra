{
 "cells": [
  {
   "cell_type": "markdown",
   "metadata": {},
   "source": [
    "# Dictionary\n",
    "\n",
    "Dictionaries zijn een van de beste features van Python. Ze vormen de bouwstenen van vele efficiënte en elegante algoritmes. Een dictonary is zoals een list, maar algemener.\n",
    "\n",
    "bv. De leraar wil de punten van de leerlingen bijhouden.\n",
    "\n",
    "Je zou alle informatie in aparte lists kunnen bijhouden:\n",
    "\n",
    "`namen = [\"Ann\", \"Jan\", \"Jos\", \"Erik\", \"Mark\"] `           \n",
    "`punten = [7,6,8,9,4] `         \n",
    "`vak = [\"WO\", \"Wis\", \"Fr\", \"Fys\", \"Bio\"] `\n",
    "\n",
    "Dit kan enkel werken wanneer je de juiste info op de juiste plaats zet. Dus wanneer de index gelijk is. \n",
    "\n",
    "`namen[0]` hoort bij `punten[0]` en `vak[0]`\n",
    "\n",
    "Dit vergt natuurlijk wel wat werk om de juiste info eruit te krijgen. Dit maakt het wel moeilijk om alle info goed bij te houden. Je moet verschillende lijsten onderhouden. Je moet altijd met integers indexen. "
   ]
  },
  {
   "cell_type": "code",
   "execution_count": 1,
   "metadata": {},
   "outputs": [
    {
     "name": "stdout",
     "output_type": "stream",
     "text": [
      "Jos  : (8, 'Fr')\n"
     ]
    }
   ],
   "source": [
    "def get_grade(student, namen_list, punten_list, vak_list):\n",
    "  i = namen_list.index(student)\n",
    "  punt = punten_list[i]\n",
    "  vak = vak_list[i]\n",
    "  return (punt, vak)\n",
    "\n",
    "namen = [\"Ann\", \"Jan\", \"Jos\", \"Erik\", \"Mark\"]\n",
    "punten = [7,6,8,9,4]\n",
    "vak = [\"WO\", \"Wis\", \"Fr\", \"Fys\", \"Bio\"]\n",
    "\n",
    "student =\"Jos\"\n",
    "\n",
    "print(student, \" :\", get_grade(student, namen, punten, vak))"
   ]
  },
  {
   "cell_type": "markdown",
   "metadata": {},
   "source": [
    "Daarom zijn er dus dictionaries.\n",
    "\n",
    "Een dictionary gaat een name/label koppelen met een waarde. Je gaat paren van data bewaren. \n",
    "\n",
    "key + waarde --> Dit noemen we mapping."
   ]
  },
  {
   "cell_type": "code",
   "execution_count": 2,
   "metadata": {},
   "outputs": [
    {
     "name": "stdout",
     "output_type": "stream",
     "text": [
      "8 Fr\n"
     ]
    }
   ],
   "source": [
    "my_dict = {}\n",
    "\n",
    "punten = {\"Ann\":7, \"Jan\":6, \"Jos\":8, \"Erik\":9, \"Mark\":4}\n",
    "vak = {\"Ann\":\"WO\", \"Jan\":\"Wis\", \"Jos\":\"Fr\", \"Erik\":\"Fys\", \"Mark\":\"Bio\"}\n",
    "\n",
    "\n",
    "student = \"Jos\"\n",
    "print(punten[student], vak[student])"
   ]
  },
  {
   "cell_type": "markdown",
   "metadata": {},
   "source": [
    "Nog 2 andere manieren om een dictionary aan te maken:"
   ]
  },
  {
   "cell_type": "code",
   "execution_count": 4,
   "metadata": {},
   "outputs": [
    {
     "name": "stdout",
     "output_type": "stream",
     "text": [
      "(7, 'WO')\n"
     ]
    }
   ],
   "source": [
    "my_dict = {}\n",
    "\n",
    "punten = {\"Ann\":(7, \"WO\"), \"Jan\":6, \"Jos\":8, \"Erik\":9, \"Mark\":4}\n",
    "vak = {\"Ann\":\"WO\", 1:\"Wis\", \"Jos\":\"Fr\", \"Erik\":\"Fys\", \"Mark\":\"Bio\"}\n",
    "\n",
    "\n",
    "student = \"Ann\"\n",
    "print(punten[student])"
   ]
  },
  {
   "cell_type": "code",
   "execution_count": 5,
   "metadata": {},
   "outputs": [
    {
     "name": "stdout",
     "output_type": "stream",
     "text": [
      "{}\n"
     ]
    }
   ],
   "source": [
    "my_dict = dict()\n",
    "\n",
    "print(my_dict)"
   ]
  },
  {
   "cell_type": "code",
   "execution_count": 6,
   "metadata": {},
   "outputs": [
    {
     "name": "stdout",
     "output_type": "stream",
     "text": [
      "{'a': 1, 'b': 3.4, 'c': [5, 6], 'd': True}\n",
      "5\n"
     ]
    }
   ],
   "source": [
    "D_2 = dict(a=1,b=3.4,c=[5, 6],d=True)         # dit werkt enkel met een string = integer, float of Boolean //  1=1 of a = a werkt niet\n",
    "print(D_2)\n",
    "print(D_2['c'][0])"
   ]
  },
  {
   "cell_type": "markdown",
   "metadata": {},
   "source": [
    "Je kan ook een list als key gebruiken. Dit kan interessant zijn als je bijvoorbeeld wil bijhouden wat waarde is van een functie met 2 getallen. "
   ]
  },
  {
   "cell_type": "code",
   "execution_count": 7,
   "metadata": {},
   "outputs": [
    {
     "name": "stdout",
     "output_type": "stream",
     "text": [
      "{(2, 2): 4, (1, 1): 2}\n",
      "2\n"
     ]
    }
   ],
   "source": [
    "Di = {}\n",
    "\n",
    "Di[2,2] = 4\n",
    "Di[1,1] = 2\n",
    "\n",
    "\n",
    "print(Di)\n",
    "\n",
    "print(Di[1,1])"
   ]
  },
  {
   "cell_type": "markdown",
   "metadata": {},
   "source": [
    "Gemakkelijk om te bewerken.\n",
    "\n",
    "In tegenstelling tot lists hebben dictionaries geen ordening.\n",
    "\n"
   ]
  },
  {
   "cell_type": "code",
   "execution_count": 8,
   "metadata": {},
   "outputs": [
    {
     "name": "stdout",
     "output_type": "stream",
     "text": [
      "True\n",
      "{'Ann': 7, 'Jos': 8, 'Erik': 9, 'Mark': 4, 'Jef': 5}\n",
      "dict_keys(['Ann', 'Jos', 'Erik', 'Mark', 'Jef'])\n",
      "dict_values([7, 8, 9, 4, 5])\n",
      "dict_items([('Ann', 7), ('Jos', 8), ('Erik', 9), ('Mark', 4), ('Jef', 5)])\n",
      "Ann 7\n",
      "Jos 8\n",
      "Erik 9\n",
      "Mark 4\n",
      "Jef 5\n",
      "True\n"
     ]
    }
   ],
   "source": [
    "my_dict = {}\n",
    "\n",
    "punten = {\"Ann\":7, \"Jan\":6, \"Jos\":8, \"Erik\":9, \"Mark\":4}\n",
    "vak = {\"Ann\":\"WO\", \"Jan\":\"Wis\", \"Jos\":\"Fr\", \"Erik\":\"Fys\", \"Mark\":\"Bio\"}\n",
    "\n",
    "\n",
    "punten[\"Jef\"] = 5\n",
    "print(\"Jef\" in punten)\n",
    "\n",
    "del(punten[\"Jan\"])\n",
    "print(punten)\n",
    "\n",
    "print(punten.keys())\n",
    "print(punten.values())\n",
    "print(punten.items())\n",
    "\n",
    "for key, value in punten.items():\n",
    "    print(key, value)\n",
    "\n",
    "A = punten.keys()\n",
    "print(\"Jef\" in A)"
   ]
  },
  {
   "cell_type": "markdown",
   "metadata": {},
   "source": [
    "Hieronder een voorbeeld van een vertaling van woorden. Nederlands naar Engels.\n",
    "\n",
    "In de onderste regel zie je dat de orde niet persé dezelfde is als degene die je hebt gegeven bij de aanmaak. \n"
   ]
  },
  {
   "cell_type": "code",
   "execution_count": 9,
   "metadata": {},
   "outputs": [
    {
     "name": "stdout",
     "output_type": "stream",
     "text": [
      "{}\n",
      "{'één': 'one'}\n",
      "{'één': '1'}\n",
      "{'één': ('one', 'eins')}\n",
      "{'één': ('one', 'eins', 'uno')}\n"
     ]
    },
    {
     "data": {
      "text/plain": [
       "{'één': 'one', 'twee': 'two', 'drie': 'three', 'vier': 'four'}"
      ]
     },
     "execution_count": 9,
     "metadata": {},
     "output_type": "execute_result"
    }
   ],
   "source": [
    "ned2eng = {}\n",
    "\n",
    "print(ned2eng)\n",
    "\n",
    "ned2eng['één'] = 'one'\n",
    "print(ned2eng)\n",
    "ned2eng['één'] = '1'\n",
    "print(ned2eng)\n",
    "ned2eng['één'] = ('one', 'eins')\n",
    "print(ned2eng)\n",
    "ned2eng['één'] = ned2eng['één'] + (\"uno\", )\n",
    "print(ned2eng)\n",
    "ned2eng = {'één':'one', \"twee\":\"two\", \"drie\":\"three\", \"vier\":\"four\"}\n",
    "ned2eng"
   ]
  },
  {
   "cell_type": "markdown",
   "metadata": {},
   "source": [
    "De volgorde van een dictionary is onvoorspelbaar. (random)\n",
    "Dit kan echter geen kwaad, omdat je geen integers als index gebruikt, maar wel de keys.\n"
   ]
  },
  {
   "cell_type": "code",
   "execution_count": 10,
   "metadata": {},
   "outputs": [
    {
     "name": "stdout",
     "output_type": "stream",
     "text": [
      "two\n",
      "4\n",
      "False\n",
      "True\n",
      "False\n",
      "True\n"
     ]
    }
   ],
   "source": [
    "print(ned2eng['twee'])\n",
    "\n",
    "print(len(ned2eng))\n",
    "\n",
    "print('vijf' in ned2eng)\n",
    "print('vier' in ned2eng)\n",
    "\n",
    "print('one' in ned2eng) \n",
    "vals = ned2eng.values()  \n",
    "print('one' in vals)"
   ]
  },
  {
   "cell_type": "code",
   "execution_count": 11,
   "metadata": {},
   "outputs": [
    {
     "ename": "KeyError",
     "evalue": "'vijf'",
     "output_type": "error",
     "traceback": [
      "\u001b[1;31m---------------------------------------------------------------------------\u001b[0m",
      "\u001b[1;31mKeyError\u001b[0m                                  Traceback (most recent call last)",
      "Cell \u001b[1;32mIn [11], line 1\u001b[0m\n\u001b[1;32m----> 1\u001b[0m ned2eng[\u001b[39m'\u001b[39;49m\u001b[39mvijf\u001b[39;49m\u001b[39m'\u001b[39;49m]\n",
      "\u001b[1;31mKeyError\u001b[0m: 'vijf'"
     ]
    }
   ],
   "source": [
    "ned2eng['vijf']"
   ]
  },
  {
   "cell_type": "markdown",
   "metadata": {},
   "source": [
    "Om te zoeken in dictionaries gebruikt Python een algoritme #hashtable. Dit algoritme zoekt ongeveer even snel, wat de grootte van de dictionary ook is."
   ]
  },
  {
   "cell_type": "markdown",
   "metadata": {},
   "source": [
    "## Creating a Dictionary\n",
    "\n"
   ]
  },
  {
   "cell_type": "code",
   "execution_count": null,
   "metadata": {},
   "outputs": [
    {
     "name": "stdout",
     "output_type": "stream",
     "text": [
      "{'Hoe': 1, 'sterk': 1, 'is': 1, 'de': 5, 'eenzame': 2, 'fietser': 3, 'Die': 2, 'kromgebogen': 2, 'over': 2, 'zijn': 2, 'stuur': 2, 'tegen': 2, 'wind': 1, 'Zichzelf': 1, 'een': 1, 'weg': 1, 'baant': 1}\n"
     ]
    }
   ],
   "source": [
    "def lyrics_to_frequencies(lyrics):\n",
    "  my_dict = {}\n",
    "  for word in lyrics:\n",
    "    if word in my_dict:\n",
    "      my_dict[word] += 1\n",
    "    else:\n",
    "      my_dict[word] = 1\n",
    "  return my_dict\n",
    "\n",
    "lied_tekst = ['Hoe' ,'sterk', 'is' ,'de', 'eenzame' ,'fietser' ,'Die', 'kromgebogen', \"over\" ,\n",
    "              \"zijn\", \"stuur\", \"tegen\", 'de', 'wind' , 'Zichzelf', 'een', 'weg', 'baant', \"de\", \n",
    "              'de', 'eenzame' ,'fietser' ,'Die', 'kromgebogen', \"over\" , \"zijn\", \"stuur\", \"tegen\", 'de', \n",
    "              \"fietser\"]\n",
    "\n",
    "freqs = lyrics_to_frequencies(lied_tekst)\n",
    "print(freqs)"
   ]
  },
  {
   "cell_type": "code",
   "execution_count": null,
   "metadata": {},
   "outputs": [
    {
     "name": "stdout",
     "output_type": "stream",
     "text": [
      "{'h': 1, 'o': 4, 't': 11, 'e': 8, 'n': 9, 's': 2, 'l': 2, 'i': 1, 'g': 2, 'a': 1}\n",
      "4\n",
      "N/A\n",
      "1\n"
     ]
    }
   ],
   "source": [
    "def histogram(s):\n",
    "  d = dict()\n",
    "  for c in s:\n",
    "    if c not in d:\n",
    "      d[c] = 1\n",
    "    elif c in d:\n",
    "      d[c] += 1\n",
    "  return d\n",
    "\n",
    "word = \"hottentottententententoonstellingsagenten\"\n",
    "\n",
    "h = histogram(word)\n",
    "\n",
    "print(h)\n",
    "print(h.get('o', 0)) \n",
    "print(h.get('x', 0)) \n",
    "print(h.get('x',1))  "
   ]
  },
  {
   "cell_type": "code",
   "execution_count": null,
   "metadata": {},
   "outputs": [
    {
     "name": "stdout",
     "output_type": "stream",
     "text": [
      "{'h': 1, 'o': 4, 't': 11, 'e': 8, 'n': 9, 's': 2, 'l': 2, 'i': 1, 'g': 2, 'a': 1}\n"
     ]
    }
   ],
   "source": [
    "def histogram_2(s):\n",
    "  d = dict()\n",
    "  for c in s:\n",
    "    x = d.get(c, 0)\n",
    "    d[c] = x + 1\n",
    "  return d\n",
    "\n",
    "word = \"hottentottententententoonstellingsagenten\"\n",
    "\n",
    "h2 = histogram_2(word)\n",
    "print(h2)"
   ]
  },
  {
   "cell_type": "markdown",
   "metadata": {},
   "source": [
    "# Looping in dictionaries\n",
    "\n",
    "Ook hier weer zie je de random volgorde. \n",
    "\n",
    "Je kan `sorted()` gebruiken om de dictionary te ordenen"
   ]
  },
  {
   "cell_type": "code",
   "execution_count": null,
   "metadata": {},
   "outputs": [
    {
     "name": "stdout",
     "output_type": "stream",
     "text": [
      "h 1\n",
      "o 4\n",
      "t 11\n",
      "e 8\n",
      "n 9\n",
      "s 2\n",
      "l 2\n",
      "i 1\n",
      "g 2\n",
      "a 1\n",
      "-----------------------------------------------\n",
      "a 1\n",
      "e 8\n",
      "g 2\n",
      "h 1\n",
      "i 1\n",
      "l 2\n",
      "n 9\n",
      "o 4\n",
      "s 2\n",
      "t 11\n"
     ]
    }
   ],
   "source": [
    "for c in h2:            #from above\n",
    "  print(c, h2[c])\n",
    "\n",
    "print(\"-----------------------------------------------\")\n",
    "\n",
    "for c in sorted(h2):\n",
    "  print(c, h2[c])\n"
   ]
  },
  {
   "cell_type": "markdown",
   "metadata": {},
   "source": [
    "## Dictionary Eigenschappen"
   ]
  },
  {
   "cell_type": "code",
   "execution_count": null,
   "metadata": {},
   "outputs": [
    {
     "name": "stdout",
     "output_type": "stream",
     "text": [
      "(['de'], 5)\n"
     ]
    }
   ],
   "source": [
    "def most_common_words(freqs):\n",
    "  # print(freqs)\n",
    "  values = freqs.values()\n",
    "  # print(values)\n",
    "  best = max(values)\n",
    "  # print(\"best:\", best)\n",
    "  words = []\n",
    "\n",
    "  for k in freqs:\n",
    "    if freqs[k] == best:\n",
    "      words.append(k)\n",
    "    \n",
    "  return (words, best)\n",
    "\n",
    "# {'Hoe': 1, 'sterk': 1, 'is': 1, 'de': 5, 'eenzame': 2, 'fietser': 3, 'Die': 2, 'kromgebogen': 2, 'over': 2, 'zijn': 2, 'stuur': 2, 'tegen': 2, 'wind': 1, 'Zichzelf': 1, 'een': 1, 'weg': 1, 'baant': 1}\n",
    "freqs = lyrics_to_frequencies(lied_tekst)\n",
    "print(most_common_words(freqs))"
   ]
  },
  {
   "cell_type": "code",
   "execution_count": null,
   "metadata": {},
   "outputs": [
    {
     "name": "stdout",
     "output_type": "stream",
     "text": [
      "[(['de'], 5), (['fietser'], 3), (['eenzame', 'Die', 'kromgebogen', 'over', 'zijn', 'stuur', 'tegen'], 2)]\n"
     ]
    }
   ],
   "source": [
    "\n",
    "def words_often(freqs, min_times):\n",
    "  result=[]\n",
    "  done = False\n",
    "\n",
    "  while not done:\n",
    "    temp = most_common_words(freqs)\n",
    "    # print('temp :', temp)\n",
    "    if temp[1] >= min_times:\n",
    "      result.append(temp)\n",
    "      # print('result : ', result)\n",
    "      for w in temp[0]:\n",
    "        del(freqs[w])\n",
    "        # print(\"freqs :\", freqs)\n",
    "    else:\n",
    "      done = True\n",
    "  return result\n",
    "\n",
    "freqs = lyrics_to_frequencies(lied_tekst)\n",
    "print(words_often(freqs, 2))"
   ]
  },
  {
   "cell_type": "markdown",
   "metadata": {},
   "source": [
    "# Reverse Lookup\n",
    "\n",
    "Je kan eenvoudig de waarde vinden, van een key. Maar kan je ook eenvoudig de key vinden als je de waarde kent?\n",
    "\n",
    "Een eerste probleem is dat er meerder keys kunnen zijn met dezelfde waarde. Het tweede probleem is dat er geen eenvoudige syntax bestaat voor een reverse lookup. Je moet zoeken.\n",
    "\n",
    "Een reverse lookup is veel trager dan een forward lookup. Wanneer je een uitgebreide dictionary hebt, dan zal je programma veel trager worden."
   ]
  },
  {
   "cell_type": "code",
   "execution_count": null,
   "metadata": {},
   "outputs": [
    {
     "name": "stdout",
     "output_type": "stream",
     "text": [
      "s\n"
     ]
    },
    {
     "ename": "LookupError",
     "evalue": "value does not seem to be in the dictionary",
     "output_type": "error",
     "traceback": [
      "\u001b[1;31m---------------------------------------------------------------------------\u001b[0m",
      "\u001b[1;31mLookupError\u001b[0m                               Traceback (most recent call last)",
      "Cell \u001b[1;32mIn [60], line 11\u001b[0m\n\u001b[0;32m      8\u001b[0m   \u001b[39mraise\u001b[39;00m \u001b[39mLookupError\u001b[39;00m(\u001b[39m'\u001b[39m\u001b[39mvalue does not seem to be in the dictionary\u001b[39m\u001b[39m'\u001b[39m)  \n\u001b[0;32m     10\u001b[0m \u001b[39mprint\u001b[39m(reverse_lookup(d, \u001b[39m2\u001b[39m))\n\u001b[1;32m---> 11\u001b[0m \u001b[39mprint\u001b[39m(reverse_lookup(d, \u001b[39m20\u001b[39;49m))\n",
      "Cell \u001b[1;32mIn [60], line 8\u001b[0m, in \u001b[0;36mreverse_lookup\u001b[1;34m(d, v)\u001b[0m\n\u001b[0;32m      6\u001b[0m       \u001b[39mreturn\u001b[39;00m k\n\u001b[0;32m      7\u001b[0m \u001b[39m#   raise LookupError()                 # raise statement causes an exception --> in this case it causes a LookupError\u001b[39;00m\n\u001b[1;32m----> 8\u001b[0m   \u001b[39mraise\u001b[39;00m \u001b[39mLookupError\u001b[39;00m(\u001b[39m'\u001b[39m\u001b[39mvalue does not seem to be in the dictionary\u001b[39m\u001b[39m'\u001b[39m)\n",
      "\u001b[1;31mLookupError\u001b[0m: value does not seem to be in the dictionary"
     ]
    }
   ],
   "source": [
    "d = {'h': 1, 'o': 4, 't': 11, 'e': 8, 'n': 9, 's': 2, 'l': 2, 'i': 1, 'g': 2, 'a': 1}\n",
    "\n",
    "def reverse_lookup(d, v):\n",
    "  for k in d:\n",
    "    if d[k] == v:\n",
    "      return k\n",
    "#   raise LookupError()                 # raise statement causes an exception --> in this case it causes a LookupError\n",
    "  raise LookupError('value does not seem to be in the dictionary')  \n",
    "\n",
    "print(reverse_lookup(d, 2))\n",
    "print(reverse_lookup(d, 20))"
   ]
  },
  {
   "cell_type": "markdown",
   "metadata": {},
   "source": [
    "### Subtract dictionaries\n",
    "\n",
    "2 dictionaries van elkaar aftrekken geeft een nieuwe dictionary met de keys die in de eerste dictionary voorkwamen, maar niet in de tweede."
   ]
  },
  {
   "cell_type": "code",
   "execution_count": null,
   "metadata": {},
   "outputs": [
    {
     "data": {
      "text/plain": [
       "{'c': None}"
      ]
     },
     "execution_count": 61,
     "metadata": {},
     "output_type": "execute_result"
    }
   ],
   "source": [
    "def subtract(d1, d2):\n",
    "  res = dict()\n",
    "  for key in d1:\n",
    "    if key not in d2:\n",
    "      res[key] = None\n",
    "  return res\n",
    "\n",
    "d1 = {'a': 1, 'b': 2, 'c': 3}\n",
    "d2 = {'a': 1, 'b': 2, 'd': 3}\n",
    "\n",
    "subtract(d1,d2)"
   ]
  },
  {
   "cell_type": "markdown",
   "metadata": {},
   "source": [
    "# Dictionaries & Lists\n",
    "\n",
    "Lists kunnen als een waarde in een dictionary voorkomen. Dit kan interessant zijn om een dictionary om te vormen naar een andere dictionary waarbij de keys de waarden worden en de waarden de keys.\n",
    "\n",
    "Lists kunnen niet als een key voorkomen in een dictionary.\n",
    "\n"
   ]
  },
  {
   "cell_type": "code",
   "execution_count": null,
   "metadata": {},
   "outputs": [
    {
     "ename": "NameError",
     "evalue": "name 'histogram_2' is not defined",
     "output_type": "error",
     "traceback": [
      "\u001b[1;31m---------------------------------------------------------------------------\u001b[0m",
      "\u001b[1;31mNameError\u001b[0m                                 Traceback (most recent call last)",
      "Cell \u001b[1;32mIn [2], line 16\u001b[0m\n\u001b[0;32m     12\u001b[0m   \u001b[39mreturn\u001b[39;00m inverse\n\u001b[0;32m     14\u001b[0m word \u001b[39m=\u001b[39m \u001b[39m\"\u001b[39m\u001b[39mhottentottententententoonstellingsagenten\u001b[39m\u001b[39m\"\u001b[39m\n\u001b[1;32m---> 16\u001b[0m h2 \u001b[39m=\u001b[39m histogram_2(word)\n\u001b[0;32m     17\u001b[0m \u001b[39mprint\u001b[39m(h2)\n\u001b[0;32m     18\u001b[0m inverse \u001b[39m=\u001b[39m invert_dict(h2)\n",
      "\u001b[1;31mNameError\u001b[0m: name 'histogram_2' is not defined"
     ]
    }
   ],
   "source": [
    "def invert_dict(d):\n",
    "  inverse = dict()\n",
    "  for key in d:\n",
    "    val = d[key]\n",
    "    # print(key, val)\n",
    "    if val not in inverse:\n",
    "      inverse[val] = [key]\n",
    "      \n",
    "    else:\n",
    "      inverse[val].append(key)\n",
    "    # print(inverse)\n",
    "  return inverse\n",
    "\n",
    "word = \"hottentottententententoonstellingsagenten\"\n",
    "\n",
    "h2 = histogram_2(word)\n",
    "print(h2)\n",
    "inverse = invert_dict(h2)\n",
    "print(inverse)"
   ]
  },
  {
   "cell_type": "code",
   "execution_count": null,
   "metadata": {},
   "outputs": [],
   "source": [
    "original_marks = {'Physics':67, 'Maths':87}\n",
    "\n",
    "copied_marks = original_marks.copy()"
   ]
  },
  {
   "cell_type": "markdown",
   "metadata": {},
   "source": [
    "Moest hij binnen de functie worden gemaakt, dan zou het een lokale variabele zijn.\n",
    "\n",
    "Globale variabelen worden soms als **flag** gebruikt. Flags zijn boolean variabelen."
   ]
  },
  {
   "cell_type": "code",
   "execution_count": null,
   "metadata": {},
   "outputs": [
    {
     "name": "stdout",
     "output_type": "stream",
     "text": [
      "Voorbeeld 1 werkt\n",
      "False\n",
      "True\n"
     ]
    }
   ],
   "source": [
    "verbose = True\n",
    "\n",
    "def voorbeeld_1():\n",
    "  if verbose:\n",
    "    print(\"Voorbeeld 1 werkt\")\n",
    "voorbeeld_1()\n",
    "\n",
    "spreek_aan = False\n",
    "\n",
    "def voorbeeld_2():\n",
    "  spreek_aan = True\n",
    "\n",
    "voorbeeld_2()\n",
    "print(spreek_aan)   \n",
    "\n",
    "def voorbeeld_3():\n",
    "  global spreek_aan  \n",
    "  spreek_aan = True\n",
    "voorbeeld_3()\n",
    "print(spreek_aan)\n"
   ]
  },
  {
   "cell_type": "markdown",
   "metadata": {},
   "source": [
    "Het kan zeer handig zijn om globale variabelen te gebruiken, maar het kan snel onduidelijk worden wanneer er teveel zijn, en je deze globale variabelen op verschillende plaatsen gaat veranderen. Op deze manier wordt debuggen veel moeilijker.\n",
    "\n"
   ]
  },
  {
   "cell_type": "markdown",
   "metadata": {},
   "source": [
    "# Dictionaries & Tuples\n",
    "\n",
    "Dictionaries hebben een methode `items` die een rij van tuples teruggeeft. Elke tuple is een key-value paar."
   ]
  },
  {
   "cell_type": "code",
   "execution_count": null,
   "metadata": {},
   "outputs": [],
   "source": [
    "d = dict(a=1,b=2,c=3)\n",
    "print(d)\n",
    "\n",
    "t = d.items()\n",
    "print(t)\n",
    "\n",
    "for key, value in t:\n",
    "  print(key, value)\n",
    "\n"
   ]
  },
  {
   "cell_type": "markdown",
   "metadata": {},
   "source": [
    "Je kan ook de omgekeerde beweging maken van tuple naar dictionary"
   ]
  },
  {
   "cell_type": "code",
   "execution_count": null,
   "metadata": {},
   "outputs": [],
   "source": [
    "t= [('a',1), (\"b\",2), (\"c\",3)]\n",
    "\n",
    "d = dict(t)\n",
    "\n",
    "print(t)\n",
    "print(d)"
   ]
  },
  {
   "cell_type": "markdown",
   "metadata": {},
   "source": [
    "De combinatie van `dict` en `zip` is een snelle manier om \n",
    "\n",
    "1.   List item\n",
    "2.   List item\n",
    "\n",
    "dictionaries te maken."
   ]
  },
  {
   "cell_type": "code",
   "execution_count": null,
   "metadata": {},
   "outputs": [],
   "source": [
    "d = dict(zip('abc', range(3)))\n",
    "print(d)"
   ]
  },
  {
   "cell_type": "markdown",
   "metadata": {},
   "source": [
    "Het komt veel voor dat tuples als key in dictionary wordt gebruikt. We zouden bijvoorbeeld een adresboek (dictionary) met namen en telefoonnummers willen maken. Maar de naam bestaat uit een voornaam en een achternaam."
   ]
  },
  {
   "cell_type": "code",
   "execution_count": null,
   "metadata": {},
   "outputs": [],
   "source": [
    "achternaam = \"Mega\"\n",
    "voornaam = \"Mindy\"\n",
    "nummer= \"090756104\"\n",
    "adresboek = {}\n",
    "\n",
    "\n",
    "adresboek[achternaam, voornaam] = nummer\n",
    "\n",
    "for a_naam, v_naam in adresboek:\n",
    "  print(v_naam, a_naam, adresboek[a_naam, v_naam])"
   ]
  },
  {
   "cell_type": "markdown",
   "metadata": {},
   "source": [
    "# Algemene regel\n",
    "## sequences van sequences\n",
    "\n",
    "In de de voorbeelden hiervoor ging het vooral of lists van tuples. Maar je kan evengoed lists met lists , tuples met tuples of tuples met lists maken.  Daarom is het eenvoudiger om de spreken van sequences met sequences (rijen met rijen). (sequences ==> strins, lists, tuples)\n",
    "\n",
    "**Enkele verschillen:**   \n",
    "Strings zijn meer gelimiteerd dan de andere. Ze kunnen immers enkel uit \"karakters\"  bestaan. Indien je karakters in de string wil aanpassen is het mogelijks zinvoller om met lists te werken.\n",
    "\n",
    "En lists worden meer gebruikt dan tuples. Voornamelijk omdat ze kunnen aangepast worden. (en tuples dus niet) \n",
    "\n",
    "Enkele uitzonderingen waarbij je misschien toch liever een **tuple gebruikt**:\n",
    "* In sommige gevallen, zoals `return`, is het eenvoudiger om met een tupe te werken\n",
    "* Wanneer je een sequence als een key voor een dictionary wil gebruiken, ben je verplicht een onveranderbaar object zoals sting of tuple te gebruiken.\n",
    "* Wanneer je een sequence als een argument in een functie wil gebruiken, verminderen tuples de kans op \"oververwacht gedrag\" omwillen van aliënering (= wanneer twee variabelen naar hetzelfde object verwijzen in het geheugen, als je 1 veranderd, veranderd de waarde van de andere ook sowieso)\n",
    "\n",
    "\n",
    "Omdat tuples onveranderbaar zijn, hebben ze geen methods zoals `sort` en `reverse`.\n",
    "\n",
    "Maar Python voorziet wel de functies `sorted` en `reversed`"
   ]
  },
  {
   "cell_type": "markdown",
   "metadata": {},
   "source": [
    "# Shape Errors\n",
    "\n",
    "lists, dictionaries en tuples zijn voorbeelden van data-strukturen. \n",
    "\n",
    "We zijn hierboven gestart met **samengestelde data srtukturen** zoals lists met lists. Deze kunnen heel zinvol zijn, maar staan open voor \"shape errors\", namelijk errors die te maken hebben met het verkeerde type, grootte of structuur.\n",
    "\n",
    "**bv.**   \n",
    "Als je een lijst verwacht met 1 integer, maar je krijgt gewoonweg 1 integer, dan zal je een error krijgen.\n",
    "\n",
    "De volgende link bevat de code van `structshape` deze geeft je een idee van de structuur van de shape.\n",
    "https://github.com/AllenDowney/ThinkPython2/blob/master/code/structshape.py\n",
    "\n",
    "```\n",
    ">>> from structshape import structshape\n",
    ">>> t = [1, 2, 3]\n",
    ">>> structshape(t)\n",
    "'list of 3 int'\n",
    "```\n",
    "```\n",
    ">>> t2 = [[1,2], [3,4], [5,6]]\n",
    ">>> structshape(t2)\n",
    "'list of 3 list of 2 int'\n",
    "```\n",
    "```\n",
    ">>> t3 = [1, 2, 3, 4.0, '5', '6', [7], [8], 9]\n",
    ">>> structshape(t3)\n",
    "'list of (3 int, float, 2 str, 2 list of int, int)'\n",
    "```\n",
    "```\n",
    ">>> s = 'abc'\n",
    ">>> lt = list(zip(t, s))\n",
    ">>> structshape(lt)\n",
    "'list of 3 tuple of (int, str)'\n",
    "```\n",
    "```\n",
    ">>> d = dict(lt)\n",
    ">>> structshape(d)\n",
    "'dict of 3 int->str'\n",
    "```\n",
    "\n"
   ]
  },
  {
   "cell_type": "markdown",
   "metadata": {},
   "source": [
    "# Globale Variabelen binnen functies\n",
    "\n"
   ]
  },
  {
   "cell_type": "code",
   "execution_count": null,
   "metadata": {},
   "outputs": [],
   "source": [
    "import random\n",
    "\n",
    "word = \"hottentottententententoonstellingsagenten\"\n",
    "L = list(word)\n",
    "\n",
    "\n",
    "def func_one(word):\n",
    "\thist = dict()\n",
    "\tfor index, letter in enumerate(word):\n",
    "\t\twoord = letter*random.randint(1,6)\n",
    "\t\tfunc_two(woord, hist)\n",
    "\t\tprint(index, word.index(letter), hist)\t\t\t\t# word.index(letter) --> geeft de eerste index van de letter in word,\n",
    "\t\t\t\t\t\t\t\t\t\t\t\t\t\t                    \t# 3 is er dus niet bij omdat 2 al een \"t\" heeft\n",
    "\treturn hist\n",
    "\n",
    "test = {}\n",
    "def func_two(woord, hist):\n",
    "\tletters = list(woord)\n",
    "\n",
    "\tfor letter in letters:\n",
    "\t\thist[letter] = hist.get(letter, 0) + 1\t\t\t\t# hist is een \"globale variabele\" voor func_two <--> zie test\n",
    "\t\ttest[letter] = test.get(letter, 0) + 1\n",
    "\n",
    "\n",
    "\n",
    "print(func_one(L))\n",
    "print(test)"
   ]
  },
  {
   "cell_type": "markdown",
   "metadata": {},
   "source": [
    "# Random element uit dictionary"
   ]
  },
  {
   "cell_type": "code",
   "execution_count": null,
   "metadata": {},
   "outputs": [],
   "source": [
    "def random_element(letters_dict):\n",
    "  t = []\n",
    "  for letter, freq in letters_dict.items():\n",
    "    t.extend([letter]*freq)\n",
    "  print(t)\n",
    "  return random.choice(t)\n",
    "\n",
    "random_element(test)\n"
   ]
  }
 ],
 "metadata": {
  "kernelspec": {
   "display_name": "Python 3.10.7 ('venv': venv)",
   "language": "python",
   "name": "python3"
  },
  "language_info": {
   "codemirror_mode": {
    "name": "ipython",
    "version": 3
   },
   "file_extension": ".py",
   "mimetype": "text/x-python",
   "name": "python",
   "nbconvert_exporter": "python",
   "pygments_lexer": "ipython3",
   "version": "3.10.7"
  },
  "orig_nbformat": 4,
  "vscode": {
   "interpreter": {
    "hash": "2e4fda5e8d7dbdcdafd317d183e2776a0a1e50c4a43f5f633675534977b84ce2"
   }
  }
 },
 "nbformat": 4,
 "nbformat_minor": 2
}
