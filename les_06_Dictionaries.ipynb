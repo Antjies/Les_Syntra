{
 "cells": [
  {
   "cell_type": "code",
   "execution_count": 1,
   "metadata": {},
   "outputs": [
    {
     "name": "stdout",
     "output_type": "stream",
     "text": [
      "Jos  : (8, 'Fr')\n"
     ]
    }
   ],
   "source": [
    "def get_grade(student, namen_list, punten_list, vak_list):\n",
    "  i = namen_list.index(student)\n",
    "  punt = punten_list[i]\n",
    "  vak = vak_list[i]\n",
    "  return (punt, vak)\n",
    "\n",
    "namen = [\"Ann\", \"Jan\", \"Jos\", \"Erik\", \"Mark\"]\n",
    "punten = [7,6,8,9,4]\n",
    "vak = [\"WO\", \"Wis\", \"Fr\", \"Fys\", \"Bio\"]\n",
    "\n",
    "student =\"Jos\"\n",
    "\n",
    "print(student, \" :\", get_grade(student, namen, punten, vak))"
   ]
  },
  {
   "cell_type": "code",
   "execution_count": 2,
   "metadata": {},
   "outputs": [
    {
     "name": "stdout",
     "output_type": "stream",
     "text": [
      "8 Fr\n"
     ]
    }
   ],
   "source": [
    "my_dict = {}\n",
    "\n",
    "punten = {\"Ann\":, \"Jan\":6, \"Jos\":8, \"Erik\":9, \"Mark\":4}\n",
    "vak = {\"Ann\":\"WO\", \"Jan\":\"Wis\", \"Jos\":\"Fr\", \"Erik\":\"Fys\", \"Mark\":\"Bio\"}\n",
    "\n",
    "\n",
    "student = \"Jos\"\n",
    "print(punten[student], vak[student])"
   ]
  },
  {
   "cell_type": "code",
   "execution_count": 23,
   "metadata": {},
   "outputs": [
    {
     "name": "stdout",
     "output_type": "stream",
     "text": [
      "(7, 'WO')\n"
     ]
    }
   ],
   "source": [
    "my_dict = {}\n",
    "\n",
    "punten = {\"Ann\":(7, \"WO\"), \"Jan\":6, \"Jos\":8, \"Erik\":9, \"Mark\":4}\n",
    "vak = {\"Ann\":\"WO\", 1:\"Wis\", \"Jos\":\"Fr\", \"Erik\":\"Fys\", \"Mark\":\"Bio\"}\n",
    "\n",
    "\n",
    "student = \"Ann\"\n",
    "print(punten[student])"
   ]
  },
  {
   "cell_type": "code",
   "execution_count": 5,
   "metadata": {},
   "outputs": [
    {
     "name": "stdout",
     "output_type": "stream",
     "text": [
      "{}\n"
     ]
    }
   ],
   "source": [
    "my_dict = dict()\n",
    "\n",
    "print(my_dict)"
   ]
  },
  {
   "cell_type": "code",
   "execution_count": 20,
   "metadata": {},
   "outputs": [
    {
     "name": "stdout",
     "output_type": "stream",
     "text": [
      "{'a': 1, 'b': 3.4, 'c': [5, 6], 'd': True}\n",
      "5\n"
     ]
    }
   ],
   "source": [
    "D_2 = dict(a=1,b=3.4,c=[5, 6],d=True)         # dit werkt enkel met een string = integer, float of Boolean //  1=1 of a = a werkt niet\n",
    "print(D_2)\n",
    "print(D_2['c'][0])"
   ]
  },
  {
   "cell_type": "code",
   "execution_count": 24,
   "metadata": {},
   "outputs": [
    {
     "name": "stdout",
     "output_type": "stream",
     "text": [
      "{(2, 2): 4, (1, 1): 2}\n",
      "2\n"
     ]
    }
   ],
   "source": [
    "Di = {}\n",
    "\n",
    "Di[2,2] = 4\n",
    "Di[1,1] = 2\n",
    "\n",
    "\n",
    "print(Di)\n",
    "\n",
    "print(Di[1,1])"
   ]
  },
  {
   "cell_type": "code",
   "execution_count": 31,
   "metadata": {},
   "outputs": [
    {
     "name": "stdout",
     "output_type": "stream",
     "text": [
      "True\n",
      "{'Ann': 7, 'Jos': 8, 'Erik': 9, 'Mark': 4, 'Jef': 5}\n",
      "dict_keys(['Ann', 'Jos', 'Erik', 'Mark', 'Jef'])\n",
      "dict_values([7, 8, 9, 4, 5])\n",
      "dict_items([('Ann', 7), ('Jos', 8), ('Erik', 9), ('Mark', 4), ('Jef', 5)])\n",
      "Ann 7\n",
      "Jos 8\n",
      "Erik 9\n",
      "Mark 4\n",
      "Jef 5\n",
      "True\n"
     ]
    }
   ],
   "source": [
    "my_dict = {}\n",
    "\n",
    "punten = {\"Ann\":7, \"Jan\":6, \"Jos\":8, \"Erik\":9, \"Mark\":4}\n",
    "vak = {\"Ann\":\"WO\", \"Jan\":\"Wis\", \"Jos\":\"Fr\", \"Erik\":\"Fys\", \"Mark\":\"Bio\"}\n",
    "\n",
    "\n",
    "punten[\"Jef\"] = 5\n",
    "print(\"Jef\" in punten)\n",
    "\n",
    "del(punten[\"Jan\"])\n",
    "print(punten)\n",
    "\n",
    "print(punten.keys())\n",
    "print(punten.values())\n",
    "print(punten.items())\n",
    "\n",
    "for key, value in punten.items():\n",
    "    print(key, value)\n",
    "\n",
    "A = punten.keys()\n",
    "print(\"Jef\" in A)"
   ]
  },
  {
   "cell_type": "code",
   "execution_count": 38,
   "metadata": {},
   "outputs": [
    {
     "name": "stdout",
     "output_type": "stream",
     "text": [
      "{}\n",
      "{'één': 'one'}\n",
      "{'één': '1'}\n",
      "{'één': ('one', 'eins')}\n",
      "{'één': ('one', 'eins', 'uno')}\n"
     ]
    },
    {
     "data": {
      "text/plain": [
       "{'één': 'one', 'twee': 'two', 'drie': 'three', 'vier': 'four'}"
      ]
     },
     "execution_count": 38,
     "metadata": {},
     "output_type": "execute_result"
    }
   ],
   "source": [
    "ned2eng = {}\n",
    "\n",
    "print(ned2eng)\n",
    "\n",
    "ned2eng['één'] = 'one'\n",
    "print(ned2eng)\n",
    "ned2eng['één'] = '1'\n",
    "print(ned2eng)\n",
    "ned2eng['één'] = ('one', 'eins')\n",
    "print(ned2eng)\n",
    "ned2eng['één'] = ned2eng['één'] + (\"uno\", )\n",
    "print(ned2eng)\n",
    "ned2eng = {'één':'one', \"twee\":\"two\", \"drie\":\"three\", \"vier\":\"four\"}\n",
    "ned2eng"
   ]
  },
  {
   "cell_type": "code",
   "execution_count": 40,
   "metadata": {},
   "outputs": [
    {
     "name": "stdout",
     "output_type": "stream",
     "text": [
      "two\n",
      "4\n",
      "False\n",
      "True\n",
      "True\n",
      "True\n"
     ]
    }
   ],
   "source": [
    "print(ned2eng['twee'])\n",
    "\n",
    "print(len(ned2eng))\n",
    "\n",
    "print('vijf' in ned2eng)\n",
    "print('vier' in ned2eng)\n",
    "\n",
    "print('one' in ned2eng) \n",
    "vals = ned2eng.values()  \n",
    "print('one' in vals)"
   ]
  },
  {
   "cell_type": "code",
   "execution_count": 42,
   "metadata": {},
   "outputs": [],
   "source": [
    "ned2eng['vijf']"
   ]
  },
  {
   "cell_type": "code",
   "execution_count": 44,
   "metadata": {},
   "outputs": [
    {
     "name": "stdout",
     "output_type": "stream",
     "text": [
      "{'Hoe': 1, 'sterk': 1, 'is': 1, 'de': 5, 'eenzame': 2, 'fietser': 3, 'Die': 2, 'kromgebogen': 2, 'over': 2, 'zijn': 2, 'stuur': 2, 'tegen': 2, 'wind': 1, 'Zichzelf': 1, 'een': 1, 'weg': 1, 'baant': 1}\n"
     ]
    }
   ],
   "source": [
    "def lyrics_to_frequencies(lyrics):\n",
    "  my_dict = {}\n",
    "  for word in lyrics:\n",
    "    if word in my_dict:\n",
    "      my_dict[word] += 1\n",
    "    else:\n",
    "      my_dict[word] = 1\n",
    "  return my_dict\n",
    "\n",
    "lied_tekst = ['Hoe' ,'sterk', 'is' ,'de', 'eenzame' ,'fietser' ,'Die', 'kromgebogen', \"over\" ,\n",
    "              \"zijn\", \"stuur\", \"tegen\", 'de', 'wind' , 'Zichzelf', 'een', 'weg', 'baant', \"de\", \n",
    "              'de', 'eenzame' ,'fietser' ,'Die', 'kromgebogen', \"over\" , \"zijn\", \"stuur\", \"tegen\", 'de', \n",
    "              \"fietser\"]\n",
    "\n",
    "freqs = lyrics_to_frequencies(lied_tekst)\n",
    "print(freqs)"
   ]
  },
  {
   "cell_type": "code",
   "execution_count": 47,
   "metadata": {},
   "outputs": [
    {
     "name": "stdout",
     "output_type": "stream",
     "text": [
      "{'h': 1, 'o': 4, 't': 11, 'e': 8, 'n': 9, 's': 2, 'l': 2, 'i': 1, 'g': 2, 'a': 1}\n",
      "4\n",
      "N/A\n",
      "1\n"
     ]
    }
   ],
   "source": [
    "def histogram(s):\n",
    "  d = dict()\n",
    "  for c in s:\n",
    "    if c not in d:\n",
    "      d[c] = 1\n",
    "    elif c in d:\n",
    "      d[c] += 1\n",
    "  return d\n",
    "\n",
    "word = \"hottentottententententoonstellingsagenten\"\n",
    "\n",
    "h = histogram(word)\n",
    "\n",
    "print(h)\n",
    "print(h.get('o', 0)) \n",
    "print(h.get('x', 0)) \n",
    "print(h.get('x',1))  "
   ]
  },
  {
   "cell_type": "code",
   "execution_count": 48,
   "metadata": {},
   "outputs": [
    {
     "name": "stdout",
     "output_type": "stream",
     "text": [
      "{'h': 1, 'o': 4, 't': 11, 'e': 8, 'n': 9, 's': 2, 'l': 2, 'i': 1, 'g': 2, 'a': 1}\n"
     ]
    }
   ],
   "source": [
    "def histogram_2(s):\n",
    "  d = dict()\n",
    "  for c in s:\n",
    "    x = d.get(c, 0)\n",
    "    d[c] = x + 1\n",
    "  return d\n",
    "\n",
    "word = \"hottentottententententoonstellingsagenten\"\n",
    "\n",
    "h2 = histogram_2(word)\n",
    "print(h2)"
   ]
  },
  {
   "cell_type": "code",
   "execution_count": 50,
   "metadata": {},
   "outputs": [
    {
     "name": "stdout",
     "output_type": "stream",
     "text": [
      "h 1\n",
      "o 4\n",
      "t 11\n",
      "e 8\n",
      "n 9\n",
      "s 2\n",
      "l 2\n",
      "i 1\n",
      "g 2\n",
      "a 1\n",
      "-----------------------------------------------\n",
      "a 1\n",
      "e 8\n",
      "g 2\n",
      "h 1\n",
      "i 1\n",
      "l 2\n",
      "n 9\n",
      "o 4\n",
      "s 2\n",
      "t 11\n"
     ]
    }
   ],
   "source": [
    "for c in h2:            #from above\n",
    "  print(c, h2[c])\n",
    "\n",
    "print(\"-----------------------------------------------\")\n",
    "\n",
    "for c in sorted(h2):\n",
    "  print(c, h2[c])\n"
   ]
  },
  {
   "cell_type": "code",
   "execution_count": 54,
   "metadata": {},
   "outputs": [
    {
     "name": "stdout",
     "output_type": "stream",
     "text": [
      "best: 5\n",
      "(['de', 'tegen'], 5)\n"
     ]
    }
   ],
   "source": [
    "def most_common_words(freqs):\n",
    "  # print(freqs)\n",
    "  values = freqs.values()\n",
    "  # print(values)\n",
    "  best = max(values)\n",
    "  print(\"best:\", best)\n",
    "  words = []\n",
    "\n",
    "  for k in freqs:\n",
    "    if freqs[k] == best:\n",
    "      words.append(k)\n",
    "    \n",
    "  return (words, best)\n",
    "\n",
    "# {'Hoe': 1, 'sterk': 1, 'is': 1, 'de': 5, 'eenzame': 2, 'fietser': 3, 'Die': 2, 'kromgebogen': 2, 'over': 2, 'zijn': 2, 'stuur': 2, 'tegen': 2, 'wind': 1, 'Zichzelf': 1, 'een': 1, 'weg': 1, 'baant': 1}\n",
    "freqs = lyrics_to_frequencies(lied_tekst)\n",
    "print(most_common_words(freqs))"
   ]
  }
 ],
 "metadata": {
  "kernelspec": {
   "display_name": "Python 3.10.7 ('venv': venv)",
   "language": "python",
   "name": "python3"
  },
  "language_info": {
   "codemirror_mode": {
    "name": "ipython",
    "version": 3
   },
   "file_extension": ".py",
   "mimetype": "text/x-python",
   "name": "python",
   "nbconvert_exporter": "python",
   "pygments_lexer": "ipython3",
   "version": "3.10.7"
  },
  "orig_nbformat": 4,
  "vscode": {
   "interpreter": {
    "hash": "2e4fda5e8d7dbdcdafd317d183e2776a0a1e50c4a43f5f633675534977b84ce2"
   }
  }
 },
 "nbformat": 4,
 "nbformat_minor": 2
}
