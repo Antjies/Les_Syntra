{
 "cells": [
  {
   "attachments": {},
   "cell_type": "markdown",
   "metadata": {},
   "source": [
    "# Objecten\n",
    "\n",
    "## help "
   ]
  },
  {
   "cell_type": "code",
   "execution_count": 1,
   "metadata": {},
   "outputs": [],
   "source": [
    "import math\n",
    "\n",
    "class Point:\n",
    "    'Represents a point in two-dimensional geometric coordinates'\n",
    "\n",
    "    def __init__(self, x=0, y=0):\n",
    "        '''Initialize the position of a new point. The x and y\n",
    "        coordinates can be specified. If they are not, the\n",
    "        point defaults to the origin.'''\n",
    "        self.move(x, y)\n",
    "\n",
    "    def move(self, x, y):\n",
    "        \"Move the point to a new location in 2D space.\"\n",
    "        self.x = x\n",
    "        self.y = y\n",
    "\n",
    "    def reset(self):\n",
    "        'Reset the point back to the geometric origin: 0, 0'\n",
    "        self.move(0, 0)\n",
    "\n",
    "    def calculate_distance(self, other_point):\n",
    "        \"\"\"Calculate the distance from this point to a second\n",
    "        point passed as a parameter.\n",
    "        This function uses the Pythagorean Theorem to calculate\n",
    "        the distance between the two points. The distance is\n",
    "        returned as a float.\"\"\"\n",
    "        return math.sqrt((self.x - other_point.x)**2 + (self.y - other_point.y)**2)"
   ]
  },
  {
   "cell_type": "code",
   "execution_count": 2,
   "metadata": {},
   "outputs": [
    {
     "name": "stdout",
     "output_type": "stream",
     "text": [
      "Help on class Point in module __main__:\n",
      "\n",
      "class Point(builtins.object)\n",
      " |  Point(x=0, y=0)\n",
      " |  \n",
      " |  Represents a point in two-dimensional geometric coordinates\n",
      " |  \n",
      " |  Methods defined here:\n",
      " |  \n",
      " |  __init__(self, x=0, y=0)\n",
      " |      Initialize the position of a new point. The x and y\n",
      " |      coordinates can be specified. If they are not, the\n",
      " |      point defaults to the origin.\n",
      " |  \n",
      " |  calculate_distance(self, other_point)\n",
      " |      Calculate the distance from this point to a second\n",
      " |      point passed as a parameter.\n",
      " |      This function uses the Pythagorean Theorem to calculate\n",
      " |      the distance between the two points. The distance is\n",
      " |      returned as a float.\n",
      " |  \n",
      " |  move(self, x, y)\n",
      " |      Move the point to a new location in 2D space.\n",
      " |  \n",
      " |  reset(self)\n",
      " |      Reset the point back to the geometric origin: 0, 0\n",
      " |  \n",
      " |  ----------------------------------------------------------------------\n",
      " |  Data descriptors defined here:\n",
      " |  \n",
      " |  __dict__\n",
      " |      dictionary for instance variables (if defined)\n",
      " |  \n",
      " |  __weakref__\n",
      " |      list of weak references to the object (if defined)\n",
      "\n"
     ]
    }
   ],
   "source": [
    "help(Point)"
   ]
  },
  {
   "attachments": {},
   "cell_type": "markdown",
   "metadata": {},
   "source": [
    "parent_directory/\n",
    "    main.py\n",
    "    ecommerce/\n",
    "        __init__.py\n",
    "        database.py\n",
    "        products.py\n",
    "        payments/\n",
    "            __init__.py\n",
    "            square.py\n",
    "            stripe.py"
   ]
  },
  {
   "cell_type": "code",
   "execution_count": null,
   "metadata": {},
   "outputs": [],
   "source": [
    "# in main\n",
    "\n",
    "from ecommerce.products import klasse\n",
    "\n",
    "import ecommerce.payments.square"
   ]
  },
  {
   "cell_type": "code",
   "execution_count": null,
   "metadata": {},
   "outputs": [],
   "source": [
    "#  in the same package bv products.py\n",
    "\n",
    "from .database import Database\n",
    "\n",
    "# in payments package bv. stripe.py\n",
    "from ..database import Database"
   ]
  },
  {
   "cell_type": "code",
   "execution_count": 3,
   "metadata": {},
   "outputs": [],
   "source": [
    "class Database:\n",
    "    pass\n",
    "\n",
    "database = Database()"
   ]
  },
  {
   "cell_type": "code",
   "execution_count": 7,
   "metadata": {},
   "outputs": [
    {
     "name": "stdout",
     "output_type": "stream",
     "text": [
      "HELLOW WORLD, HOW ARE YOU TODAY?\n"
     ]
    }
   ],
   "source": [
    "def format_string(string, formatter=None):\n",
    "\n",
    "    class DefaultFormatter:\n",
    "        def format(self, string):\n",
    "            return str(string).title()\n",
    "\n",
    "    if not formatter:\n",
    "        formatter = DefaultFormatter()\n",
    "\n",
    "    return formatter.format(string)\n",
    "\n",
    "class AnotherFormatter:\n",
    "    def format(self, string):\n",
    "        return string.upper()\n",
    "\n",
    "hello_string = \"hellow world, how are you today?\"\n",
    "\n",
    "formatter = AnotherFormatter()\n",
    "\n",
    "print(format_string(hello_string, formatter))"
   ]
  },
  {
   "cell_type": "code",
   "execution_count": 18,
   "metadata": {},
   "outputs": [],
   "source": [
    "class SecretString:\n",
    "    def __init__(self, plain_string, pass_phrase):\n",
    "        self.__plain_string = plain_string\n",
    "        self.__pass_phrase = pass_phrase\n",
    "\n",
    "    def decrypt(self, pass_phrase):\n",
    "        if pass_phrase == self.__pass_phrase:\n",
    "            return self.__plain_string\n",
    "        else:\n",
    "            return ''"
   ]
  },
  {
   "cell_type": "code",
   "execution_count": 19,
   "metadata": {},
   "outputs": [
    {
     "name": "stdout",
     "output_type": "stream",
     "text": [
      "ACME: Top Sceret\n"
     ]
    }
   ],
   "source": [
    "secret_string = SecretString(\"ACME: Top Sceret\", \"antwerp\")\n",
    "\n",
    "print(secret_string.decrypt(\"antwerp\"))"
   ]
  },
  {
   "cell_type": "code",
   "execution_count": 20,
   "metadata": {},
   "outputs": [
    {
     "ename": "AttributeError",
     "evalue": "'SecretString' object has no attribute '__plain_string'",
     "output_type": "error",
     "traceback": [
      "\u001b[1;31m---------------------------------------------------------------------------\u001b[0m",
      "\u001b[1;31mAttributeError\u001b[0m                            Traceback (most recent call last)",
      "Cell \u001b[1;32mIn [20], line 1\u001b[0m\n\u001b[1;32m----> 1\u001b[0m \u001b[39mprint\u001b[39m(secret_string\u001b[39m.\u001b[39;49m__plain_string)\n",
      "\u001b[1;31mAttributeError\u001b[0m: 'SecretString' object has no attribute '__plain_string'"
     ]
    }
   ],
   "source": [
    "print(secret_string.__plain_string)"
   ]
  },
  {
   "cell_type": "code",
   "execution_count": 22,
   "metadata": {},
   "outputs": [
    {
     "name": "stdout",
     "output_type": "stream",
     "text": [
      "ACME: Top Sceret\n"
     ]
    }
   ],
   "source": [
    "print(secret_string._SecretString__plain_string)"
   ]
  }
 ],
 "metadata": {
  "kernelspec": {
   "display_name": "venv",
   "language": "python",
   "name": "python3"
  },
  "language_info": {
   "codemirror_mode": {
    "name": "ipython",
    "version": 3
   },
   "file_extension": ".py",
   "mimetype": "text/x-python",
   "name": "python",
   "nbconvert_exporter": "python",
   "pygments_lexer": "ipython3",
   "version": "3.10.7"
  },
  "orig_nbformat": 4,
  "vscode": {
   "interpreter": {
    "hash": "2e4fda5e8d7dbdcdafd317d183e2776a0a1e50c4a43f5f633675534977b84ce2"
   }
  }
 },
 "nbformat": 4,
 "nbformat_minor": 2
}
