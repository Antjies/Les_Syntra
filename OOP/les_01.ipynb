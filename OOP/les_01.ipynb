{
 "cells": [
  {
   "attachments": {},
   "cell_type": "markdown",
   "metadata": {},
   "source": [
    "# Objecten"
   ]
  },
  {
   "cell_type": "code",
   "execution_count": null,
   "metadata": {},
   "outputs": [],
   "source": [
    "class Orange:\n",
    "    pass"
   ]
  },
  {
   "cell_type": "code",
   "execution_count": 15,
   "metadata": {},
   "outputs": [],
   "source": [
    "class ChessSet:\n",
    "\n",
    "    def __init__(self):\n",
    "        self.board = Board()\n",
    "        self.pieces = []\n",
    "        self.populate_list()\n",
    "        \n",
    "    def populate_list(self):\n",
    "        colors= [\"White\", \"Black\"]\n",
    "        for color in colors:\n",
    "            for x in range(16):\n",
    "                if x % 3 == 0:\n",
    "                    self.pieces.append(King(color, self))\n",
    "                elif x % 3 == 1:\n",
    "                    self.pieces.append(Rook(color, self))\n",
    "                else:\n",
    "                    self.pieces.append(Bishop())\n",
    "\n",
    "class Board:\n",
    "\n",
    "    def __init__(self):\n",
    "        pass\n",
    "\n",
    "class Piece:\n",
    "\n",
    "    def __init__(self, color, chess_set):\n",
    "        self.color = color\n",
    "        self.chess_set = chess_set\n",
    "\n",
    "    def move(self):\n",
    "        print(\"ik weet het niet\")\n",
    "\n",
    "class King(Piece):\n",
    "\n",
    "    def __init__(self, color, chess_set):\n",
    "        super().__init__(color, chess_set)\n",
    "        self.shape = \"K\"\n",
    "\n",
    "    # def move(self):\n",
    "    #     print(\"alle kanten 1 veld\")\n",
    "\n",
    "\n",
    "class Rook(Piece):\n",
    "\n",
    "    def __init__(self, color, chess_set):\n",
    "        super().__init__(color, chess_set)\n",
    "        self.shape = \"R\"\n",
    "\n",
    "    def move(self):\n",
    "        super().move()\n",
    "        print(\"alleen rechtdoor\")\n",
    "\n",
    "class Bishop:\n",
    "\n",
    "    def move(self):\n",
    "        # super().move()\n",
    "        print(\"alleen schuin\")\n",
    "\n",
    "    def set_value(self):\n",
    "        self.value = 4"
   ]
  },
  {
   "cell_type": "code",
   "execution_count": 12,
   "metadata": {},
   "outputs": [],
   "source": [
    "chess = ChessSet()"
   ]
  },
  {
   "cell_type": "code",
   "execution_count": 16,
   "metadata": {},
   "outputs": [
    {
     "name": "stdout",
     "output_type": "stream",
     "text": [
      "4\n"
     ]
    }
   ],
   "source": [
    "loper  = Bishop()\n",
    "loper.set_value()\n",
    "\n",
    "print(loper.value)"
   ]
  },
  {
   "cell_type": "code",
   "execution_count": 13,
   "metadata": {},
   "outputs": [
    {
     "name": "stdout",
     "output_type": "stream",
     "text": [
      "ik weet het niet\n",
      "alleen rechtdoor\n"
     ]
    },
    {
     "ename": "AttributeError",
     "evalue": "'Bishop' object has no attribute 'move'",
     "output_type": "error",
     "traceback": [
      "\u001b[1;31m---------------------------------------------------------------------------\u001b[0m",
      "\u001b[1;31mAttributeError\u001b[0m                            Traceback (most recent call last)",
      "Cell \u001b[1;32mIn [13], line 2\u001b[0m\n\u001b[0;32m      1\u001b[0m \u001b[39mfor\u001b[39;00m piece \u001b[39min\u001b[39;00m chess\u001b[39m.\u001b[39mpieces:\n\u001b[1;32m----> 2\u001b[0m     piece\u001b[39m.\u001b[39;49mmove()\n",
      "\u001b[1;31mAttributeError\u001b[0m: 'Bishop' object has no attribute 'move'"
     ]
    }
   ],
   "source": [
    "for piece in chess.pieces:\n",
    "    piece.move()"
   ]
  }
 ],
 "metadata": {
  "kernelspec": {
   "display_name": "venv",
   "language": "python",
   "name": "python3"
  },
  "language_info": {
   "codemirror_mode": {
    "name": "ipython",
    "version": 3
   },
   "file_extension": ".py",
   "mimetype": "text/x-python",
   "name": "python",
   "nbconvert_exporter": "python",
   "pygments_lexer": "ipython3",
   "version": "3.10.7"
  },
  "orig_nbformat": 4,
  "vscode": {
   "interpreter": {
    "hash": "2e4fda5e8d7dbdcdafd317d183e2776a0a1e50c4a43f5f633675534977b84ce2"
   }
  }
 },
 "nbformat": 4,
 "nbformat_minor": 2
}
