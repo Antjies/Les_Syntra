{
 "cells": [
  {
   "cell_type": "code",
   "execution_count": 51,
   "metadata": {},
   "outputs": [],
   "source": [
    "class MyNumbers:\n",
    "    \n",
    "    def __iter__(self):\n",
    "        self.a = 1\n",
    "        return self\n",
    "\n",
    "    def __next__(self):\n",
    "        if self.a <= 20:\n",
    "            x = self.a\n",
    "            self.a += 1\n",
    "            return x\n",
    "        else:\n",
    "            raise StopIteration()"
   ]
  },
  {
   "cell_type": "code",
   "execution_count": 52,
   "metadata": {},
   "outputs": [],
   "source": [
    "myclass = MyNumbers()\n",
    "myiter = iter(myclass)\n",
    "# myiter = myclass.__iter__()\n",
    "# print(hasattr(myclass, \"a\"))\n",
    "# print(hasattr(myiter, \"a\"))\n",
    "# myclass == myiter"
   ]
  },
  {
   "cell_type": "code",
   "execution_count": 53,
   "metadata": {},
   "outputs": [
    {
     "name": "stdout",
     "output_type": "stream",
     "text": [
      "1\n",
      "1\n",
      "2\n",
      "3\n",
      "4\n",
      "5\n",
      "6\n",
      "7\n",
      "8\n",
      "9\n",
      "10\n",
      "11\n",
      "12\n",
      "13\n",
      "14\n",
      "15\n",
      "16\n",
      "17\n",
      "18\n",
      "19\n",
      "20\n"
     ]
    }
   ],
   "source": [
    "print(next(myiter))\n",
    "\n",
    "for x in myiter:\n",
    "    print(x)"
   ]
  },
  {
   "cell_type": "code",
   "execution_count": 54,
   "metadata": {},
   "outputs": [
    {
     "ename": "StopIteration",
     "evalue": "",
     "output_type": "error",
     "traceback": [
      "\u001b[1;31m---------------------------------------------------------------------------\u001b[0m",
      "\u001b[1;31mStopIteration\u001b[0m                             Traceback (most recent call last)",
      "\u001b[1;32mc:\\Users\\Echos Bv\\Desktop\\github_repos\\Les_Syntra\\OOP\\04_iterators\\02_my_iterator.ipynb Cell 4\u001b[0m in \u001b[0;36m2\n\u001b[0;32m      <a href='vscode-notebook-cell:/c%3A/Users/Echos%20Bv/Desktop/github_repos/Les_Syntra/OOP/04_iterators/02_my_iterator.ipynb#W3sZmlsZQ%3D%3D?line=0'>1</a>\u001b[0m \u001b[39mfor\u001b[39;00m x \u001b[39min\u001b[39;00m \u001b[39mrange\u001b[39m(\u001b[39m22\u001b[39m):\n\u001b[1;32m----> <a href='vscode-notebook-cell:/c%3A/Users/Echos%20Bv/Desktop/github_repos/Les_Syntra/OOP/04_iterators/02_my_iterator.ipynb#W3sZmlsZQ%3D%3D?line=1'>2</a>\u001b[0m     \u001b[39mprint\u001b[39m(myiter\u001b[39m.\u001b[39;49m\u001b[39m__next__\u001b[39;49m())\n",
      "\u001b[1;32mc:\\Users\\Echos Bv\\Desktop\\github_repos\\Les_Syntra\\OOP\\04_iterators\\02_my_iterator.ipynb Cell 4\u001b[0m in \u001b[0;36m1\n\u001b[0;32m     <a href='vscode-notebook-cell:/c%3A/Users/Echos%20Bv/Desktop/github_repos/Les_Syntra/OOP/04_iterators/02_my_iterator.ipynb#W3sZmlsZQ%3D%3D?line=10'>11</a>\u001b[0m     \u001b[39mreturn\u001b[39;00m x\n\u001b[0;32m     <a href='vscode-notebook-cell:/c%3A/Users/Echos%20Bv/Desktop/github_repos/Les_Syntra/OOP/04_iterators/02_my_iterator.ipynb#W3sZmlsZQ%3D%3D?line=11'>12</a>\u001b[0m \u001b[39melse\u001b[39;00m:\n\u001b[1;32m---> <a href='vscode-notebook-cell:/c%3A/Users/Echos%20Bv/Desktop/github_repos/Les_Syntra/OOP/04_iterators/02_my_iterator.ipynb#W3sZmlsZQ%3D%3D?line=12'>13</a>\u001b[0m     \u001b[39mraise\u001b[39;00m \u001b[39mStopIteration\u001b[39;00m()\n",
      "\u001b[1;31mStopIteration\u001b[0m: "
     ]
    }
   ],
   "source": [
    "for x in range(22):\n",
    "    print(myiter.__next__())"
   ]
  },
  {
   "cell_type": "code",
   "execution_count": null,
   "metadata": {},
   "outputs": [],
   "source": [
    "my_new_class = MyNumbers()\n",
    "my_new_class.__iter__()\n",
    "print(my_new_class.__next__())\n",
    "print(my_new_class.__next__())\n",
    "\n",
    "for x in my_new_class:\n",
    "    print(x)\n"
   ]
  },
  {
   "cell_type": "code",
   "execution_count": 62,
   "metadata": {},
   "outputs": [],
   "source": [
    "class MyNumbers:\n",
    "    \n",
    "    def __iter__(self):\n",
    "        self.a = 1\n",
    "        return self\n",
    "\n",
    "    def __next__(self):\n",
    "        if self.a <= 20:\n",
    "            x = self.a\n",
    "            self.a += 1\n",
    "            return x\n",
    "        else:\n",
    "            raise StopIteration()"
   ]
  },
  {
   "cell_type": "code",
   "execution_count": 63,
   "metadata": {},
   "outputs": [],
   "source": [
    "myclass = MyNumbers()\n",
    "myiter = iter(myclass)"
   ]
  },
  {
   "cell_type": "code",
   "execution_count": 64,
   "metadata": {},
   "outputs": [
    {
     "name": "stdout",
     "output_type": "stream",
     "text": [
      "[1, 2, 3, 4, 5, 6, 7, 8, 9, 10, 11, 12, 13, 14, 15, 16, 17, 18, 19, 20]\n",
      "(1, 2, 3, 4, 5, 6, 7, 8, 9, 10, 11, 12, 13, 14, 15, 16, 17, 18, 19, 20)\n",
      "{1, 2, 3, 4, 5, 6, 7, 8, 9, 10, 11, 12, 13, 14, 15, 16, 17, 18, 19, 20}\n"
     ]
    }
   ],
   "source": [
    "print(list(myiter))\n",
    "print(tuple(myiter))\n",
    "print(set(myiter))\n"
   ]
  },
  {
   "cell_type": "code",
   "execution_count": 65,
   "metadata": {},
   "outputs": [
    {
     "name": "stdout",
     "output_type": "stream",
     "text": [
      "1\n",
      "2\n",
      "3\n",
      "4\n",
      "5\n",
      "6\n",
      "7\n",
      "8\n",
      "9\n",
      "10\n",
      "11\n",
      "12\n",
      "13\n",
      "14\n",
      "15\n",
      "16\n",
      "17\n",
      "18\n",
      "19\n",
      "20\n"
     ]
    }
   ],
   "source": [
    "for x in myiter:\n",
    "    print(x)"
   ]
  },
  {
   "cell_type": "code",
   "execution_count": 67,
   "metadata": {},
   "outputs": [],
   "source": [
    "class Person:\n",
    "    def __init__(self, id):\n",
    "        self.id = id\n",
    "    def __str__(self) -> str:\n",
    "        return f\"persoon - {self.id}\"\n",
    "    def __repr__(self) -> str:\n",
    "        return f\"persoon - {self.id}\"\n"
   ]
  },
  {
   "cell_type": "code",
   "execution_count": 69,
   "metadata": {},
   "outputs": [],
   "source": [
    "class MyPersonIterator:\n",
    "    def __iter__(self):\n",
    "        self.a = 0\n",
    "        return self\n",
    "    \n",
    "    def __next__(self):\n",
    "        if self.a < 5:\n",
    "            self.a += 1\n",
    "            return Person(self.a)\n",
    "        else:\n",
    "            raise StopIteration()\n"
   ]
  },
  {
   "cell_type": "code",
   "execution_count": 70,
   "metadata": {},
   "outputs": [
    {
     "name": "stdout",
     "output_type": "stream",
     "text": [
      "persoon - 1\n",
      "persoon - 2\n",
      "persoon - 3\n",
      "persoon - 4\n",
      "persoon - 5\n"
     ]
    }
   ],
   "source": [
    "persoon_iterator = MyPersonIterator()\n",
    "for persoon in iter(persoon_iterator):\n",
    "    print(persoon)"
   ]
  },
  {
   "cell_type": "code",
   "execution_count": 71,
   "metadata": {},
   "outputs": [
    {
     "name": "stdout",
     "output_type": "stream",
     "text": [
      "[persoon - 1, persoon - 2, persoon - 3, persoon - 4, persoon - 5]\n"
     ]
    }
   ],
   "source": [
    "print(list(persoon_iterator))"
   ]
  },
  {
   "cell_type": "code",
   "execution_count": 73,
   "metadata": {},
   "outputs": [],
   "source": [
    "class Person:\n",
    "    def __init__(self, naam) -> None:\n",
    "        self.naam = naam\n",
    "    def __str__(self) -> str:\n",
    "        return f\"obj - {self.naam}\"\n",
    "    def __repr__(self) -> str:\n",
    "        return f\"OBJ - {self.naam}\"\n",
    "\n",
    "class MyPersonIterator:\n",
    "    def __init__(self, namen):\n",
    "        self.namen = namen\n",
    "        self.a = 0\n",
    "\n",
    "    def __iter__(self):\n",
    "        self.a = 0\n",
    "        return self\n",
    "\n",
    "    def __next__(self):\n",
    "        if self.a < len(self.namen):\n",
    "            persoon = Person(self.namen[self.a])\n",
    "            self.a += 1\n",
    "            return persoon\n",
    "        else:\n",
    "            raise StopIteration()"
   ]
  },
  {
   "cell_type": "code",
   "execution_count": 76,
   "metadata": {},
   "outputs": [
    {
     "name": "stdout",
     "output_type": "stream",
     "text": [
      "obj - Jos\n",
      "obj - Mark\n",
      "obj - John\n",
      "obj - Marie\n",
      "obj - Walter\n"
     ]
    },
    {
     "data": {
      "text/plain": [
       "[OBJ - Jos, OBJ - Mark, OBJ - John, OBJ - Marie, OBJ - Walter]"
      ]
     },
     "execution_count": 76,
     "metadata": {},
     "output_type": "execute_result"
    }
   ],
   "source": [
    "namen = (\"Jos\", \"Mark\", \"John\", \"Marie\", \"Walter\")\n",
    "\n",
    "persoon_iterator = MyPersonIterator(namen)\n",
    "for persoon in iter(persoon_iterator):\n",
    "    print(persoon)\n",
    "\n",
    "list(persoon_iterator)"
   ]
  }
 ],
 "metadata": {
  "kernelspec": {
   "display_name": "venv",
   "language": "python",
   "name": "python3"
  },
  "language_info": {
   "codemirror_mode": {
    "name": "ipython",
    "version": 3
   },
   "file_extension": ".py",
   "mimetype": "text/x-python",
   "name": "python",
   "nbconvert_exporter": "python",
   "pygments_lexer": "ipython3",
   "version": "3.10.7"
  },
  "orig_nbformat": 4
 },
 "nbformat": 4,
 "nbformat_minor": 2
}
