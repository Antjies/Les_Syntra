{
 "cells": [
  {
   "cell_type": "code",
   "execution_count": 2,
   "metadata": {},
   "outputs": [],
   "source": [
    "class Person:\n",
    "    def __init__(self, first_name, last_name):\n",
    "        self.first_name = first_name\n",
    "        self.last_name = last_name\n",
    "    \n",
    "    def set_age(self, age):\n",
    "        self.age = age"
   ]
  },
  {
   "cell_type": "code",
   "execution_count": 3,
   "metadata": {},
   "outputs": [
    {
     "name": "stdout",
     "output_type": "stream",
     "text": [
      "-25\n"
     ]
    }
   ],
   "source": [
    "john = Person(\"John\", \"Doe\")\n",
    "john.set_age(-25)\n",
    "\n",
    "print(john.age)"
   ]
  },
  {
   "cell_type": "code",
   "execution_count": 4,
   "metadata": {},
   "outputs": [],
   "source": [
    "class InvalidAgeException(Exception):\n",
    "    pass"
   ]
  },
  {
   "cell_type": "code",
   "execution_count": 15,
   "metadata": {},
   "outputs": [
    {
     "name": "stdout",
     "output_type": "stream",
     "text": [
      "No correct age provided - must be possitive\n"
     ]
    }
   ],
   "source": [
    "class Person:\n",
    "    def __init__(self, first_name, last_name):\n",
    "        self.first_name = first_name\n",
    "        self.last_name = last_name\n",
    "    \n",
    "    def set_age(self, age):\n",
    "        try:\n",
    "            self._check_age(age)\n",
    "            self.age = age            \n",
    "        except InvalidAgeException:\n",
    "            print(\"No correct age provided - must be possitive\")\n",
    "        except:\n",
    "            print(\"foutje\")\n",
    "\n",
    "    def _check_age(self, age):\n",
    "        if age < 0:\n",
    "            raise InvalidAgeException\n",
    "\n",
    "        \n",
    "john = Person(\"John\", \"Doe\")\n",
    "john.set_age(-25)\n",
    "# print(john.age)"
   ]
  },
  {
   "cell_type": "code",
   "execution_count": 16,
   "metadata": {},
   "outputs": [],
   "source": [
    "class InvalidAgeException(Exception):\n",
    "    def __init__(self, value):\n",
    "        self.value = value\n",
    "\n",
    "    def __str__(self):\n",
    "        return f\"Negative ages not allowed: {self.value}\""
   ]
  },
  {
   "cell_type": "code",
   "execution_count": 19,
   "metadata": {},
   "outputs": [
    {
     "name": "stdout",
     "output_type": "stream",
     "text": [
      "An error occured for John: Negative ages not allowed: -25\n",
      "An error occured for Jane: Negative ages not allowed: -20\n"
     ]
    }
   ],
   "source": [
    "class Person:\n",
    "    def __init__(self, first_name, last_name):\n",
    "        self.first_name = first_name\n",
    "        self.last_name = last_name\n",
    "    \n",
    "    def set_age(self, age):\n",
    "        try:\n",
    "            self._check_age(age)\n",
    "            self.age = age            \n",
    "        except InvalidAgeException as e:\n",
    "            print(f\"An error occured for {self.first_name}: {e}\")\n",
    "\n",
    "    def _check_age(self, age):\n",
    "        if age < 0:\n",
    "            raise InvalidAgeException(age)\n",
    "\n",
    "        \n",
    "jane = Person(\"Jane\", \"Doe\")\n",
    "john = Person(\"John\", \"Doe\")\n",
    "john.set_age(-25)\n",
    "jane.set_age(-20)"
   ]
  },
  {
   "cell_type": "code",
   "execution_count": 20,
   "metadata": {},
   "outputs": [
    {
     "name": "stdout",
     "output_type": "stream",
     "text": [
      "has age\n",
      "has no age\n"
     ]
    }
   ],
   "source": [
    "class Person:\n",
    "    def __init__(self, first_name, last_name):\n",
    "        self.first_name = first_name\n",
    "        self.last_name = last_name\n",
    "    \n",
    "    def set_age(self, age):\n",
    "        try:\n",
    "            self._check_age(age)\n",
    "            self.age = age\n",
    "        except InvalidAgeException as e:\n",
    "            print(f\"An error occured for {self.first_name}: {e}\")\n",
    "    \n",
    "    def _check_age(self, age):\n",
    "        if age < 0:\n",
    "            raise InvalidAgeException(age)\n",
    "    \n",
    "    def vote(self):\n",
    "        if hasattr(self, \"age\"):\n",
    "            print('has age')\n",
    "        else:\n",
    "            print(\"has no age\")\n",
    "    \n",
    "        \n",
    "\n",
    "jane = Person(\"Jane\", \"Doe\")\n",
    "john = Person(\"John\", \"Doe\")\n",
    "john.set_age(25)\n",
    "john.vote()\n",
    "# jane.set_age(-20)\n",
    "jane.vote()\n"
   ]
  },
  {
   "cell_type": "code",
   "execution_count": 25,
   "metadata": {},
   "outputs": [
    {
     "name": "stdout",
     "output_type": "stream",
     "text": [
      "['__class__', '__delattr__', '__dict__', '__dir__', '__doc__', '__eq__', '__format__', '__ge__', '__getattribute__', '__gt__', '__hash__', '__init__', '__init_subclass__', '__le__', '__lt__', '__module__', '__ne__', '__new__', '__reduce__', '__reduce_ex__', '__repr__', '__setattr__', '__sizeof__', '__str__', '__subclasshook__', '__weakref__', '_check_age', 'set_age', 'vote']\n"
     ]
    }
   ],
   "source": [
    "print(dir(Person))"
   ]
  },
  {
   "cell_type": "code",
   "execution_count": 24,
   "metadata": {},
   "outputs": [
    {
     "data": {
      "text/plain": [
       "True"
      ]
     },
     "execution_count": 24,
     "metadata": {},
     "output_type": "execute_result"
    }
   ],
   "source": [
    "'__le__' in dir(Person)"
   ]
  }
 ],
 "metadata": {
  "kernelspec": {
   "display_name": "venv",
   "language": "python",
   "name": "python3"
  },
  "language_info": {
   "codemirror_mode": {
    "name": "ipython",
    "version": 3
   },
   "file_extension": ".py",
   "mimetype": "text/x-python",
   "name": "python",
   "nbconvert_exporter": "python",
   "pygments_lexer": "ipython3",
   "version": "3.10.7"
  },
  "orig_nbformat": 4
 },
 "nbformat": 4,
 "nbformat_minor": 2
}
