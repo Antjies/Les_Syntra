{
 "cells": [
  {
   "cell_type": "code",
   "execution_count": 1,
   "metadata": {},
   "outputs": [],
   "source": [
    "class Person:\n",
    "    def __init__(self, first_name, last_name, age):\n",
    "        self.first_name = first_name\n",
    "        self.last_name = last_name\n",
    "        self.age = age"
   ]
  },
  {
   "cell_type": "code",
   "execution_count": 7,
   "metadata": {},
   "outputs": [],
   "source": [
    "john = Person(\"John\", \"Doe\", 25)\n",
    "jane = Person(\"Jane\", \"Doe\", 25)"
   ]
  },
  {
   "cell_type": "code",
   "execution_count": 8,
   "metadata": {},
   "outputs": [
    {
     "name": "stdout",
     "output_type": "stream",
     "text": [
      "2422478860688\n",
      "2422478860688\n"
     ]
    }
   ],
   "source": [
    "print(id(john))\n",
    "print(id(jane))"
   ]
  },
  {
   "cell_type": "code",
   "execution_count": 5,
   "metadata": {},
   "outputs": [
    {
     "data": {
      "text/plain": [
       "False"
      ]
     },
     "execution_count": 5,
     "metadata": {},
     "output_type": "execute_result"
    }
   ],
   "source": [
    "john == jane"
   ]
  },
  {
   "cell_type": "code",
   "execution_count": 20,
   "metadata": {},
   "outputs": [],
   "source": [
    "class Person:\n",
    "    def __init__(self, first_name, last_name, age):\n",
    "        self.first_name = first_name\n",
    "        self.last_name = last_name\n",
    "        self.age = age\n",
    "\n",
    "    def __eq__(self, other):\n",
    "        return self.age == other.age\n",
    "\n",
    "john = Person(\"John\", \"Doe\", 25)\n",
    "jane = Person(\"Jane\", \"Doe\", 25)"
   ]
  },
  {
   "cell_type": "code",
   "execution_count": 21,
   "metadata": {},
   "outputs": [
    {
     "data": {
      "text/plain": [
       "True"
      ]
     },
     "execution_count": 21,
     "metadata": {},
     "output_type": "execute_result"
    }
   ],
   "source": [
    "print(john == jane)"
   ]
  },
  {
   "cell_type": "code",
   "execution_count": 22,
   "metadata": {},
   "outputs": [
    {
     "name": "stdout",
     "output_type": "stream",
     "text": [
      "False\n"
     ]
    }
   ],
   "source": [
    "mary = Person('Jane', 'Doe', 20)\n",
    "print(john == mary)"
   ]
  },
  {
   "cell_type": "code",
   "execution_count": 23,
   "metadata": {},
   "outputs": [
    {
     "ename": "AttributeError",
     "evalue": "'int' object has no attribute 'age'",
     "output_type": "error",
     "traceback": [
      "\u001b[1;31m---------------------------------------------------------------------------\u001b[0m",
      "\u001b[1;31mAttributeError\u001b[0m                            Traceback (most recent call last)",
      "\u001b[1;32mc:\\Users\\Echos Bv\\Desktop\\github_repos\\Les_Syntra\\OOP\\dunder_methodes\\01_equality.ipynb Cell 8\u001b[0m in \u001b[0;36m1\n\u001b[1;32m----> <a href='vscode-notebook-cell:/c%3A/Users/Echos%20Bv/Desktop/github_repos/Les_Syntra/OOP/dunder_methodes/01_equality.ipynb#X12sZmlsZQ%3D%3D?line=0'>1</a>\u001b[0m \u001b[39mprint\u001b[39m(john \u001b[39m==\u001b[39;49m \u001b[39m25\u001b[39;49m)\n",
      "\u001b[1;32mc:\\Users\\Echos Bv\\Desktop\\github_repos\\Les_Syntra\\OOP\\dunder_methodes\\01_equality.ipynb Cell 8\u001b[0m in \u001b[0;36m8\n\u001b[0;32m      <a href='vscode-notebook-cell:/c%3A/Users/Echos%20Bv/Desktop/github_repos/Les_Syntra/OOP/dunder_methodes/01_equality.ipynb#X12sZmlsZQ%3D%3D?line=6'>7</a>\u001b[0m \u001b[39mdef\u001b[39;00m \u001b[39m__eq__\u001b[39m(\u001b[39mself\u001b[39m, other):\n\u001b[1;32m----> <a href='vscode-notebook-cell:/c%3A/Users/Echos%20Bv/Desktop/github_repos/Les_Syntra/OOP/dunder_methodes/01_equality.ipynb#X12sZmlsZQ%3D%3D?line=7'>8</a>\u001b[0m     \u001b[39mreturn\u001b[39;00m \u001b[39mself\u001b[39m\u001b[39m.\u001b[39mage \u001b[39m==\u001b[39m other\u001b[39m.\u001b[39;49mage\n",
      "\u001b[1;31mAttributeError\u001b[0m: 'int' object has no attribute 'age'"
     ]
    }
   ],
   "source": [
    "print(john == 25)"
   ]
  },
  {
   "cell_type": "code",
   "execution_count": 28,
   "metadata": {},
   "outputs": [],
   "source": [
    "class Person:\n",
    "    def __init__(self, first_name, last_name, age):\n",
    "        self.first_name = first_name\n",
    "        self.last_name = last_name\n",
    "        self.age = age\n",
    "\n",
    "    def __eq__(self, other):\n",
    "        if isinstance(other, Person):\n",
    "            return self.age == other.age\n",
    "        if isinstance(other, int):\n",
    "            return self.age == other\n",
    "        return False\n",
    "\n",
    "john = Person(\"John\", \"Doe\", 25)\n",
    "jane = Person(\"Jane\", \"Doe\", 25)"
   ]
  },
  {
   "cell_type": "code",
   "execution_count": 32,
   "metadata": {},
   "outputs": [
    {
     "name": "stdout",
     "output_type": "stream",
     "text": [
      "False\n"
     ]
    }
   ],
   "source": [
    "print(john == 25.0)"
   ]
  },
  {
   "cell_type": "code",
   "execution_count": 35,
   "metadata": {},
   "outputs": [],
   "source": [
    "class Person:\n",
    "    def __init__(self, first_name, last_name, age):\n",
    "        self.first_name = first_name\n",
    "        self.last_name = last_name\n",
    "        self.age = age\n",
    "\n",
    "    def __eq__(self, other):\n",
    "        if isinstance(other, Person):\n",
    "            return self.age == other.age and self.first_name == other.first_name and self.last_name == other.last_name\n",
    "        if isinstance(other, int):\n",
    "            return self.age == other\n",
    "        return False\n",
    "\n",
    "john = Person(\"John\", \"Doe\", 25)\n",
    "jane = Person(\"Jane\", \"Doe\", 25)\n",
    "john2 = Person('John', 'Doe', 25)"
   ]
  },
  {
   "cell_type": "code",
   "execution_count": 37,
   "metadata": {},
   "outputs": [
    {
     "name": "stdout",
     "output_type": "stream",
     "text": [
      "False\n",
      "True\n"
     ]
    }
   ],
   "source": [
    "print(john == jane)\n",
    "print(john == john2)"
   ]
  }
 ],
 "metadata": {
  "kernelspec": {
   "display_name": "venv",
   "language": "python",
   "name": "python3"
  },
  "language_info": {
   "codemirror_mode": {
    "name": "ipython",
    "version": 3
   },
   "file_extension": ".py",
   "mimetype": "text/x-python",
   "name": "python",
   "nbconvert_exporter": "python",
   "pygments_lexer": "ipython3",
   "version": "3.10.7"
  },
  "orig_nbformat": 4
 },
 "nbformat": 4,
 "nbformat_minor": 2
}
