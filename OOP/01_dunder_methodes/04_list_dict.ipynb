{
 "cells": [
  {
   "cell_type": "code",
   "execution_count": 29,
   "metadata": {},
   "outputs": [
    {
     "name": "stdout",
     "output_type": "stream",
     "text": [
      "{'a': 2}\n"
     ]
    }
   ],
   "source": [
    "d = {}\n",
    "d['a'] = 2\n",
    "print(d)\n"
   ]
  },
  {
   "cell_type": "code",
   "execution_count": 30,
   "metadata": {},
   "outputs": [],
   "source": [
    "class Person:\n",
    "    def __init__(self, first_name, last_name, age):\n",
    "        self.first_name = first_name\n",
    "        self.last_name = last_name\n",
    "        self.age = age\n",
    "        self.friends = []\n",
    "        self.nick_names = {}\n",
    "    \n",
    "    def __setitem__(self, friend, nick_name):\n",
    "        self.friends.append(friend)\n",
    "        self.nick_names[friend] = nick_name"
   ]
  },
  {
   "cell_type": "code",
   "execution_count": 31,
   "metadata": {},
   "outputs": [],
   "source": [
    "john = Person(\"John\", \"Doe\", 15)\n",
    "john[\"mark\"] = \"foempie\""
   ]
  },
  {
   "cell_type": "code",
   "execution_count": 32,
   "metadata": {},
   "outputs": [
    {
     "name": "stdout",
     "output_type": "stream",
     "text": [
      "{'mark': 'foempie'}\n",
      "['mark']\n"
     ]
    }
   ],
   "source": [
    "print(john.nick_names)\n",
    "\n",
    "print(john.friends)"
   ]
  },
  {
   "cell_type": "code",
   "execution_count": null,
   "metadata": {},
   "outputs": [],
   "source": []
  },
  {
   "cell_type": "code",
   "execution_count": 36,
   "metadata": {},
   "outputs": [
    {
     "name": "stdout",
     "output_type": "stream",
     "text": [
      "{'mark': 'foempie'}\n"
     ]
    }
   ],
   "source": [
    "class Person:\n",
    "    def __init__(self, first_name, last_name, age):\n",
    "        self.first_name = first_name\n",
    "        self.last_name = last_name\n",
    "        self.age = age\n",
    "        self.friends = []\n",
    "        self.nick_names = {}\n",
    "    \n",
    "    def __setitem__(self, friend, nick_name):\n",
    "        self.friends.append(friend)\n",
    "        self.nick_names[friend] = nick_name\n",
    "\n",
    "    def __getitem__(self, friend):\n",
    "        if friend in self.friends:\n",
    "            return self.nick_names[friend]\n",
    "        else:\n",
    "            raise Exception(\"Friend does not exist\")\n",
    "        \n",
    "john = Person(\"John\", \"Doe\", 15)\n",
    "john[\"mark\"] = \"foempie\"\n",
    "print(john.nick_names)"
   ]
  },
  {
   "cell_type": "code",
   "execution_count": 35,
   "metadata": {},
   "outputs": [
    {
     "data": {
      "text/plain": [
       "'foempie'"
      ]
     },
     "execution_count": 35,
     "metadata": {},
     "output_type": "execute_result"
    }
   ],
   "source": [
    "john[\"mark\"]"
   ]
  },
  {
   "cell_type": "code",
   "execution_count": 37,
   "metadata": {},
   "outputs": [
    {
     "ename": "Exception",
     "evalue": "Friend does not exist",
     "output_type": "error",
     "traceback": [
      "\u001b[1;31m---------------------------------------------------------------------------\u001b[0m",
      "\u001b[1;31mException\u001b[0m                                 Traceback (most recent call last)",
      "\u001b[1;32mc:\\Users\\Echos Bv\\Desktop\\github_repos\\Les_Syntra\\OOP\\dunder_methodes\\04_list_dict.ipynb Cell 8\u001b[0m in \u001b[0;36m1\n\u001b[1;32m----> <a href='vscode-notebook-cell:/c%3A/Users/Echos%20Bv/Desktop/github_repos/Les_Syntra/OOP/dunder_methodes/04_list_dict.ipynb#X15sZmlsZQ%3D%3D?line=0'>1</a>\u001b[0m john[\u001b[39m'\u001b[39;49m\u001b[39mmarie\u001b[39;49m\u001b[39m'\u001b[39;49m]\n",
      "\u001b[1;32mc:\\Users\\Echos Bv\\Desktop\\github_repos\\Les_Syntra\\OOP\\dunder_methodes\\04_list_dict.ipynb Cell 8\u001b[0m in \u001b[0;36m1\n\u001b[0;32m     <a href='vscode-notebook-cell:/c%3A/Users/Echos%20Bv/Desktop/github_repos/Les_Syntra/OOP/dunder_methodes/04_list_dict.ipynb#X15sZmlsZQ%3D%3D?line=14'>15</a>\u001b[0m     \u001b[39mreturn\u001b[39;00m \u001b[39mself\u001b[39m\u001b[39m.\u001b[39mnick_names[friend]\n\u001b[0;32m     <a href='vscode-notebook-cell:/c%3A/Users/Echos%20Bv/Desktop/github_repos/Les_Syntra/OOP/dunder_methodes/04_list_dict.ipynb#X15sZmlsZQ%3D%3D?line=15'>16</a>\u001b[0m \u001b[39melse\u001b[39;00m:\n\u001b[1;32m---> <a href='vscode-notebook-cell:/c%3A/Users/Echos%20Bv/Desktop/github_repos/Les_Syntra/OOP/dunder_methodes/04_list_dict.ipynb#X15sZmlsZQ%3D%3D?line=16'>17</a>\u001b[0m     \u001b[39mraise\u001b[39;00m \u001b[39mException\u001b[39;00m(\u001b[39m\"\u001b[39m\u001b[39mFriend does not exist\u001b[39m\u001b[39m\"\u001b[39m)\n",
      "\u001b[1;31mException\u001b[0m: Friend does not exist"
     ]
    }
   ],
   "source": [
    "john['marie']"
   ]
  },
  {
   "cell_type": "code",
   "execution_count": null,
   "metadata": {},
   "outputs": [],
   "source": [
    "del john[\"mark\"]"
   ]
  },
  {
   "cell_type": "code",
   "execution_count": 42,
   "metadata": {},
   "outputs": [
    {
     "name": "stdout",
     "output_type": "stream",
     "text": [
      "{'mark': 'foempie'}\n"
     ]
    }
   ],
   "source": [
    "class Person:\n",
    "    def __init__(self, first_name, last_name, age):\n",
    "        self.first_name = first_name\n",
    "        self.last_name = last_name\n",
    "        self.age = age\n",
    "        self.friends = []\n",
    "        self.nick_names = {}\n",
    "    \n",
    "    def __setitem__(self, friend, nick_name):\n",
    "        self.friends.append(friend)\n",
    "        self.nick_names[friend] = nick_name\n",
    "\n",
    "    def __getitem__(self, friend):\n",
    "        if friend in self.friends:\n",
    "            return self.nick_names[friend]\n",
    "        else:\n",
    "            raise Exception(\"Friend does not exist\")\n",
    "    \n",
    "    def __delitem__(self, friend):\n",
    "        if friend in self.friends:\n",
    "            del self.nick_names[friend]\n",
    "            self.friends.remove(friend)            \n",
    "        \n",
    "john = Person(\"John\", \"Doe\", 15)\n",
    "john[\"mark\"] = \"foempie\"\n",
    "print(john.nick_names)"
   ]
  },
  {
   "cell_type": "code",
   "execution_count": 43,
   "metadata": {},
   "outputs": [
    {
     "name": "stdout",
     "output_type": "stream",
     "text": [
      "[]\n",
      "{}\n"
     ]
    }
   ],
   "source": [
    "del john[\"mark\"]\n",
    "print(john.friends)\n",
    "print(john.nick_names)"
   ]
  },
  {
   "cell_type": "code",
   "execution_count": 44,
   "metadata": {},
   "outputs": [
    {
     "name": "stdout",
     "output_type": "stream",
     "text": [
      "True\n"
     ]
    }
   ],
   "source": [
    "my_lis = [1, 2, 3, 4]\n",
    "\n",
    "print(1 in my_lis)"
   ]
  },
  {
   "cell_type": "code",
   "execution_count": 47,
   "metadata": {},
   "outputs": [
    {
     "name": "stdout",
     "output_type": "stream",
     "text": [
      "{'mark': 'foempie'}\n"
     ]
    }
   ],
   "source": [
    "class Person:\n",
    "    def __init__(self, first_name, last_name, age):\n",
    "        self.first_name = first_name\n",
    "        self.last_name = last_name\n",
    "        self.age = age\n",
    "        self.friends = []\n",
    "        self.nick_names = {}\n",
    "    \n",
    "    def __setitem__(self, friend, nick_name):\n",
    "        self.friends.append(friend)\n",
    "        self.nick_names[friend] = nick_name\n",
    "\n",
    "    def __getitem__(self, friend):\n",
    "        if friend in self.friends:\n",
    "            return self.nick_names[friend]\n",
    "        else:\n",
    "            raise Exception(\"Friend does not exist\")\n",
    "    \n",
    "    def __delitem__(self, friend):\n",
    "        if friend in self.friends:\n",
    "            del self.nick_names[friend]\n",
    "            self.friends.remove(friend)\n",
    "\n",
    "    def __contains__(self, name):\n",
    "        return  name in self.nick_names\n",
    "            \n",
    "            \n",
    "john = Person(\"John\", \"Doe\", 15)\n",
    "john[\"mark\"] = \"foempie\"\n",
    "print(john.nick_names)"
   ]
  },
  {
   "cell_type": "code",
   "execution_count": 49,
   "metadata": {},
   "outputs": [
    {
     "data": {
      "text/plain": [
       "False"
      ]
     },
     "execution_count": 49,
     "metadata": {},
     "output_type": "execute_result"
    }
   ],
   "source": [
    "\"mark\" in john"
   ]
  }
 ],
 "metadata": {
  "kernelspec": {
   "display_name": "venv",
   "language": "python",
   "name": "python3"
  },
  "language_info": {
   "codemirror_mode": {
    "name": "ipython",
    "version": 3
   },
   "file_extension": ".py",
   "mimetype": "text/x-python",
   "name": "python",
   "nbconvert_exporter": "python",
   "pygments_lexer": "ipython3",
   "version": "3.10.7"
  },
  "orig_nbformat": 4
 },
 "nbformat": 4,
 "nbformat_minor": 2
}
