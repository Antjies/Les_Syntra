{
 "cells": [
  {
   "cell_type": "code",
   "execution_count": 7,
   "metadata": {},
   "outputs": [
    {
     "name": "stdout",
     "output_type": "stream",
     "text": [
      "bool(0): False\n",
      "bool(1): True\n",
      "bool(-1): True\n",
      "bool(100): True\n",
      "bool(-100): True\n",
      "bool(0.0001): True\n",
      "bool(0.00): False\n"
     ]
    }
   ],
   "source": [
    "# integer\n",
    "print(\"bool(0):\", bool(0))\n",
    "print(\"bool(1):\", bool(1)) \n",
    "print(\"bool(-1):\", bool(-1)) \n",
    "print(\"bool(100):\", bool(100)) \n",
    "print(\"bool(-100):\", bool(-100)) \n",
    "# float\n",
    "print(\"bool(0.0001):\", bool(0.0001))\n",
    "print(\"bool(0.00):\", bool(0.00))"
   ]
  },
  {
   "cell_type": "code",
   "execution_count": 9,
   "metadata": {},
   "outputs": [
    {
     "name": "stdout",
     "output_type": "stream",
     "text": [
      "bool(\"Python\"): True\n",
      "bool(''): False\n",
      "bool('False'): True\n",
      "bool('0'): True\n"
     ]
    }
   ],
   "source": [
    "# bool() with strings\n",
    "print('bool(\"Python\"):', bool(\"Python\")) # len > 0\n",
    "print(\"bool(''):\", bool('')) # len = 0\n",
    "print(\"bool('False'):\", bool('False'))\n",
    "print(\"bool('0'):\", bool('0'))"
   ]
  },
  {
   "cell_type": "code",
   "execution_count": 12,
   "metadata": {},
   "outputs": [
    {
     "name": "stdout",
     "output_type": "stream",
     "text": [
      "filled list: True\n",
      "empty list: False\n",
      "empty tuple: False\n",
      "emty dictionary: False\n"
     ]
    }
   ],
   "source": [
    "# list\n",
    "a = [1, 2, 3, 4]\n",
    "print(\"filled list:\", bool(a))\n",
    " \n",
    "# empty lijsten\n",
    "a = [] \n",
    "print(\"empty list:\", bool(a))\n",
    "a = ()\n",
    "print(\"empty tuple:\", bool(a))\n",
    "a = {}\n",
    "print(\"emty dictionary:\", bool(a))"
   ]
  },
  {
   "cell_type": "code",
   "execution_count": 16,
   "metadata": {},
   "outputs": [
    {
     "name": "stdout",
     "output_type": "stream",
     "text": [
      "Het is waar\n"
     ]
    }
   ],
   "source": [
    "if 1:\n",
    "    print(\"Het is waar\")"
   ]
  },
  {
   "attachments": {},
   "cell_type": "markdown",
   "metadata": {},
   "source": [
    "`__bool__`"
   ]
  },
  {
   "cell_type": "code",
   "execution_count": 26,
   "metadata": {},
   "outputs": [],
   "source": [
    "class Person:\n",
    "    def __init__(self, first_name, last_name, age):\n",
    "        self.first_name = first_name\n",
    "        self.last_name = last_name\n",
    "        self.age = age\n",
    "\n",
    "    def __bool__(self):\n",
    "        return self.age >= 18\n",
    "\n",
    "\n",
    "john = Person(\"John\", \"Doe\", 25)\n",
    "markske = Person(\"Mark\", \"Doe\", 17)\n",
    "juliette = Person(\"Juliette\", \"Capulet\", 18)"
   ]
  },
  {
   "cell_type": "code",
   "execution_count": 27,
   "metadata": {},
   "outputs": [
    {
     "name": "stdout",
     "output_type": "stream",
     "text": [
      "John is toegelaten\n",
      "Mark is NIET toegelaten\n",
      "Juliette is toegelaten\n"
     ]
    }
   ],
   "source": [
    "personen = [john, markske, juliette]\n",
    "\n",
    "for persoon in personen:\n",
    "    if persoon:\n",
    "        print(f\"{persoon.first_name} is toegelaten\")\n",
    "    else:\n",
    "        print(f\"{persoon.first_name} is NIET toegelaten\")"
   ]
  },
  {
   "cell_type": "code",
   "execution_count": 41,
   "metadata": {},
   "outputs": [],
   "source": [
    "class Person:\n",
    "    def __init__(self, first_name, last_name, age):\n",
    "        self.first_name = first_name\n",
    "        self.last_name = last_name\n",
    "        self.age = age\n",
    "\n",
    "    def __bool__(self):\n",
    "        return self.age >= 18\n",
    "    \n",
    "    def __int__(self):\n",
    "        return 5\n",
    "\n",
    "\n",
    "john = Person(\"John\", \"Doe\", 25)\n",
    "markske = Person(\"Mark\", \"Doe\", 17)\n",
    "juliette = Person(\"Juliette\", \"Capulet\", 18)"
   ]
  },
  {
   "cell_type": "code",
   "execution_count": 42,
   "metadata": {},
   "outputs": [
    {
     "name": "stdout",
     "output_type": "stream",
     "text": [
      "5\n"
     ]
    }
   ],
   "source": [
    "print(int(john))"
   ]
  },
  {
   "attachments": {},
   "cell_type": "markdown",
   "metadata": {},
   "source": [
    "# `__len__`"
   ]
  },
  {
   "cell_type": "code",
   "execution_count": 50,
   "metadata": {},
   "outputs": [],
   "source": [
    "class Person:\n",
    "    def __init__(self, first_name, last_name, age):\n",
    "        self.first_name = first_name\n",
    "        self.last_name = last_name\n",
    "        self.age = age\n",
    "        self.friends = [\"mark\", \"jos\"]\n",
    "\n",
    "    def __len__(self):\n",
    "        return len(self.friends)\n",
    "\n",
    "john = Person(\"John\", \"Doe\", 25)\n"
   ]
  },
  {
   "cell_type": "code",
   "execution_count": 51,
   "metadata": {},
   "outputs": [
    {
     "data": {
      "text/plain": [
       "2"
      ]
     },
     "execution_count": 51,
     "metadata": {},
     "output_type": "execute_result"
    }
   ],
   "source": [
    "len(john)"
   ]
  }
 ],
 "metadata": {
  "kernelspec": {
   "display_name": "venv",
   "language": "python",
   "name": "python3"
  },
  "language_info": {
   "codemirror_mode": {
    "name": "ipython",
    "version": 3
   },
   "file_extension": ".py",
   "mimetype": "text/x-python",
   "name": "python",
   "nbconvert_exporter": "python",
   "pygments_lexer": "ipython3",
   "version": "3.10.7"
  },
  "orig_nbformat": 4
 },
 "nbformat": 4,
 "nbformat_minor": 2
}
