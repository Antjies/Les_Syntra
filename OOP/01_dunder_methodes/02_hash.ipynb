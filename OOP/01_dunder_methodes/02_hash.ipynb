{
 "cells": [
  {
   "attachments": {},
   "cell_type": "markdown",
   "metadata": {},
   "source": [
    "`def __hash__:`"
   ]
  },
  {
   "cell_type": "code",
   "execution_count": 7,
   "metadata": {},
   "outputs": [
    {
     "name": "stdout",
     "output_type": "stream",
     "text": [
      "2\n",
      "461168601842739202\n",
      "-2708263385005480302\n"
     ]
    }
   ],
   "source": [
    "print(hash(2))\n",
    "print(hash(2.2))\n",
    "print(hash(\"x\"))"
   ]
  },
  {
   "cell_type": "code",
   "execution_count": 13,
   "metadata": {},
   "outputs": [
    {
     "name": "stdout",
     "output_type": "stream",
     "text": [
      "-8342362119021424166\n"
     ]
    }
   ],
   "source": [
    "print(hash(\"xdf dghh\"))"
   ]
  },
  {
   "cell_type": "code",
   "execution_count": 14,
   "metadata": {},
   "outputs": [
    {
     "ename": "TypeError",
     "evalue": "unhashable type: 'list'",
     "output_type": "error",
     "traceback": [
      "\u001b[1;31m---------------------------------------------------------------------------\u001b[0m",
      "\u001b[1;31mTypeError\u001b[0m                                 Traceback (most recent call last)",
      "\u001b[1;32mc:\\Users\\Echos Bv\\Desktop\\github_repos\\Les_Syntra\\OOP\\dunder_methodes\\02_hash.ipynb Cell 4\u001b[0m in \u001b[0;36m1\n\u001b[1;32m----> <a href='vscode-notebook-cell:/c%3A/Users/Echos%20Bv/Desktop/github_repos/Les_Syntra/OOP/dunder_methodes/02_hash.ipynb#W3sZmlsZQ%3D%3D?line=0'>1</a>\u001b[0m \u001b[39mprint\u001b[39m(\u001b[39mhash\u001b[39;49m([\u001b[39m1\u001b[39;49m, \u001b[39m2\u001b[39;49m, \u001b[39m3\u001b[39;49m]))\n",
      "\u001b[1;31mTypeError\u001b[0m: unhashable type: 'list'"
     ]
    }
   ],
   "source": [
    "print(hash([1, 2, 3]))"
   ]
  },
  {
   "cell_type": "code",
   "execution_count": 20,
   "metadata": {},
   "outputs": [
    {
     "name": "stdout",
     "output_type": "stream",
     "text": [
      "8409376899596376432\n"
     ]
    }
   ],
   "source": [
    "print(hash((2, 3)))"
   ]
  },
  {
   "cell_type": "code",
   "execution_count": 21,
   "metadata": {},
   "outputs": [
    {
     "ename": "TypeError",
     "evalue": "unhashable type: 'dict'",
     "output_type": "error",
     "traceback": [
      "\u001b[1;31m---------------------------------------------------------------------------\u001b[0m",
      "\u001b[1;31mTypeError\u001b[0m                                 Traceback (most recent call last)",
      "\u001b[1;32mc:\\Users\\Echos Bv\\Desktop\\github_repos\\Les_Syntra\\OOP\\dunder_methodes\\02_hash.ipynb Cell 6\u001b[0m in \u001b[0;36m1\n\u001b[1;32m----> <a href='vscode-notebook-cell:/c%3A/Users/Echos%20Bv/Desktop/github_repos/Les_Syntra/OOP/dunder_methodes/02_hash.ipynb#W5sZmlsZQ%3D%3D?line=0'>1</a>\u001b[0m \u001b[39mprint\u001b[39m(\u001b[39mhash\u001b[39;49m({\u001b[39m2\u001b[39;49m:\u001b[39m\"\u001b[39;49m\u001b[39ma\u001b[39;49m\u001b[39m\"\u001b[39;49m, \u001b[39m4\u001b[39;49m:\u001b[39m5\u001b[39;49m}))\n",
      "\u001b[1;31mTypeError\u001b[0m: unhashable type: 'dict'"
     ]
    }
   ],
   "source": [
    "print(hash({2:\"a\", 4:5}))"
   ]
  },
  {
   "attachments": {},
   "cell_type": "markdown",
   "metadata": {},
   "source": [
    "## __eq__ en __hash__\n",
    "\n",
    "eigenschappen om snel zoeken mogelijk te maken:\n",
    "\n",
    "1. Als ``a == b`` dan moet ``hash(a) == hash(b)``\n",
    "2. Als ``hash(a) == hash(b)``, dan kan ``a == b``\n",
    "3. Als ``hash(a) != hash(b)``, dan moet ``a != b``"
   ]
  },
  {
   "cell_type": "code",
   "execution_count": 22,
   "metadata": {},
   "outputs": [
    {
     "name": "stdout",
     "output_type": "stream",
     "text": [
      "de hash van x is 1 \n",
      " \t --  de identity van x is 2285711982832\n",
      "de hash van y is 5190489966213823513 \n",
      " \t --  de identity van y is 2285713149808\n"
     ]
    }
   ],
   "source": [
    "x = 1\n",
    "y = \"b\"\n",
    "\n",
    "print(\"de hash van x is\", hash(x), \"\\n \\t -- \", \"de identity van x is\", id(x))\n",
    "print(\"de hash van y is\", hash(y), \"\\n \\t -- \", \"de identity van y is\", id(y))"
   ]
  },
  {
   "cell_type": "code",
   "execution_count": 27,
   "metadata": {},
   "outputs": [
    {
     "name": "stdout",
     "output_type": "stream",
     "text": [
      "de hash van my_tuple is -1440771752368011620 \n",
      " \t --  de identity van my_tuple is 2285820472640\n",
      "de hash van my_immutable_set is 5137918272028607006 \n",
      " \t --  de identity van my_immutable_set is 2285792505504\n"
     ]
    }
   ],
   "source": [
    "my_tuple = (x, y)\n",
    "my_immutable_set = frozenset({x, y})\n",
    "\n",
    "print(\"de hash van my_tuple is\", hash(my_tuple), \"\\n \\t -- \", \"de identity van my_tuple is\", id(my_tuple))\n",
    "print(\"de hash van my_immutable_set is\", hash(my_immutable_set), \"\\n \\t -- \", \"de identity van my_immutable_set is\", id(my_immutable_set))"
   ]
  },
  {
   "cell_type": "code",
   "execution_count": 26,
   "metadata": {},
   "outputs": [
    {
     "name": "stdout",
     "output_type": "stream",
     "text": [
      "de hash van my_other_tuple is -1440771752368011620 \n",
      " \t --  de identity van my_other_tuple is 2285820470976\n"
     ]
    }
   ],
   "source": [
    "my_other_tuple = (x, y)\n",
    "\n",
    "print(\"de hash van my_other_tuple is\", hash(my_other_tuple), \"\\n \\t -- \", \"de identity van my_other_tuple is\", id(my_other_tuple))\n"
   ]
  },
  {
   "cell_type": "code",
   "execution_count": 29,
   "metadata": {},
   "outputs": [
    {
     "name": "stdout",
     "output_type": "stream",
     "text": [
      "True\n",
      "False\n"
     ]
    }
   ],
   "source": [
    "print(my_other_tuple == my_tuple)\n",
    "print(my_other_tuple is my_tuple)"
   ]
  },
  {
   "attachments": {},
   "cell_type": "markdown",
   "metadata": {},
   "source": [
    "## Hoe werken dictionaries\n",
    "\n",
    "Bewaar een object:\n",
    "* `__hash__` van de key value == hash_value\n",
    "    => als de key niet Hashable is \n",
    "    => TypeError\n",
    "* Bewaar de (hash_value, key, waarde) in een array op locatie `hash_value%len(array)`\n",
    "\n",
    "\n",
    "Zoek een object via een key:\n",
    "* `__hash__` van de key value ==hash(key)\n",
    "    => als de key niet Hashable is \n",
    "    => TypeError\n",
    "* kijk op ``hash(key)%len(array)`` voor een match met de hash_value\n",
    "    => wanneer hash_value == hash(key) \n",
    "    => check for equality (eerst via identity, dan via equality)"
   ]
  },
  {
   "cell_type": "code",
   "execution_count": 40,
   "metadata": {},
   "outputs": [],
   "source": [
    "class Person:\n",
    "    def __init__(self, first_name, last_name, age):\n",
    "        self.first_name = first_name\n",
    "        self.last_name = last_name\n",
    "        self.age = age\n",
    "\n",
    "john = Person(\"John\", \"Doe\", 25)\n"
   ]
  },
  {
   "cell_type": "code",
   "execution_count": 36,
   "metadata": {},
   "outputs": [
    {
     "name": "stdout",
     "output_type": "stream",
     "text": [
      "True\n"
     ]
    }
   ],
   "source": [
    "my_list = [john, \"abc\", 123]\n",
    "print(john in my_list)"
   ]
  },
  {
   "cell_type": "code",
   "execution_count": 42,
   "metadata": {},
   "outputs": [
    {
     "name": "stdout",
     "output_type": "stream",
     "text": [
      "False\n"
     ]
    }
   ],
   "source": [
    "my_list = [Person(\"John\", \"Doe\", 25), \"abc\", 123]\n",
    "print(john in my_list)"
   ]
  },
  {
   "cell_type": "code",
   "execution_count": 43,
   "metadata": {},
   "outputs": [],
   "source": [
    "class Person:\n",
    "    def __init__(self, first_name, last_name, age):\n",
    "        self.first_name = first_name\n",
    "        self.last_name = last_name\n",
    "        self.age = age\n",
    "    \n",
    "    def __eq__(self, other):\n",
    "        if isinstance(other, Person):\n",
    "            return self.age == other.age and self.last_name == other.last_name and self.first_name == other.first_name\n",
    "        return False\n",
    "\n",
    "john = Person(\"John\", \"Doe\", 25)\n",
    "jane = Person('Jane', 'Doe', 25)\n",
    "john2 = Person('John', 'Doe', 25)"
   ]
  },
  {
   "cell_type": "code",
   "execution_count": 44,
   "metadata": {},
   "outputs": [
    {
     "name": "stdout",
     "output_type": "stream",
     "text": [
      "True\n"
     ]
    }
   ],
   "source": [
    "print(john == john2)"
   ]
  },
  {
   "cell_type": "code",
   "execution_count": 45,
   "metadata": {},
   "outputs": [
    {
     "name": "stdout",
     "output_type": "stream",
     "text": [
      "True\n"
     ]
    }
   ],
   "source": [
    "my_list = [Person(\"John\", \"Doe\", 25), \"abc\", 123]\n",
    "print(john in my_list)"
   ]
  },
  {
   "cell_type": "code",
   "execution_count": 46,
   "metadata": {},
   "outputs": [
    {
     "ename": "TypeError",
     "evalue": "unhashable type: 'Person'",
     "output_type": "error",
     "traceback": [
      "\u001b[1;31m---------------------------------------------------------------------------\u001b[0m",
      "\u001b[1;31mTypeError\u001b[0m                                 Traceback (most recent call last)",
      "\u001b[1;32mc:\\Users\\Echos Bv\\Desktop\\github_repos\\Les_Syntra\\OOP\\dunder_methodes\\02_hash.ipynb Cell 19\u001b[0m in \u001b[0;36m1\n\u001b[1;32m----> <a href='vscode-notebook-cell:/c%3A/Users/Echos%20Bv/Desktop/github_repos/Les_Syntra/OOP/dunder_methodes/02_hash.ipynb#X30sZmlsZQ%3D%3D?line=0'>1</a>\u001b[0m my_dict \u001b[39m=\u001b[39m {john : \u001b[39m10\u001b[39m}\n",
      "\u001b[1;31mTypeError\u001b[0m: unhashable type: 'Person'"
     ]
    }
   ],
   "source": [
    "my_dict = {john : 10}"
   ]
  },
  {
   "cell_type": "code",
   "execution_count": 47,
   "metadata": {},
   "outputs": [],
   "source": [
    "my_dict = {10: john}"
   ]
  },
  {
   "cell_type": "code",
   "execution_count": 49,
   "metadata": {},
   "outputs": [
    {
     "ename": "TypeError",
     "evalue": "unhashable type: 'Person'",
     "output_type": "error",
     "traceback": [
      "\u001b[1;31m---------------------------------------------------------------------------\u001b[0m",
      "\u001b[1;31mTypeError\u001b[0m                                 Traceback (most recent call last)",
      "\u001b[1;32mc:\\Users\\Echos Bv\\Desktop\\github_repos\\Les_Syntra\\OOP\\dunder_methodes\\02_hash.ipynb Cell 21\u001b[0m in \u001b[0;36m2\n\u001b[0;32m      <a href='vscode-notebook-cell:/c%3A/Users/Echos%20Bv/Desktop/github_repos/Les_Syntra/OOP/dunder_methodes/02_hash.ipynb#X32sZmlsZQ%3D%3D?line=0'>1</a>\u001b[0m my_set \u001b[39m=\u001b[39m \u001b[39mset\u001b[39m()\n\u001b[1;32m----> <a href='vscode-notebook-cell:/c%3A/Users/Echos%20Bv/Desktop/github_repos/Les_Syntra/OOP/dunder_methodes/02_hash.ipynb#X32sZmlsZQ%3D%3D?line=1'>2</a>\u001b[0m my_set\u001b[39m.\u001b[39;49madd(john)\n",
      "\u001b[1;31mTypeError\u001b[0m: unhashable type: 'Person'"
     ]
    }
   ],
   "source": [
    "my_set = set()\n",
    "my_set.add(john)"
   ]
  },
  {
   "cell_type": "code",
   "execution_count": 51,
   "metadata": {},
   "outputs": [],
   "source": [
    "class Person:\n",
    "    def __init__(self, first_name, last_name, age):\n",
    "        self.first_name = first_name\n",
    "        self.last_name = last_name\n",
    "        self.age = age\n",
    "    \n",
    "    def __eq__(self, other):\n",
    "        if isinstance(other, Person):\n",
    "            return self.age == other.age and self.last_name == other.last_name and self.first_name == other.first_name\n",
    "        return False\n",
    "    \n",
    "    def __hash__(self):\n",
    "        return hash((self.last_name, self.first_name))\n",
    "\n",
    "john = Person(\"John\", \"Doe\", 25)\n",
    "jane = Person('Jane', 'Doe', 25)\n",
    "john2 = Person('John', 'Doe', 25)"
   ]
  },
  {
   "cell_type": "code",
   "execution_count": 52,
   "metadata": {},
   "outputs": [
    {
     "data": {
      "text/plain": [
       "-6780865828464579128"
      ]
     },
     "execution_count": 52,
     "metadata": {},
     "output_type": "execute_result"
    }
   ],
   "source": [
    "hash(john)"
   ]
  },
  {
   "cell_type": "code",
   "execution_count": 54,
   "metadata": {},
   "outputs": [
    {
     "data": {
      "text/plain": [
       "-6780865828464579128"
      ]
     },
     "execution_count": 54,
     "metadata": {},
     "output_type": "execute_result"
    }
   ],
   "source": [
    "john.__hash__()"
   ]
  },
  {
   "cell_type": "code",
   "execution_count": 53,
   "metadata": {},
   "outputs": [
    {
     "data": {
      "text/plain": [
       "-6780865828464579128"
      ]
     },
     "execution_count": 53,
     "metadata": {},
     "output_type": "execute_result"
    }
   ],
   "source": [
    "hash((john.last_name, john.first_name))"
   ]
  },
  {
   "cell_type": "code",
   "execution_count": 55,
   "metadata": {},
   "outputs": [
    {
     "data": {
      "text/plain": [
       "-6780865828464579128"
      ]
     },
     "execution_count": 55,
     "metadata": {},
     "output_type": "execute_result"
    }
   ],
   "source": [
    "hash(john2)"
   ]
  },
  {
   "cell_type": "code",
   "execution_count": 56,
   "metadata": {},
   "outputs": [],
   "source": [
    "my_dict = {john : 10}"
   ]
  },
  {
   "cell_type": "code",
   "execution_count": 57,
   "metadata": {},
   "outputs": [
    {
     "name": "stdout",
     "output_type": "stream",
     "text": [
      "{<__main__.Person object at 0x0000021433E7A7A0>}\n"
     ]
    }
   ],
   "source": [
    "my_set = set()\n",
    "my_set.add(john)\n",
    "print(my_set)"
   ]
  }
 ],
 "metadata": {
  "kernelspec": {
   "display_name": "venv",
   "language": "python",
   "name": "python3"
  },
  "language_info": {
   "codemirror_mode": {
    "name": "ipython",
    "version": 3
   },
   "file_extension": ".py",
   "mimetype": "text/x-python",
   "name": "python",
   "nbconvert_exporter": "python",
   "pygments_lexer": "ipython3",
   "version": "3.10.7"
  },
  "orig_nbformat": 4
 },
 "nbformat": 4,
 "nbformat_minor": 2
}
