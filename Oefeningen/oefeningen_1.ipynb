{
 "cells": [
  {
   "cell_type": "markdown",
   "metadata": {},
   "source": [
    "# 1. \n",
    "# Toon hoeveel 3 maal 4 is."
   ]
  },
  {
   "cell_type": "code",
   "execution_count": 17,
   "metadata": {},
   "outputs": [
    {
     "name": "stdout",
     "output_type": "stream",
     "text": [
      "12\n"
     ]
    }
   ],
   "source": [
    "print (3*4)"
   ]
  },
  {
   "cell_type": "markdown",
   "metadata": {},
   "source": [
    "# 2. \n",
    "# Controleer of 4.6 kleiner is of gelijk aan 5"
   ]
  },
  {
   "cell_type": "code",
   "execution_count": 16,
   "metadata": {},
   "outputs": [
    {
     "data": {
      "text/plain": [
       "True"
      ]
     },
     "execution_count": 16,
     "metadata": {},
     "output_type": "execute_result"
    }
   ],
   "source": [
    "4.6<=5"
   ]
  },
  {
   "cell_type": "markdown",
   "metadata": {},
   "source": [
    "# 3. \n",
    "# Vraag de gebruiker om zijn leeftijd, geef weer als hij ouder is dan 18 jaar."
   ]
  },
  {
   "cell_type": "code",
   "execution_count": 13,
   "metadata": {},
   "outputs": [
    {
     "name": "stdout",
     "output_type": "stream",
     "text": [
      "uw bent ouder dan 18 jaar\n"
     ]
    }
   ],
   "source": [
    "leeftijd = int(input(\"geef uw leeftijd in aantal jaar\"))\n",
    "if (leeftijd>18):\n",
    "    print (\"uw bent ouder dan 18 jaar\")\n",
    "else:\n",
    "    print (\"uw bent niet ouder dan 18 jaar\")"
   ]
  },
  {
   "cell_type": "markdown",
   "metadata": {},
   "source": [
    "# Oefening 4 \n",
    "# Maak een programma dat van een getal weergeeft even of oneven. Geef een boolean terug."
   ]
  },
  {
   "cell_type": "code",
   "execution_count": 10,
   "metadata": {},
   "outputs": [
    {
     "name": "stdout",
     "output_type": "stream",
     "text": [
      "Is the given number an even number? True\n"
     ]
    }
   ],
   "source": [
    "number = int(input(\"Please enter a number: \"))\n",
    "if number%2 == 0:\n",
    "    number = True\n",
    "else:\n",
    "    number = False\n",
    "print(f\"Is the given number an even number? {number}\")"
   ]
  },
  {
   "cell_type": "markdown",
   "metadata": {},
   "source": [
    "# 5. \n",
    "# Vraag de gebruiker zijn naam en nadien zijn leeftijd, druk dan af binnen hoeveel jaar hij op pensioen mag gaan (leeftijd 67)"
   ]
  },
  {
   "cell_type": "code",
   "execution_count": 11,
   "metadata": {},
   "outputs": [
    {
     "name": "stdout",
     "output_type": "stream",
     "text": [
      "Hi Jef, you can retire in 24 years\n"
     ]
    }
   ],
   "source": [
    "name = input(\"Please enter your name: \")\n",
    "age = int(input(\"Please enter your age: \"))\n",
    "retirement_age = 67\n",
    "\n",
    "if age < retirement_age:\n",
    "    print(f\"Hi {name}, you can retire in {retirement_age - age} years\")\n",
    "elif age == retirement_age:\n",
    "    print(f\"Congratulations {name}, you have hit the age to retire!\")\n",
    "elif age > retirement_age:\n",
    "    print(f\"Uhm, {name}? I suppose you are aware that you have been retired for {age - retirement_age} years?!?!\")"
   ]
  },
  {
   "cell_type": "markdown",
   "metadata": {},
   "source": [
    "# 6. \n",
    "# Vraag de gebruiker om een getal tussen 1 en 100 en geef weer als dit een even of oneven getal is"
   ]
  },
  {
   "cell_type": "code",
   "execution_count": null,
   "metadata": {},
   "outputs": [],
   "source": [
    "getal = int(input(\"geef een getal\"))\n",
    "\n",
    "if getal % 2 == 0:\n",
    "    print(\"dit getal is even\")\n",
    "elif getal % 2 == 1 :\n",
    "    print(\"dit getal is oneven\")"
   ]
  },
  {
   "cell_type": "code",
   "execution_count": null,
   "metadata": {},
   "outputs": [],
   "source": [
    "getal = int(input(\"geef een getal\"))\n",
    "\n",
    "if getal % 2 == 0:\n",
    "    print(\"dit getal is even\")\n",
    "else:\n",
    "    print(\"dit getal is oneven\")"
   ]
  },
  {
   "cell_type": "code",
   "execution_count": 5,
   "metadata": {},
   "outputs": [
    {
     "name": "stdout",
     "output_type": "stream",
     "text": [
      "dit is geen geheel getal\n"
     ]
    }
   ],
   "source": [
    "getal = float(input(\"geef een getal\"))\n",
    "\n",
    "if getal % 2 == 0:\n",
    "    print(\"dit getal is even\")\n",
    "elif getal % 2 == 1 :\n",
    "    print(\"dit getal is oneven\")\n",
    "else:\n",
    "    print(\"dit is geen geheel getal\")"
   ]
  },
  {
   "cell_type": "markdown",
   "metadata": {},
   "source": [
    "# 7. \n",
    "# Vraag de gebruiker om een cijfer tussen 1 en 20 en geef een puntenquotering weer waar \n",
    "# kleiner dan 5 = F, tussen 5 en 9 = E, tussen 9 en 12 = D, tussen 12 en 15 = C, tussen 15 en 18 = B, tussen 18 en 20 = A"
   ]
  },
  {
   "cell_type": "code",
   "execution_count": null,
   "metadata": {},
   "outputs": [],
   "source": [
    "getal_gebruiker = float(input(\"Geef een geheel getal tussen 1 en 20\"))\n",
    "\n",
    "if getal_gebruiker < 5:\n",
    "    print(\"Dit is een F\")\n",
    "elif getal_gebruiker >= 5 and getal_gebruiker < 9:\n",
    "    print(\"Dit is een E\")    \n",
    "elif getal_gebruiker >= 9 and getal_gebruiker < 12:\n",
    "    print(\"Dit is een D\")    \n",
    "elif getal_gebruiker >= 12 and getal_gebruiker < 15:\n",
    "    print(\"Dit is een C\")    \n",
    "elif getal_gebruiker >= 15 and getal_gebruiker < 18:\n",
    "    print(\"Dit is een B\")    \n",
    "elif getal_gebruiker >= 18 and getal_gebruiker <= 20:\n",
    "    print(\"Dit is een A\")    \n",
    "else:\n",
    "    print(\"dit is geen correct cijfer\")"
   ]
  },
  {
   "cell_type": "code",
   "execution_count": 8,
   "metadata": {},
   "outputs": [
    {
     "name": "stdout",
     "output_type": "stream",
     "text": [
      "dit is geen correct cijfer\n",
      "Dit is een C\n"
     ]
    }
   ],
   "source": [
    "getal_gebruiker = float(input(\"Geef een geheel getal tussen 1 en 20\"))\n",
    "cijfer_gegeven = False\n",
    "\n",
    "while not cijfer_gegeven:\n",
    "    if getal_gebruiker < 5:\n",
    "        print(\"Dit is een F\")\n",
    "        cijfer_gegeven = True\n",
    "    elif getal_gebruiker >= 5 and getal_gebruiker < 9:\n",
    "        print(\"Dit is een E\")    \n",
    "        cijfer_gegeven = True\n",
    "    elif getal_gebruiker >= 9 and getal_gebruiker < 12:\n",
    "        print(\"Dit is een D\")\n",
    "        cijfer_gegeven = True    \n",
    "    elif getal_gebruiker >= 12 and getal_gebruiker < 15:\n",
    "        print(\"Dit is een C\")\n",
    "        cijfer_gegeven = True    \n",
    "    elif getal_gebruiker >= 15 and getal_gebruiker < 18:\n",
    "        print(\"Dit is een B\")\n",
    "        cijfer_gegeven = True    \n",
    "    elif getal_gebruiker >= 18 and getal_gebruiker <= 20:\n",
    "        print(\"Dit is een A\")\n",
    "        cijfer_gegeven = True    \n",
    "    else:\n",
    "        print(\"dit is geen correct cijfer\")\n",
    "        getal_gebruiker = float(input(\"Geef een geheel getal tussen 1 en 20\"))"
   ]
  },
  {
   "cell_type": "markdown",
   "metadata": {},
   "source": [
    "# 8. \n",
    "# Vraag de gebruiker om een getal tussen 1 en 10 in te geven. Druk dan alle voorafgaande nummers af."
   ]
  },
  {
   "cell_type": "code",
   "execution_count": 15,
   "metadata": {},
   "outputs": [
    {
     "name": "stdout",
     "output_type": "stream",
     "text": [
      "geen juiste getal\n",
      "geen juiste getal\n",
      "0\n",
      "1\n",
      "2\n",
      "3\n"
     ]
    }
   ],
   "source": [
    "getal_gebruiker = int(input(\"Geef een geheel getal tussen 1 en 10\"))\n",
    "correct_getal = False\n",
    "\n",
    "while not correct_getal:\n",
    "    if getal_gebruiker < 10 and getal_gebruiker > 1:\n",
    "        correct_getal = True\n",
    "        for x in range(getal_gebruiker):\n",
    "            print(x)\n",
    "    else:\n",
    "        print(\"geen juiste getal\")\n",
    "        getal_gebruiker = int(input(\"Geef een geheel getal tussen 1 en 10\"))\n"
   ]
  },
  {
   "cell_type": "markdown",
   "metadata": {},
   "source": [
    "# 9. \n",
    "# Vraag de gebruiker om een getal tussen 1 en 60 in te geven. Druk alle cijfers af die je kan delen door 9."
   ]
  },
  {
   "cell_type": "code",
   "execution_count": 17,
   "metadata": {},
   "outputs": [
    {
     "name": "stdout",
     "output_type": "stream",
     "text": [
      "0\n",
      "9\n",
      "18\n",
      "27\n",
      "36\n",
      "45\n"
     ]
    }
   ],
   "source": [
    "getal_gebruiker = int(input(\"Geef een geheel getal tussen 1 en 60\"))\n",
    "correct_getal = False\n",
    "\n",
    "while not correct_getal:\n",
    "    if getal_gebruiker < 60 and getal_gebruiker > 1:\n",
    "        correct_getal = True\n",
    "        for x in range(0, getal_gebruiker+1, 9):\n",
    "            print(x)\n",
    "    else:\n",
    "        print(\"geen juiste getal\")\n",
    "        getal_gebruiker = int(input(\"Geef een geheel getal tussen 1 en 60\"))"
   ]
  },
  {
   "cell_type": "markdown",
   "metadata": {},
   "source": [
    "# 10. \n",
    "# Vraag de gebruiker om een tekst in te geven. Tel het aantal letters en cijfers en druk deze dan af\n",
    "# Dus bv. \"banaan\":\n",
    "# a = 3\n",
    "# b = 1\n",
    "# n = 2"
   ]
  },
  {
   "cell_type": "code",
   "execution_count": 7,
   "metadata": {},
   "outputs": [
    {
     "name": "stdout",
     "output_type": "stream",
     "text": [
      "{'b': '1', 'a': '3', 'n': '2'}\n"
     ]
    }
   ],
   "source": [
    "# text = input(\"geef een tekst in: \")\n",
    "text = \"banaan\"\n",
    "\n",
    "totalChars = {}\n",
    "counter = 0\n",
    "for i in text:\n",
    "    counter = 0\n",
    "    for j in text:\n",
    "        if i == j and totalChars.get(i) == None:\n",
    "            counter += 1\n",
    "            totalChars.update({f\"{i}\":f\"{counter}\"})  \n",
    "        elif i==j:\n",
    "            counter += 1\n",
    "            totalChars.update({f\"{i}\":f\"{counter}\"})  \n",
    "\n",
    "print(totalChars)"
   ]
  },
  {
   "cell_type": "code",
   "execution_count": 6,
   "metadata": {},
   "outputs": [
    {
     "name": "stdout",
     "output_type": "stream",
     "text": [
      "97\n",
      "65\n"
     ]
    }
   ],
   "source": [
    "print(ord(\"a\"))\n",
    "print(ord(\"A\"))"
   ]
  },
  {
   "cell_type": "code",
   "execution_count": 7,
   "metadata": {},
   "outputs": [
    {
     "name": "stdout",
     "output_type": "stream",
     "text": [
      "{'b': '1', 'a': '3', 'n': '2'}\n"
     ]
    }
   ],
   "source": [
    "totalChars = {}\n",
    "counter = 0\n",
    "found = False\n",
    "for i in text:\n",
    "    for j in text:\n",
    "        if i == j and totalChars.get(i) == None:\n",
    "            counter += 1\n",
    "            found = True\n",
    "    if found:\n",
    "        totalChars.update({f\"{i}\":f\"{counter}\"})  \n",
    "        found = False\n",
    "    counter = 0\n",
    "print(totalChars)   "
   ]
  },
  {
   "cell_type": "code",
   "execution_count": 8,
   "metadata": {},
   "outputs": [
    {
     "name": "stdout",
     "output_type": "stream",
     "text": [
      "{'b': 1, 'a': 3, 'n': 2}\n"
     ]
    }
   ],
   "source": [
    "dict = {}\n",
    "string = \"banaan\"\n",
    "for i in string:\n",
    "    if i in dict:\n",
    "        dict[i] = dict[i]+1\n",
    "    else:\n",
    "        dict[i] = 1\n",
    "print(dict)"
   ]
  },
  {
   "cell_type": "code",
   "execution_count": 2,
   "metadata": {},
   "outputs": [
    {
     "name": "stdout",
     "output_type": "stream",
     "text": [
      "['b', 'a', 'n']\n",
      "b  :  1\n",
      "a  :  3\n",
      "n  :  2\n"
     ]
    }
   ],
   "source": [
    "s = \"banaan\"\n",
    "def count_letters(word):\n",
    "    letters = []\n",
    "    for letter in word:\n",
    "        if letter not in letters:\n",
    "            letters.append(letter)\n",
    "    # print(letters)\n",
    "\n",
    "    lijst = []\n",
    "    for letter in letters:\n",
    "        counter = 0\n",
    "        for word_char in word:\n",
    "            if letter == word_char:\n",
    "                counter += 1\n",
    "        lijst.append((letter, counter))\n",
    "    # print(lijst)\n",
    "    \n",
    "    for x in lijst:\n",
    "        print(x[0], \" : \", x[1])\n",
    "\n",
    "count_letters(s)"
   ]
  },
  {
   "cell_type": "markdown",
   "metadata": {},
   "source": [
    "# 11. \n",
    "# De prijs van een limonade is € 3. Vraag de gebruiker hoeveel limonades hij koopt.\n",
    "# Toon daarna hoeveel hij in totaal moet betalen.\n",
    "# Als hij meer dan 10 limonades koopt, krijgt hij 5 % korting.\n",
    "# Voorbeeld 1: hij koopt 4 limonades, hij betaalt € 12.\n",
    "# Voorbeeld 2: hij koopt 15 limonades, hij betaalt € 42.75 (15 x 3 en daarop 5 % korting)"
   ]
  },
  {
   "cell_type": "code",
   "execution_count": 18,
   "metadata": {},
   "outputs": [
    {
     "name": "stdout",
     "output_type": "stream",
     "text": [
      "Je moet 42.75€ betalen\n"
     ]
    }
   ],
   "source": [
    "PRIJS_LIMONADE = 3\n",
    "\n",
    "aantal_limonades = int(input('Hoeveel limonades wil je kopen?'))\n",
    "\n",
    "price = float()\n",
    "\n",
    "if aantal_limonades <= 10:\n",
    "    price = aantal_limonades * PRIJS_LIMONADE\n",
    "else:\n",
    "    price = (aantal_limonades * PRIJS_LIMONADE)*0.95\n",
    "\n",
    "print(f\"Je moet {price}€ betalen\")"
   ]
  },
  {
   "cell_type": "markdown",
   "metadata": {},
   "source": [
    "# 12. \n",
    "# De prijs van een limonade is € 3. De gebruiker typt hoeveel limonades hij koopt.\n",
    "# Zolang hij een getal typt dat kleiner is of gelijk aan 0, moet hij dit getal opnieuw typen.\n",
    "# Toon daarna hoeveel hij in totaal moet betalen."
   ]
  },
  {
   "cell_type": "code",
   "execution_count": null,
   "metadata": {},
   "outputs": [],
   "source": [
    "PRIJS_LIMONADE = 3\n",
    "\n",
    "aantal_limonades = int(input('Hoeveel limonades wil je kopen?'))\n",
    "\n",
    "while aantal_limonades < 0:\n",
    "    aantal_limonades = int(input('Hoeveel limonades wil je kopen?'))\n",
    "\n",
    "price = float()\n",
    "\n",
    "if aantal_limonades <= 10:\n",
    "    price = aantal_limonades * PRIJS_LIMONADE\n",
    "else:\n",
    "    price = (aantal_limonades * PRIJS_LIMONADE)*0.95\n",
    "\n",
    "print(f\"Je moet {price}€ betalen\")"
   ]
  },
  {
   "cell_type": "markdown",
   "metadata": {},
   "source": [
    "# 13. \n",
    "# De gebruiker typt een getal.\n",
    "# Toon de tafel van vermenigvuldiging van dit getal: 1 x dit getal, 2 x dit getal, ... 10 x dit getal."
   ]
  },
  {
   "cell_type": "code",
   "execution_count": 20,
   "metadata": {},
   "outputs": [
    {
     "name": "stdout",
     "output_type": "stream",
     "text": [
      "5 * 0 \t = \t 0\n",
      "5 * 1 \t = \t 5\n",
      "5 * 2 \t = \t 10\n",
      "5 * 3 \t = \t 15\n",
      "5 * 4 \t = \t 20\n",
      "5 * 5 \t = \t 25\n",
      "5 * 6 \t = \t 30\n",
      "5 * 7 \t = \t 35\n",
      "5 * 8 \t = \t 40\n",
      "5 * 9 \t = \t 45\n",
      "5 * 10 \t = \t 50\n"
     ]
    }
   ],
   "source": [
    "getal_gebruiker = int(input(\"geef een geheel getal\"))\n",
    "\n",
    "for x in range(11):\n",
    "    print(f\"{getal_gebruiker} * {x} \\t = \\t {getal_gebruiker * x }\")"
   ]
  },
  {
   "cell_type": "markdown",
   "metadata": {},
   "source": [
    "# 14. \n",
    "# Vraag aan de gebruiker of hij werk heeft.\n",
    "# Als hij ja antwoordt toon je : \"Veel werkplezier\".\n",
    "# Anders vraag je of hij een opleiding wil volgen.\n",
    "# Als hij ja antwoordt, toon je : \"Je vindt opleidingen op www.syntra-ab.be\".\n",
    "# Anders toon je : \"Je vindt vacatures op www.vdab.be/jobs\"."
   ]
  },
  {
   "cell_type": "code",
   "execution_count": 2,
   "metadata": {},
   "outputs": [
    {
     "name": "stdout",
     "output_type": "stream",
     "text": [
      "Je vindt vacatures op www.vdab.be/jobs\n"
     ]
    }
   ],
   "source": [
    "werk_gebruiker = input(\"Heb je werk? antwoord met 'ja' of 'nee'\")\n",
    "correcte_input = False\n",
    "\n",
    "while not correcte_input:\n",
    "    if werk_gebruiker == 'ja':\n",
    "        heeft_werk = True\n",
    "        correcte_input = True\n",
    "    elif werk_gebruiker == 'nee':\n",
    "        heeft_werk = False\n",
    "        correcte_input = True\n",
    "    else:\n",
    "        werk_gebruiker = input(\"Heb je werk? antwoord met 'ja' of 'nee'\")\n",
    "\n",
    "if heeft_werk:\n",
    "    print(\"Veel werkplezier\")\n",
    "    next_step = False\n",
    "else:\n",
    "    opleiding_gebruiker = input('Wil je graag een opleiding volgen?')\n",
    "    next_step = True\n",
    "    correcte_input = False\n",
    "\n",
    "if next_step:\n",
    "    while not correcte_input:\n",
    "        if opleiding_gebruiker == 'ja':\n",
    "            wil_opleiding = True\n",
    "            correcte_input = True\n",
    "        elif opleiding_gebruiker == 'nee':\n",
    "            wil_opleiding = False\n",
    "            correcte_input = True\n",
    "        else:\n",
    "            opleiding_gebruiker = input('Wil je graag een opleiding volgen?')\n",
    "\n",
    "if next_step:\n",
    "    if wil_opleiding:\n",
    "        print(\"Je vindt opleidingen op www.syntra-ab.be\")\n",
    "    else:\n",
    "        print(\"Je vindt vacatures op www.vdab.be/jobs\")"
   ]
  },
  {
   "cell_type": "markdown",
   "metadata": {},
   "source": [
    "\n",
    "# 15.\n",
    "# Maak een dobbelsteen en gooi de dobbelsteen. Geef de gegooide waarde weer"
   ]
  },
  {
   "cell_type": "code",
   "execution_count": 55,
   "metadata": {},
   "outputs": [
    {
     "name": "stdout",
     "output_type": "stream",
     "text": [
      "11\n"
     ]
    }
   ],
   "source": [
    "import random\n",
    "\n",
    "def dobbelsteen(zijden):\n",
    "    return random.randint(1, zijden)\n",
    "\n",
    "print(dobbelsteen(23))"
   ]
  },
  {
   "cell_type": "code",
   "execution_count": 69,
   "metadata": {},
   "outputs": [
    {
     "data": {
      "text/plain": [
       "2"
      ]
     },
     "execution_count": 69,
     "metadata": {},
     "output_type": "execute_result"
    }
   ],
   "source": [
    "class Dobbelsteen():\n",
    "\n",
    "    def __init__(self, zijden):\n",
    "        self.zijden = zijden\n",
    "\n",
    "    def gooien(self):\n",
    "        return random.randint(1, self.zijden)\n",
    "    \n",
    "    def setzijden(self, zijden):\n",
    "        self.zijden = zijden\n",
    "\n",
    "dobbelsteen = Dobbelsteen(6)\n",
    "\n",
    "dobbelsteen.gooien()\n"
   ]
  }
 ],
 "metadata": {
  "kernelspec": {
   "display_name": "Python 3.10.7 ('venv': venv)",
   "language": "python",
   "name": "python3"
  },
  "language_info": {
   "codemirror_mode": {
    "name": "ipython",
    "version": 3
   },
   "file_extension": ".py",
   "mimetype": "text/x-python",
   "name": "python",
   "nbconvert_exporter": "python",
   "pygments_lexer": "ipython3",
   "version": "3.10.7"
  },
  "orig_nbformat": 4,
  "vscode": {
   "interpreter": {
    "hash": "2e4fda5e8d7dbdcdafd317d183e2776a0a1e50c4a43f5f633675534977b84ce2"
   }
  }
 },
 "nbformat": 4,
 "nbformat_minor": 2
}
