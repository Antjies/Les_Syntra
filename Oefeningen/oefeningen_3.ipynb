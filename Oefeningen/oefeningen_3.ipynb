{
 "cells": [
  {
   "cell_type": "markdown",
   "metadata": {},
   "source": [
    "# 1. \n",
    "# De gebruiker typt de leeftijd van elke bezoeker van een pretpark.\n",
    "# De gebruiker typt op het einde van de dag 0 als leeftijd.\n",
    "# Toon het aantal bezoekers dat korting kreeg.\n",
    "# Een bezoeker krijgt korting als zijn leeftijd kleiner is dan 7 of groter dan 80"
   ]
  },
  {
   "cell_type": "code",
   "execution_count": null,
   "metadata": {},
   "outputs": [],
   "source": [
    "def input_leeftijd_gebruiker():\n",
    "    leeftijd = int(input(\"Geef de leeftijd van de gebruiker, 0 om te stoppen\"))\n",
    "    return leeftijd\n",
    "\n",
    "def aantal_bezoekers_per_dag():\n",
    "    lijst_leeftijden = []\n",
    "    leeftijd = input_leeftijd_gebruiker()\n",
    "    lijst_leeftijden.append(leeftijd)\n",
    "    while leeftijd != 0:\n",
    "        leeftijd = input_leeftijd_gebruiker()\n",
    "        lijst_leeftijden.append(leeftijd)\n",
    "    \n",
    "\n",
    "    "
   ]
  },
  {
   "cell_type": "markdown",
   "metadata": {},
   "source": [
    "# 2. \n",
    "# De gebruiker typt temperaturen tot hij 777 typt.\n",
    "# Toon daarna enkel de vriestemperaturen (temperaturen <= 0)."
   ]
  },
  {
   "cell_type": "code",
   "execution_count": 3,
   "metadata": {},
   "outputs": [
    {
     "name": "stdout",
     "output_type": "stream",
     "text": [
      "-2\n",
      "-4\n"
     ]
    }
   ],
   "source": [
    "graad = int(input(\"Geef temperaturen in 1 per keer. \\n Typ 777 om te stoppen.\"))\n",
    "graden = []\n",
    "\n",
    "graden.append(graad)\n",
    "\n",
    "while graad != 777:\n",
    "    graad = int(input(\"Geef temperaturen in 1 per keer. \\n Typ 777 om te stoppen.\"))\n",
    "    graden.append(graad)\n",
    "\n",
    "for graad in graden:\n",
    "    if graad < 0:\n",
    "        print(graad)"
   ]
  },
  {
   "cell_type": "markdown",
   "metadata": {},
   "source": [
    "# 3.\n",
    "# De gebruiker tikt de naam, de lengte en het gewicht van personen tot hij stop als naam typt.\n",
    "# Toon de naam en het BMI van de personen.\n",
    "# Het BMI is het gewicht gedeeld door het kwadraat van de lengte."
   ]
  },
  {
   "cell_type": "code",
   "execution_count": 7,
   "metadata": {},
   "outputs": [
    {
     "name": "stdout",
     "output_type": "stream",
     "text": [
      "28.78210575368\n"
     ]
    }
   ],
   "source": [
    "naam, lengte, gewicht = input(\"geef naam, lengte in cm, gewicht in kg (komma als seperator)\").split(\",\")\n",
    "bmi = int(gewicht) / (int(lengte)/100)**2\n",
    "\n"
   ]
  },
  {
   "cell_type": "code",
   "execution_count": 12,
   "metadata": {},
   "outputs": [
    {
     "name": "stdout",
     "output_type": "stream",
     "text": [
      "[['jef', 28.78210575368], ['sander', 22.892819979188342]]\n",
      "jef \t\t bmi:  28.78210575368\n",
      "sander \t\t bmi:  22.892819979188342\n"
     ]
    }
   ],
   "source": [
    "lijst = []\n",
    "naam = input(\"Geef de naam van de persoon. Typ 'stop' om te stoppen\")\n",
    "\n",
    "while naam != \"stop\":    \n",
    "    lengte = int(input(\"Geef lengte in cm\"))\n",
    "    gewicht = int(input(\"Geef gewicht in kg\"))\n",
    "\n",
    "    bmi = gewicht / (lengte/100)**2\n",
    "\n",
    "\n",
    "    lijst.append([naam, bmi])\n",
    "\n",
    "    naam = input(\"Geef de naam van de persoon. Typ 'stop' om te stoppen\")\n",
    "\n",
    "for persoon in lijst:\n",
    "    print(persoon[0], \"\\t\\t bmi: \", persoon[1])\n"
   ]
  },
  {
   "cell_type": "markdown",
   "metadata": {},
   "source": [
    "# 4.\n",
    "# Maak een spel dat de gebruiker een getal tussen 1 en 20 moet raden. Als de gebruiker een cijfer ingeeft\n",
    "# dan krijgt hij een hint of het kleiner of groter is. Voeg ook een optie toe zodat de gebruiker kan\n",
    "# stoppen indien hij het spel beu is."
   ]
  },
  {
   "cell_type": "code",
   "execution_count": 13,
   "metadata": {},
   "outputs": [
    {
     "name": "stdout",
     "output_type": "stream",
     "text": [
      "Het getal is kleiner\n",
      "Het getal is kleiner\n",
      "Je hebt het gevonden, het getal was 1\n"
     ]
    }
   ],
   "source": [
    "import random\n",
    "\n",
    "def get_getal():\n",
    "    return random.randint(1, 20)\n",
    "\n",
    "def maak_gok():\n",
    "    gok = int(input(\"Geef een gok, getal tussen 1 & 20\"))\n",
    "    return gok\n",
    "\n",
    "def hoger_lager(getal, gok):\n",
    "    if getal > gok:\n",
    "        print(\"het getal is groter\")\n",
    "        return False\n",
    "    else:\n",
    "        print(\"Het getal is kleiner\")\n",
    "        return False\n",
    "\n",
    "def is_juist(getal, gok):\n",
    "    if getal == gok:\n",
    "        return True\n",
    "    else:\n",
    "        return False\n",
    "\n",
    "def game():\n",
    "    getal = get_getal()\n",
    "    gok = maak_gok()\n",
    "    while not is_juist(getal, gok):\n",
    "        hoger_lager(getal, gok)\n",
    "        gok = maak_gok()\n",
    "\n",
    "    print(f\"Je hebt het gevonden, het getal was {getal}\")\n",
    "\n",
    "\n",
    "game()        "
   ]
  },
  {
   "cell_type": "code",
   "execution_count": null,
   "metadata": {},
   "outputs": [],
   "source": [
    "Jef\n",
    "#0192\n",
    "\n",
    "Jef — 10/13/2022\n",
    "------------------------\n",
    "4.\n",
    "Maak een spel dat de gebruiker een getal tussen 1 en 20 moet raden. Als de gebruiker een cijfer ingeeft\n",
    "dan krijgt hij een hint of het kleiner of groter is. Voeg ook een optie toe zodat de gebruiker kan\n",
    "stoppen indien hij het spel beu is. \n",
    "Sosolatulipe09 — Today at 9:50 PM\n",
    "#4 Game find number between 1 and 20\n",
    "\n",
    "import random\n",
    "\n",
    "def TryParse(number):\n",
    "    try:\n",
    "        x = int(number)\n",
    "        return True\n",
    "    except:\n",
    "        return False\n",
    "    \n",
    "def CommpareNumbers(UserN, randonN):\n",
    "    if UserN == randonN:\n",
    "        print(\"you have found it !\")\n",
    "        return True\n",
    "    elif UserN < randonN:\n",
    "        print(\"try a higher number\")\n",
    "        return False\n",
    "    else:\n",
    "        print(\"try a lower number\")\n",
    "        return False\n",
    "\n",
    "numberFound = False\n",
    "randomNumber = random.randint(1, 20)\n",
    "while numberFound == False:\n",
    "    n = input(\"Please enter a number from 1, 20\")\n",
    "    if TryParse(n):\n",
    "        if int(n) >= 1 or int(n) <= 20:\n",
    "            numberFound = CommpareNumbers(int(n), randomNumber)\n",
    "        else:\n",
    "            print(\"ERROR: please choose a number between 1 and 20 !\")\n",
    "﻿\n"
   ]
  },
  {
   "cell_type": "markdown",
   "metadata": {},
   "source": [
    "# 5.\n",
    "# De gebruiker typt een woord. Hij typt daarna een letter.\n",
    "# Toon hoeveel keer de letter in het woord voorkomt.\n",
    "# Bij het woord programmeur en de letter r toont je: r komt 3 keer voor in programmeur."
   ]
  },
  {
   "cell_type": "code",
   "execution_count": 14,
   "metadata": {},
   "outputs": [
    {
     "data": {
      "text/plain": [
       "3"
      ]
     },
     "execution_count": 14,
     "metadata": {},
     "output_type": "execute_result"
    }
   ],
   "source": [
    "def aantal_keer_letter_in_woord(letter, woord):\n",
    "    aantal = 0\n",
    "    for char in woord:\n",
    "        if char == letter:\n",
    "            aantal += 1\n",
    "    return aantal\n",
    "\n",
    "aantal_keer_letter_in_woord(\"a\", \"banaan\")"
   ]
  },
  {
   "cell_type": "markdown",
   "metadata": {},
   "source": [
    "# 6.\n",
    "# De gebruiker typt een woord.\n",
    "# Zeg of dit woord een palindroom is. Een palindroom is een symmetrisch woord\n",
    "# dat je zowel van links naar rechts als van rechts naar links kan lezen. Voorbeeld: lepel."
   ]
  },
  {
   "cell_type": "code",
   "execution_count": 50,
   "metadata": {},
   "outputs": [
    {
     "name": "stdout",
     "output_type": "stream",
     "text": [
      "True\n",
      "True\n",
      "False\n",
      "False\n"
     ]
    }
   ],
   "source": [
    "def is_palindroom(woord):\n",
    "    # print(woord[:len(woord)//2])\n",
    "    # print(woord[::-1])\n",
    "    # print(woord[:len(woord)//2-1:-1])\n",
    "    if len(woord) % 2 == 0:\n",
    "        return woord[:len(woord)//2] == woord[:len(woord)//2-1:-1]\n",
    "    else:\n",
    "        return woord[:len(woord)//2] == woord[:len(woord)//2:-1]\n",
    "\n",
    "print(is_palindroom(\"lepel\"))\n",
    "print(is_palindroom(\"leel\"))\n",
    "print(is_palindroom(\"leper\"))\n",
    "print(is_palindroom(\"geel\"))"
   ]
  },
  {
   "cell_type": "code",
   "execution_count": 42,
   "metadata": {},
   "outputs": [
    {
     "data": {
      "text/plain": [
       "'tra'"
      ]
     },
     "execution_count": 42,
     "metadata": {},
     "output_type": "execute_result"
    }
   ],
   "source": [
    "woord = \"staart\"\n",
    "woord[:2:-1]"
   ]
  },
  {
   "cell_type": "markdown",
   "metadata": {},
   "source": [
    "# 7.\n",
    "# Maak een lijst met personen. Elke persoon heeft een naam en spaargeld.\n",
    "# Toon de namen en het spaargeld van de personen met meer dan € 1000 spaargeld"
   ]
  },
  {
   "cell_type": "code",
   "execution_count": 52,
   "metadata": {},
   "outputs": [
    {
     "name": "stdout",
     "output_type": "stream",
     "text": [
      "jos \t\t 10000 \t €\n",
      "jozef \t\t 1001 \t €\n"
     ]
    }
   ],
   "source": [
    "lijst = [[\"jef\", 100], [\"jos\", 10_000], ['janus', 200], [\"jozef\", 1001]]\n",
    "\n",
    "for info in lijst:\n",
    "    if info[1] > 1000:\n",
    "        print(f\"{info[0]} \\t\\t {info[1]} \\t €\")"
   ]
  },
  {
   "cell_type": "markdown",
   "metadata": {},
   "source": [
    "# 8.\n",
    "# De gebruiker typt per land de naam en de oppervlakte. Hij doet dit tot hij stop typt bij de naam.\n",
    "# Toon de gemiddelde oppervlakte van de landen.\n",
    "# Toon de landen met een oppervlakte onder dit gemiddelde.\n",
    "# Toon per land de naam en de oppervlakte.\n",
    "# Toon de landen met een oppervlakte boven dit gemiddelde.\n",
    "# Toon per land de naam en de oppervlakte."
   ]
  },
  {
   "cell_type": "code",
   "execution_count": 56,
   "metadata": {},
   "outputs": [
    {
     "name": "stdout",
     "output_type": "stream",
     "text": [
      "gemiddeld :  712263373.67\n",
      "-----------------\n",
      "landen ONDER het gemiddelde\n",
      "nl : \t\t 12345678.0\n",
      "fr : \t\t 987654.0\n",
      "-----------------\n",
      "landen BOVEN het gemiddelde\n",
      "be : \t\t 2123456789.0\n"
     ]
    }
   ],
   "source": [
    "naam = input(\"Geef de naam van het land. Typ 'stop' om het programma te beëindigen.\\n\")\n",
    "landen = []\n",
    "while naam != \"stop\":\n",
    "    opp = float(input(\"Geef de oppervlakte in km²\"))\n",
    "    land = [naam, opp]\n",
    "    landen.append(land)\n",
    "    naam = input(\"Geef de naam van het land. Typ 'stop' om het programma te beëindigen.\\n\")\n",
    "\n",
    "\n",
    "totale_opp = 0.0\n",
    "# totale_opp = float()\n",
    "\n",
    "for land in landen:\n",
    "    totale_opp += land[1]\n",
    "\n",
    "gemiddelde = totale_opp/len(landen)\n",
    "\n",
    "print(\"gemiddeld : \", round(gemiddelde, 2))\n",
    "\n",
    "print(\"-----------------\")\n",
    "\n",
    "print(\"landen ONDER het gemiddelde\")\n",
    "for land in landen:\n",
    "    if land[1] < gemiddelde:\n",
    "        print(f\"{land[0]} : \\t\\t {round(land[1], 0)}\")\n",
    "\n",
    "print(\"-----------------\")\n",
    "\n",
    "print(\"landen BOVEN het gemiddelde\")\n",
    "for land in landen:\n",
    "    if land[1] > gemiddelde:\n",
    "        print(f\"{land[0]} : \\t\\t {round(land[1], 0)}\")\n",
    "\n",
    "\n"
   ]
  },
  {
   "cell_type": "code",
   "execution_count": 59,
   "metadata": {},
   "outputs": [
    {
     "name": "stdout",
     "output_type": "stream",
     "text": [
      "gemiddeld :  34773744.33\n",
      "-----------------\n",
      "landen ONDER het gemiddelde\n",
      "be : \t\t 123456.0\n",
      "nl : \t\t 5432345.0\n",
      "-----------------\n",
      "landen BOVEN het gemiddelde\n",
      "fr : \t\t 98765432.0\n"
     ]
    }
   ],
   "source": [
    "\n",
    "naam = input(\"Geef de naam van het land. Typ 'stop' om het programma te beëindigen.\\n\")\n",
    "landen = {}\n",
    "while naam != \"stop\":\n",
    "    opp = float(input(\"Geef de oppervlakte in km²\"))\n",
    "    landen[naam] = opp\n",
    "    naam = input(\"Geef de naam van het land. Typ 'stop' om het programma te beëindigen.\\n\")\n",
    "\n",
    "\n",
    "gemiddelde = sum(landen.values())/len(landen.values())\n",
    "\n",
    "print(\"gemiddeld : \", round(gemiddelde, 2))\n",
    "\n",
    "print(\"-----------------\")\n",
    "\n",
    "print(\"landen ONDER het gemiddelde\")\n",
    "for land, opp in landen.items():\n",
    "    if opp < gemiddelde:\n",
    "        print(f\"{land} : \\t\\t {round(opp, 0)}\")\n",
    "\n",
    "print(\"-----------------\")\n",
    "\n",
    "print(\"landen BOVEN het gemiddelde\")\n",
    "for land, opp in landen.items():\n",
    "    if opp > gemiddelde:\n",
    "        print(f\"{land} : \\t\\t {round(opp, 0)}\")"
   ]
  },
  {
   "cell_type": "markdown",
   "metadata": {},
   "source": [
    "# 9.\n",
    "# De gebruiker typt per persoon de naam en de lengte.\n",
    "# Hij herhaalt dit tot hij stop typt bij de naam.\n",
    "# Toon de kleinste lengte van de personen.\n",
    "# Toon de personen met een lengte gelijk aan de kleinste lengte.\n",
    "# Toon per persoon de naam en de lengte.\n",
    "# Toon de grootste lengte van de personen.\n",
    "# Toon daarna de personen met een lengte gelijk aan de grootste lengte.\n",
    "# Toon per persoon de naam en de lengte."
   ]
  },
  {
   "cell_type": "code",
   "execution_count": 60,
   "metadata": {},
   "outputs": [],
   "source": [
    "naam = input(\"Geef de naam van de persoon. Typ 'stop' om het programma te beëindigen.\\n\")\n",
    "personen = []\n",
    "while naam != \"stop\":\n",
    "    lengte = float(input(\"Geef de lengte van deze persoon in cm\"))\n",
    "    persoon = [naam, lengte]\n",
    "    personen.append(persoon)\n",
    "    naam = input(\"Geef de naam van de persoon. Typ 'stop' om het programma te beëindigen.\\n\")\n",
    "\n",
    "max = 0.0\n",
    "for persoon in personen:\n",
    "    if persoon[1] > max:\n",
    "        max = persoon[1]\n"
   ]
  },
  {
   "cell_type": "code",
   "execution_count": 63,
   "metadata": {},
   "outputs": [
    {
     "name": "stdout",
     "output_type": "stream",
     "text": [
      "345.0\n",
      "[['jef', 12.0], ['fe', 345.0]]\n"
     ]
    }
   ],
   "source": [
    "print(max)\n",
    "print(personen)"
   ]
  },
  {
   "cell_type": "markdown",
   "metadata": {},
   "source": [
    "# 10.\n",
    "# De gebruiker typt per artikel de naam, de aankoopprijs en de verkoopprijs.\n",
    "# Hij herhaalt dit tot hij stop typt bij de naam.\n",
    "# Hij tikt daarna een woord.\n",
    "# Toon de namen van de artikels die in hun naam dit woord bevatten.\n",
    "# De gebruiker tikt twee getallen.\n",
    "# Als het tweede getal kleiner is dan het eerste getal toont je een foutmelding.\n",
    "# Anders toon je de namen en verkoopprijzen van de artikels waarvan de verkoopprijs ligt tussen\n",
    "# deze twee getallen. Als een verkoopprijs gelijk is aan het eerste of het tweede getal neem je het\n",
    "# ook op in de lijst.\n",
    "# Toon de gemiddelde verkoopprijs van de artikels."
   ]
  },
  {
   "cell_type": "code",
   "execution_count": 14,
   "metadata": {},
   "outputs": [
    {
     "name": "stdout",
     "output_type": "stream",
     "text": [
      "a\n",
      "b \t\t\t 2.0\n",
      "c \t\t\t 4.0\n",
      "de gemiddelde verkoopprijs is 2.3333333333333335\n"
     ]
    }
   ],
   "source": [
    "naam = input(\"Geef de naam van het artikel. Type stop om het programma te beëindigen.\")\n",
    "artikels = []\n",
    "while naam != \"stop\":\n",
    "    aankoop_prijs = float(input(\"Geef de aankoop prijs \"))\n",
    "    verkoop_prijs = float(input(\"Geef de verkoop prijs \"))\n",
    "    artikel = [naam, aankoop_prijs, verkoop_prijs]\n",
    "    artikels.append(artikel)\n",
    "    naam = input(\"Geef de naam van het artikel. Type stop om het programma te beëindigen.\")\n",
    "\n",
    "zoek_term = input(\"Geef het woord waarop je wil zoeken\")\n",
    "\n",
    "for artikel in artikels:\n",
    "    if zoek_term in artikel[0]:\n",
    "        print(f\"{artikel[0]}\")\n",
    "\n",
    "lage_prijs = float(input(\"Geef de laagste prijs : \"))\n",
    "hoge_prijs = float(input(\"Geef de hoogste prijs : \"))\n",
    "\n",
    "while lage_prijs >= hoge_prijs:\n",
    "    lage_prijs = float(input(\"Geef de laagste prijs : \"))\n",
    "    hoge_prijs = float(input(\"Geef de hoogste prijs : \"))\n",
    "\n",
    "for artikel in artikels:\n",
    "    if lage_prijs <= artikel[1] <= hoge_prijs:\n",
    "        print(f\"{artikel[0]} \\t\\t\\t {artikel[1]}\")\n",
    "\n",
    "totaal_prijs = 0\n",
    "for artikel in artikels:\n",
    "    totaal_prijs += artikel[1]\n",
    "\n",
    "gemiddelde = totaal_prijs / len(artikels)\n",
    "\n",
    "print(f\"de gemiddelde verkoopprijs is {gemiddelde}\")"
   ]
  },
  {
   "cell_type": "code",
   "execution_count": 25,
   "metadata": {},
   "outputs": [
    {
     "name": "stdout",
     "output_type": "stream",
     "text": [
      "1. Vul het rek met artikels\n",
      "2. Zoek artikels op naam\n",
      "3. Zoek artikels op prijs\n",
      "4. Bereken gemiddelde aankoopprijs\n",
      "5. Bereken gemiddelde verkoopprijs\n",
      "6. Stop programma\n",
      "------- STOP --------\n"
     ]
    }
   ],
   "source": [
    "class Artikel():\n",
    "\n",
    "    def __init__(self, naam, aankoop_prijs, verkoop_prijs):\n",
    "        self.naam = naam\n",
    "        self.aankoop_prijs = aankoop_prijs\n",
    "        self.verkoop_prijs = verkoop_prijs\n",
    "\n",
    "\n",
    "class WinkelRek():\n",
    "\n",
    "    def __init__(self):\n",
    "        self.artikels = []\n",
    "\n",
    "    def set_artikel(self, artikel):\n",
    "        self.artikels.append(artikel)\n",
    "\n",
    "    def get_gemiddelde_prijs(self, type=\"aankoop\"):\n",
    "        if type == \"aankoop\":\n",
    "            total = sum(artikel.aankoop_prijs for artikel in self.artikels)\n",
    "        elif type == \"verkoop\":\n",
    "            total = sum(artikel.verkoop_prijs for artikel in self.artikels)\n",
    "        return total / len(self.artikels)\n",
    "\n",
    "    def vul_rek(self):\n",
    "        naam = input(\"Geef de naam van het artikel. Type stop om het programma te beëindigen.\")\n",
    "        while naam != \"stop\":\n",
    "            aankoop_prijs = float(input(\"Geef de aankoop prijs \"))\n",
    "            verkoop_prijs = float(input(\"Geef de verkoop prijs \"))\n",
    "            artikel = Artikel(naam, aankoop_prijs, verkoop_prijs)\n",
    "            self.set_artikel(artikel)\n",
    "            naam = input(\"Geef de naam van het artikel. Type stop om het programma te beëindigen.\")\n",
    "    \n",
    "    def get_artikels_based_on_search_name(self):\n",
    "        zoek_term = input(\"Geef het woord waarop je wil zoeken\")\n",
    "\n",
    "        for artikel in self.artikels:\n",
    "            if zoek_term in artikel.naam:\n",
    "                print(artikel.naam)\n",
    "\n",
    "\n",
    "    def get_artikels_for_price_between(self):\n",
    "        lage_prijs = float(input(\"Geef de laagste prijs : \"))\n",
    "        hoge_prijs = float(input(\"Geef de hoogste prijs : \"))\n",
    "\n",
    "        while lage_prijs >= hoge_prijs:\n",
    "            lage_prijs = float(input(\"Geef de laagste prijs : \"))\n",
    "            hoge_prijs = float(input(\"Geef de hoogste prijs : \"))\n",
    "\n",
    "        for artikel in self.artikels:\n",
    "            if lage_prijs <= artikel.verkoop_prijs <= hoge_prijs:\n",
    "                print(f\"{artikel.naam} \\t\\t\\t {artikel.verkoop_prijs}\")\n",
    "\n",
    "class WinkelProgramma():\n",
    "    \n",
    "    def __init__(self):\n",
    "        self.keuze = 0\n",
    "        self.rek = WinkelRek()     \n",
    "\n",
    "    def start(self):\n",
    "        print(\"1. Vul het rek met artikels\")\n",
    "        print(\"2. Zoek artikels op naam\")\n",
    "        print(\"3. Zoek artikels op prijs\")\n",
    "        print(\"4. Bereken gemiddelde aankoopprijs\")\n",
    "        print(\"5. Bereken gemiddelde verkoopprijs\")\n",
    "        print(\"6. Stop programma\")\n",
    "        self.run()\n",
    "\n",
    "    def run(self):\n",
    "        self.keuze = int(input(\"Geef je keuze : 1, 2, 3, 4, 5 of 6\"))\n",
    "        if self.keuze != 6:\n",
    "            self.process_keuze()\n",
    "        else:\n",
    "            self.stop()\n",
    "    \n",
    "    def process_keuze(self):\n",
    "        if self.keuze == 1:\n",
    "            self.rek.vul_rek()\n",
    "        elif self.keuze == 2:\n",
    "            self.rek.get_artikels_based_on_search_name()\n",
    "        elif self.keuze == 3:\n",
    "            self.rek.get_artikels_for_price_between()        \n",
    "        elif self.keuze == 4:\n",
    "            print(self.rek.get_gemiddelde_prijs(type=\"aankoop\"))\n",
    "        elif self.keuze == 5:\n",
    "            print(self.rek.get_gemiddelde_prijs(type=\"verkoop\"))\n",
    "        self.run()\n",
    "\n",
    "    def stop(self):\n",
    "        print(\"------- STOP --------\")\n",
    "\n",
    "    \n",
    "\n",
    "\n",
    "\n",
    "    \n",
    "program = WinkelProgramma()\n",
    "program.start()        \n"
   ]
  },
  {
   "cell_type": "markdown",
   "metadata": {},
   "source": [
    "# 11.\n",
    "# Maak een lottoformulier met een nested loop en print dit af. Een lotto formulier ziet er zo uit\n",
    "# 1 2 3 4 5\n",
    "# 6 7 8 9 10\n",
    "# 11 ……\n",
    "# 41 42 43 44 45\n",
    "#  Maak een lottoformulier zonder een nested loop te gebruiken"
   ]
  },
  {
   "cell_type": "code",
   "execution_count": 5,
   "metadata": {},
   "outputs": [
    {
     "name": "stdout",
     "output_type": "stream",
     "text": [
      "[1, 2, 3, 4, 5]\n",
      "[6, 7, 8, 9, 10]\n",
      "[11, 12, 13, 14, 15, 16, 17, 18, 19, 20, 21, 22, 23, 24, 25, 26, 27, 28, 29, 30, 31, 32, 33, 34, 35, 36, 37, 38, 39, 40, 41, 42, 43, 44, 45]\n",
      "[41, 42, 43, 44, 45]\n"
     ]
    }
   ],
   "source": [
    "lottoformulier1 = []\n",
    "lottoformulier2 = []\n",
    "lottoformulier3 = []\n",
    "lottoformulier4 = []\n",
    "for num1 in range(1,6):\n",
    "    lottoformulier1.append(num1)\n",
    "    if num1 == 5:\n",
    "        pass\n",
    "        for num2 in range(6,11):\n",
    "            lottoformulier2.append(num2)\n",
    "            if num2 == 10:\n",
    "                pass\n",
    "                for num3 in range(11,46):\n",
    "                    lottoformulier3.append(num3)\n",
    "                    if num3 == 45:\n",
    "                        pass\n",
    "                        for num4 in range(41,46):\n",
    "                            lottoformulier4.append(num4)\n",
    "                            pass\n",
    "print(lottoformulier1)\n",
    "print(lottoformulier2)\n",
    "print(lottoformulier3)     \n",
    "print(lottoformulier4)   "
   ]
  },
  {
   "cell_type": "code",
   "execution_count": 6,
   "metadata": {},
   "outputs": [
    {
     "name": "stdout",
     "output_type": "stream",
     "text": [
      "[1, 2, 3, 4, 5]\n",
      "[6, 7, 8, 9, 10]\n",
      "[11, 12, 13, 14, 15, 16, 17, 18, 19, 20, 21, 22, 23, 24, 25, 26, 27, 28, 29, 30, 31, 32, 33, 34, 35, 36, 37, 38, 39, 40, 41, 42, 43, 44, 45]\n",
      "[41, 42, 43, 44, 45]\n"
     ]
    }
   ],
   "source": [
    "lottogetallen = []\n",
    "for index,num in enumerate(range(46)):\n",
    "        lottogetallen.append(index)\n",
    "print(lottogetallen[1:6])      \n",
    "print(lottogetallen[6:11])\n",
    "print(lottogetallen[11:])\n",
    "print(lottogetallen[41:])"
   ]
  },
  {
   "cell_type": "markdown",
   "metadata": {},
   "source": [
    "# 12.\n",
    "# Maak een lotto spel. Vraag de gebruiker om 6 getallen en druk dan af als hij de winnende combinatie heeft\n",
    "# output\n",
    "# --- Lotto ---\n",
    "# --- kies uw 6 cijfers ---\n",
    "# Geef een getal op (getal 1): 1\n",
    "# Geef een getal op (getal 2): 2\n",
    "# Geef een getal op (getal 3): 3\n",
    "# Geef een getal op (getal 4): 4\n",
    "# Geef een getal op (getal 5): 5\n",
    "# Geef een getal op (getal 6): 6\n",
    "# - De winnende combinatie is : [4, 7, 15, 17, 25, 30]\n",
    "# - we gaan nu kijken als u gewonnen heeft\n",
    "# U heeft 1 correct cijfers\n",
    "# U heeft de volgende cijfers correct: [4]"
   ]
  },
  {
   "cell_type": "code",
   "execution_count": 7,
   "metadata": {},
   "outputs": [
    {
     "name": "stdout",
     "output_type": "stream",
     "text": [
      "--- Lotto ---\n",
      "---  kies u 6 cijfers  ---\n"
     ]
    },
    {
     "ename": "ValueError",
     "evalue": "invalid literal for int() with base 10: ''",
     "output_type": "error",
     "traceback": [
      "\u001b[1;31m---------------------------------------------------------------------------\u001b[0m",
      "\u001b[1;31mValueError\u001b[0m                                Traceback (most recent call last)",
      "Cell \u001b[1;32mIn [7], line 3\u001b[0m\n\u001b[0;32m      1\u001b[0m \u001b[39mprint\u001b[39m(\u001b[39m'\u001b[39m\u001b[39m--- Lotto ---\u001b[39m\u001b[39m'\u001b[39m)    \n\u001b[0;32m      2\u001b[0m \u001b[39mprint\u001b[39m(\u001b[39m'\u001b[39m\u001b[39m---  kies u 6 cijfers  ---\u001b[39m\u001b[39m'\u001b[39m)\n\u001b[1;32m----> 3\u001b[0m getal1 \u001b[39m=\u001b[39m \u001b[39mint\u001b[39;49m(\u001b[39minput\u001b[39;49m(\u001b[39m'\u001b[39;49m\u001b[39mGeef een getal op (getal 1): \u001b[39;49m\u001b[39m'\u001b[39;49m))\n\u001b[0;32m      4\u001b[0m getal2 \u001b[39m=\u001b[39m \u001b[39mint\u001b[39m(\u001b[39minput\u001b[39m(\u001b[39m'\u001b[39m\u001b[39mGeef een getal op (getal 2): \u001b[39m\u001b[39m'\u001b[39m))\n\u001b[0;32m      5\u001b[0m getal3 \u001b[39m=\u001b[39m \u001b[39mint\u001b[39m(\u001b[39minput\u001b[39m(\u001b[39m'\u001b[39m\u001b[39mGeef een getal op (getal 3): \u001b[39m\u001b[39m'\u001b[39m))\n",
      "\u001b[1;31mValueError\u001b[0m: invalid literal for int() with base 10: ''"
     ]
    }
   ],
   "source": [
    "print('--- Lotto ---')    \n",
    "print('---  kies u 6 cijfers  ---')\n",
    "getal1 = int(input('Geef een getal op (getal 1): '))\n",
    "getal2 = int(input('Geef een getal op (getal 2): '))\n",
    "getal3 = int(input('Geef een getal op (getal 3): '))\n",
    "getal4 = int(input('Geef een getal op (getal 4): '))\n",
    "getal5 = int(input('Geef een getal op (getal 5): '))\n",
    "getal6 = int(input('Geef een getal op (getal 6): '))\n",
    "de_winnende_combo = [4, 7, 15, 17, 25, 30]\n",
    "correcte_getallen = []\n",
    "for x in de_winnende_combo:\n",
    "    if x == getal1 or x == getal2 or x == getal3 or x == getal4 or x == getal5 or x == getal6:\n",
    "        correcte_getallen.append(x)\n",
    "print(de_winnende_combo)\n",
    "print('we gaan nu kijken als u gewonnen heeft')\n",
    "print(('u heeft er ' + str(len(correcte_getallen))+' correct!'))\n",
    "print(correcte_getallen)"
   ]
  },
  {
   "cell_type": "markdown",
   "metadata": {},
   "source": [
    "# 13.\n",
    "# Maak een programma dat het volgende afdrukt:\n",
    "# Vandaag zijn we: datum\n",
    "# Morgen zijn we: datum\n",
    "# Gisteren waren we: datum\n",
    "# Volgend jaar zijn we het jaar X\n"
   ]
  },
  {
   "cell_type": "code",
   "execution_count": 33,
   "metadata": {},
   "outputs": [
    {
     "name": "stdout",
     "output_type": "stream",
     "text": [
      "vandaag zijn we : 22.10.2022\n",
      "vandaag zijn we : 23.10.2022\n",
      "vandaag zijn we : 21.10.2022\n",
      "volgend jaar zijn we 2023\n"
     ]
    }
   ],
   "source": [
    "import datetime\n",
    "\n",
    "vandaag = datetime.datetime.today()\n",
    "morgen = vandaag + datetime.timedelta(days=1)\n",
    "gisteren = vandaag - datetime.timedelta(days=1)\n",
    "\n",
    "print(f\"vandaag zijn we : {vandaag.day}.{vandaag.month}.{vandaag.year}\")\n",
    "print(f\"vandaag zijn we : {morgen.day}.{morgen.month}.{morgen.year}\")\n",
    "print(f\"vandaag zijn we : {gisteren.day}.{gisteren.month}.{gisteren.year}\")\n",
    "print(f\"volgend jaar zijn we {vandaag.year + 1}\")\n",
    "\n",
    "\n"
   ]
  },
  {
   "cell_type": "markdown",
   "metadata": {},
   "source": [
    "# 14.\n",
    "# Maak een programma dat de geboortedatum van de gebruiker vraagt. Druk het volgende af\n",
    "# - zijn geboortedatum inclusief de naam van de dag in het Nederlands\n",
    "# voorbeeld: uw geboortedatum is “2/9/1979”, dit was op een zondag\n",
    "# - wanneer hij 18 jaar is geworden en de naam van de dag in het Nederlands\n",
    "# voorbeeld: u was 18 jaar op datum, dit was op een xxxxx\n",
    "# - zijn huidige leeftijd\n",
    "# voorbeeld: u bent nu x aantal jaar oud)\n",
    "# - wanneer hij op pensioen mag gaan (67 jaar, maand nadien)\n",
    "# voorbeeld: u mag in “maand” in het “jaar” op pensioen gaan \n",
    "# Als input gaan we 3 parameters gebruiken: dag maand jaar\n",
    "# Als 1 van de parameters ontbreekt gaan we deze alsnog vragen aan de gebruiker"
   ]
  },
  {
   "cell_type": "code",
   "execution_count": 49,
   "metadata": {},
   "outputs": [
    {
     "name": "stdout",
     "output_type": "stream",
     "text": [
      "Friday\n",
      "Sunday\n",
      "44\n",
      "Monday\n",
      "22\n"
     ]
    }
   ],
   "source": [
    "# jaar = input(\"Wat is je geboortejaar? cijfer bv. 1988 \")\n",
    "# maand = input(\"Wat is je geboortemaand? cijfer tussen 1 & 12\")\n",
    "# dag = input(\"Wat is je geboortedag? cijfer tussen 1 & 31\")\n",
    "\n",
    "dag, maand, jaar = input(\"Wat is je geboorte datum ? formaat dd.mm.yyyy\").split(\".\")\n",
    "\n",
    "geboorte_datum = datetime.datetime(int(jaar), int(maand), int(dag))\n",
    "\n",
    "print(geboorte_datum.strftime(\"%A\"))\n",
    "\n",
    "dag_18e_verjaardag = datetime.datetime(int(jaar)+18, int(maand), int(dag))\n",
    "print(dag_18e_verjaardag.strftime(\"%A\"))\n",
    "\n",
    "today = datetime.datetime.today()\n",
    "leeftijd =  today.year - geboorte_datum.year - ((today.month, today.day) < (geboorte_datum.month, geboorte_datum.day))\n",
    "\n",
    "print(leeftijd)\n",
    "\n",
    "\n",
    "pensioen = datetime.datetime(int(jaar)+67, int(maand)+1, int(dag))\n",
    "print(pensioen.strftime(\"%A\"))\n",
    "print(pensioen.year - today.year - ((pensioen.month, pensioen.day) < (today.month, today.day)))\n"
   ]
  },
  {
   "cell_type": "markdown",
   "metadata": {},
   "source": [
    "# 15.\n",
    "# Maak een programma dat elke seconde de tijd afdrukt en dit gedurende 60 seconden"
   ]
  },
  {
   "cell_type": "code",
   "execution_count": 51,
   "metadata": {},
   "outputs": [
    {
     "name": "stdout",
     "output_type": "stream",
     "text": [
      "0\n",
      "1\n",
      "2\n",
      "3\n",
      "4\n",
      "5\n",
      "6\n",
      "7\n",
      "8\n",
      "9\n",
      "10\n",
      "11\n",
      "12\n",
      "13\n",
      "14\n",
      "15\n",
      "16\n",
      "17\n",
      "18\n",
      "19\n",
      "20\n",
      "21\n",
      "22\n",
      "23\n",
      "24\n",
      "25\n",
      "26\n",
      "27\n",
      "28\n",
      "29\n",
      "30\n",
      "31\n",
      "32\n",
      "33\n",
      "34\n",
      "35\n",
      "36\n",
      "37\n",
      "38\n",
      "39\n",
      "40\n",
      "41\n",
      "42\n",
      "43\n",
      "44\n",
      "45\n",
      "46\n",
      "47\n",
      "48\n",
      "49\n",
      "50\n",
      "51\n",
      "52\n",
      "53\n",
      "54\n",
      "55\n",
      "56\n",
      "57\n",
      "58\n",
      "59\n",
      "60\n"
     ]
    }
   ],
   "source": [
    "import time\n",
    "\n",
    "seconds = 0\n",
    "while seconds != 61:\n",
    "    print(seconds)\n",
    "    seconds += 1\n",
    "    time.sleep(1)\n"
   ]
  },
  {
   "cell_type": "markdown",
   "metadata": {},
   "source": [
    "# 16.\n",
    "# Hermaak de methode .split() (strings) in een nieuwe functie."
   ]
  },
  {
   "cell_type": "code",
   "execution_count": 7,
   "metadata": {},
   "outputs": [
    {
     "data": {
      "text/plain": [
       "['Dit', 'is', 'een', 'goede', 'zin', 'om', 'te', 'testen']"
      ]
     },
     "execution_count": 7,
     "metadata": {},
     "output_type": "execute_result"
    }
   ],
   "source": [
    "text = \"Dit is een goede zin om te testen\"\n",
    "\n",
    "def split_text(text, seperator):\n",
    "    words = []\n",
    "    while seperator in text:\n",
    "        index = text.index(seperator)\n",
    "        words.append(text[:index])\n",
    "        text = text[index+1:]\n",
    "    words.append(text)\n",
    "    return words\n",
    "\n",
    "split_text(text, \" \")        \n",
    "\n"
   ]
  }
 ],
 "metadata": {
  "kernelspec": {
   "display_name": "Python 3.10.7 ('venv': venv)",
   "language": "python",
   "name": "python3"
  },
  "language_info": {
   "codemirror_mode": {
    "name": "ipython",
    "version": 3
   },
   "file_extension": ".py",
   "mimetype": "text/x-python",
   "name": "python",
   "nbconvert_exporter": "python",
   "pygments_lexer": "ipython3",
   "version": "3.10.7"
  },
  "orig_nbformat": 4,
  "vscode": {
   "interpreter": {
    "hash": "2e4fda5e8d7dbdcdafd317d183e2776a0a1e50c4a43f5f633675534977b84ce2"
   }
  }
 },
 "nbformat": 4,
 "nbformat_minor": 2
}
