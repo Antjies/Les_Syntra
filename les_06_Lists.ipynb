{
 "cells": [
  {
   "cell_type": "code",
   "execution_count": null,
   "metadata": {},
   "outputs": [],
   "source": [
    "L = [1,2,[1,2,3,4,5]]\n",
    "\n",
    "print(len(L))"
   ]
  },
  {
   "cell_type": "code",
   "execution_count": null,
   "metadata": {},
   "outputs": [],
   "source": [
    "bicycles = ['Trek', 'cannondale', 'Specialized']\n",
    "\n",
    "message = f'My first bicycle was a {bicycles[1].title()}'\n",
    "print(message)"
   ]
  },
  {
   "cell_type": "code",
   "execution_count": null,
   "metadata": {},
   "outputs": [],
   "source": [
    "L = [1, 5, 6, 1, 2, 3, 9, 1, 5, 6, 1, 2, 3, 9, 1, 5, 6, 1, 2, 3, 9, 1, 5, 6, 1, 2, 3, 9]\n",
    "\n",
    "def add_all(t):\n",
    "  total = 0\n",
    "  for x in t:\n",
    "    total += x\n",
    "  return total\n",
    "\n",
    "print(add_all(L))\n",
    "print(sum(L))"
   ]
  },
  {
   "cell_type": "code",
   "execution_count": null,
   "metadata": {},
   "outputs": [],
   "source": [
    "L = [1, 5, 6, 1, 2, 3, 9, 1, 5, 6, 1, 2, 3, 9, 1, 5, 6, 1, 2, 3, 9, 1, 5, 6, 1, 2, 3, 9]\n",
    "\n",
    "\n",
    "L.reverse()\n",
    "print(L)\n",
    "L.sort()\n",
    "print(L)\n",
    "L.reverse()\n",
    "print(L)"
   ]
  },
  {
   "cell_type": "code",
   "execution_count": null,
   "metadata": {},
   "outputs": [],
   "source": [
    "L = [ 1, 5, 6, 1, 2, 3, 9, 1, 5, 6, 1, 2, 3, 9, 1, 5, 6, 1, 2, 3, 9, 1, 5, 6, 1, 2, 3, 9]\n",
    "# L = [\"a\", \"c\", \"b\"]\n",
    "\n",
    "L2 = sorted(L)\n",
    "print(L2)\n",
    "\n",
    "L3 = sorted(L2, reverse=True)\n",
    "print(L3)\n",
    "\n",
    "print(L2)"
   ]
  },
  {
   "cell_type": "code",
   "execution_count": 30,
   "metadata": {},
   "outputs": [
    {
     "name": "stdout",
     "output_type": "stream",
     "text": [
      "[2, 3]\n"
     ]
    }
   ],
   "source": [
    "class MyList():\n",
    "    def __init__(self, x, y):\n",
    "        self.list = [x, y]\n",
    "    \n",
    "    def reverse(self):\n",
    "        self.list = [self.list[1], self.list[0]]\n",
    "        # return [self.list[1], self.list[0]]\n",
    "\n",
    "    def add(self, x):\n",
    "        self.list.append(x)\n",
    "\n",
    "    def __str__(self):\n",
    "        return f\"{[self.list[0], self.list[1]]}\"\n",
    "\n",
    "list_1 = MyList(2, 3)\n",
    "list_2 = list_1\n",
    "list_2.add(5)\n",
    "print(list_1)\n",
    "\n",
    "# print(list)\n",
    "# x = list.reverse()\n",
    "# print(x)\n",
    "# print(list)"
   ]
  },
  {
   "cell_type": "code",
   "execution_count": null,
   "metadata": {},
   "outputs": [],
   "source": [
    "def my_reverse(x):\n",
    "    return [x[1], x[0]]\n",
    "list = [2, 3]    \n",
    "print(my_reverse(list))\n",
    "\n",
    "print(list)"
   ]
  },
  {
   "cell_type": "code",
   "execution_count": null,
   "metadata": {},
   "outputs": [],
   "source": [
    "L = [\"a\",\"b\",\"f\",\"g\",\"j\"]\n",
    "\n",
    "def capitalize_all(t):\n",
    "  res = []\n",
    "  for s in t:\n",
    "    res.append(s.capitalize())\n",
    "  return res\n",
    "\n",
    "print(capitalize_all(L))"
   ]
  },
  {
   "cell_type": "code",
   "execution_count": 10,
   "metadata": {},
   "outputs": [
    {
     "name": "stdout",
     "output_type": "stream",
     "text": [
      "I<3 cs\n",
      "<class 'str'>\n",
      "<class 'list'>\n",
      "['I', '<', '3', ' ', 'c', 's']\n",
      "['I', '3 cs']\n",
      "['I<3', 'cs']\n",
      "I<3 cs\n",
      "I < 3   c s\n",
      "I_<_3_ _c_s\n",
      "['I<3', 'cs']\n",
      "I < 3   c s\n"
     ]
    }
   ],
   "source": [
    "S = \"I<3 cs\"\n",
    "print(S)\n",
    "print(type(S))\n",
    "\n",
    "L = list(S)\n",
    "print(type(L))\n",
    "print(L)\n",
    "\n",
    "L_2 = S.split('<') \n",
    "print(L_2)\n",
    "L_2 = S.split(' ') \n",
    "print(L_2)\n",
    "\n",
    "S_2 = ''.join(L)\n",
    "print(S_2)\n",
    "S_2 = ' '.join(L)\n",
    "print(S_2)\n",
    "S_2 = '_'.join(L)\n",
    "print(S_2)\n",
    "\n",
    "delimiter = \" \"\n",
    "print(S.split(delimiter))\n",
    "print(delimiter.join(L))"
   ]
  },
  {
   "cell_type": "code",
   "execution_count": 11,
   "metadata": {},
   "outputs": [
    {
     "name": "stdout",
     "output_type": "stream",
     "text": [
      "[0, 3, 6, 9]\n",
      "[0, 3, 6, 9]\n",
      "[9, 6, 3, 0]\n",
      "[0, 3, 6, 9]\n"
     ]
    }
   ],
   "source": [
    "L = [9,6,3,0]\n",
    "\n",
    "L2 = sorted(L)\n",
    "print(L2)\n",
    "\n",
    "L.sort()\n",
    "print(L)\n",
    "\n",
    "L.reverse()\n",
    "print(L)\n",
    "L.reverse()\n",
    "print(L)"
   ]
  },
  {
   "cell_type": "code",
   "execution_count": 41,
   "metadata": {},
   "outputs": [
    {
     "name": "stdout",
     "output_type": "stream",
     "text": [
      "['orange', 'red', 'yellow']\n",
      "['orange', 'red', 'yellow', 'pink', 'pink']\n",
      "['orange', 'red', 'yellow', 'pink', 'pink']\n",
      "True\n",
      "<class 'int'>\n"
     ]
    }
   ],
   "source": [
    "warm = [\"orange\", \"red\", \"yellow\"]\n",
    "\n",
    "hot = warm\n",
    "\n",
    "print(hot)\n",
    "\n",
    "hot.append('pink')\n",
    "warm.append('pink')\n",
    "\n",
    "print(hot)\n",
    "print(warm)\n",
    "\n",
    "print(warm is hot)\n",
    "\n",
    "print(type(id(warm)))"
   ]
  },
  {
   "cell_type": "code",
   "execution_count": 28,
   "metadata": {},
   "outputs": [
    {
     "name": "stdout",
     "output_type": "stream",
     "text": [
      "2988407708720\n",
      "aaaaaa\n"
     ]
    },
    {
     "data": {
      "text/plain": [
       "int"
      ]
     },
     "execution_count": 28,
     "metadata": {},
     "output_type": "execute_result"
    }
   ],
   "source": [
    "a = \"aaaaaa\"\n",
    "\n",
    "b = a\n",
    "print(id(b))\n",
    "b.capitalize()\n",
    "print(b)\n",
    "type(id(a))\n",
    "# print(a)\n",
    "\n"
   ]
  },
  {
   "cell_type": "code",
   "execution_count": 42,
   "metadata": {},
   "outputs": [
    {
     "name": "stdout",
     "output_type": "stream",
     "text": [
      "['orange', 'red', 'yellow']\n",
      "False\n",
      "['orange', 'red', 'yellow', 'black']\n",
      "['orange', 'red', 'yellow']\n"
     ]
    }
   ],
   "source": [
    "\n",
    "warm = [\"orange\", \"red\", \"yellow\"]\n",
    "hot = warm[:]\n",
    "print(hot)\n",
    "\n",
    "hot.append(\"black\")\n",
    "\n",
    "print(warm is hot)\n",
    "print(hot)\n",
    "print(warm)"
   ]
  },
  {
   "cell_type": "code",
   "execution_count": 34,
   "metadata": {},
   "outputs": [
    {
     "name": "stdout",
     "output_type": "stream",
     "text": [
      "[['orange', 'red', 'yellow'], ['pink']]\n",
      "['pink', 'brown']\n",
      "[['orange', 'red', 'yellow'], ['pink', 'brown']]\n"
     ]
    }
   ],
   "source": [
    "warm = [\"orange\", \"red\", \"yellow\"]\n",
    "\n",
    "hot = [\"pink\"]\n",
    "\n",
    "brightcolors = [warm]\n",
    "brightcolors.append(hot)\n",
    "\n",
    "print(brightcolors)\n",
    "\n",
    "hot.append('brown')\n",
    "\n",
    "print(hot)\n",
    "print(brightcolors)"
   ]
  },
  {
   "cell_type": "code",
   "execution_count": 38,
   "metadata": {},
   "outputs": [
    {
     "name": "stdout",
     "output_type": "stream",
     "text": [
      "0 1\n",
      "1 3\n",
      "2 4\n",
      "[2, 3, 4]\n"
     ]
    }
   ],
   "source": [
    "def remove_dups(L1, L2):\n",
    "    counter = 0\n",
    "    for e in L1:\n",
    "        print(counter, e)\n",
    "        if e in L2:\n",
    "            L1.remove(e)\n",
    "        counter += 1\n",
    "\n",
    "L1 = [1,2,3,4]\n",
    "L2 = [1,2,5,6]\n",
    "# print(L1.remove(1))\n",
    "remove_dups(L1,L2)\n",
    "print(L1)"
   ]
  },
  {
   "cell_type": "code",
   "execution_count": 39,
   "metadata": {},
   "outputs": [
    {
     "name": "stdout",
     "output_type": "stream",
     "text": [
      "[3, 4]\n"
     ]
    }
   ],
   "source": [
    "def remove_dups(L1, L2):\n",
    "  L1_copy = L1[:]\n",
    "  for e in L1_copy:\n",
    "    if e in L2:\n",
    "      L1.remove(e)\n",
    "\n",
    "L1 = [1,2,3,4]\n",
    "L2 = [1,2,5,6]\n",
    "\n",
    "remove_dups(L1,L2)\n",
    "print(L1)"
   ]
  },
  {
   "cell_type": "code",
   "execution_count": 40,
   "metadata": {},
   "outputs": [
    {
     "data": {
      "text/plain": [
       "True"
      ]
     },
     "execution_count": 40,
     "metadata": {},
     "output_type": "execute_result"
    }
   ],
   "source": [
    "a = \"bananen\"\n",
    "b = \"bananen\"\n",
    "\n",
    "a is b"
   ]
  },
  {
   "cell_type": "code",
   "execution_count": 50,
   "metadata": {},
   "outputs": [
    {
     "data": {
      "text/plain": [
       "False"
      ]
     },
     "execution_count": 50,
     "metadata": {},
     "output_type": "execute_result"
    }
   ],
   "source": [
    "a = 222_222_222_222\n",
    "b = 222_222_222_222\n",
    "\n",
    "a is b"
   ]
  },
  {
   "cell_type": "code",
   "execution_count": 55,
   "metadata": {},
   "outputs": [
    {
     "data": {
      "text/plain": [
       "True"
      ]
     },
     "execution_count": 55,
     "metadata": {},
     "output_type": "execute_result"
    }
   ],
   "source": [
    "a = 222\n",
    "b = 222\n",
    "\n",
    "a is b"
   ]
  },
  {
   "cell_type": "code",
   "execution_count": 49,
   "metadata": {},
   "outputs": [
    {
     "data": {
      "text/plain": [
       "False"
      ]
     },
     "execution_count": 49,
     "metadata": {},
     "output_type": "execute_result"
    }
   ],
   "source": [
    "a = (0, 1)\n",
    "b = (0, 1)\n",
    "\n",
    "a is b"
   ]
  },
  {
   "cell_type": "code",
   "execution_count": 48,
   "metadata": {},
   "outputs": [
    {
     "data": {
      "text/plain": [
       "False"
      ]
     },
     "execution_count": 48,
     "metadata": {},
     "output_type": "execute_result"
    }
   ],
   "source": [
    "a = 222.0\n",
    "b = 222.0\n",
    "\n",
    "a is b"
   ]
  },
  {
   "cell_type": "code",
   "execution_count": 43,
   "metadata": {},
   "outputs": [
    {
     "data": {
      "text/plain": [
       "False"
      ]
     },
     "execution_count": 43,
     "metadata": {},
     "output_type": "execute_result"
    }
   ],
   "source": [
    "L = [1,2,3,4]\n",
    "P = [1,2,3,4]\n",
    "\n",
    "L is P"
   ]
  },
  {
   "cell_type": "code",
   "execution_count": 56,
   "metadata": {},
   "outputs": [
    {
     "name": "stdout",
     "output_type": "stream",
     "text": [
      "[1, 2, 3]\n",
      "True\n",
      "[42, 2, 3]\n",
      "True\n",
      "[42, 2, 3]\n"
     ]
    }
   ],
   "source": [
    "a = [1,2,3]\n",
    "b = a\n",
    "\n",
    "print(b)\n",
    "print(b is a)\n",
    "\n",
    "b[0] = 42\n",
    "\n",
    "print(b)\n",
    "print(b is a)\n",
    "print(a)"
   ]
  },
  {
   "cell_type": "code",
   "execution_count": 57,
   "metadata": {},
   "outputs": [
    {
     "name": "stdout",
     "output_type": "stream",
     "text": [
      "['b', 'c']\n"
     ]
    }
   ],
   "source": [
    "def delete_head(t):\n",
    "    del t[0]\n",
    "\n",
    "letters = ['a', 'b', 'c']\n",
    "\n",
    "delete_head(letters)\n",
    "\n",
    "print(letters)"
   ]
  },
  {
   "cell_type": "code",
   "execution_count": 58,
   "metadata": {},
   "outputs": [
    {
     "name": "stdout",
     "output_type": "stream",
     "text": [
      "[1, 2, 3]\n",
      "None\n"
     ]
    }
   ],
   "source": [
    "t1 = [1,2]\n",
    "\n",
    "t2 = t1.append(3)\n",
    "\n",
    "print(t1)\n",
    "print(t2)"
   ]
  },
  {
   "cell_type": "code",
   "execution_count": 64,
   "metadata": {},
   "outputs": [
    {
     "name": "stdout",
     "output_type": "stream",
     "text": [
      "[1, 2, 3]\n",
      "[1, 2, 3, 4]\n"
     ]
    }
   ],
   "source": [
    "t3 = t1 + [4]\n",
    "\n",
    "print(t1)\n",
    "print(t3)"
   ]
  },
  {
   "cell_type": "code",
   "execution_count": 69,
   "metadata": {},
   "outputs": [
    {
     "name": "stdout",
     "output_type": "stream",
     "text": [
      "[1, 2, 3, 4]\n",
      "None\n",
      "[2, 3, 4]  = t5\n",
      "[1, 2, 3, 4]\n"
     ]
    }
   ],
   "source": [
    "def bad_delete_head(t):\n",
    "  t = t[1:]\n",
    "\n",
    "print(t3)\n",
    "print(bad_delete_head(t3))  \n",
    "# t4 = bad_delete_head(t4)\n",
    "\n",
    "def tail(t):\n",
    "  return t[1:]\n",
    "\n",
    "t5 = tail(t3)\n",
    "\n",
    "print(t5, \" = t5\")\n",
    "print(t3)  "
   ]
  },
  {
   "cell_type": "code",
   "execution_count": 72,
   "metadata": {},
   "outputs": [
    {
     "name": "stdout",
     "output_type": "stream",
     "text": [
      "None\n",
      "[1, 1, 2, 5, 6, 8, 9]\n"
     ]
    }
   ],
   "source": [
    "L = [1,2,9,8,5,1,6]\n",
    "P = L\n",
    "# print(id(L))\n",
    "\n",
    "L = L.sort()  \n",
    "print(L)\n",
    "# print(id(L))\n",
    "\n",
    "P.sort() \n",
    "print(P)"
   ]
  },
  {
   "cell_type": "code",
   "execution_count": 73,
   "metadata": {},
   "outputs": [
    {
     "name": "stdout",
     "output_type": "stream",
     "text": [
      "[1, 2, 3, 4, 5, 6, 'a']\n",
      "[1, 2, 3, 4, 5, 6, 'a', 'a']\n",
      "[1, 2, 3, 4, 5, 6, 'a', 'a', 'a']\n"
     ]
    }
   ],
   "source": [
    "L = [1,2,3,4,5,6]\n",
    "x = \"a\"\n",
    "\n",
    "L.append(x)\n",
    "print(L)\n",
    "L = L + [x]\n",
    "print(L)\n",
    "\n",
    "L += x\n",
    "print(L)"
   ]
  },
  {
   "cell_type": "code",
   "execution_count": 74,
   "metadata": {},
   "outputs": [
    {
     "name": "stdout",
     "output_type": "stream",
     "text": [
      "None\n",
      "[1, 2, 3, 4, 5, 6, ['a']]\n",
      "None\n",
      "[1, 2, 3, 4, 5, 6, ['a'], 'a']\n"
     ]
    }
   ],
   "source": [
    "L = [1,2,3,4,5,6]\n",
    "x = \"a\"\n",
    "\n",
    "print(L.append([x]))\n",
    "print(L)\n",
    "L2 = L.append(x)\n",
    "print(L2)\n",
    "\n",
    "L + [x]\n",
    "print(L)"
   ]
  },
  {
   "cell_type": "code",
   "execution_count": 75,
   "metadata": {},
   "outputs": [
    {
     "ename": "TypeError",
     "evalue": "can only concatenate list (not \"str\") to list",
     "output_type": "error",
     "traceback": [
      "\u001b[1;31m---------------------------------------------------------------------------\u001b[0m",
      "\u001b[1;31mTypeError\u001b[0m                                 Traceback (most recent call last)",
      "Cell \u001b[1;32mIn [75], line 1\u001b[0m\n\u001b[1;32m----> 1\u001b[0m L \u001b[39m=\u001b[39m L \u001b[39m+\u001b[39;49m x\n",
      "\u001b[1;31mTypeError\u001b[0m: can only concatenate list (not \"str\") to list"
     ]
    }
   ],
   "source": [
    "L = L + x"
   ]
  },
  {
   "cell_type": "code",
   "execution_count": 76,
   "metadata": {},
   "outputs": [
    {
     "name": "stdout",
     "output_type": "stream",
     "text": [
      "[7, 4, 1, 8, 5, 2, 9, 6, 3]\n",
      "[7, 4, 1, 8, 5, 2, 9, 6, 3]\n",
      "[1, 2, 3, 4, 5, 6, 7, 8, 9]\n",
      "[7, 4, 1, 8, 5, 2, 9, 6, 3]\n",
      "[1, 2, 3, 4, 5, 6, 7, 8, 9]\n"
     ]
    }
   ],
   "source": [
    "t = [7,4,1,8,5,2,9,6,3]\n",
    "\n",
    "t2  = t[:]\n",
    "\n",
    "print(t)\n",
    "print(t2)\n",
    "\n",
    "t2.sort()\n",
    "\n",
    "print(t2)\n",
    "\n",
    "t3 = sorted(t)\n",
    "print(t)\n",
    "print(t3)"
   ]
  },
  {
   "cell_type": "code",
   "execution_count": 78,
   "metadata": {},
   "outputs": [
    {
     "name": "stdout",
     "output_type": "stream",
     "text": [
      "<zip object at 0x000002B7C9B2F3C0>\n",
      "('a', 1, 7)\n",
      "('b', 2, 6)\n",
      "('c', 3, 5)\n"
     ]
    }
   ],
   "source": [
    "s = \"abc\"\n",
    "L = [1,2,3,4]\n",
    "X = [7, 6, 5, 4]\n",
    "\n",
    "print(zip(s,L))\n",
    "\n",
    "for x in zip(s,L, X):\n",
    "  print(x)\n"
   ]
  },
  {
   "cell_type": "code",
   "execution_count": 79,
   "metadata": {},
   "outputs": [
    {
     "name": "stdout",
     "output_type": "stream",
     "text": [
      "[('a', 1), ('b', 2), ('c', 3)]\n",
      "[('a', 'z'), ('b', 'y'), ('c', 'x')]\n"
     ]
    }
   ],
   "source": [
    "print(list(zip(s,L)))\n",
    "\n",
    "print(list(zip(\"abcde\", \"zyx\")))"
   ]
  },
  {
   "cell_type": "code",
   "execution_count": 81,
   "metadata": {},
   "outputs": [
    {
     "name": "stdout",
     "output_type": "stream",
     "text": [
      "[('a', 1), ('b', 2), ('c', 3)]\n",
      "1 a\n",
      "2 b\n",
      "3 c\n"
     ]
    }
   ],
   "source": [
    "t = list(zip(s,L))\n",
    "\n",
    "print(t)\n",
    "\n",
    "for letter, number in t:\n",
    "  print(number, letter)"
   ]
  },
  {
   "cell_type": "code",
   "execution_count": 83,
   "metadata": {},
   "outputs": [
    {
     "name": "stdout",
     "output_type": "stream",
     "text": [
      "False\n"
     ]
    }
   ],
   "source": [
    "def has_match(t1,t2):\n",
    "  for x, y in zip(t1, t2):\n",
    "    if x == y:\n",
    "      return True\n",
    "  return False\n",
    "\n",
    "L = [1,2,3,4]\n",
    "X = [7, 6, 5, 4]\n",
    "print(has_match(L, X))"
   ]
  },
  {
   "cell_type": "code",
   "execution_count": 85,
   "metadata": {},
   "outputs": [
    {
     "name": "stdout",
     "output_type": "stream",
     "text": [
      "0 a\n",
      "1 b\n",
      "2 c\n",
      "3 d\n",
      "4 e\n",
      "-----\n",
      "0 1\n",
      "1 2\n",
      "2 3\n",
      "3 4\n"
     ]
    }
   ],
   "source": [
    "for index, element in enumerate('abcde'):\n",
    "  print(index, element)\n",
    "print(\"-----\")\n",
    "L = [1,2,3,4]\n",
    "for index, element in enumerate(L):\n",
    "  print(index, element)"
   ]
  },
  {
   "cell_type": "code",
   "execution_count": 88,
   "metadata": {},
   "outputs": [
    {
     "name": "stdout",
     "output_type": "stream",
     "text": [
      "['h', 'o', 't', 't', 'e', 'n', 't', 'o', 't', 't', 'e', 'n', 't', 'e', 'n', 't', 'e', 'n', 't', 'e', 'n', 't', 'o', 'o', 'n', 's', 't', 'e', 'l', 'l', 'i', 'n', 'g', 's', 'a', 'g', 'e', 'n', 't', 'e', 'n']\n"
     ]
    },
    {
     "data": {
      "text/plain": [
       "['e', 'l', 's', 'e']"
      ]
     },
     "execution_count": 88,
     "metadata": {},
     "output_type": "execute_result"
    }
   ],
   "source": [
    "import random\n",
    "\n",
    "woord = \"hottentottententententoonstellingsagenten\"\n",
    "L = list(woord)\n",
    "print(L)\n",
    "\n",
    "print(random.choice(L))\n",
    "print(random.choices(L, k=4))"
   ]
  }
 ],
 "metadata": {
  "kernelspec": {
   "display_name": "Python 3.10.7 ('venv': venv)",
   "language": "python",
   "name": "python3"
  },
  "language_info": {
   "codemirror_mode": {
    "name": "ipython",
    "version": 3
   },
   "file_extension": ".py",
   "mimetype": "text/x-python",
   "name": "python",
   "nbconvert_exporter": "python",
   "pygments_lexer": "ipython3",
   "version": "3.10.7"
  },
  "orig_nbformat": 4,
  "vscode": {
   "interpreter": {
    "hash": "2e4fda5e8d7dbdcdafd317d183e2776a0a1e50c4a43f5f633675534977b84ce2"
   }
  }
 },
 "nbformat": 4,
 "nbformat_minor": 2
}
