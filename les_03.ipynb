{
 "cells": [
  {
   "cell_type": "code",
   "execution_count": 6,
   "metadata": {},
   "outputs": [
    {
     "name": "stdout",
     "output_type": "stream",
     "text": [
      "True\n",
      "1\n",
      "False\n",
      "0\n",
      "True\n",
      "True\n",
      "True\n",
      "True\n"
     ]
    }
   ],
   "source": [
    "a = True\n",
    "b = True\n",
    "c = False\n",
    "\n",
    "print(a and b)\n",
    "print(int(a and b))\n",
    "print(a and c)\n",
    "print(int(a and c))\n",
    "print(a or b)\n",
    "print(a or c)\n",
    "print(not c)\n",
    "print(a and (not c)) "
   ]
  },
  {
   "cell_type": "markdown",
   "metadata": {},
   "source": [
    "if <conditie>:\n",
    "  <actie>\n",
    "else:\n",
    "  <actie>"
   ]
  },
  {
   "cell_type": "code",
   "execution_count": 7,
   "metadata": {},
   "outputs": [
    {
     "name": "stdout",
     "output_type": "stream",
     "text": [
      "5 is groter dan  3\n"
     ]
    }
   ],
   "source": [
    "x = int(input(\"Geef een getal: \"))\n",
    "y = int(input(\"Geef een 2e getal: \"))\n",
    "\n",
    "if x > y:\n",
    "  print(x, \"is groter dan \", y)\n",
    "else:\n",
    "    print(x, \"is kleiner dan \", y)"
   ]
  },
  {
   "cell_type": "markdown",
   "metadata": {},
   "source": [
    "nested if\n",
    "Je kan ook een if in een if statement hebben. Dit is wat men \"nested if's noemt\""
   ]
  },
  {
   "cell_type": "code",
   "execution_count": 10,
   "metadata": {},
   "outputs": [
    {
     "name": "stdout",
     "output_type": "stream",
     "text": [
      "456 is deelbaar door 2\n",
      "456 is deelbaar door 3\n"
     ]
    }
   ],
   "source": [
    "# x = int(input(\"Geef een getal groter dan 1000: \"))\n",
    "x = 456\n",
    "\n",
    "if x % 2 == 0:\n",
    "  print(x, 'is deelbaar door 2')\n",
    "  if x % 3 == 0:\n",
    "      print(x, 'is deelbaar door 3')\n",
    "  else:\n",
    "      print(x, 'is niet deelbaar door 3')\n",
    "else:\n",
    "  print(x, 'is niet deelbaar door 2')\n",
    "  if x % 3 == 0:\n",
    "    print(x, 'is deelbaar door 3')\n",
    "  else:\n",
    "    print(x, 'is niet deelbaar door 3')"
   ]
  },
  {
   "cell_type": "code",
   "execution_count": 12,
   "metadata": {},
   "outputs": [
    {
     "name": "stdout",
     "output_type": "stream",
     "text": [
      "TEst\n",
      "nog \n"
     ]
    }
   ],
   "source": [
    "x = 5\n",
    "if x > 0 and x < 10:\n",
    "    print(\"TEst\")\n",
    "    \n",
    "if 0 < x < 10:\n",
    "    print(\"nog \")"
   ]
  },
  {
   "cell_type": "code",
   "execution_count": null,
   "metadata": {},
   "outputs": [],
   "source": [
    "if x == y :\n",
    "    print(\"yes\")"
   ]
  },
  {
   "cell_type": "code",
   "execution_count": 38,
   "metadata": {},
   "outputs": [],
   "source": [
    "x = \"aabc\"\n",
    "y = \"fff\"\n",
    "\n",
    "x*y"
   ]
  },
  {
   "cell_type": "code",
   "execution_count": 39,
   "metadata": {},
   "outputs": [
    {
     "data": {
      "text/plain": [
       "'aaFc'"
      ]
     },
     "execution_count": 39,
     "metadata": {},
     "output_type": "execute_result"
    }
   ],
   "source": [
    "# x = x.replace(x[0], \"G\", 3)\n",
    "x = x[:2] + \"F\" + x[3:]\n",
    "x"
   ]
  },
  {
   "cell_type": "code",
   "execution_count": 40,
   "metadata": {},
   "outputs": [
    {
     "ename": "SyntaxError",
     "evalue": "invalid syntax. Maybe you meant '==' or ':=' instead of '='? (1571944091.py, line 4)",
     "output_type": "error",
     "traceback": [
      "\u001b[1;36m  Cell \u001b[1;32mIn [40], line 4\u001b[1;36m\u001b[0m\n\u001b[1;33m    if x = y:\u001b[0m\n\u001b[1;37m       ^\u001b[0m\n\u001b[1;31mSyntaxError\u001b[0m\u001b[1;31m:\u001b[0m invalid syntax. Maybe you meant '==' or ':=' instead of '='?\n"
     ]
    }
   ],
   "source": [
    "x = 5\n",
    "y = 5\n",
    "\n",
    "if x = y:\n",
    "  print(\"Yes\")"
   ]
  },
  {
   "cell_type": "code",
   "execution_count": 41,
   "metadata": {},
   "outputs": [
    {
     "ename": "IndentationError",
     "evalue": "expected an indented block after 'if' statement on line 4 (2822456937.py, line 5)",
     "output_type": "error",
     "traceback": [
      "\u001b[1;36m  Cell \u001b[1;32mIn [41], line 5\u001b[1;36m\u001b[0m\n\u001b[1;33m    print(\"Yes\")\u001b[0m\n\u001b[1;37m    ^\u001b[0m\n\u001b[1;31mIndentationError\u001b[0m\u001b[1;31m:\u001b[0m expected an indented block after 'if' statement on line 4\n"
     ]
    }
   ],
   "source": [
    "x = 5\n",
    "y = 5\n",
    "\n",
    "if x == y:\n",
    "print(\"Yes\")"
   ]
  }
 ],
 "metadata": {
  "kernelspec": {
   "display_name": "Python 3.10.7 ('venv': venv)",
   "language": "python",
   "name": "python3"
  },
  "language_info": {
   "codemirror_mode": {
    "name": "ipython",
    "version": 3
   },
   "file_extension": ".py",
   "mimetype": "text/x-python",
   "name": "python",
   "nbconvert_exporter": "python",
   "pygments_lexer": "ipython3",
   "version": "3.10.7"
  },
  "orig_nbformat": 4,
  "vscode": {
   "interpreter": {
    "hash": "2e4fda5e8d7dbdcdafd317d183e2776a0a1e50c4a43f5f633675534977b84ce2"
   }
  }
 },
 "nbformat": 4,
 "nbformat_minor": 2
}
