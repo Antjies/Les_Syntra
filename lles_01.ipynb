{
 "cells": [
  {
   "cell_type": "code",
   "execution_count": null,
   "metadata": {},
   "outputs": [],
   "source": [
    "print(type(9))\n",
    "print(type(\"string\"))\n",
    "print(type(\"g\"))\n",
    "print(type(2J + 1))\n",
    "print(type(1.2))\n",
    "print(type(22/7))\n",
    "print(type([]))\n",
    "print(type(()))\n",
    "print(type({}))\n",
    "print(type(0==0))\n",
    "print(type(True))\n",
    "print(type(set()))\n",
    "print(type(frozenset()))\n",
    "print(type(None))\n",
    "print(type(bytes()))"
   ]
  },
  {
   "cell_type": "code",
   "execution_count": 32,
   "metadata": {},
   "outputs": [
    {
     "data": {
      "text/plain": [
       "3.0"
      ]
     },
     "execution_count": 32,
     "metadata": {},
     "output_type": "execute_result"
    }
   ],
   "source": [
    "float(3)"
   ]
  },
  {
   "cell_type": "code",
   "execution_count": 24,
   "metadata": {},
   "outputs": [
    {
     "ename": "ValueError",
     "evalue": "invalid literal for int() with base 10: 'abc'",
     "output_type": "error",
     "traceback": [
      "\u001b[1;31m---------------------------------------------------------------------------\u001b[0m",
      "\u001b[1;31mValueError\u001b[0m                                Traceback (most recent call last)",
      "Cell \u001b[1;32mIn [24], line 2\u001b[0m\n\u001b[0;32m      1\u001b[0m x \u001b[39m=\u001b[39m \u001b[39m\"\u001b[39m\u001b[39mabc\u001b[39m\u001b[39m\"\u001b[39m\n\u001b[1;32m----> 2\u001b[0m \u001b[39mint\u001b[39;49m(x)\n",
      "\u001b[1;31mValueError\u001b[0m: invalid literal for int() with base 10: 'abc'"
     ]
    }
   ],
   "source": [
    "x = \"abc\"\n",
    "int(x)"
   ]
  },
  {
   "cell_type": "code",
   "execution_count": 25,
   "metadata": {},
   "outputs": [
    {
     "data": {
      "text/plain": [
       "3"
      ]
     },
     "execution_count": 25,
     "metadata": {},
     "output_type": "execute_result"
    }
   ],
   "source": [
    "y = \"3\"\n",
    "int(y)"
   ]
  },
  {
   "cell_type": "code",
   "execution_count": null,
   "metadata": {},
   "outputs": [],
   "source": [
    "str(3)"
   ]
  },
  {
   "cell_type": "code",
   "execution_count": null,
   "metadata": {},
   "outputs": [],
   "source": [
    "str(abc)"
   ]
  },
  {
   "cell_type": "code",
   "execution_count": 30,
   "metadata": {},
   "outputs": [
    {
     "data": {
      "text/plain": [
       "(1, 0, 7)"
      ]
     },
     "execution_count": 30,
     "metadata": {},
     "output_type": "execute_result"
    }
   ],
   "source": [
    "x = 1,000,7\n",
    "type(x)\n",
    "x"
   ]
  },
  {
   "cell_type": "code",
   "execution_count": 31,
   "metadata": {},
   "outputs": [
    {
     "data": {
      "text/plain": [
       "1000000000"
      ]
     },
     "execution_count": 31,
     "metadata": {},
     "output_type": "execute_result"
    }
   ],
   "source": [
    "1_000_000_000"
   ]
  },
  {
   "cell_type": "code",
   "execution_count": 35,
   "metadata": {},
   "outputs": [
    {
     "name": "stdout",
     "output_type": "stream",
     "text": [
      "5\n",
      "12\n",
      "81\n",
      "3\n",
      "0\n",
      "3\n",
      "0.75\n",
      "-1\n",
      "hallo, hallo, hallo, \n",
      "2.0\n"
     ]
    }
   ],
   "source": [
    "print(3+2)\n",
    "print(3*4)\n",
    "print(3**4)\n",
    "print(3%4)\n",
    "print(3//4)\n",
    "print(3//4 + 3%4)\n",
    "print(3/4)\n",
    "print(3-4)\n",
    "print(3* \"hallo, \")\n",
    "print(4**(1/2))"
   ]
  },
  {
   "cell_type": "code",
   "execution_count": 42,
   "metadata": {},
   "outputs": [
    {
     "name": "stdout",
     "output_type": "stream",
     "text": [
      "Dit is mijn tekst. Hallo ! Jef\n",
      "Dit is mijn tekst. Hallo ! Jef\n"
     ]
    }
   ],
   "source": [
    "text = \"Dit is mijn tekst. Hallo !\"\n",
    "\n",
    "text.lower()\n",
    "text.title()\n",
    "\n",
    "if \"is\" not in text:\n",
    "    print(\"Yeeu\")\n",
    "\n",
    "print(text + \" Jef\")\n",
    "print(text, \"Jef\")"
   ]
  },
  {
   "cell_type": "code",
   "execution_count": 49,
   "metadata": {},
   "outputs": [
    {
     "name": "stdout",
     "output_type": "stream",
     "text": [
      "7 -1\n"
     ]
    }
   ],
   "source": [
    "def optellen(getal_1, getal_2):\n",
    "    # print(getal_1 + getal_2)\n",
    "    return getal_1 + getal_2, getal_1-getal_2\n",
    "    return getal_1 - getal_2, getal_1+getal_2\n",
    "\n",
    "resultaat, res = optellen(3, 4)\n",
    "\n",
    "print(resultaat, res)"
   ]
  },
  {
   "cell_type": "code",
   "execution_count": 53,
   "metadata": {},
   "outputs": [
    {
     "name": "stdout",
     "output_type": "stream",
     "text": [
      "x is : 9\n",
      "x ix : 9\n",
      "Deze teskt staat op \n",
      " twee lijnen\n",
      "\\n is\n"
     ]
    }
   ],
   "source": [
    "x = 9\n",
    "print(\"x is :\", x)\n",
    "print(f\"x ix : {x}\")\n",
    "print(\"Deze teskt staat op \\n twee lijnen\")\n",
    "print(r'\\n is')"
   ]
  },
  {
   "cell_type": "markdown",
   "metadata": {},
   "source": [
    "\\n - Newline.\n",
    "\\t- Horizontal tab."
   ]
  },
  {
   "cell_type": "code",
   "execution_count": 55,
   "metadata": {},
   "outputs": [
    {
     "name": "stdout",
     "output_type": "stream",
     "text": [
      "5\n",
      "5\n"
     ]
    }
   ],
   "source": [
    "z = 5\n",
    "\n",
    "x=y=z\n",
    "\n",
    "print(x)\n",
    "print(y)"
   ]
  },
  {
   "cell_type": "code",
   "execution_count": 60,
   "metadata": {},
   "outputs": [
    {
     "name": "stdout",
     "output_type": "stream",
     "text": [
      "3 4\n",
      "3 4\n"
     ]
    }
   ],
   "source": [
    "a, b = 3, 4\n",
    "A, B = a, b\n",
    "print(a, b)\n",
    "print(A, B)"
   ]
  },
  {
   "cell_type": "code",
   "execution_count": null,
   "metadata": {},
   "outputs": [],
   "source": [
    "4 + 5\n",
    "x = 7\n",
    "x\n",
    "y = 5 + x\n",
    "y"
   ]
  }
 ],
 "metadata": {
  "kernelspec": {
   "display_name": "Python 3.10.7 ('venv': venv)",
   "language": "python",
   "name": "python3"
  },
  "language_info": {
   "codemirror_mode": {
    "name": "ipython",
    "version": 3
   },
   "file_extension": ".py",
   "mimetype": "text/x-python",
   "name": "python",
   "nbconvert_exporter": "python",
   "pygments_lexer": "ipython3",
   "version": "3.10.7"
  },
  "orig_nbformat": 4,
  "vscode": {
   "interpreter": {
    "hash": "2e4fda5e8d7dbdcdafd317d183e2776a0a1e50c4a43f5f633675534977b84ce2"
   }
  }
 },
 "nbformat": 4,
 "nbformat_minor": 2
}
