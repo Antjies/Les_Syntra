{
 "cells": [
  {
   "cell_type": "markdown",
   "metadata": {},
   "source": [
    "A query is an SQL statement that is used to extract a subset of data from\n",
    "your database and presents it in a readable format. \n",
    "\n",
    "the SELECT command \n",
    "\n",
    "While there is an entire gamut of add-ons to SELECT, in this chapter we will focus on only two – ORDER BY and WHERE.\n",
    "\n",
    "this chapter will only deal with queries run on a single table"
   ]
  },
  {
   "cell_type": "markdown",
   "metadata": {},
   "source": [
    "# Start Using PGADMIN\n",
    "in pgAdmin kan je queries uitvoeren "
   ]
  },
  {
   "cell_type": "markdown",
   "metadata": {},
   "source": [
    "# Selecting a Limited Number of Columns\n",
    "\n",
    "```\n",
    "tesdb=# SELECT language,\n",
    "                year \n",
    "        FROM proglang_tbl;\n",
    "```\n",
    "\n",
    "construct your query in such a way that the meaning is self-evident if the output is meant to be read by a human."
   ]
  },
  {
   "cell_type": "markdown",
   "metadata": {},
   "source": [
    "# Ordering the Results\n",
    "\n",
    "ORDER BY clause\n",
    "\n",
    "```\n",
    "tesdb=# SELECT language,\n",
    "                year\n",
    "        FROM proglang_tbl ORDER BY year;\n",
    "\n",
    "```\n",
    "\n",
    "default ordering is ASC => to reverse we use DESC\n",
    "\n",
    "```\n",
    "tesdb=# SELECT language,\n",
    "                year\n",
    "        FROM proglang_tbl ORDER BY year DESC;\n",
    "\n",
    "```\n",
    "\n",
    "Ordering is not limited to numeric fields. You can order character-based columns too. \n",
    "\n",
    "```\n",
    "tesdb=# SELECT language,\n",
    "                year\n",
    "        FROM proglang_tbl ORDER BY language;\n",
    "```"
   ]
  },
  {
   "cell_type": "markdown",
   "metadata": {},
   "source": [
    "# Ordering Using Field Abbreviations\n",
    "\n",
    "The abbreviations are formed starting with 1, which is given to the first field specified in the query; 2 to the second field; and so on.\n",
    "\n",
    "```\n",
    "tesdb=# SELECT language,\n",
    "                year\n",
    "        FROM proglang_tbl ORDER BY 2 DESC;\n",
    "```\n",
    "\n",
    "Rarely is it a good idea to use field abbreviations if you are embedding SQL inside a programming language."
   ]
  },
  {
   "cell_type": "markdown",
   "metadata": {},
   "source": [
    "# Ordering by Multiple Columns\n",
    "\n",
    "we need to insert a few more rows in there\n",
    "\n",
    "```\n",
    "tesdb=# INSERT INTO proglang_tbl\n",
    "        (id, language, author, year, standard)\n",
    "        VALUES\n",
    "        (4, 'JOVIAL', 'Schwartz', 1959, 'US-DOD');\n",
    "\n",
    "tesdb=# INSERT INTO proglang_tbl\n",
    "        (id, language, author, year, standard)\n",
    "        VALUES\n",
    "        (5, 'APT', 'Ross', 1959, 'ISO');\n",
    "\n",
    "tesdb=# SELECT language,\n",
    "                year\n",
    "        FROM proglang_tbl ORDER BY year, language;\n",
    "```"
   ]
  },
  {
   "cell_type": "markdown",
   "metadata": {},
   "source": [
    "you can even use different ordering types for each of the columns\n",
    "\n",
    "```\n",
    "tesdb=# SELECT language,\n",
    "                year\n",
    "        FROM proglang_tbl\n",
    "        ORDER BY year DESC, language ASC;\n",
    "```"
   ]
  },
  {
   "cell_type": "markdown",
   "metadata": {},
   "source": [
    "# Putting Conditions with WHERE\n",
    "\n",
    "We will now limit the number of records retrieved in a query using conditions.\n",
    "\n",
    "The WHERE clause is used to achieve this\n",
    "\n",
    "it must have at least two parts – the SELECT and the FROM clause. After this we place the optional WHERE condition and then the ordering clause. \n",
    "\n",
    "```\n",
    "tesdb=# SELECT language,\n",
    "                author\n",
    "        FROM proglang_tbl\n",
    "        WHERE standard = 'ANSI';\n",
    "```"
   ]
  },
  {
   "cell_type": "markdown",
   "metadata": {},
   "source": [
    "You are by no means restricted to use = (equals) for your conditions.\n",
    "\n",
    "perfectly acceptable to choose other operators like < and >.\n",
    "\n",
    "You can also include the ORDER BY\n",
    "\n",
    "```\n",
    "tesdb=# SELECT language,\n",
    "                author,\n",
    "                year\n",
    "        FROM proglang_tbl\n",
    "        WHERE year > 1970\n",
    "        ORDER BY author;\n",
    "```"
   ]
  },
  {
   "cell_type": "markdown",
   "metadata": {},
   "source": [
    "# Combining Conditions\n",
    "\n",
    "We can construct complex conditions using the boolean operators AND and OR.\n",
    "\n",
    "```\n",
    "tesdb=# SELECT language,\n",
    "                author,\n",
    "                year\n",
    "        FROM proglang_tbl\n",
    "        WHERE year > 1970 AND standard IS NULL;\n",
    "\n",
    "```\n",
    "\n",
    "We specify that the standard field should be a null value by specifying IS NULL. This is not the same as saying standard = NULL. \n",
    "\n",
    "the latter as our conditional, we would get an empty result.\n",
    "\n",
    "```\n",
    "tesdb=# SELECT language,\n",
    "                author,\n",
    "                year\n",
    "        FROM proglang_tbl\n",
    "        WHERE year > 1970 AND standard = NULL;\n",
    "```\n",
    "\n",
    "A null is supposed to signify undefined values, not a precise value like infinity or 0 or even a complex number.\n",
    "\n",
    "You will not get any result ever ... with this last query."
   ]
  },
  {
   "cell_type": "markdown",
   "metadata": {},
   "source": [
    "Using the OR operator\n",
    "\n",
    "```\n",
    "tesdb=# SELECT language,\n",
    "                author,\n",
    "                year\n",
    "        FROM proglang_tbl\n",
    "        WHERE year > 1970 OR standard IS NULL;\n",
    "```"
   ]
  }
 ],
 "metadata": {
  "kernelspec": {
   "display_name": "Python 3.10.7 64-bit",
   "language": "python",
   "name": "python3"
  },
  "language_info": {
   "name": "python",
   "version": "3.10.7"
  },
  "orig_nbformat": 4,
  "vscode": {
   "interpreter": {
    "hash": "18a3ec44ede697772e2b2a8581e0f3291c9c47259057709d2626f9f8cd2d1d48"
   }
  }
 },
 "nbformat": 4,
 "nbformat_minor": 2
}
