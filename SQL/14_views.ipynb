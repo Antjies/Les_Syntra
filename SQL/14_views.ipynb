{
 "cells": [
  {
   "cell_type": "markdown",
   "metadata": {},
   "source": [
    "# Views\n",
    "\n",
    "the output of a query is also a table, a relation to be precise.\n",
    "\n",
    "A view is a\n",
    "query that can be used like a table.\n",
    "\n",
    "Think of it as a virtual table that stores for the viewer’s convenience a\n",
    "pre-computed resultset."
   ]
  },
  {
   "cell_type": "markdown",
   "metadata": {},
   "source": [
    "# Why Are Views Needed?\n",
    "\n",
    "Most production database systems would contain a lot of tables. \n",
    "\n",
    "Views would come to the rescue of the casual\n",
    "database user\n",
    "\n",
    "Another advantage that views bring to the table is security. We can\n",
    "restrict access to base tables and provide views containing only the data\n",
    "a particular group of users is allowed to see. \n",
    "\n",
    "views allow the underlying base tables to change their\n",
    "structure to cater to evolving needs and yet views can remain the same."
   ]
  },
  {
   "cell_type": "markdown",
   "metadata": {},
   "source": [
    "# Creating a View\n",
    "\n",
    "General syntax of view creation:\n",
    "\n",
    "```\n",
    "CREATE VIEW <view name> AS <query>\n",
    "\n",
    "```"
   ]
  },
  {
   "cell_type": "markdown",
   "metadata": {},
   "source": [
    "\n",
    "```\n",
    "tesdb=# CREATE VIEW language_chronology AS\n",
    "        SELECT language, year\n",
    "        FROM proglang_tbl\n",
    "        ORDER BY year ASC;\n",
    "```\n",
    "\n",
    "explicitly added the ordering clause to the view\n",
    "creation."
   ]
  },
  {
   "cell_type": "markdown",
   "metadata": {},
   "source": [
    "\n",
    "```\n",
    "tesdb=# SELECT * FROM language_chronology;\n",
    "```"
   ]
  },
  {
   "cell_type": "markdown",
   "metadata": {},
   "source": [
    "We can also include calculated fields \n",
    "\n",
    "keep in mind is how we rename the calculated\n",
    "field column\n",
    "\n",
    "\n",
    "Let’s re-create our decade query from Chapter 9, \n",
    "\n",
    "```\n",
    "tesdb=# CREATE VIEW language_decade AS\n",
    "        SELECT language,\n",
    "        'The '||((year/10)*10)||'s' decade\n",
    "        FROM proglang_tbl;\n",
    "\n",
    "tesdb=# SELECT * FROM language_decade;\n",
    "```"
   ]
  },
  {
   "cell_type": "markdown",
   "metadata": {},
   "source": [
    "Another way to rename the fields is to specify it in the view definition\n",
    "\n",
    "\n",
    "\n",
    "\n",
    "```\n",
    "tesdb=# CREATE VIEW language_era (lang, era) AS\n",
    "        SELECT language,\n",
    "        'The '||((year/10)*10)||'s'\n",
    "        FROM proglang_tbl\n",
    "        WHERE year < 1971;\n",
    "\n",
    "tesdb=# SELECT * FROM language_era;\n",
    "\n",
    "```\n",
    "\n",
    "Note that renaming a field has no\n",
    "effect on its data type or null status"
   ]
  },
  {
   "cell_type": "markdown",
   "metadata": {},
   "source": [
    "# Modifying Data Through Views\n",
    "\n",
    "a simple update of the year column through our\n",
    "language_chronology table\n",
    "\n",
    "```\n",
    "tesdb=# UPDATE language_chronology\n",
    "        SET year=1977\n",
    "        WHERE language='Fortran';\n",
    "\n",
    "\n",
    "tesdb=# SELECT * FROM language_chronology\n",
    "        WHERE language='Fortran';\n",
    "\n",
    "\n",
    "tesdb=# SELECT * FROM language_chronology;\n",
    "\n",
    "\n",
    "tesdb=# SELECT * FROM proglang_tbl;\n",
    "\n",
    "tesdb=# SELECT * FROM proglang_tbl\n",
    "        WHERE language='Fortran';\n",
    " \n",
    "```\n",
    "\n",
    "view language_era that was dependent\n",
    "on proglang_tbl would not contain the row for Fortran\n",
    "the use of the condition WHERE year < 1971"
   ]
  },
  {
   "cell_type": "markdown",
   "metadata": {},
   "source": [
    "TRY\n",
    "another data modification\n",
    "update the calculated field inside the view language_era \n",
    "\n",
    "\n",
    "```\n",
    "tesdb=# UPDATE language_era \n",
    "        SET era='The 1960s'\n",
    "        WHERE lang='JOVIAL';\n",
    "```\n",
    "\n",
    "The DBMS has rejected our request to update a calculated field\n",
    "because era does not exist in the base table proglang_tbl. "
   ]
  },
  {
   "cell_type": "markdown",
   "metadata": {},
   "source": [
    "Changing the lang field of the same view is perfectly unambiguous and\n",
    "hence allowed \n",
    "\n",
    "```\n",
    "tesdb=# UPDATE language_era \n",
    "        SET lang='Jovial'\n",
    "        WHERE lang='JOVIAL';\n",
    "\n",
    "tesdb=# SELECT * FROM proglang_tbl\n",
    "        WHERE id=4;\n",
    "\n",
    "```"
   ]
  },
  {
   "cell_type": "markdown",
   "metadata": {},
   "source": [
    "we can create a view with aggregated columns using the\n",
    "GROUP BY clause\n",
    "\n",
    "```\n",
    "tesdb=# CREATE VIEW standards AS\n",
    "        SELECT standard, count(*)\n",
    "        FROM proglang_tbl\n",
    "        GROUP BY standard;\n",
    "\n",
    "tesdb=# SELECT standard\n",
    "        FROM standards;\n",
    "```"
   ]
  },
  {
   "cell_type": "markdown",
   "metadata": {},
   "source": [
    "modifying the aggregated column would be ambiguous and thus not\n",
    "allowed. \n",
    "\n",
    "```\n",
    "tesdb=# UPDATE standards \n",
    "        SET standard='IS'\n",
    "        WHERE standard='ISO';\n",
    "```"
   ]
  },
  {
   "cell_type": "markdown",
   "metadata": {},
   "source": [
    "# Deleting Views\n",
    "\n",
    "```\n",
    "tesdb=# DROP VIEW standards;\n",
    "```\n",
    "\n"
   ]
  },
  {
   "cell_type": "markdown",
   "metadata": {},
   "source": [
    "you cannot accidentally drop a table using DROP VIEW,\n",
    "\n",
    "```\n",
    "tesdb=# DROP VIEW proglang_tbl;\n",
    "```"
   ]
  },
  {
   "cell_type": "markdown",
   "metadata": {},
   "source": [
    "\n",
    "```\n",
    "tesdb=# \n",
    "```"
   ]
  },
  {
   "cell_type": "markdown",
   "metadata": {},
   "source": [
    "\n",
    "```\n",
    "tesdb=# \n",
    "```"
   ]
  },
  {
   "cell_type": "markdown",
   "metadata": {},
   "source": [
    "\n",
    "```\n",
    "tesdb=# \n",
    "```"
   ]
  },
  {
   "cell_type": "markdown",
   "metadata": {},
   "source": [
    "\n",
    "```\n",
    "tesdb=# \n",
    "```"
   ]
  },
  {
   "cell_type": "markdown",
   "metadata": {},
   "source": [
    "\n",
    "```\n",
    "tesdb=# \n",
    "```"
   ]
  },
  {
   "cell_type": "markdown",
   "metadata": {},
   "source": [
    "\n",
    "```\n",
    "tesdb=# \n",
    "```"
   ]
  },
  {
   "cell_type": "markdown",
   "metadata": {},
   "source": [
    "\n",
    "```\n",
    "tesdb=# \n",
    "```"
   ]
  },
  {
   "cell_type": "markdown",
   "metadata": {},
   "source": [
    "\n",
    "```\n",
    "tesdb=# \n",
    "```"
   ]
  },
  {
   "cell_type": "markdown",
   "metadata": {},
   "source": [
    "\n",
    "```\n",
    "tesdb=# \n",
    "```"
   ]
  },
  {
   "cell_type": "markdown",
   "metadata": {},
   "source": [
    "\n",
    "```\n",
    "tesdb=# \n",
    "```"
   ]
  },
  {
   "cell_type": "markdown",
   "metadata": {},
   "source": [
    "\n",
    "```\n",
    "tesdb=# \n",
    "```"
   ]
  },
  {
   "cell_type": "markdown",
   "metadata": {},
   "source": [
    "\n",
    "```\n",
    "tesdb=# \n",
    "```"
   ]
  },
  {
   "cell_type": "markdown",
   "metadata": {},
   "source": [
    "\n",
    "```\n",
    "tesdb=# \n",
    "```"
   ]
  }
 ],
 "metadata": {
  "kernelspec": {
   "display_name": "Python 3.10.7 64-bit",
   "language": "python",
   "name": "python3"
  },
  "language_info": {
   "name": "python",
   "version": "3.10.7"
  },
  "orig_nbformat": 4,
  "vscode": {
   "interpreter": {
    "hash": "18a3ec44ede697772e2b2a8581e0f3291c9c47259057709d2626f9f8cd2d1d48"
   }
  }
 },
 "nbformat": 4,
 "nbformat_minor": 2
}
