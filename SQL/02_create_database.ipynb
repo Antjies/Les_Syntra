{
 "cells": [
  {
   "cell_type": "markdown",
   "metadata": {},
   "source": [
    "```\n",
    "postgres=# \\c tesdb\n",
    "\n",
    "\n",
    "CREATE TABLE <Table_Name>\n",
    "(<Field 1> <Data Type>,\n",
    "<Field 2> <Data Type>,\n",
    "\\. \\. \\.\n",
    "<Field N> <Data Type>);\n",
    "\n",
    "\n",
    "tesdb=# CREATE TABLE proglang_tbl (\n",
    "id INTEGER,\n",
    "language VARCHAR(20),\n",
    "author VARCHAR(25),\n",
    "year INTEGER);\n",
    "\n",
    "tesdb=# \\dt\n",
    "\n",
    "```"
   ]
  },
  {
   "cell_type": "markdown",
   "metadata": {},
   "source": [
    "```\n",
    "INSERT INTO <Table Name>\n",
    "VALUES ('Value1', 'Value2', ...)\n",
    "\n",
    "\n",
    "tesdb=# INSERT INTO proglang_tbl\n",
    "        VALUES (1, 'Fortran', 'Backus', 1955);\n",
    "tesdb=# INSERT INTO proglang_tbl\n",
    "        VALUES (2, 'Lisp', 'McCarthy', 1958);\n",
    "tesdb=# INSERT INTO proglang_tbl\n",
    "        VALUES (3, 'Cobol', 'Hopper', 1959);\n",
    "\n",
    "```"
   ]
  },
  {
   "cell_type": "markdown",
   "metadata": {},
   "source": [
    "```\n",
    "SELECT <Selection> FROM <Table Name>;\n",
    "\n",
    "\n",
    "tesdb=# SELECT * FROM proglang_tbl;\n",
    "\n",
    "```"
   ]
  },
  {
   "cell_type": "markdown",
   "metadata": {},
   "source": [
    "```\n",
    "\n",
    "```"
   ]
  },
  {
   "cell_type": "markdown",
   "metadata": {},
   "source": [
    "```\n",
    "\n",
    "```"
   ]
  }
 ],
 "metadata": {
  "kernelspec": {
   "display_name": "Python 3.10.7 64-bit",
   "language": "python",
   "name": "python3"
  },
  "language_info": {
   "name": "python",
   "version": "3.10.7"
  },
  "orig_nbformat": 4,
  "vscode": {
   "interpreter": {
    "hash": "18a3ec44ede697772e2b2a8581e0f3291c9c47259057709d2626f9f8cd2d1d48"
   }
  }
 },
 "nbformat": 4,
 "nbformat_minor": 2
}
