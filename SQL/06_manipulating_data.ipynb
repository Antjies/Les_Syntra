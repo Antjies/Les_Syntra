{
 "cells": [
  {
   "cell_type": "markdown",
   "metadata": {},
   "source": [
    "In this chapter we study the Data Manipulation Language (DML) \n",
    "\n",
    "The three basic commands of DML are as follows.\n",
    "* INSERT Populates tables with new data\n",
    "* UPDATE Updates existing data\n",
    "* DELETE Deletes data from tables"
   ]
  },
  {
   "cell_type": "markdown",
   "metadata": {},
   "source": [
    "# Inserting Data into a Table from Another Table\n",
    "\n",
    "You can insert new records into a table from another one by using a combination of INSERT and SELECT. \n",
    "\n",
    "use a WHERE conditional to limit or filter the records you wish to enter\n",
    "\n",
    "create a new table called stdlang_tbl\n",
    "insert rows from the proglang_tbl \n",
    "\n",
    "```\n",
    "tesdb=# CREATE TABLE stdlang_tbl\n",
    "        (language varchar(20),\n",
    "        standard varchar (10));\n",
    "\n",
    "tesdb=# INSERT INTO stdlang_tbl\n",
    "        SELECT  language,\n",
    "                standard\n",
    "        FROM proglang_tbl\n",
    "        WHERE standard IS NOT NULL;\n",
    "```"
   ]
  },
  {
   "cell_type": "markdown",
   "metadata": {},
   "source": [
    "If our stdlang_tbl had defined language as its primary key, our insert statements would run fine unless we encountered a duplicate language value\n",
    "\n",
    "```\n",
    "tesdb=# DROP TABLE stdlang_tbl;\n",
    "\n",
    "tesdb=# CREATE TABLE stdlang_tbl\n",
    "        (language varchar(20) PRIMARY KEY,\n",
    "        standard varchar (10));\n",
    "\n",
    "tesdb=# INSERT INTO stdlang_tbl\n",
    "        SELECT language,\n",
    "                standard\n",
    "        FROM proglang_tbl\n",
    "        WHERE standard IS NOT NULL;\n",
    "```"
   ]
  },
  {
   "cell_type": "markdown",
   "metadata": {},
   "source": [
    "What would happen if we somehow violated the constraints? \n",
    "\n",
    "creating a new table standardizing_bodies \n",
    "\n",
    "Violating the UNIQUE constraint while INSERT\n",
    "\n",
    "```\n",
    "tesdb=# CREATE TABLE standardizing_bodies\n",
    "        ( name varchar(10) UNIQUE );\n",
    "\n",
    "tesdb=# INSERT INTO standardizing_bodies\n",
    "        SELECT standard FROM proglang_tbl\n",
    "        WHERE standard IS NOT NULL;\n",
    "```"
   ]
  },
  {
   "cell_type": "markdown",
   "metadata": {},
   "source": [
    "# Updating Existing Data\n",
    "\n",
    "```\n",
    "UPDATE <table_name> SET\n",
    "<column1> = <value>,\n",
    "<column2> = <value>,\n",
    "<column3> = <value>\n",
    ". . .\n",
    "WHERE <condition>;\n",
    "```"
   ]
  },
  {
   "cell_type": "markdown",
   "metadata": {},
   "source": [
    "Populating some more data in our programming\n",
    "languages table\n",
    "\n",
    "```\n",
    "tesdb=# INSERT INTO proglang_tbl\n",
    "        (id, language, author, year, standard)\n",
    "        VALUES\n",
    "        (6, 'Forth', 'Moore', 1973, NULL);\n",
    "tesdb=# INSERT INTO proglang_tbl\n",
    "        (id, language, author, year, standard)\n",
    "        VALUES\n",
    "        (7, 'Tcl', 'Ousterhout', 1988, NULL);\n",
    "```"
   ]
  },
  {
   "cell_type": "markdown",
   "metadata": {},
   "source": [
    "Running an UPDATE on all rows of a table\n",
    "\n",
    "```\n",
    "tesdb=# SELECT * FROM proglang_tbl;\n",
    "\n",
    "tesdb=# UPDATE proglang_tbl SET\n",
    "        year = year + 10;\n",
    "\n",
    "tesdb=# SELECT * FROM proglang_tbl;\n",
    "\n",
    "tesdb=# UPDATE proglang_tbl SET\n",
    "        year = year - 10;\n",
    "\n",
    "tesdb=# SELECT * FROM proglang_tbl;\n",
    "\n",
    "```"
   ]
  },
  {
   "cell_type": "markdown",
   "metadata": {},
   "source": [
    "We later realize that the Forth language was created near 1972 (instead of 1973), and it actually has been standardized in 1994 by the ANSI. Thus we now go about correcting our mistakes by writing our update queries\n",
    "\n",
    "But we update wrong using \"1973\" and \"ISO\"\n",
    "\n",
    "```\n",
    "tesdb=# UPDATE proglang_tbl SET\n",
    "            year = 1973\n",
    "        WHERE language = 'Forth';\n",
    "\n",
    "tesdb=# UPDATE proglang_tbl SET\n",
    "            standard = 'ISO'\n",
    "        WHERE language = 'Forth';\n",
    "\n",
    "tesdb=# SELECT * FROM proglang_tbl;\n",
    "\n",
    "```"
   ]
  },
  {
   "cell_type": "markdown",
   "metadata": {},
   "source": [
    "We could have easily combined updating the multiple fields in a single statement\n",
    "\n",
    "Lets correct our mistakes\n",
    "\n",
    "```\n",
    "tesdb=# UPDATE proglang_tbl SET\n",
    "            year = 1972,\n",
    "            standard = 'ANSI'\n",
    "        WHERE language = 'Forth';\n",
    "```"
   ]
  },
  {
   "cell_type": "markdown",
   "metadata": {},
   "source": [
    "# Deleting Data from Tables\n",
    "\n",
    "DELETE command to delete records from a table. \n",
    "\n",
    "you can choose which records you want to delete based on a condition or delete all records, but you cannot delete certain fields of a record using this statement.\n",
    "\n",
    "```\n",
    "DELETE FROM <table_name>\n",
    "WHERE <condition>;\n",
    "```"
   ]
  },
  {
   "cell_type": "markdown",
   "metadata": {},
   "source": [
    "conditional clause in the DELETE is optional\n",
    "\n",
    "always used – simply because not using it would cause all the records to be deleted from a table,\n",
    "\n",
    "```\n",
    "tesdb=# DELETE FROM stdlang_tbl;\n",
    "\n",
    "tesdb=# SELECT * FROM stdlang_tbl;\n",
    "\n",
    "```"
   ]
  },
  {
   "cell_type": "markdown",
   "metadata": {},
   "source": [
    "\n",
    "```\n",
    "tesdb=# SELECT * FROM proglang_tbl;\n",
    "\n",
    "tesdb=# DELETE FROM proglang_tbl \n",
    "        WHERE language = 'Forth';\n",
    "\n",
    "```"
   ]
  }
 ],
 "metadata": {
  "kernelspec": {
   "display_name": "Python 3.10.7 64-bit",
   "language": "python",
   "name": "python3"
  },
  "language_info": {
   "name": "python",
   "version": "3.10.7"
  },
  "orig_nbformat": 4,
  "vscode": {
   "interpreter": {
    "hash": "18a3ec44ede697772e2b2a8581e0f3291c9c47259057709d2626f9f8cd2d1d48"
   }
  }
 },
 "nbformat": 4,
 "nbformat_minor": 2
}
