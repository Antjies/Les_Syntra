{
 "cells": [
  {
   "cell_type": "markdown",
   "metadata": {},
   "source": [
    "# Working in Sets\n",
    "\n",
    "Set theory is a branch of discrete mathematics that deals with a collection\n",
    "of objects. \n",
    "\n",
    "There is a lot of conceptual overlap between set theory and\n",
    "relational database concepts. \n",
    "\n",
    "It is no wonder that the output of a query is\n",
    "frequently called a result**set**.\n",
    "\n",
    "Primitive set theoretic operations like union, intersection, and\n",
    "difference are increasingly supported in various implementations"
   ]
  },
  {
   "cell_type": "markdown",
   "metadata": {},
   "source": [
    "# Union\n",
    "\n",
    "Combines elements of two sets. \n",
    "\n",
    "set1 = { 1, 3, 5 }\n",
    "\n",
    "set2 = { 1, 2, 3 }\n",
    "\n",
    "set1 UNION set2 = { 1, 3, 5, 2 }\n",
    "\n"
   ]
  },
  {
   "cell_type": "markdown",
   "metadata": {},
   "source": [
    "how to use the union operation in\n",
    "SQL. \n",
    "\n",
    "```\n",
    "tesdb=# SELECT * FROM proglang_tbl;\n",
    "```"
   ]
  },
  {
   "cell_type": "markdown",
   "metadata": {},
   "source": [
    "get the list of creation years of languages standardized\n",
    "by either ANSI or ISO\n",
    "\n",
    "```\n",
    "tesdb=# SELECT year FROM proglang_tbl\n",
    "        WHERE standard='ANSI'\n",
    "        UNION\n",
    "        SELECT year FROM proglang_tbl\n",
    "        WHERE standard='ISO';\n",
    "\n",
    "\n",
    "tesdb=# SELECT standard FROM proglang_tbl\n",
    "        WHERE language = 'Fortran'\n",
    "        UNION\n",
    "        SELECT standard FROM proglang_tbl\n",
    "        WHERE language = 'APL';  \n",
    "\n",
    "tesdb=# SELECT standard FROM proglang_tbl\n",
    "        WHERE language = 'Fortran'\n",
    "        UNION\n",
    "        SELECT standard FROM proglang_tbl\n",
    "        WHERE language = 'APT';               \n",
    "```"
   ]
  },
  {
   "cell_type": "markdown",
   "metadata": {},
   "source": [
    "\n",
    "```\n",
    "tesdb=# SELECT standard FROM proglang_tbl\n",
    "        WHERE language = 'Fortran'\n",
    "        UNION ALL\n",
    "        SELECT standard FROM proglang_tbl\n",
    "        WHERE language = 'APL';\n",
    "```\n",
    "\n",
    "SQL\n",
    "engine does not have to bother with checking for duplicates.\n",
    "\n",
    "\n",
    "If you have\n",
    "constructed your participating queries in such a way that there are no repeated\n",
    "values, using a UNION ALL would improve your query processing time."
   ]
  },
  {
   "cell_type": "markdown",
   "metadata": {},
   "source": [
    "# Intersection\n",
    "\n",
    "intersection operation outputs only the common elements\n",
    "\n",
    "set1 = { 1, 3, 5 }\n",
    "\n",
    "set2 = { 1, 2, 3 }\n",
    "\n",
    "set1 INTERSECTION set2 = { 1, 3 }\n",
    "\n",
    "As with union, each common value is displayed only once. Duplicates\n",
    "are removed from the final result set.\n"
   ]
  },
  {
   "cell_type": "markdown",
   "metadata": {},
   "source": [
    "Using the INTERSECT in SQL\n",
    "\n",
    "```\n",
    "tesdb=# SELECT standard FROM proglang_tbl\n",
    "        WHERE year=1964\n",
    "        INTERSECT\n",
    "        SELECT standard FROM proglang_tbl\n",
    "        WHERE year=1957;\n",
    "```\n",
    "\n",
    "INTERSECT operator would\n",
    "find the exact common values between the two queries \n",
    "\n",
    "let’s see what\n",
    "happens when we add another column to the result list\n"
   ]
  },
  {
   "cell_type": "markdown",
   "metadata": {},
   "source": [
    "\n",
    "```\n",
    "tesdb=# SELECT year, standard FROM proglang_tbl\n",
    "        WHERE year=1964\n",
    "        INTERSECT\n",
    "        SELECT year, standard FROM proglang_tbl\n",
    "        WHERE year=1957;\n",
    "```\n",
    "\n",
    "different combined value of (year, standard), giving us a net zero result."
   ]
  },
  {
   "cell_type": "markdown",
   "metadata": {},
   "source": [
    "# Difference\n",
    "set1 - set2 => \n",
    "all elements in set1 that do not occur in set2 \n",
    "\n",
    "set1 = { 1, 3, 5 }\n",
    "\n",
    "set2 = { 1, 2, 3 }\n",
    "\n",
    "\n",
    "set1 DIFFERENCE set2 = { 5 }\n",
    "\n",
    "set2 DIFFERENCE set1 = { 2 }\n"
   ]
  },
  {
   "cell_type": "markdown",
   "metadata": {},
   "source": [
    "\n",
    "```\n",
    "tesdb=# INSERT INTO proglang_tbl\n",
    "        (id, language, author, year, standard)\n",
    "        VALUES\n",
    "        (9, 'RPG', 'IBM', 1964, 'ISO');\n",
    "\n",
    "tesdb=# SELECT * FROM proglang_tbl;        \n",
    "```"
   ]
  },
  {
   "cell_type": "markdown",
   "metadata": {},
   "source": [
    "we wish to list out the years of creation of languages that\n",
    "were standardized by ISO but not the ANSI (Listing 13-11). From our\n",
    "source table, we find that three languages were standardized by ISO with\n",
    "years 1972, 1959, and 1964. But since in 1964, APL was created, which was\n",
    "eventually standardized by ANSI, we should ideally be left with the answer\n",
    "1972 and 1959\n",
    "\n",
    "```\n",
    "tesdb=# SELECT year FROM proglang_tbl\n",
    "        WHERE standard IN ('ISO')\n",
    "        AND standard NOT IN ('ANSI');      \n",
    "\n",
    "```\n",
    "\n",
    "We thought 1964 would be ineligible\n",
    "\n",
    "\n",
    "first there was a scan of ISO rows  – giving us\n",
    "three values. \n",
    "\n",
    "Then ANSI rows were discounted but not necessarily from\n",
    "the first result but the table as a whole. \n",
    "\n",
    "So while the APL 1964 was left\n",
    "off, the freshly inserted RPG 1964 still remained, "
   ]
  },
  {
   "cell_type": "markdown",
   "metadata": {},
   "source": [
    "Set difference with EXCEPT\n",
    "\n",
    "```\n",
    "tesdb=# SELECT year FROM proglang_tbl WHERE standard IN ('ISO')\n",
    "        EXCEPT\n",
    "        SELECT year FROM proglang_tbl WHERE standard IN ('ANSI');\n",
    "```"
   ]
  }
 ],
 "metadata": {
  "kernelspec": {
   "display_name": "Python 3.10.7 64-bit",
   "language": "python",
   "name": "python3"
  },
  "language_info": {
   "name": "python",
   "version": "3.10.7"
  },
  "orig_nbformat": 4,
  "vscode": {
   "interpreter": {
    "hash": "18a3ec44ede697772e2b2a8581e0f3291c9c47259057709d2626f9f8cd2d1d48"
   }
  }
 },
 "nbformat": 4,
 "nbformat_minor": 2
}
