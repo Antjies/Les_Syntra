{
 "cells": [
  {
   "cell_type": "markdown",
   "metadata": {},
   "source": [
    " a major advantage that SQL-based systems have over NoSQL\n",
    "data storage solutions is how intuitive grouping and aggregation is in the\n",
    "former category."
   ]
  },
  {
   "cell_type": "markdown",
   "metadata": {},
   "source": [
    "# Aggregate Functions\n",
    "\n",
    "An aggregate function is used to compute summarization information\n",
    "from a table or tables.\n",
    "\n",
    "We have already seen the COUNT aggregate function\n",
    "\n",
    " there are other aggregation\n",
    "functions in SQL like :\n",
    "* AVG for calculating averages; \n",
    "* SUM for computing\n",
    "totals; \n",
    "* and the extreme functions MAX, MIN for finding out maxima and\n",
    "minima values respectively.\n",
    "\n",
    "count and extreme functions work with all data types, but\n",
    "functions like SUM and AVG make sense only with numeric types \n"
   ]
  },
  {
   "cell_type": "markdown",
   "metadata": {},
   "source": [
    "Finding the Average year of creation in our\n",
    "programming languages table\n",
    "\n",
    "```\n",
    "tesdb=# SELECT AVG(year) FROM proglang_tbl;\n",
    "```\n",
    "\n",
    "a decimal number with a default of 16 digits\n",
    "after the decimal point in PostgreSQL."
   ]
  },
  {
   "cell_type": "markdown",
   "metadata": {},
   "source": [
    "a value like this to specify year is not useful\n",
    "\n",
    "we go about casting this average value to an intege\n",
    "\n",
    "```\n",
    "tesdb=# SELECT CAST(AVG(year) AS INTEGER)\n",
    "        FROM proglang_tbl;\n",
    "```"
   ]
  },
  {
   "cell_type": "markdown",
   "metadata": {},
   "source": [
    " CAST only works with compatible data\n",
    "types like numerics and integers. \n",
    "\n",
    "```\n",
    "tesdb=# SELECT CAST(language AS INTEGER)\n",
    "        FROM proglang_tbl;\n",
    "```"
   ]
  },
  {
   "cell_type": "markdown",
   "metadata": {},
   "source": [
    "find the sum of the year values in our table \n",
    "\n",
    "```\n",
    "tesdb=# SELECT SUM(year)\n",
    "        FROM proglang_tbl;\n",
    "```"
   ]
  },
  {
   "cell_type": "markdown",
   "metadata": {},
   "source": [
    "Using SUM on a varchar field in PostgreSQL\n",
    "\n",
    "```\n",
    "tesdb=# SELECT SUM(language)\n",
    "        FROM proglang_tbl;\n",
    "```"
   ]
  },
  {
   "cell_type": "markdown",
   "metadata": {},
   "source": [
    "# Using the Extreme Functions – MAX and MIN\n",
    "\n",
    "find the extreme values from a set of column values. \n",
    "\n",
    "```\n",
    "tesdb=# SELECT MIN(year)\n",
    "        FROM proglang_tbl;\n",
    "\n",
    "tesdb=# SELECT MAX(year)\n",
    "        FROM proglang_tbl;\n",
    "\n",
    "tesdb=# SELECT MAX(year),\n",
    "        MIN(year)\n",
    "        FROM proglang_tbl;\n",
    "\n",
    "tesdb=# SELECT MAX(year),\n",
    "        MIN(language)\n",
    "        FROM proglang_tbl;        \n",
    "```\n",
    "\n",
    "Notice that APT was not chosen since L < T when comparing alphabets."
   ]
  },
  {
   "cell_type": "markdown",
   "metadata": {},
   "source": [
    "# Grouping Data\n",
    "\n",
    "The GROUP BY clause of a SELECT query is used to group records based\n",
    "upon their field values. This clause is placed after the WHERE conditional.\n",
    "\n",
    "\n",
    "```\n",
    "tesdb=# INSERT INTO proglang_tbl\n",
    "        (id, language, author, year, standard)\n",
    "        VALUES\n",
    "        (8, 'Fortran', 'Backus', 1957, 'ANSI');\n",
    "\n",
    "tesdb=# SELECT standard FROM proglang_tbl\n",
    "        WHERE standard IS NOT NULL\n",
    "        GROUP BY standard;\n",
    "\n",
    "tesdb=# SELECT standard FROM proglang_tbl\n",
    "        WHERE standard IS NOT NULL;      \n",
    "```"
   ]
  },
  {
   "cell_type": "markdown",
   "metadata": {},
   "source": [
    "Let’s try to add the\n",
    "language column to the output of the above query \n",
    "\n",
    "\n",
    "```\n",
    "tesdb=# SELECT standard,\n",
    "        language\n",
    "        FROM proglang_tbl\n",
    "        WHERE standard IS NOT NULL\n",
    "        GROUP BY standard;\n",
    "```\n",
    "\n",
    "The database engine gave us an error for this query. This makes sense\n",
    "because while it bunched the different standards together because of\n",
    "our grouping clause, which language it should choose to display with it\n",
    "is ambiguous. "
   ]
  },
  {
   "cell_type": "markdown",
   "metadata": {},
   "source": [
    "the rule that the columns listed in\n",
    "the SELECT clause must be present in the GROUP BY clause.\n",
    "\n",
    "```\n",
    "tesdb=# SELECT standard,\n",
    "        language\n",
    "        FROM proglang_tbl\n",
    "        WHERE standard IS NOT NULL\n",
    "        GROUP BY standard, language;\n",
    "```\n",
    "\n",
    "1. You cannot group by a column that is not present in\n",
    "the SELECT list.\n",
    "2. You must specify all the columns in the grouping\n",
    "clause that are present in the SELECT list."
   ]
  },
  {
   "cell_type": "markdown",
   "metadata": {},
   "source": [
    "# Grouping and Aggregate Functions\n",
    "\n",
    "combining the GROUP BY clause with the COUNT aggregate function\n",
    "\n",
    "```\n",
    "tesdb=# SELECT standard,\n",
    "        COUNT(*)\n",
    "        FROM proglang_tbl\n",
    "        GROUP BY standard;\n",
    "\n",
    "tesdb=# SELECT year,\n",
    "        MIN(language),\n",
    "        COUNT(*)\n",
    "        FROM proglang_tbl\n",
    "        GROUP BY year;\n",
    "```"
   ]
  },
  {
   "cell_type": "markdown",
   "metadata": {},
   "source": [
    "# The HAVING Clause\n",
    "\n",
    "places conditions on the fields of a query, the HAVING\n",
    "clause places conditions on the groups created by GROUP BY. It must be\n",
    "placed immediately after the GROUP BY but before the ORDER BY clause\n",
    "\n",
    "```\n",
    "tesdb=# SELECT language,\n",
    "        standard,\n",
    "        year\n",
    "        FROM proglang_tbl\n",
    "        GROUP BY standard,\n",
    "        year,\n",
    "        language\n",
    "        HAVING year < 1980;\n",
    "```\n",
    "\n",
    "You might wonder why we need two different filtering clauses – WHERE\n",
    "and HAVING. A WHERE clause does not allow aggregate functions in its\n",
    "conditionals, a prime target for the HAVING clause."
   ]
  },
  {
   "cell_type": "markdown",
   "metadata": {},
   "source": [
    "\n",
    "```\n",
    "tesdb=# SELECT standard\n",
    "        FROM proglang_tbl\n",
    "        WHERE COUNT(standard) > 1\n",
    "        GROUP BY standard;\n",
    "\n",
    "tesdb=# SELECT standard\n",
    "        FROM proglang_tbl\n",
    "        GROUP BY standard\n",
    "        HAVING COUNT(standard) > 1;        \n",
    "```"
   ]
  },
  {
   "cell_type": "markdown",
   "metadata": {},
   "source": [
    "It correctly gave us the names of the two standard values with\n",
    "more than one occurrence. Interestingly, if we tweak the conditional to\n",
    "COUNT(*), we get an additional row \n",
    "\n",
    "```\n",
    "tesdb=# SELECT standard\n",
    "        FROM proglang_tbl\n",
    "        GROUP BY standard\n",
    "        HAVING COUNT(*) > 1;\n",
    "```"
   ]
  }
 ],
 "metadata": {
  "kernelspec": {
   "display_name": "Python 3.10.7 64-bit",
   "language": "python",
   "name": "python3"
  },
  "language_info": {
   "name": "python",
   "version": "3.10.7"
  },
  "orig_nbformat": 4,
  "vscode": {
   "interpreter": {
    "hash": "18a3ec44ede697772e2b2a8581e0f3291c9c47259057709d2626f9f8cd2d1d48"
   }
  }
 },
 "nbformat": 4,
 "nbformat_minor": 2
}
