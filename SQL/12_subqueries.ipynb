{
 "cells": [
  {
   "cell_type": "markdown",
   "metadata": {},
   "source": [
    "# Subqueries"
   ]
  },
  {
   "cell_type": "markdown",
   "metadata": {},
   "source": [
    "A subquery, simply put, is a query written as a part of a bigger statement.\n",
    "Think of it as a SELECT statement inside another one.\n",
    "\n",
    "The result of the\n",
    "inner SELECT can then be used in the outer query.\n",
    "\n",
    "```\n",
    "tesdb=# SELECT author FROM authors_tbl\n",
    "        WHERE language_id IN\n",
    "            ( \n",
    "                SELECT id FROM newlang_tbl\n",
    "                WHERE language='Tcl'\n",
    "            );\n",
    "```\n",
    "\n",
    "The subquery SELECT id FROM newlang_tbl WHERE language='Tcl'\n",
    "picks the correct language id from the newlang_tbl and passes it on to the\n",
    "outer query on the authors table. \n",
    "\n",
    "This frees us from the responsibility of\n",
    "joining the two tables using the language id field.\n",
    "\n",
    "We can visualize the intermediate step where the subquery has already\n",
    "resolved to a value. The query would now look something like ``SELECT\n",
    "author FROM authors_tbl WHERE language_id IN (4)``.\n",
    "\n",
    "\n",
    "Remember that all\n",
    "joins can be rewritten as subqueries, but the reverse is not true in all cases.\n"
   ]
  },
  {
   "cell_type": "markdown",
   "metadata": {},
   "source": [
    "# Types of Subqueries\n",
    " \n",
    "* __Scalar subqueries__ A subquery that returns only\n",
    "a single column of a single row as its output.\n",
    "* __Row subqueries__ A subquery that returns a single\n",
    "row but more than one column.\n",
    "* __Table subqueries__ return more\n",
    "than a single row and many columns per row.  It can return a table itself to take part in\n",
    "your outer query.\n"
   ]
  },
  {
   "cell_type": "markdown",
   "metadata": {},
   "source": [
    "A table subquery example\n",
    "\n",
    "```\n",
    "tesdb=# SELECT author, language\n",
    "        FROM authors_tbl a,\n",
    "            (\n",
    "                SELECT id, language\n",
    "                FROM newlang_tbl\n",
    "                WHERE year > 1980\n",
    "            ) new\n",
    "        WHERE a.language_id = new.id;\n",
    "```"
   ]
  },
  {
   "cell_type": "markdown",
   "metadata": {},
   "source": [
    "# Existence Tests in Subqueries\n",
    "\n",
    "The keyword EXISTS tests the presence of any number of rows returned\n",
    "from a subquery.\n",
    "\n",
    "```\n",
    "tesdb=# SELECT language,\n",
    "                year\n",
    "        FROM newlang_tbl\n",
    "        WHERE EXISTS (\n",
    "            SELECT * FROM authors_tbl\n",
    "            WHERE newlang_tbl.id = language_id\n",
    "            );\n",
    "```\n",
    "\n",
    "=> Alle talen die ook een ook in de language_id kolom bestaan van authors_tbl.\n",
    "\n",
    "\n",
    "Notice the subquery WHERE clause in this case. It is effectively referencing\n",
    "the outer table field using newlang_tbl.id."
   ]
  },
  {
   "cell_type": "markdown",
   "metadata": {},
   "source": [
    "We can add the option NOT to the existence test to find the complement\n",
    "of the result \n",
    "\n",
    "\n",
    "```\n",
    "tesdb=# SELECT language,\n",
    "                year\n",
    "        FROM newlang_tbl\n",
    "        WHERE NOT EXISTS (\n",
    "            SELECT * FROM authors_tbl\n",
    "            WHERE newlang_tbl.id = language_id\n",
    "            );\n",
    "```\n",
    "\n",
    "Recall that we had never put the corresponding entry in the authors\n",
    "table for Lisp in the last chapter."
   ]
  },
  {
   "cell_type": "markdown",
   "metadata": {},
   "source": [
    "# Using Subqueries in INSERT Statements\n",
    "\n",
    "We can even use subqueries inside other SQL statement like INSERT. \n",
    "\n",
    "Let us try to add a new language and a new author in our tables and ease our task of remembering id numbers by just a bit by using subqueries\n",
    "\n",
    "```\n",
    "tesdb=# INSERT INTO newlang_tbl\n",
    "        (id, language, year, standard)\n",
    "        VALUES (7, 'Pascal', 1970, 'ISO');\n",
    "\n",
    "tesdb=# SELECT * FROM newlang_tbl;\n",
    "\n",
    "tesdb=# SELECT * FROM authors_tbl;  \n",
    "```"
   ]
  },
  {
   "cell_type": "markdown",
   "metadata": {},
   "source": [
    "While inserting a new entry into the authors_tbl, we can either\n",
    "remember that we used the language_id as 7 for Pascal or use a subquery.\n",
    "\n",
    "```\n",
    "tesdb=# INSERT INTO authors_tbl\n",
    "        (author_id, author, language_id)\n",
    "        VALUES (7, 'Wirth',\n",
    "        (\n",
    "            SELECT id FROM newlang_tbl WHERE language='Pascal')\n",
    "        );\n",
    "\n",
    "tesdb=# SELECT * FROM authors_tbl;        \n",
    "```\n",
    "\n",
    "You can even use subqueries to control your UPDATE and DELETE\n",
    "statements. The logic remains much the same as with using subqueries in\n",
    "SELECT and INSERT."
   ]
  },
  {
   "cell_type": "markdown",
   "metadata": {},
   "source": [
    "# Using ANY and ALL\n",
    "\n",
    "The ANY operator used with the arithmetic comparison operators can\n",
    "be used to check a column value in comparison to a similar value(s)\n",
    "generated in the subquery. \n",
    "\n",
    "For example, if we wanted to display all the\n",
    "languages but exclude the oldest one from the result, we could combine >\n",
    "and ANY to achieve this\n",
    "\n",
    "```\n",
    "tesdb=# SELECT language\n",
    "        FROM newlang_tbl\n",
    "        WHERE year > ANY (SELECT year FROM newlang_tbl);\n",
    "```\n",
    "\n",
    "Only Lisp does not have a creation year that is not greater than any of\n",
    "the list of values returned by the subquery."
   ]
  },
  {
   "cell_type": "markdown",
   "metadata": {},
   "source": [
    "what would happen if we reversed our comparison operator to\n",
    "< ANY? \n",
    "\n",
    "```\n",
    "tesdb=# SELECT language\n",
    "        FROM newlang_tbl\n",
    "        WHERE year < ANY (SELECT year FROM newlang_tbl);\n",
    "```\n",
    "\n",
    "Tcl is notably\n",
    "absent. This is because the year of Tcl, that is, 1988 is not less than any of\n",
    "the values returned by the subquery. \n",
    "\n",
    "\n",
    "\n",
    "The other comparison conjunction we can use with ANY is =, but that\n",
    "is rarely seen because it is equivalent to using IN (), "
   ]
  },
  {
   "cell_type": "markdown",
   "metadata": {},
   "source": [
    "The ALL operator works similarly, but the value in the WHERE clause\n",
    "must hold true for all of the values returned from the subquery \n",
    "\n",
    "\n",
    "```\n",
    "tesdb=# SELECT language\n",
    "        FROM newlang_tbl\n",
    "        WHERE year <= ALL (SELECT year FROM newlang_tbl);\n",
    "\n",
    "tesdb=# SELECT language\n",
    "        FROM newlang_tbl\n",
    "        WHERE year >= ALL (SELECT year FROM newlang_tbl);    \n",
    "```"
   ]
  }
 ],
 "metadata": {
  "kernelspec": {
   "display_name": "Python 3.10.7 64-bit",
   "language": "python",
   "name": "python3"
  },
  "language_info": {
   "name": "python",
   "version": "3.10.7"
  },
  "orig_nbformat": 4,
  "vscode": {
   "interpreter": {
    "hash": "18a3ec44ede697772e2b2a8581e0f3291c9c47259057709d2626f9f8cd2d1d48"
   }
  }
 },
 "nbformat": 4,
 "nbformat_minor": 2
}
