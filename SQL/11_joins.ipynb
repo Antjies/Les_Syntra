{
 "cells": [
  {
   "cell_type": "markdown",
   "metadata": {},
   "source": [
    "# Understanding Joins\n",
    "\n",
    "A join operation allows you to retrieve data from multiple tables in a single\n",
    "SELECT query. \n",
    "\n",
    "Two tables can be joined by a single join operator, but the\n",
    "result can be joined again with other tables.\n",
    "\n",
    "There must exist a same or\n",
    "similar column between the tables being joined.\n",
    "\n",
    "we split our programming\n",
    "languages table into two in Chapter 7 – one holding the author details\n",
    "(Table 11-2) and the other holding information about the languages itself"
   ]
  },
  {
   "cell_type": "markdown",
   "metadata": {},
   "source": [
    "We choose our join column as the language_id field from the authors table.\n",
    "This corresponds to the id field in the languages table.\n",
    "\n",
    "```\n",
    "tesdb=# SELECT author, language\n",
    "        FROM authors_tbl, newlang_tbl\n",
    "        WHERE language_id = id;\n",
    "\n",
    "tesdb=# SELECT author, language\n",
    "        FROM authors_tbl, newlang_tbl\n",
    "        WHERE id = language_id;\n",
    "```\n",
    "\n",
    "The language_id = id is called the join condition. \n",
    "\n",
    "the operator used in the join condition is an equality operator (=), this join\n",
    "is called an equijoin. \n",
    "\n",
    "Another important thing to note is that the columns\n",
    "participating in the join condition are not the ones we choose to be in the\n",
    "result of the query."
   ]
  },
  {
   "cell_type": "markdown",
   "metadata": {},
   "source": [
    "# Alternative Join Syntax\n",
    "\n",
    "The SQL-92\n",
    "standard introduced the JOIN keyword\n",
    "\n",
    "```\n",
    "tesdb=# SELECT author, language\n",
    "        FROM authors_tbl JOIN newlang_tbl\n",
    "        ON language_id = id;\n",
    "\n",
    "tesdb=# SELECT author, language\n",
    "        FROM authors_tbl JOIN newlang_tbl\n",
    "        ON id = language_id;        \n",
    "\n",
    "tesdb=# SELECT author, language\n",
    "        FROM newlang_tbl JOIN authors_tbl\n",
    "        ON id = language_id;          \n",
    "```\n",
    "\n",
    "instead separating the two tables using a comma (thereby\n",
    "making it a list), we use the JOIN keyword. \n",
    "\n",
    " columns that participate in\n",
    "the join condition are preceded by the ON keyword. \n",
    "\n",
    "The WHERE clause can\n",
    "then be used after the join condition specification (ON clause) to specify\n",
    "any further conditions if needed."
   ]
  },
  {
   "cell_type": "markdown",
   "metadata": {},
   "source": [
    "A JOIN is equal to a INNER JOIN\n",
    "\n",
    "all rows that don’t match the join condition\n",
    "exactly are eliminated are called inner joins. "
   ]
  },
  {
   "cell_type": "markdown",
   "metadata": {},
   "source": [
    "![](images/inner_join.png)"
   ]
  },
  {
   "cell_type": "markdown",
   "metadata": {},
   "source": [
    "Specifying INNER JOIN explicitly\n",
    "\n",
    "\n",
    "```\n",
    "tesdb=# SELECT author, language\n",
    "        FROM authors_tbl INNER JOIN newlang_tbl\n",
    "        ON language_id = id;\n",
    "```"
   ]
  },
  {
   "cell_type": "markdown",
   "metadata": {},
   "source": [
    "# Resolving Ambiguity in Join Columns\n",
    "\n",
    "what if in our languages table we kept the key field's\n",
    "name as language_id? This would create an ambiguity in the join\n",
    "condition, which would become the confusing language_id = language_\n",
    "id. \n",
    "\n",
    "```\n",
    "tesdb=# CREATE TABLE languages_tbl\n",
    "        (language_id INTEGER, language VARCHAR(20));\n",
    "        \n",
    "        INSERT INTO languages_tbl VALUES (4, 'Tcl');\n",
    "\n",
    "tesdb=# SELECT author, language\n",
    "        FROM authors_tbl JOIN languages_tbl\n",
    "        ON language_id = language_id;    \n",
    "\n",
    "tesdb=# SELECT author, language\n",
    "        FROM authors_tbl JOIN languages_tbl\n",
    "        ON authors_tbl.language_id = languages_tbl.language_id;        \n",
    "```"
   ]
  },
  {
   "cell_type": "markdown",
   "metadata": {},
   "source": [
    "Another way to solve such ambiguity is to qualify the columns using\n",
    "table aliases. \n",
    "\n",
    "```\n",
    "tesdb=# SELECT author, language\n",
    "        FROM authors_tbl a JOIN newlang_tbl l\n",
    "        ON a.language_id = l.id;\n",
    "```"
   ]
  },
  {
   "cell_type": "markdown",
   "metadata": {},
   "source": [
    "# Outer Joins\n",
    "\n",
    " If the rows from the first table that don’t match the\n",
    "condition are desired in the resultset, we use a left outer join. Otherwise\n",
    "when rows from the second table are required, we use a right outer join.\n",
    "\n",
    "\n",
    "\n"
   ]
  },
  {
   "cell_type": "markdown",
   "metadata": {},
   "source": [
    "![](images/left_join.png)\n",
    "\n",
    "![](images/right_join.jpg)"
   ]
  },
  {
   "cell_type": "markdown",
   "metadata": {},
   "source": [
    "Let’s add a single row to the newlang_tbl about the Lisp\n",
    "programming language, but we will not make any entry into the authors\n",
    "table for this\n",
    "\n",
    "```\n",
    "tesdb=# INSERT INTO newlang_tbl\n",
    "        VALUES (6, 'Lisp', 1958, 'ANSI');\n",
    "\n",
    "tesdb=# SELECT language, author\n",
    "        FROM newlang_tbl n JOIN authors_tbl a\n",
    "        ON n.id = a.language_id;        \n",
    "\n",
    "tesdb=# SELECT language, author\n",
    "        FROM newlang_tbl n LEFT OUTER JOIN authors_tbl a\n",
    "        ON n.id = a.language_id;\n",
    "```\n",
    "\n"
   ]
  },
  {
   "cell_type": "markdown",
   "metadata": {},
   "source": [
    "convert this into a RIGHT OUTER JOIN\n",
    "\n",
    "```\n",
    "tesdb=# SELECT language, author\n",
    "        FROM authors_tbl a RIGHT OUTER JOIN newlang_tbl n\n",
    "        ON n.id = a.language_id;\n",
    "```\n",
    "\n",
    "Since all right outer joins can be written as left outer joins\n",
    "(and vice versa), it is rare to find many real-world usages of right outer\n",
    "joins. "
   ]
  },
  {
   "cell_type": "markdown",
   "metadata": {},
   "source": [
    "# Full Joins\n",
    "\n"
   ]
  },
  {
   "cell_type": "markdown",
   "metadata": {},
   "source": [
    "![](images/full_join.png)"
   ]
  },
  {
   "cell_type": "markdown",
   "metadata": {},
   "source": [
    "```\n",
    "\n",
    "tesdb=# INSERT INTO authors_tbl\n",
    "        (author_id, author)\n",
    "        VALUES\n",
    "        (6, 'Jef');\n",
    "\n",
    "tesdb=# SELECT language, author\n",
    "        FROM newlang_tbl n RIGHT OUTER JOIN authors_tbl a \n",
    "        ON n.id = a.language_id;        \n",
    "\n",
    "tesdb=# SELECT language, author\n",
    "        FROM authors_tbl a FULL JOIN newlang_tbl n\n",
    "        ON n.id = a.language_id;\n",
    "```"
   ]
  },
  {
   "cell_type": "markdown",
   "metadata": {},
   "source": [
    "# Cross Joins\n",
    "\n",
    " all possible combinations of rows are made from the tables\n",
    "participating in the join. \n",
    "\n",
    "```\n",
    "tesdb=# SELECT author, language\n",
    "        FROM authors_tbl, newlang_tbl;\n",
    "```\n",
    "\n",
    "each author and\n",
    "language combination."
   ]
  },
  {
   "cell_type": "markdown",
   "metadata": {},
   "source": [
    "selecting more than one column from the newlang_tbl,\n",
    "\n",
    "Would the number of combinations increase\n",
    "dramatically\n",
    "\n",
    "```\n",
    "tesdb=# SELECT author, language, year\n",
    "        FROM authors_tbl CROSS JOIN newlang_tbl;\n",
    "```\n",
    "\n",
    "Turns out that no,\n",
    "\n",
    "I’d advise against running cross joins on actual\n",
    "production database servers "
   ]
  },
  {
   "cell_type": "markdown",
   "metadata": {},
   "source": [
    "# Self Joins\n",
    "\n",
    "a table within its own columns has meaningful data but\n",
    "one (or more) of its fields refer to another field in the same table.\n",
    "\n",
    "for example:\n",
    " programming languages\n",
    "that influenced other programming languages and denote the influence\n",
    "relationship by the language id\n",
    "\n",
    "```\n",
    "tesdb=# CREATE TABLE inflang_tbl (id INTEGER    PRIMARY KEY,\n",
    "        language VARCHAR(20) NOT NULL,\n",
    "        influenced_by INTEGER);\n",
    "        \n",
    "tesdb=# INSERT INTO inflang_tbl (id, language)\n",
    "        VALUES (1, 'Fortran');\n",
    "\n",
    "tesdb=# INSERT INTO inflang_tbl (id, language, influenced_by)\n",
    "        VALUES (2, 'Pascal', 3);\n",
    "\n",
    "tesdb=# INSERT INTO inflang_tbl (id, language, influenced_by)\n",
    "        VALUES (3, 'Algol', 1);\n",
    "\n",
    "tesdb=# SELECT * FROM inflang_tbl;        \n",
    "\n",
    "```"
   ]
  },
  {
   "cell_type": "markdown",
   "metadata": {},
   "source": [
    "Running a self join query\n",
    "\n",
    "\n",
    "```\n",
    "tesdb=# SELECT l1.id,\n",
    "                l1.language,\n",
    "                l2.language AS influenced\n",
    "        FROM inflang_tbl l1, inflang_tbl l2\n",
    "        WHERE l1.id = l2.influenced_by;\n",
    "\n",
    "tesdb=# SELECT l1.id,\n",
    "                l1.language,\n",
    "                l2.language AS influenced\n",
    "        FROM inflang_tbl l1, inflang_tbl l2\n",
    "        WHERE l2.id = l1.influenced_by;\n",
    "                \n",
    "```\n",
    "\n",
    "De tweede oplossing is fout. Het is Algol dat Pascal heeft beïnvloed. En niet andersom Pascal dat Algol heeft beïnvloed."
   ]
  },
  {
   "cell_type": "markdown",
   "metadata": {},
   "source": [
    "Running a self join query using JOIN\n",
    "\n",
    "```\n",
    "tesdb=# SELECT l1.id,\n",
    "                l1.language,\n",
    "                l2.language AS influenced\n",
    "        FROM inflang_tbl l1 JOIN inflang_tbl l2\n",
    "        ON l1.id = l2.influenced_by;\n",
    "```"
   ]
  },
  {
   "cell_type": "markdown",
   "metadata": {},
   "source": [
    "# Non-Equi Joins\n",
    "\n",
    "```\n",
    "tesdb=# SELECT id,\n",
    "                author_id,\n",
    "                author,\n",
    "                language\n",
    "        FROM authors_tbl, newlang_tbl\n",
    "        WHERE id < author_id;\n",
    "```\n",
    "\n",
    "condition that in each row the id field is lesser than the\n",
    "corresponding author_id field value."
   ]
  },
  {
   "cell_type": "markdown",
   "metadata": {},
   "source": [
    "\n",
    "```\n",
    "tesdb=# SELECT id,\n",
    "                author_id,\n",
    "                author,\n",
    "                language\n",
    "        FROM authors_tbl, newlang_tbl\n",
    "        WHERE id < author_id\n",
    "        AND id = language_id;\n",
    "```\n",
    "\n",
    "records where the author of a language has\n",
    "their author_id value greater than their created languages’ id."
   ]
  }
 ],
 "metadata": {
  "kernelspec": {
   "display_name": "Python 3.10.7 64-bit",
   "language": "python",
   "name": "python3"
  },
  "language_info": {
   "name": "python",
   "version": "3.10.7"
  },
  "orig_nbformat": 4,
  "vscode": {
   "interpreter": {
    "hash": "18a3ec44ede697772e2b2a8581e0f3291c9c47259057709d2626f9f8cd2d1d48"
   }
  }
 },
 "nbformat": 4,
 "nbformat_minor": 2
}
