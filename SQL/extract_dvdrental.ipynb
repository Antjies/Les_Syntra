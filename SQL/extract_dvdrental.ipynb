{
 "cells": [
  {
   "cell_type": "markdown",
   "metadata": {},
   "source": [
    "https://www.postgresqltutorial.com/wp-content/uploads/2019/05/dvdrental.zip\n",
    "\n",
    "https://www.postgresqltutorial.com/postgresql-getting-started/postgresql-sample-database/\n",
    "\n",
    "https://www.postgresqltutorial.com/postgresql-getting-started/load-postgresql-sample-database/"
   ]
  },
  {
   "cell_type": "markdown",
   "metadata": {},
   "source": [
    "```\n",
    "> psql -U postgres\n",
    "\n",
    "postgres=# CREATE DATABASE dvdrental;\n",
    "\n",
    "```"
   ]
  },
  {
   "cell_type": "markdown",
   "metadata": {},
   "source": [
    "Then, navigate the bin folder of the PostgreSQL installation folder:\n",
    "\n",
    "After that, use the pg_restore tool to load data into the dvdrental database:\n",
    "\n",
    "=> CMD\n",
    "```\n",
    "> pg_restore -U postgres -d dvdrental C:\\sampledb\\dvdrental.tar\n",
    "\n",
    "> pg_restore -U postgres -d dvdrental \"C:\\Users\\Echos Bv\\Desktop\\Syntra\\Code\\SQL\\dvdrental\\dvdrental.tar\"\n",
    "\n",
    "> psql -U postgres\n",
    "\n",
    "postgres=# \\c dvdrental\n",
    "\n",
    "dvdrental=# \\dt\n",
    "\n",
    "```"
   ]
  }
 ],
 "metadata": {
  "kernelspec": {
   "display_name": "Python 3.10.7 64-bit",
   "language": "python",
   "name": "python3"
  },
  "language_info": {
   "name": "python",
   "version": "3.10.7"
  },
  "orig_nbformat": 4,
  "vscode": {
   "interpreter": {
    "hash": "18a3ec44ede697772e2b2a8581e0f3291c9c47259057709d2626f9f8cd2d1d48"
   }
  }
 },
 "nbformat": 4,
 "nbformat_minor": 2
}
