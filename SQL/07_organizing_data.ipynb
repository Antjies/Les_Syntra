{
 "cells": [
  {
   "cell_type": "markdown",
   "metadata": {},
   "source": [
    "In reality the data we encounter will be complex, even redundant. This is where the study of data modeling techniques and database design come in. "
   ]
  },
  {
   "cell_type": "markdown",
   "metadata": {},
   "source": [
    "![](images/Screenshot%202022-10-31%20180909.png)"
   ]
  },
  {
   "cell_type": "markdown",
   "metadata": {},
   "source": [
    "We can see that Descartes has two rows because he spent his life in both France and Netherlands. \n",
    "\n",
    "if at a later point we decide that we wish to classify him with a different skill, we would have to update both his rows \n",
    "\n",
    "Wouldn’t it be saner to have a separate table for skills?\n",
    "\n",
    "and allow the records that share the same skill to refer to this table? \n",
    "\n",
    "This process of breaking down a raw database into logical tables and removing redundancies is called Normalization.\n",
    "\n",
    "There are levels of normalization called normal forms that dictate how to achieve the desired design.\n",
    "\n",
    "There are five accepted normal forms \n",
    "They range from first normal form 1NF to fifth normal form 5NF.\n",
    "These forms are progressive in nature, meaning that a design in 3NF is also 1NF and 2NF compliant. \n",
    "\n",
    "working developers usually restrict themselves to 3NF or 4NF in most cases."
   ]
  },
  {
   "cell_type": "markdown",
   "metadata": {},
   "source": [
    "# Atomicity\n",
    "\n",
    "Let us take the case of BASIC, which was\n",
    "designed by John Kemeny and Thomas Kurtz. \n",
    "\n",
    "You can immediately see that it would be difficult to write a query to retrieve this record based on the author field. \n",
    "“Kemeny, Kurtz” or “Kurtz, Kemeny” or even “Kemeny & Kurtz,”\n",
    "\n",
    "The correct solution is to redesign the table structure to make all field values atomic.\n",
    "\n",
    "Atomicity of values means that every intersection of a row and column must contain a single, indivisible value.\n",
    "\n",
    "start thinking of changing your table structures."
   ]
  },
  {
   "cell_type": "markdown",
   "metadata": {},
   "source": [
    "# Repeating Groups\n",
    "\n",
    "Another simple (but ultimately wrong) approach that comes to mind is to split the author field into two parts – author1 and author2. "
   ]
  },
  {
   "cell_type": "markdown",
   "metadata": {},
   "source": [
    "![](images/Screenshot%202022-10-31%20182402.png)"
   ]
  },
  {
   "cell_type": "markdown",
   "metadata": {},
   "source": [
    "## Can you spot the problem that will arise from this design decision?\n",
    "\n",
    "This imposes an artificial constraint on how many authors a language can have. \n",
    "\n",
    "This kind of design is referred to as a repeating group and must be actively avoided."
   ]
  },
  {
   "cell_type": "markdown",
   "metadata": {},
   "source": [
    "# Splitting the Table\n",
    "\n",
    "The correct design to remove the problems listed above is to split the table into two – one holding the author details and one detailing the language."
   ]
  },
  {
   "cell_type": "markdown",
   "metadata": {},
   "source": [
    "![](images/Screenshot%202022-11-01%20085359.png)\n",
    "\n",
    "![](images/Screenshot%202022-11-01%20085447.png)"
   ]
  },
  {
   "cell_type": "markdown",
   "metadata": {},
   "source": [
    "Once you have removed the non-atomicity of fields and repeating groups along with assigning unique id’s to your tables, your table structure is now in the first normal form\n",
    "\n",
    "The author table’s language_id field, which refers to the id field of the language table, is called a foreign key constraint\n",
    "\n",
    "```\n",
    "tesdb=# CREATE TABLE newlang_tbl\n",
    "        (\n",
    "            id INTEGER NOT NULL PRIMARY KEY,\n",
    "            language VARCHAR(20) NOT NULL,\n",
    "            year INTEGER NOT NULL,\n",
    "            standard VARCHAR(10) NULL\n",
    "            );\n",
    "\n",
    "tesdb=# CREATE TABLE authors_tbl\n",
    "        (\n",
    "            author_id INTEGER NOT NULL,\n",
    "            author VARCHAR(25) NOT NULL,\n",
    "            language_id INTEGER REFERENCES newlang_tbl(id)\n",
    "            );\n",
    "```\n",
    "\n",
    "You can only create a foreign key reference as a primary or unique key\n"
   ]
  },
  {
   "cell_type": "markdown",
   "metadata": {},
   "source": [
    "inserting a row in the author’s table that does not yet have a language entry would also result in an error\n",
    "\n",
    "```\n",
    "tesdb=# INSERT INTO authors_tbl\n",
    "        (author_id, author, language_id)\n",
    "        VALUES\n",
    "        (5, 'Kemeny', 5)\n",
    "```"
   ]
  },
  {
   "cell_type": "markdown",
   "metadata": {},
   "source": [
    "\n",
    "```\n",
    "tesdb=# INSERT INTO newlang_tbl\n",
    "        (id, language, year, standard)\n",
    "        VALUES\n",
    "        (5, 'BASIC', 1964, 'ANSI');\n",
    "\n",
    "tesdb=# INSERT INTO authors_tbl\n",
    "        (author_id, author, language_id)\n",
    "        VALUES\n",
    "        (5, 'Kemeny', 5);\n",
    "```\n",
    "\n",
    "Referential integrity is a key benefit of good relational database design. Since it applies to related entities, it ensures that the values of these remain in sync."
   ]
  },
  {
   "cell_type": "markdown",
   "metadata": {},
   "source": [
    "\n",
    "```\n",
    "tesdb=# \n",
    "\n",
    "INSERT INTO newlang_tbl\n",
    "    (id, language, year, standard)\n",
    "    VALUES\n",
    "    (1, 'Prolog', 1972, 'ISO');\n",
    "\n",
    "INSERT INTO newlang_tbl\n",
    "    (id, language, year)\n",
    "    VALUES\n",
    "    (2, 'Perl', 1987);\n",
    "\n",
    "INSERT INTO newlang_tbl\n",
    "    (id, language, year, standard)\n",
    "    VALUES\n",
    "    (3, 'APL', 1964, 'ANSI');\n",
    "\n",
    "INSERT INTO newlang_tbl\n",
    "    (id, language, year)\n",
    "    VALUES\n",
    "    (4, 'Tcl', 1988);\n",
    "\n",
    "INSERT INTO authors_tbl\n",
    "    (author_id, author, language_id)\n",
    "    VALUES (6, 'Kurtz', 5);\n",
    "\n",
    "INSERT INTO authors_tbl\n",
    "    (author_id, author, language_id)\n",
    "    VALUES (1, 'Colmerauer', 1);\n",
    "\n",
    "INSERT INTO authors_tbl\n",
    "    (author_id, author, language_id)\n",
    "    VALUES (2, 'Wall', 2);\n",
    "\n",
    "INSERT INTO authors_tbl\n",
    "    (author_id, author, language_id)\n",
    "    VALUES (3, 'Ousterhout', 4);\n",
    "\n",
    "INSERT INTO authors_tbl\n",
    "    (author_id, author, language_id)\n",
    "    VALUES (4, 'Iverson', 3);\n",
    "```"
   ]
  },
  {
   "cell_type": "markdown",
   "metadata": {},
   "source": [
    "\n",
    "```\n",
    "tesdb=# \n",
    "```"
   ]
  },
  {
   "cell_type": "markdown",
   "metadata": {},
   "source": [
    "\n",
    "```\n",
    "tesdb=# \n",
    "```"
   ]
  },
  {
   "cell_type": "markdown",
   "metadata": {},
   "source": [
    "\n",
    "```\n",
    "tesdb=# \n",
    "```"
   ]
  },
  {
   "cell_type": "markdown",
   "metadata": {},
   "source": [
    "\n",
    "```\n",
    "tesdb=# \n",
    "```"
   ]
  },
  {
   "cell_type": "markdown",
   "metadata": {},
   "source": [
    "\n",
    "```\n",
    "tesdb=# \n",
    "```"
   ]
  },
  {
   "cell_type": "markdown",
   "metadata": {},
   "source": [
    "\n",
    "```\n",
    "tesdb=# \n",
    "```"
   ]
  },
  {
   "cell_type": "markdown",
   "metadata": {},
   "source": [
    "\n",
    "```\n",
    "tesdb=# \n",
    "```"
   ]
  }
 ],
 "metadata": {
  "kernelspec": {
   "display_name": "Python 3.10.7 64-bit",
   "language": "python",
   "name": "python3"
  },
  "language_info": {
   "name": "python",
   "version": "3.10.7"
  },
  "orig_nbformat": 4,
  "vscode": {
   "interpreter": {
    "hash": "18a3ec44ede697772e2b2a8581e0f3291c9c47259057709d2626f9f8cd2d1d48"
   }
  }
 },
 "nbformat": 4,
 "nbformat_minor": 2
}
