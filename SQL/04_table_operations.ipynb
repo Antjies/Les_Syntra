{
 "cells": [
  {
   "cell_type": "markdown",
   "metadata": {},
   "source": [
    "# Dropping Tables\n",
    "\n",
    "DROP is actually a top-level SQL command, much like CREATE, which performs a deletion operation on many kinds of database objects.\n",
    "\n",
    "Note that dropping a table means deleting a table and any data inside it without a chance of recovery.\n",
    "\n",
    "```\n",
    "tesdb=# DROP TABLE proglang_tbl;\n",
    "        DROP TABLE proglang_tblcopy;\n",
    "        DROP TABLE proglang_constraints;\n",
    "        DROP TABLE proglang_tbltmp;\n",
    "```\n",
    "\n",
    "DROP TABLE only supports dropping a single table at a time"
   ]
  },
  {
   "cell_type": "markdown",
   "metadata": {},
   "source": [
    "\n",
    "```\n",
    "tesdb=# \\dt\n",
    "\n",
    "tesdb=# SELECT table_name\n",
    "        FROM information_schema.tables\n",
    "        WHERE table_schema = 'public'\n",
    "        AND table_type = 'BASE TABLE';\n",
    "```\n",
    "\n",
    "table data in PostgreSQL is stored in the\n",
    "information_schema.tables catalog table."
   ]
  },
  {
   "cell_type": "markdown",
   "metadata": {},
   "source": [
    "# Creating New Tables from Existing Tables\n",
    "\n",
    "creating a copy of the table using a combination of both CREATE TABLE and SELECT commands\n",
    "\n",
    "```\n",
    "CREATE TABLE <New Table>\n",
    "AS\n",
    "SELECT <Selection> FROM <Old Table>;\n",
    "```"
   ]
  },
  {
   "cell_type": "markdown",
   "metadata": {},
   "source": [
    "first add some extra data in the original table\n",
    "\n",
    "```\n",
    "tesdb=# INSERT INTO proglang_tbluk\n",
    "        VALUES\n",
    "        (2, 'Perl', 'Wall', 1987);\n",
    "\n",
    "\n",
    "tesdb=# INSERT INTO proglang_tbluk (id, year, standard, language, author)\n",
    "        VALUES (3, '1964', 'ANSI', 'APL', 'Iverson');\n",
    "```"
   ]
  },
  {
   "cell_type": "markdown",
   "metadata": {},
   "source": [
    "create exact copy\n",
    "\n",
    "```\n",
    "tesdb=# CREATE TABLE proglang_tbl\n",
    "        AS\n",
    "        SELECT * FROM proglang_tbluk;\n",
    "\n",
    "tesdb=# \\dt\n",
    "\n",
    "tesdb=# SELECT * FROM proglang_tbl;\n",
    "\n",
    "```"
   ]
  },
  {
   "cell_type": "markdown",
   "metadata": {},
   "source": [
    "# Modifying Tables\n",
    "\n",
    "modify its structure using the ALTER TABLE command \n",
    "\n",
    "you can change field types, sizes, even add or delete columns\n",
    "\n",
    "```\n",
    "ALTER TABLE <Table name> <Operation> <Field with clauses>;\n",
    "\n",
    "```"
   ]
  },
  {
   "cell_type": "markdown",
   "metadata": {},
   "source": [
    "modify the field author for the proglang_tbl table.\n",
    "\n",
    "```\n",
    "tesdb=# ALTER TABLE proglang_tbluk\n",
    "        ALTER COLUMN author TYPE varchar(30);\n",
    "\n",
    "tesdb=# ALTER TABLE proglang_tbluk\n",
    "        ADD COLUMN current_status VARCHAR(32) NULL;\n",
    "```"
   ]
  },
  {
   "cell_type": "markdown",
   "metadata": {},
   "source": [
    "# Showing Table Information in PostgreSQL\n",
    "\n",
    "Viewing field information\n",
    "\n",
    "```\n",
    "tesdb=# SELECT  column_name,\n",
    "                data_type,\n",
    "                character_maximum_length\n",
    "        FROM INFORMATION_SCHEMA.COLUMNS\n",
    "        WHERE table_name = 'proglang_tbluk';\n",
    "\n",
    "\n",
    "\\d+ <table name>\n",
    "\n",
    "\n",
    "tesdb=# \\d+ proglang_tbluk\n",
    "```"
   ]
  }
 ],
 "metadata": {
  "kernelspec": {
   "display_name": "Python 3.10.7 64-bit",
   "language": "python",
   "name": "python3"
  },
  "language_info": {
   "name": "python",
   "version": "3.10.7"
  },
  "orig_nbformat": 4,
  "vscode": {
   "interpreter": {
    "hash": "18a3ec44ede697772e2b2a8581e0f3291c9c47259057709d2626f9f8cd2d1d48"
   }
  }
 },
 "nbformat": 4,
 "nbformat_minor": 2
}
