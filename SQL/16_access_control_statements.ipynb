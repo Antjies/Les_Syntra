{
 "cells": [
  {
   "cell_type": "markdown",
   "metadata": {},
   "source": [
    "# Access Control Statements\n",
    "\n",
    "When such important data is being stored in the system and when the\n",
    "DBMS becomes the central data store across the organization, some level\n",
    "of access control is absolutely essential.\n",
    "\n",
    "\n",
    "Access control refers to permissions within a software system. \n",
    "\n",
    "\n",
    "almost all vendors do provide the\n",
    "Data Control Language (DCL) SQL commands of GRANT and REVOKE."
   ]
  },
  {
   "cell_type": "markdown",
   "metadata": {},
   "source": [
    "# Creating New Users in PostgreSQL\n",
    "\n",
    "we have been using the user\n",
    "postgres. \n",
    "\n",
    "Just to recap, we used to start our psql session by specifying\n",
    "the username in the -U option  `psql -U postgres`\n",
    "\n",
    "But this does not accurately reflect the real-world setup. Usually you\n",
    "would have your own user account, which will have lesser privileges than\n",
    "the administrator account.\n",
    "\n",
    "one account being compromised does not\n",
    "affect everything in the system.\n",
    "\n",
    "Go to Terminal => psql -U postgres =>\n",
    "\n",
    "```\n",
    "tesdb=# CREATE USER primer with PASSWORD 'hunter2';\n",
    "```\n",
    "\n",
    " a new user by the name primer is\n",
    "created with the password hunter2 \n",
    "\n",
    "\n",
    "CREATE USER\n",
    "command does not switch to the new user directly but continues the same\n",
    "session with postgres\n",
    "\n",
    "in terminal: `\\du`\n",
    "\n",
    "We see that indeed our user has been created, though the list of its\n",
    "attributes is empty. \n"
   ]
  },
  {
   "cell_type": "markdown",
   "metadata": {},
   "source": [
    "Querying user information from the database catalog:\n",
    "\n",
    "\n",
    "```\n",
    "tesdb=# SELECT usename,\n",
    "                usesysid,\n",
    "                usecreatedb,\n",
    "                usesuper \n",
    "        FROM pg_user;\n",
    "```"
   ]
  },
  {
   "cell_type": "markdown",
   "metadata": {},
   "source": [
    "# Grant Privileges to Users\n",
    "\n",
    "try to open a psql session using this newly created user.\n",
    "\n",
    "Go to Terminal => `psql -U primer` \n",
    "\n",
    "ERROR\n",
    "\n",
    "\n",
    "also tried to open the default database for the\n",
    "new user whose name was assumed to be the same as the username. (`\\c primer`)\n",
    "\n",
    "\n"
   ]
  },
  {
   "cell_type": "markdown",
   "metadata": {},
   "source": [
    "\n",
    "\n",
    "Go to Terminal => `psql -U primer -d testdb` \n",
    "\n",
    "OK => Logging into the testdb database worked. \n",
    "\n",
    "```\n",
    "tesdb=# SELECT * FROM proglang_tbl;\n",
    "```\n",
    "\n",
    "ERROR => basic query gave us a permission denied error. \n",
    " we haven’t granted any special\n",
    "access to primer. \n"
   ]
  },
  {
   "cell_type": "markdown",
   "metadata": {},
   "source": [
    "use the GRANT statement to give specific privileges \n",
    "\n",
    "`GRANT <privilege> ON <table name> TO <user>`\n",
    "\n",
    "give the primer user is the\n",
    "ability to query proglang_tbl.\n",
    "\n",
    " as the superuser\n",
    "postgres\n",
    "\n",
    "```\n",
    "tesdb=# GRANT SELECT \n",
    "        ON proglang_tbl \n",
    "        TO primer;\n",
    "\n",
    "tesdb=# SELECT count(*) \n",
    "        FROM proglang_tbl;\n",
    "\n",
    "        \n",
    "```"
   ]
  },
  {
   "cell_type": "markdown",
   "metadata": {},
   "source": [
    "\n",
    "ERROR: permission denied:\n",
    "\n",
    "```\n",
    "tesdb=# UPDATE proglang_tbl \n",
    "        SET year=1982\n",
    "        WHERE author='Ross';\n",
    "```"
   ]
  },
  {
   "cell_type": "markdown",
   "metadata": {},
   "source": [
    "there is an ALL privilege that grants all the available\n",
    "privilege\n",
    "\n",
    "\n",
    "wish to specify multiple privileges:\n",
    "\n",
    "```\n",
    "tesdb=# GRANT SELECT, UPDATE, INSERT ON proglang_tbl TO primer;\n",
    "\n",
    "```"
   ]
  },
  {
   "cell_type": "markdown",
   "metadata": {},
   "source": [
    "# Revoking Privileges\n",
    "\n",
    "`REVOKE <privilege> ON <table name> FROM <user>`\n",
    "\n",
    "We’d allow\n",
    "users to query the view but not the underlying table.\n",
    "\n",
    "```\n",
    "tesdb=# GRANT SELECT \n",
    "        ON language_decade \n",
    "        TO primer;\n",
    "\n",
    "tesdb=# REVOKE SELECT ON proglang_tbl \n",
    "        FROM primer;\n",
    "```"
   ]
  },
  {
   "cell_type": "markdown",
   "metadata": {},
   "source": [
    "TERMINAL =>\n",
    "\n",
    "the user can query the view but not the base table:\n",
    "\n",
    "```\n",
    "tesdb=# SELECT * FROM proglang_tbl;\n",
    "\n",
    "tesdb=# SELECT * FROM language_decade \n",
    "        WHERE decade='The 1950s';\n",
    "```"
   ]
  },
  {
   "cell_type": "markdown",
   "metadata": {},
   "source": [
    " a keyword PUBLIC to refer to\n",
    "all current and future users of a system. \n",
    "\n",
    "```\n",
    "tesdb=# GRANT ALL \n",
    "        ON proglang_tbl \n",
    "        TO PUBLIC;\n",
    "\n",
    "tesdb=# REVOKE DELETE \n",
    "        ON proglang_tbl \n",
    "        FROM PUBLIC;\n",
    "```\n",
    "\n",
    "first\n",
    "open up the proglang_tbl for everyone and then remove only the DELETE\n",
    "privilege"
   ]
  },
  {
   "cell_type": "markdown",
   "metadata": {},
   "source": [
    "\n",
    "```\n",
    "tesdb=# \n",
    "```"
   ]
  },
  {
   "cell_type": "markdown",
   "metadata": {},
   "source": [
    "\n",
    "```\n",
    "tesdb=# \n",
    "```"
   ]
  },
  {
   "cell_type": "markdown",
   "metadata": {},
   "source": [
    "\n",
    "```\n",
    "tesdb=# \n",
    "```"
   ]
  },
  {
   "cell_type": "markdown",
   "metadata": {},
   "source": [
    "\n",
    "```\n",
    "tesdb=# \n",
    "```"
   ]
  },
  {
   "cell_type": "markdown",
   "metadata": {},
   "source": [
    "\n",
    "```\n",
    "tesdb=# \n",
    "```"
   ]
  },
  {
   "cell_type": "markdown",
   "metadata": {},
   "source": [
    "\n",
    "```\n",
    "tesdb=# \n",
    "```"
   ]
  },
  {
   "cell_type": "markdown",
   "metadata": {},
   "source": [
    "\n",
    "```\n",
    "tesdb=# \n",
    "```"
   ]
  },
  {
   "cell_type": "markdown",
   "metadata": {},
   "source": [
    "\n",
    "```\n",
    "tesdb=# \n",
    "```"
   ]
  },
  {
   "cell_type": "markdown",
   "metadata": {},
   "source": [
    "\n",
    "```\n",
    "tesdb=# \n",
    "```"
   ]
  }
 ],
 "metadata": {
  "kernelspec": {
   "display_name": "Python 3.10.7 64-bit",
   "language": "python",
   "name": "python3"
  },
  "language_info": {
   "name": "python",
   "version": "3.10.7"
  },
  "orig_nbformat": 4,
  "vscode": {
   "interpreter": {
    "hash": "18a3ec44ede697772e2b2a8581e0f3291c9c47259057709d2626f9f8cd2d1d48"
   }
  }
 },
 "nbformat": 4,
 "nbformat_minor": 2
}
