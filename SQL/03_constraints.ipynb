{
 "cells": [
  {
   "cell_type": "markdown",
   "metadata": {},
   "source": [
    "# The Null Constraint\n",
    "\n",
    "\n",
    "```\n",
    "tesdb=# CREATE TABLE proglang_tblcopy (\n",
    "        id          INTEGER         NOT NULL,\n",
    "        language    VARCHAR(20)     NOT NULL,\n",
    "        author      VARCHAR(25)     NOT NULL,\n",
    "        year        INTEGER         NOT NULL,\n",
    "        standard    VARCHAR(10)     NULL);\n",
    "\n",
    "\n",
    "tesdb=# SELECT * FROM proglang_tblcopy;\n",
    "\n",
    "```"
   ]
  },
  {
   "cell_type": "markdown",
   "metadata": {},
   "source": [
    "Testing => add a null value\n",
    "\n",
    "```\n",
    "\n",
    "tesdb=# INSERT INTO proglang_tblcopy\n",
    "        VALUES (1, 'Fortran', 'Backus', null,\n",
    "        'ANSI');\n",
    "\n",
    "\n",
    "\n",
    "\n",
    "\n",
    "```"
   ]
  },
  {
   "cell_type": "markdown",
   "metadata": {},
   "source": [
    "```\n",
    "tesdb=# INSERT INTO proglang_tblcopy\n",
    "        (id, language, author, year, standard)\n",
    "        VALUES\n",
    "        (1, 'Prolog', 'Colmerauer', '1972', 'ISO');\n",
    "        INSERT INTO proglang_tblcopy\n",
    "        (id, language, author, year)\n",
    "        VALUES\n",
    "        (2, 'Perl', 'Wall', '1987');\n",
    "        INSERT INTO proglang_tblcopy\n",
    "        (id, year, standard, language, author)\n",
    "        VALUES\n",
    "        (3, '1964', 'ANSI', 'APL', 'Iverson');\n",
    "\n",
    "\n",
    "tesdb=# SELECT * FROM proglang_tblcopy;\n",
    "```"
   ]
  },
  {
   "cell_type": "markdown",
   "metadata": {},
   "source": [
    "```\n",
    "tesdb=# CREATE TABLE proglang_constraints (\n",
    "        id              INTEGER         NOT NULL,\n",
    "        language        VARCHAR(20)     NOT NULL,\n",
    "        author          VARCHAR(25)     NOT NULL,\n",
    "        year            INTEGER         NOT NULL        CHECK (year > 1950),\n",
    "        standard        VARCHAR(10)     NULL);\n",
    "\n",
    "```"
   ]
  },
  {
   "cell_type": "markdown",
   "metadata": {},
   "source": [
    "Trying to violate a check constraint\n",
    "\n",
    "```\n",
    "tesdb=# INSERT INTO proglang_constraints\n",
    "        (id, language, author, year)\n",
    "        VALUES\n",
    "        (1, 'Short Code', 'Mauchly', 1949);\n",
    "\n",
    "```"
   ]
  },
  {
   "cell_type": "markdown",
   "metadata": {},
   "source": [
    "A CREATE TABLE statement with a primary key\n",
    "\n",
    "```\n",
    "tesdb=# CREATE TABLE proglang_tbltmp (\n",
    "        id              INTEGER         NOT NULL        PRIMARY KEY,\n",
    "        language        VARCHAR(20)     NOT NULL,\n",
    "        author          VARCHAR(25)     NOT NULL,\n",
    "        year            INTEGER         NOT NULL,\n",
    "        standard        VARCHAR(10)     NULL);\n",
    "```"
   ]
  },
  {
   "cell_type": "markdown",
   "metadata": {},
   "source": [
    "Inserting duplicate data in a table without a primary key\n",
    "\n",
    "\n",
    "```\n",
    "tesdb=# INSERT INTO proglang_tblcopy\n",
    "        (id, language, author, year)\n",
    "        VALUES\n",
    "        (2, 'Perl', 'Wall', '1987');\n",
    "        INSERT INTO proglang_tblcopy\n",
    "        (id, language, author, year)\n",
    "        VALUES\n",
    "        (2, 'Perl', 'Wall', '1987');\n",
    "\n",
    "\n",
    "tesdb=# SELECT * FROM proglang_tblcopy;\n",
    "\n",
    "\n",
    "```"
   ]
  },
  {
   "cell_type": "markdown",
   "metadata": {},
   "source": [
    "Trying to add a duplicate record violating a primary key constraint\n",
    "\n",
    "```\n",
    "tesdb=# INSERT INTO proglang_tbltmp\n",
    "        (id, language, author, year)\n",
    "        VALUES\n",
    "        (2, 'Perl', 'Wall', '1987');\n",
    "```"
   ]
  },
  {
   "cell_type": "markdown",
   "metadata": {},
   "source": [
    "# Unique Key Constraints\n",
    "\n",
    "A unique key like a primary key is also used to make each record inside a\n",
    "table unique. \n",
    "\n",
    "have a unique key\n",
    "constraint on the language field\n",
    "\n",
    "```\n",
    "tesdb=# CREATE TABLE proglang_tbluk (\n",
    "        id              INTEGER         NOT NULL        PRIMARY KEY,\n",
    "        language        VARCHAR(20)     NOT NULL        UNIQUE,\n",
    "        author          VARCHAR(25)     NOT NULL,\n",
    "        year            INTEGER         NOT NULL,\n",
    "        standard        VARCHAR(10)     NULL);\n",
    "\n",
    "```"
   ]
  },
  {
   "cell_type": "markdown",
   "metadata": {},
   "source": [
    "We will now try to insert two rows about the language Prolog cleverly changing the id field to test out our unique constraint\n",
    "\n",
    "```\n",
    "tesdb=# INSERT INTO proglang_tbluk\n",
    "        (id, language, author, year, standard)\n",
    "        VALUES\n",
    "        (1, 'Prolog', 'Colmerauer', 1972, 'ISO');\n",
    "\n",
    "tesdb=# INSERT INTO proglang_tbluk\n",
    "        (id, language, author, year, standard)\n",
    "        VALUES\n",
    "        (2, 'Prolog', 'Colmerauer', 1972, 'ISO');\n",
    "```"
   ]
  },
  {
   "cell_type": "markdown",
   "metadata": {},
   "source": [
    "# Differences Between a Primary Key and a Unique Key\n",
    "\n",
    "1. A primary key field cannot take on a NULL value,\n",
    "whereas a field with a unique constraint can.\n",
    "However, there can be only one such record\n",
    "since each value must be unique due to the very\n",
    "definition of the constraint.\n",
    "\n",
    "2. You are allowed to define only one primary key\n",
    "constraint for a table, but you can apply the unique\n",
    "constraint to as many fields as you like.\n"
   ]
  }
 ],
 "metadata": {
  "kernelspec": {
   "display_name": "Python 3.10.7 64-bit",
   "language": "python",
   "name": "python3"
  },
  "language_info": {
   "name": "python",
   "version": "3.10.7"
  },
  "orig_nbformat": 4,
  "vscode": {
   "interpreter": {
    "hash": "18a3ec44ede697772e2b2a8581e0f3291c9c47259057709d2626f9f8cd2d1d48"
   }
  }
 },
 "nbformat": 4,
 "nbformat_minor": 2
}
