{
 "cells": [
  {
   "cell_type": "markdown",
   "metadata": {},
   "source": [
    "# Counting the Records in a Table\n",
    "\n",
    "just wish to know how many records exist in a table without actually outputting the entire contents of these records. \n",
    "\n",
    "\n",
    "using the id of the last row of the table, 7 in this case, is clearly not a good idea. \n",
    "id 6 is not in the Table anymore"
   ]
  },
  {
   "cell_type": "markdown",
   "metadata": {},
   "source": [
    "![](images/Screenshot%202022-11-01%20092853.png)"
   ]
  },
  {
   "cell_type": "markdown",
   "metadata": {},
   "source": [
    "the use of an SQL function called COUNT. \n",
    "\n",
    "```\n",
    "tesdb=# SELECT COUNT(*) FROM proglang_tbl;\n",
    "```"
   ]
  },
  {
   "cell_type": "markdown",
   "metadata": {},
   "source": [
    "What would happen if instead of giving an entire record to count, we explicitly specify a column? And what if the column had null values?\n",
    "\n",
    "```\n",
    "tesdb=# SELECT COUNT(standard) FROM proglang_tbl;\n",
    "```"
   ]
  },
  {
   "cell_type": "markdown",
   "metadata": {},
   "source": [
    "# Using DISTINCT with COUNT\n",
    "\n",
    "the resultset contained a duplicate standards body value – ISO for both APT and Prolog.\n",
    "\n",
    "Sometimes it is useful to be able to leave out such duplicates. \n",
    "\n",
    "DISTINCT clause allows us to utilize only non-duplicated values \n",
    "\n",
    "```\n",
    "tesdb=# INSERT INTO proglang_tbl\n",
    "        (id, language, author, year, standard)\n",
    "        VALUES\n",
    "        (6, 'PL/I', 'IBM', 1964, 'ECMA');\n",
    "\n",
    "tesdb=# SELECT DISTINCT year\n",
    "        FROM proglang_tbl;        \n",
    "\n",
    "tesdb=# SELECT COUNT (DISTINCT year)\n",
    "        FROM proglang_tbl;\n",
    "```"
   ]
  },
  {
   "cell_type": "markdown",
   "metadata": {},
   "source": [
    "Using DISTINCT on the standard field has a slightly different output than we might expect at first guess \n",
    "\n",
    "We actually get five rows in our output including the null value\n",
    "\n",
    "```\n",
    "tesdb=# SELECT DISTINCT standard\n",
    "        FROM proglang_tbl;\n",
    "\n",
    "tesdb=# SELECT COUNT (DISTINCT standard)\n",
    "        FROM proglang_tbl;\n",
    "\n",
    "```\n",
    "\n",
    "Combining this with COUNT removes the significance of the null row "
   ]
  },
  {
   "cell_type": "markdown",
   "metadata": {},
   "source": [
    "# Column Aliases\n",
    "\n",
    "to give a meaningful representation \n",
    "\n",
    "rename column headings\n",
    "\n",
    "```\n",
    "SELECT <column1> <alias1>,\n",
    "<column2> <alias2>,\n",
    "...\n",
    "FROM <table>;\n",
    "\n",
    "```\n",
    "\n",
    "creating a column alias will not permanently rename a field"
   ]
  },
  {
   "cell_type": "markdown",
   "metadata": {},
   "source": [
    "\n",
    "```\n",
    "tesdb=# SELECT id,\n",
    "        language,\n",
    "        author creator\n",
    "        FROM proglang_tbl;\n",
    "```"
   ]
  },
  {
   "cell_type": "markdown",
   "metadata": {},
   "source": [
    "\n",
    "```\n",
    "tesdb=# SELECT id,\n",
    "        language,\n",
    "        author creator\n",
    "        FROM proglang_tbl WHERE creator = 'Ross';\n",
    "```"
   ]
  },
  {
   "cell_type": "markdown",
   "metadata": {},
   "source": [
    "# Order of Execution of SELECT Queries\n",
    "\n",
    "A query is not evaluated from left to right; there is a specific sequence in\n",
    "which its various parts are evaluated as given below.\n",
    "1. FROM clause\n",
    "2. WHERE clause\n",
    "3. GROUP BY clause\n",
    "4. HAVING clause\n",
    "5. SELECT clause\n",
    "6. ORDER BY clause\n",
    "\n",
    "There is an interesting corollary of having the SELECT evaluation being lower than the WHERE clause. Can you guess what it is?\n",
    "\n",
    "\n",
    "It is the inability of database management systems like PostgreSQL to use column aliases in the WHERE clause.\n",
    "\n",
    "But it will work in ORDER BY ...\n",
    "\n",
    "```\n",
    "tesdb=# SELECT id,\n",
    "        language,\n",
    "        author creator\n",
    "        FROM proglang_tbl\n",
    "        ORDER BY creator;\n",
    "```"
   ]
  },
  {
   "cell_type": "markdown",
   "metadata": {},
   "source": [
    "# Using the LIKE Operator\n",
    "\n",
    "the LIKE operator will help us with wildcard comparisons. \n",
    "\n",
    "* % (Percent) Used to match multiple characters\n",
    "including a single character and no character\n",
    "* _ (Underscore) Used to match exactly one character\n",
    "\n",
    "```\n",
    "tesdb=# SELECT * FROM proglang_tbl\n",
    "        WHERE language LIKE 'P%';\n",
    "```\n",
    "\n",
    "all language records whose name begins with the letter capital P. "
   ]
  },
  {
   "cell_type": "markdown",
   "metadata": {},
   "source": [
    "All languages ending with l and 3 characters long\n",
    "\n",
    "```\n",
    "tesdb=# SELECT * FROM proglang_tbl\n",
    "        WHERE language LIKE '__l';\n",
    "```"
   ]
  },
  {
   "cell_type": "markdown",
   "metadata": {},
   "source": [
    "We can also use NOT in conjunction with LIKE to negate or inverse the result.\n",
    "\n",
    "```\n",
    "tesdb=# SELECT * FROM proglang_tbl\n",
    "        WHERE language NOT LIKE '__l';\n",
    "```\n",
    "\n",
    "LIKE: its comparisons are computationally expensive on the database, especially the ones involving multiple % wildcards"
   ]
  }
 ],
 "metadata": {
  "kernelspec": {
   "display_name": "Python 3.10.7 64-bit",
   "language": "python",
   "name": "python3"
  },
  "language_info": {
   "name": "python",
   "version": "3.10.7"
  },
  "orig_nbformat": 4,
  "vscode": {
   "interpreter": {
    "hash": "18a3ec44ede697772e2b2a8581e0f3291c9c47259057709d2626f9f8cd2d1d48"
   }
  }
 },
 "nbformat": 4,
 "nbformat_minor": 2
}
