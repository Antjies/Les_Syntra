{
 "cells": [
  {
   "cell_type": "markdown",
   "metadata": {},
   "source": [
    "# Mathematical Calculations\n",
    "\n",
    "Any numeric field\n",
    "\n",
    "We can add, subtract, multiply, divide, and even find the remainder of a division operation fairly easily. \n",
    "\n",
    "* Addition +\n",
    "* Subtraction -\n",
    "* Multiplication *\n",
    "* Division /\n",
    "* Remainder %\n",
    "\n",
    "\n",
    "\n",
    "## try to find out the decade in which the language was created. \n",
    "\n",
    "```\n",
    "tesdb=# SELECT language,\n",
    "        (year % 10) remain\n",
    "        FROM proglang_tbl;\n",
    "\n",
    "tesdb=# SELECT language,\n",
    "        year - (year % 10) decade\n",
    "        FROM proglang_tbl;\n",
    "```"
   ]
  },
  {
   "cell_type": "markdown",
   "metadata": {},
   "source": [
    "Another approach \n",
    "\n",
    "```\n",
    "tesdb=# SELECT language,\n",
    "        (year / 10) * 10 decade\n",
    "        FROM proglang_tbl;\n",
    "```\n",
    "\n",
    "Since an integer cannot store decimal points, division by 10 would silently chop off the remainder."
   ]
  },
  {
   "cell_type": "markdown",
   "metadata": {},
   "source": [
    "# String Operations\n",
    "\n",
    "the most commonly used string operation is concatenation.\n",
    "\n",
    "* the concatenation operator || (pipes)\n",
    "\n",
    "even numeric fields can be treated as a string\n",
    "\n",
    "```\n",
    "tesdb=# SELECT language,\n",
    "        'The '||((year/10)*10)||'s' decade\n",
    "        FROM proglang_tbl;\n",
    "\n",
    "SELECT language,\n",
    "        CONCAT(\n",
    "            'The ', (year / 10) * 10, 's' \n",
    "        ) decade\n",
    "FROM proglang_tbl;            \n",
    "```"
   ]
  },
  {
   "cell_type": "markdown",
   "metadata": {},
   "source": [
    "Another common string operation is substring, \n",
    "\n",
    "```\n",
    "SELECT SUBSTR(<field name>, <starting position>, <length>),\n",
    "...\n",
    "FROM <table>;\n",
    "\n",
    "\n",
    "tesdb=# SELECT SUBSTR(language, 1, 2),\n",
    "        year\n",
    "        FROM proglang_tbl;\n",
    "\n",
    "SELECT SUBSTR(language, 1, 3),\n",
    "        year\n",
    "FROM proglang_tbl;        \n",
    "\n",
    "SELECT SUBSTR(language, 2, 3),\n",
    "        year\n",
    "FROM proglang_tbl;   \n",
    "```\n",
    "\n",
    "PostgreSQL gives the same result when we\n",
    "use SUBSTRING instead of SUBSTR"
   ]
  },
  {
   "cell_type": "markdown",
   "metadata": {},
   "source": [
    "Another class of string operations are UPPER\n",
    "and LOWER\n",
    "\n",
    "```\n",
    "tesdb=# SELECT UPPER(language),\n",
    "        LOWER(standard)\n",
    "        FROM proglang_tbl;\n",
    "```"
   ]
  },
  {
   "cell_type": "markdown",
   "metadata": {},
   "source": [
    "# Literal Values\n",
    "\n",
    "use a fixed literal value as the values\n",
    "of a new column\n",
    "\n",
    "```\n",
    "tesdb=# SELECT language,\n",
    "        year,\n",
    "        'AD' AD\n",
    "        FROM proglang_tbl;\n",
    "```"
   ]
  },
  {
   "cell_type": "markdown",
   "metadata": {},
   "source": [
    "\n",
    "```\n",
    "tesdb=# \n",
    "```"
   ]
  }
 ],
 "metadata": {
  "kernelspec": {
   "display_name": "Python 3.10.7 64-bit",
   "language": "python",
   "name": "python3"
  },
  "language_info": {
   "name": "python",
   "version": "3.10.7"
  },
  "orig_nbformat": 4,
  "vscode": {
   "interpreter": {
    "hash": "18a3ec44ede697772e2b2a8581e0f3291c9c47259057709d2626f9f8cd2d1d48"
   }
  }
 },
 "nbformat": 4,
 "nbformat_minor": 2
}
